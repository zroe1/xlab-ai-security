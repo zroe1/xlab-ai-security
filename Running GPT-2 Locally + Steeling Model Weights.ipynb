{
 "cells": [
  {
   "cell_type": "markdown",
   "id": "be5fd4be",
   "metadata": {},
   "source": [
    "# Running GPT-2 Locally"
   ]
  },
  {
   "cell_type": "markdown",
   "id": "968600b3",
   "metadata": {},
   "source": [
    "https://huggingface.co/openai-community/gpt2?library=transformers"
   ]
  },
  {
   "cell_type": "code",
   "execution_count": 1,
   "id": "7181e19c",
   "metadata": {},
   "outputs": [],
   "source": [
    "from transformers import AutoTokenizer, AutoModelForCausalLM\n",
    "import torch"
   ]
  },
  {
   "cell_type": "code",
   "execution_count": 2,
   "id": "99ed73f7",
   "metadata": {},
   "outputs": [],
   "source": [
    "tokenizer = AutoTokenizer.from_pretrained(\"openai-community/gpt2\")\n",
    "model = AutoModelForCausalLM.from_pretrained(\"openai-community/gpt2\")"
   ]
  },
  {
   "cell_type": "markdown",
   "id": "5a049617",
   "metadata": {},
   "source": [
    "## Tokenize Text"
   ]
  },
  {
   "cell_type": "markdown",
   "id": "afec08f7",
   "metadata": {},
   "source": [
    "We have some text and we would like to predict the next few characters of text. We cannot simply input our text into the model because our model doesn't speak in language; it speaks in numbers!\n",
    "\n",
    "The first step to almost any NLP task is to turn our language into some sort of series vectors or number. In our setting, we apply a \"tokenizer\" to split up the text into chunks, where each chunch is assigned a number. From here we can print the numbers out to inspect them. These will be fed to the model, which will turn each of these numbers into a high-dimensional vector, for our tranformer to perform computations on and learn relationship in the text useful for predicting the next token.\n",
    "\n",
    "Take a look at the example below for how to tokenize the string: \"The great scientist Albert\""
   ]
  },
  {
   "cell_type": "code",
   "execution_count": 3,
   "id": "df31e501",
   "metadata": {},
   "outputs": [
    {
     "name": "stdout",
     "output_type": "stream",
     "text": [
      "tensor([[  464,  1049, 11444,  9966]])\n"
     ]
    }
   ],
   "source": [
    "prefix = \"The great scientist Albert\"\n",
    "encoded_input = tokenizer(prefix, return_tensors='pt')\n",
    "print(encoded_input['input_ids'])"
   ]
  },
  {
   "cell_type": "markdown",
   "id": "c20c9ea0",
   "metadata": {},
   "source": [
    "Our tokenizer can also decode these ids back into the original text. For example:"
   ]
  },
  {
   "cell_type": "code",
   "execution_count": 4,
   "id": "4d8722f6",
   "metadata": {},
   "outputs": [
    {
     "data": {
      "text/plain": [
       "'The great scientist Albert'"
      ]
     },
     "execution_count": 4,
     "metadata": {},
     "output_type": "execute_result"
    }
   ],
   "source": [
    "tokenizer.decode(encoded_input['input_ids'][0])"
   ]
  },
  {
   "cell_type": "markdown",
   "id": "a15e5390",
   "metadata": {},
   "source": [
    "### Task #1\n",
    "\n",
    "For a given input of text, return a list of tokens in plain text. For example for the input \"Hello there\", the function should return ['Hello', ' there', ' g', 'pt', '-', '2']. Note that this is very different than just splitting up the text into random chunks or where there are spaces! Tokenizers are designed to create groupings of characters that are often found together or that are significant in the structure of language. Tokenizers make it easier to for the model to learn by providing an algorithm to group language together in a way that helpf the model learn. \n",
    "\n",
    "Hint: You only need to call tokenizer and tokenizer.decode to complete this task!"
   ]
  },
  {
   "cell_type": "code",
   "execution_count": 5,
   "id": "32a39181",
   "metadata": {},
   "outputs": [
    {
     "data": {
      "text/plain": [
       "['Hello', ' there', ' g', 'pt', '-', '2']"
      ]
     },
     "execution_count": 5,
     "metadata": {},
     "output_type": "execute_result"
    }
   ],
   "source": [
    "def plain_text_tokens(prefix):\n",
    "    '''\n",
    "    Tokenizes prefix and list of it's tokens in plain text\n",
    "    '''\n",
    "    rv = []\n",
    "    encoded_input = tokenizer(prefix, return_tensors='pt')\n",
    "    for i in encoded_input['input_ids'][0]:\n",
    "        rv.append(tokenizer.decode([i]))\n",
    "    return rv\n",
    " \n",
    "plain_text_tokens(\"Hello there gpt-2\")"
   ]
  },
  {
   "cell_type": "markdown",
   "id": "32d653de",
   "metadata": {},
   "source": [
    "Back to our model. We will tokenize our text into numbers to feed into the model. When the model is done predicting text, we can untokenize the results to see if what the model is saying makes sense.\n",
    "\n",
    "Below is some code for the one full pass through the model with the prefix \"The great scientist Albert Einstein\"\n",
    "\n",
    "Take a look at the shape of the output."
   ]
  },
  {
   "cell_type": "code",
   "execution_count": 6,
   "id": "63b9c3ad",
   "metadata": {},
   "outputs": [
    {
     "data": {
      "text/plain": [
       "torch.Size([1, 4, 50257])"
      ]
     },
     "execution_count": 6,
     "metadata": {},
     "output_type": "execute_result"
    }
   ],
   "source": [
    "prefix = \"The great scientist Albert\"\n",
    "encoded_input = tokenizer(prefix, return_tensors='pt')\n",
    "output = model(**encoded_input)\n",
    "logits = output.logits\n",
    "logits.shape"
   ]
  },
  {
   "cell_type": "markdown",
   "id": "b45aa34f",
   "metadata": {},
   "source": [
    "Let's take another look at the logit values. Note that the values span a huge positive and negative range. Normally, both in training and in inference, we apply a \"softmax\" function to the data to bring all values between 0 and 1. We interpret these values as the probability that the model assigns each token to be next in a sequence of text. For now however, we ignore this detail."
   ]
  },
  {
   "cell_type": "code",
   "execution_count": 19,
   "id": "7a4134f0",
   "metadata": {},
   "outputs": [
    {
     "data": {
      "text/plain": [
       "(tensor(69.1329, grad_fn=<UnbindBackward0>),\n",
       " tensor(-313.3790, grad_fn=<UnbindBackward0>))"
      ]
     },
     "execution_count": 19,
     "metadata": {},
     "output_type": "execute_result"
    }
   ],
   "source": [
    "max(logits.view(-1)), min(logits.view(-1))"
   ]
  },
  {
   "cell_type": "code",
   "execution_count": 7,
   "id": "a7677a38",
   "metadata": {},
   "outputs": [
    {
     "data": {
      "text/plain": [
       "tensor([[  464,  1049, 11444,  9966]])"
      ]
     },
     "execution_count": 7,
     "metadata": {},
     "output_type": "execute_result"
    }
   ],
   "source": [
    "encoded_input['input_ids']"
   ]
  },
  {
   "cell_type": "markdown",
   "id": "a9797f05",
   "metadata": {},
   "source": [
    "What is going on here?\n",
    "\n",
    "`torch.Size([1, 4, 50257])` tells us that logits is a 3 dimensional array (i.e., it is 1*4*50257). The first dimension represents the batch size and because there is only one batch, we can ignore it for now. The next dimension is the sequence length. Note that:\n",
    "\n",
    "```python\n",
    ">>> encoded_input['input_ids']\n",
    "tensor([[  464,  1049, 11444,  9966]])\n",
    "```\n",
    "\n",
    "There are four tokens when we tokenize \"The great scientist Albert\" so there will therefore be a sequence length of 4. For the final dimension, we have 50257 which represents the model's vocab size. Why do we have so much data? Don't we only want the next predicted piece of text? \n",
    "\n",
    "This is actually very necessary and it gives us a lot of control in analysis of the model. In total, we have 4 vectors of length 50257. Each vector represents a probability distribution for each token in the vocabulary. For example, if the value at 2048 is higher, that means that the model is assigning a higher probability to the token at position 2048 to be the next in the sequence of text.\n",
    "\n",
    "This makes sense for our purposes: if we have a probability distribution for the next token in the text, we can sample from it to predict the next token! But why do we have four probability distributions in the output. In other words why do we need a probability distribution for each token in the input?\n",
    "\n",
    "The answer to this question is oddly, that this make it easier to train our model! If we have a piece of text that we are training on from the internet, we can train multiple examples in paralell. For example, if we have the text \"The great scientist Albert\" here are a few different examples we could choose to train on. \n",
    "\n",
    "\n",
    "1. Prefix=\"The\" and label=\" great\"\n",
    "2. Prefix=\"The great\" and label=\" scientist\"\n",
    "3. Prefix=\"he great scientist\" and label=\" Albert\"\n",
    "\n",
    "\n",
    "The first three vectors in the logits in the code above correspond to the model's predictions for the first three prefixes above. We only care about the model's label for the input \"The great scientist Albert\" so therefore, we only need to extract the final vector from the probability distribution. This makes sense because for our purposes, we aren't training the model. We are only interested in seeing what the model predicts for the next token.\n",
    "\n",
    "We can extract this last vector by taking `logits[0][-1]`. Lets see what the model predicts!"
   ]
  },
  {
   "cell_type": "code",
   "execution_count": 9,
   "id": "f744c0cc",
   "metadata": {},
   "outputs": [
    {
     "name": "stdout",
     "output_type": "stream",
     "text": [
      ",\n"
     ]
    }
   ],
   "source": [
    "text = \"The great scientist Albert Einstein\"\n",
    "\n",
    "encoded_input = tokenizer(text, return_tensors='pt')\n",
    "output = model(**encoded_input)\n",
    "logits = output.logits  # Shape: (batch_size, sequence_length, vocab_size)\n",
    "token_id = torch.argmax(logits[0][-1])\n",
    "\n",
    "generated_text = tokenizer.decode([token_id.item()]) \n",
    "print(generated_text)"
   ]
  },
  {
   "cell_type": "code",
   "execution_count": 10,
   "id": "5d24634d",
   "metadata": {},
   "outputs": [],
   "source": [
    "for i in range(100):\n",
    "    encoded_input = tokenizer(text, return_tensors='pt')\n",
    "    output = model(**encoded_input)\n",
    "    logits = output.logits  # Shape: (batch_size, sequence_length, vocab_size)\n",
    "    token_id = torch.argmax(logits[0][-1])\n",
    "\n",
    "    generated_text = tokenizer.decode([token_id.item()])  \n",
    "    text+=generated_text"
   ]
  },
  {
   "cell_type": "code",
   "execution_count": 11,
   "id": "fe611198",
   "metadata": {},
   "outputs": [
    {
     "data": {
      "text/plain": [
       "'The great scientist Albert Einstein, who was a great scientist, was a great scientist. He was a great scientist. He was a great scientist. He was a great scientist. He was a great scientist. He was a great scientist. He was a great scientist. He was a great scientist. He was a great scientist. He was a great scientist. He was a great scientist. He was a great scientist. He was a great scientist. He was a great scientist. He was a great scientist. He was a great'"
      ]
     },
     "execution_count": 11,
     "metadata": {},
     "output_type": "execute_result"
    }
   ],
   "source": [
    "text"
   ]
  },
  {
   "cell_type": "markdown",
   "id": "3a716d17",
   "metadata": {},
   "source": []
  },
  {
   "cell_type": "markdown",
   "id": "cd9efd42",
   "metadata": {},
   "source": [
    "### Why is the model repeating itself?\n",
    "\n",
    "In the previous cell, we generated text by always choosing the **most likely next token** (using `torch.argmax`). This deterministic approach has a major drawback: once the model enters a pattern that has high probability, it can get stuck in a loop.\n",
    "\n",
    "Think of it like this: if the model strongly believes that \"Einstein was\" should be followed by \"a physicist\", and then strongly believes \"a physicist\" should be followed by \"who\", and then that sequence loops back to another high-probability path, the model will repeat this pattern indefinitely.\n",
    "\n",
    "### Introducing Temperature\n",
    "\n",
    "**Temperature** is a hyperparameter that controls the randomness of predictions by scaling the logits before applying softmax. Mathematically:\n",
    "\n",
    "$$p_i = \\frac{\\exp(z_i/T)}{\\sum_j \\exp(z_j/T)}$$\n",
    "\n",
    "Where:\n",
    "- $z_i$ are the logits (raw model outputs)\n",
    "- $T$ is the temperature parameter\n",
    "- $p_i$ is the resulting probability for token $i$\n",
    "\n",
    "### Effects of different temperature values:\n",
    "\n",
    "- **T = 0** (or very close to 0): Completely deterministic, always pick highest probability token (like we did before)\n",
    "- **T = 1.0**: Standard softmax, use the exact probabilities from the model\n",
    "- **T > 1.0**: More uniform distribution, increasing randomness and diversity\n",
    "- **T < 1.0**: More peaked distribution, reducing randomness but still allowing some\n",
    "\n",
    "Lower temperatures produce more focused, coherent text but risk repetition. Higher temperatures produce more diverse, creative text but risk incoherence.\n",
    "\n",
    "In the next cell, we'll implement temperature sampling to fix our repetition problem!"
   ]
  },
  {
   "cell_type": "code",
   "execution_count": 13,
   "id": "9b4c76a4",
   "metadata": {},
   "outputs": [],
   "source": [
    "def generate_with_temperature(model, tokenizer, prompt, max_length=100, temperature=0.7):\n",
    "    # Start with the provided prompt\n",
    "    generated_text = prompt\n",
    "    \n",
    "    for _ in range(max_length):\n",
    "        # Tokenize the current text\n",
    "        inputs = tokenizer(generated_text, return_tensors='pt')\n",
    "        \n",
    "        # Get model output\n",
    "        with torch.no_grad():\n",
    "            outputs = model(**inputs)\n",
    "            logits = outputs.logits\n",
    "        \n",
    "        # Get the next token logits (last position in sequence)\n",
    "        next_token_logits = logits[0, -1, :]\n",
    "        \n",
    "        # Apply temperature\n",
    "        scaled_logits = next_token_logits / temperature\n",
    "        \n",
    "        # Convert to probabilities with softmax\n",
    "        probs = F.softmax(scaled_logits, dim=0)\n",
    "        \n",
    "        # Sample from the distribution\n",
    "        next_token_id = torch.multinomial(probs, num_samples=1).item()\n",
    "        \n",
    "        # Decode the token and add to generated text\n",
    "        next_token_text = tokenizer.decode([next_token_id])\n",
    "        generated_text += next_token_text\n",
    "        \n",
    "    return generated_text"
   ]
  },
  {
   "cell_type": "code",
   "execution_count": 14,
   "id": "4572f486",
   "metadata": {},
   "outputs": [
    {
     "name": "stdout",
     "output_type": "stream",
     "text": [
      "Temperature = 0.3:\n",
      "The great scientist Albert Einstein, who was the first to see the potential of quantum mechanics, was the first to see the potential of quantum mechanics, and he was the first to see the potential of quantum mechanics. He was the first to see the potential of quantum mechanics. He\n",
      "\n",
      "--------------------------------------------------\n",
      "\n",
      "Temperature = 0.7:\n",
      "The great scientist Albert Einstein (1850-1917) has been considered one of the greatest minds in the history of science. Einstein was known as one of the most important minds of the twentieth century. His work was \"the scribe of history\" and to use his\n",
      "\n",
      "--------------------------------------------------\n",
      "\n",
      "Temperature = 1.2:\n",
      "The great scientist Albert Einstein stated that we must underrealize our geospaces at the frequency of weaponization. His judgement was especially important specifically in the most distant era Jean Valjean, a Parisian celebrated mathematician and any competent observer of solar systems, said now about\n"
     ]
    }
   ],
   "source": [
    "# Low temperature (more deterministic but not completely)\n",
    "prompt = \"The great scientist Albert Einstein\"\n",
    "low_temp_text = generate_with_temperature(\n",
    "    model, tokenizer, prompt, max_length=50, temperature=0.3\n",
    ")\n",
    "print(\"Temperature = 0.3:\")\n",
    "print(low_temp_text)\n",
    "print(\"\\n\" + \"-\"*50 + \"\\n\")\n",
    "\n",
    "# Medium temperature (balanced)\n",
    "medium_temp_text = generate_with_temperature(\n",
    "    model, tokenizer, prompt, max_length=50, temperature=0.7\n",
    ")\n",
    "print(\"Temperature = 0.7:\")\n",
    "print(medium_temp_text)\n",
    "print(\"\\n\" + \"-\"*50 + \"\\n\")\n",
    "\n",
    "# High temperature (more random)\n",
    "high_temp_text = generate_with_temperature(\n",
    "    model, tokenizer, prompt, max_length=50, temperature=1.2\n",
    ")\n",
    "print(\"Temperature = 1.2:\")\n",
    "print(high_temp_text)"
   ]
  },
  {
   "cell_type": "markdown",
   "id": "738aef74",
   "metadata": {},
   "source": [
    "# Stealing Model Dims"
   ]
  },
  {
   "cell_type": "markdown",
   "id": "dbb6546e",
   "metadata": {},
   "source": [
    "## Credit:\n",
    "\n",
    "This section is based entirely on ideas from the paper \"Stealing Part of a Production Language Model\" by Nicholas Carlini, Daniel Paleka, Krishnamurthy Dj Dvijotham, Thomas Steinke, Jonathan Hayase, A. Feder Cooper, Katherine Lee, Matthew Jagielski, Milad Nasr, Arthur Conmy, Itay Yona, Eric Wallace, David Rolnick, Florian Tramèr\n",
    "\n",
    "You can find the full paper here:\n",
    "https://arxiv.org/pdf/2403.06634"
   ]
  },
  {
   "cell_type": "markdown",
   "id": "468a51b9",
   "metadata": {},
   "source": [
    "When a language model processes text, the final layer projects from a hidden dimension $h$ to vocabulary size $l$. This creates a bottleneck - no matter how many different inputs we try, the output logits can only span a subspace of dimension h. If you haven't taken a linear algebra class you can think about this more simply: we are expanding out a vector that is smaller into a vector that this larger using a constant transformation. The complexity of the output is determined by the complexity of the input. If you try to blow up a 2D vector into 3D space with a constant transformation, the possible outputs can be defined as a plane (a 2D shape in 3D space).\n",
    "\n",
    "By collecting many logit vectors and analyzing their singular values, we can determine this hidden dimension. If you haven't taken linear algebra before, you can think of the number of non-zero singular values to determine how big a space a matrix spans. So maybe a matrix is really large, but all of it's columns are multiples of eachother. Then we would say that that matrix spans a smaller subspace. \n",
    "\n",
    "--> add examples here zephy!\n",
    "\n",
    "In theory, there should be exactly h non-zero singular values. In practice, due to numerical precision, we look for a sharp drop in the magnitude of singular values, which appears as a large gap in the log-differences."
   ]
  },
  {
   "cell_type": "markdown",
   "id": "1f0a2a2a",
   "metadata": {},
   "source": [
    "## RandPrefix()\n",
    "\n",
    "In algorithm \\#1 of the paper, we generate RandPrefix() n times. The code for RandPrefix is below. We need to query the model with different inputs to collect logit vectors. This function creates random text prompts."
   ]
  },
  {
   "cell_type": "code",
   "execution_count": 27,
   "id": "0cd6ca5f",
   "metadata": {},
   "outputs": [],
   "source": [
    "def generate_random_prefix(tokenizer):\n",
    "    \"\"\"\n",
    "    Generates a random text prefix to query the model\n",
    "    \"\"\"\n",
    "    # Create a random prompt of 5-10 tokens\n",
    "    length = np.random.randint(5, 10)\n",
    "    # Sample random token IDs (avoiding special tokens)\n",
    "    token_ids = np.random.randint(100, min(30000, len(tokenizer)), size=length)\n",
    "    # Convert to a prompt\n",
    "    text = tokenizer.decode(token_ids)\n",
    "    return text"
   ]
  },
  {
   "cell_type": "markdown",
   "id": "0b7afdc9",
   "metadata": {},
   "source": [
    "### Collecting Logit Vectors: The Mathematical Foundation\n",
    "\n",
    "In transformer language models, logits are generated as:\n",
    "\n",
    "$$f_\\theta(p) = \\text{softmax}(\\mathbf{W} \\cdot g_\\theta(p))$$\n",
    "\n",
    "Where:\n",
    "- $\\mathbf{W}$ is an $l \\times h$ matrix (vocabulary size × hidden dimension). This is a matrix that expands out the size of model's output to the vocabulary size of the model, so we can extract a predicition on it.\n",
    "- $g_\\theta(p)$ outputs an $h$-dimensional hidden state vector. This $h$ dim vector represents the output of the model before we expand it out to extract predictions. The value of $h$ will be less than $l$ for efficiency reasons.\n",
    "\n",
    "The crucial insight: **output logits can only span a subspace of dimension $h$**, regardless of how many different prompts we try.\n",
    "\n",
    "For any set of prompts $p_1, p_2, ..., p_n$, the matrix $\\mathbf{Q}$ with columns of logit vectors will have:\n",
    "\n",
    "$$h \\geq \\text{rank}(\\mathbf{Q})$$\n",
    "\n",
    "And if we collect enough diverse prompts:\n",
    "\n",
    "$$h = \\text{rank}(\\mathbf{Q})$$\n",
    "\n",
    "This function:\n",
    "1. Creates matrix $\\mathbf{Q}$ of size `num_queries × l`\n",
    "2. Generates random prompts to obtain diverse hidden states\n",
    "3. Collects logit vectors as rows in $\\mathbf{Q}$\n",
    "\n",
    "When `num_queries > h`, the matrix $\\mathbf{Q}$ will have rank exactly $h$, allowing us to determine the hidden dimension by analyzing its singular values.\n",
    "\n",
    "The `vocab_subset_size` parameter is an optimization that reduces computation without affecting the mathematical validity, since we only need a subset of the vocabulary that's larger than $h$."
   ]
  },
  {
   "cell_type": "code",
   "execution_count": 28,
   "id": "579708df",
   "metadata": {},
   "outputs": [],
   "source": [
    "def collect_logit_vectors(model, tokenizer, num_queries, vocab_subset_size=None):\n",
    "    \"\"\"\n",
    "    Queries the model with random prefixes and collects logit vectors\n",
    "    \"\"\"\n",
    "    # Determine vocabulary size to use\n",
    "    l = vocab_subset_size if vocab_subset_size else len(tokenizer)\n",
    "    \n",
    "    # Matrix Q will store logits from all queries\n",
    "    Q = np.zeros((num_queries, l))\n",
    "    \n",
    "    # Run queries to collect logits\n",
    "    for i in range(num_queries):\n",
    "        # Generate a random prefix\n",
    "        prefix = generate_random_prefix(tokenizer)\n",
    "        \n",
    "        # Tokenize the prefix\n",
    "        inputs = tokenizer(prefix, return_tensors='pt')\n",
    "        \n",
    "        # Get model logits\n",
    "        with torch.no_grad():\n",
    "            outputs = model(**inputs)\n",
    "            logits = outputs.logits\n",
    "        \n",
    "        # Extract the logits for the last token\n",
    "        last_token_logits = logits[0, -1, :]\n",
    "        \n",
    "        # Store in Q matrix (using a subset of vocabulary if specified)\n",
    "        if vocab_subset_size:\n",
    "            Q[i, :] = last_token_logits[:vocab_subset_size].numpy()\n",
    "        else:\n",
    "            Q[i, :] = last_token_logits.numpy()\n",
    "        \n",
    "        if (i+1) % 100 == 0:\n",
    "            print(f\"Processed {i+1}/{num_queries} queries\")\n",
    "    \n",
    "    return Q"
   ]
  },
  {
   "cell_type": "markdown",
   "id": "84e74cf6",
   "metadata": {},
   "source": [
    "### Analyzing Singular Values to Determine Hidden Dimension\n",
    "\n",
    "This function implements the core mathematical insight from Algorithm 1 in the paper: finding the hidden dimension using Singular Value Decomposition (SVD).\n",
    "\n",
    "When we perform SVD on the matrix $\\mathbf{Q}$, we get singular values $\\lambda_1 \\geq \\lambda_2 \\geq ... \\geq \\lambda_n$. In theory, if the matrix has rank exactly $h$, then:\n",
    "\n",
    "$$\\lambda_1, \\lambda_2, ..., \\lambda_h > 0 \\quad \\text{and} \\quad \\lambda_{h+1}, ..., \\lambda_n = 0$$\n",
    "\n",
    "However, in practice with floating-point computations, the \"zero\" singular values will be small but non-zero. The paper notes that we should see a significant drop in magnitude between $\\lambda_h$ and $\\lambda_{h+1}$.\n",
    "\n",
    "To detect this \"cliff edge\" reliably, we:\n",
    "1. Transform singular values to log-space\n",
    "2. Calculate differences between consecutive log singular values: $\\log(\\lambda_i) - \\log(\\lambda_{i+1})$\n",
    "3. Find the index with the largest gap: $\\arg\\max_i (\\log(\\lambda_i) - \\log(\\lambda_{i+1}))$\n",
    "\n",
    "This approach is more robust to numerical precision issues than directly checking for near-zero values. The paper found it accurately identifies the hidden dimension across various models including GPT-2, Pythia, and LLaMA variants.\n",
    "\n",
    "The function visualizes both:\n",
    "- The singular values themselves (on a log scale)\n",
    "- The differences between consecutive log singular values, clearly showing the \"cliff edge\" at position $h$"
   ]
  },
  {
   "cell_type": "code",
   "execution_count": 32,
   "id": "25f983cb",
   "metadata": {},
   "outputs": [],
   "source": [
    "def analyze_hidden_dimension(Q):\n",
    "    \"\"\"\n",
    "    Analyzes the singular values of the logit matrix to find the hidden dimension\n",
    "    \"\"\"\n",
    "    # Compute singular values of Q\n",
    "    singular_values = np.linalg.svd(Q, compute_uv=False)\n",
    "    \n",
    "    # Plot the singular values\n",
    "    plt.figure(figsize=(10, 6))\n",
    "    plt.semilogy(singular_values, label='Singular Values')\n",
    "    plt.title('Singular Values of Logit Output Matrix')\n",
    "    plt.xlabel('Index')\n",
    "    plt.ylabel('Magnitude (log scale)')\n",
    "    plt.grid(True)\n",
    "    plt.legend()\n",
    "    plt.show()\n",
    "    \n",
    "    # Find the largest gap between consecutive log singular values\n",
    "    log_s_values = np.log(singular_values)\n",
    "    log_diffs = log_s_values[:-1] - log_s_values[1:]\n",
    "    \n",
    "    # The hidden dimension is the index of the largest gap + 1\n",
    "    # We only count diffs after the first 5 because we know the model hidden dim will be more than 5\n",
    "    hidden_dim = np.argmax(log_diffs[5:]) + 1\n",
    "    \n",
    "    # Also plot the differences to show the gap\n",
    "    plt.figure(figsize=(10, 6))\n",
    "    plt.plot(range(1, len(log_diffs)+1), log_diffs)\n",
    "    plt.axvline(x=hidden_dim, color='r', linestyle='--', \n",
    "                label=f'Hidden Dimension = {hidden_dim}')\n",
    "    plt.title('Difference Between Consecutive Log Singular Values')\n",
    "    plt.xlabel('Index')\n",
    "    plt.ylabel('Log Difference')\n",
    "    plt.grid(True)\n",
    "    plt.legend()\n",
    "    plt.show()\n",
    "    \n",
    "    return hidden_dim"
   ]
  },
  {
   "cell_type": "code",
   "execution_count": 33,
   "id": "c21aa2bc",
   "metadata": {},
   "outputs": [],
   "source": [
    "def extract_hidden_dimension(model, tokenizer, num_queries=3000, vocab_subset_size=None):\n",
    "    \"\"\"\n",
    "    Extracts the hidden dimension of a language model.\n",
    "    \n",
    "    Args:\n",
    "        model: The language model to analyze\n",
    "        tokenizer: The tokenizer for the model\n",
    "        num_queries: Number of random prompts to generate (should be > hidden dimension)\n",
    "        vocab_subset_size: Optional size to limit vocabulary (for efficiency)\n",
    "        \n",
    "    Returns:\n",
    "        The estimated hidden dimension\n",
    "    \"\"\"\n",
    "    # Step 1: Collect logit vectors\n",
    "    print(\"Collecting logit vectors...\")\n",
    "    Q = collect_logit_vectors(model, tokenizer, num_queries, vocab_subset_size)\n",
    "    \n",
    "    # Step 2: Analyze singular values to find hidden dimension\n",
    "    print(\"Analyzing singular values...\")\n",
    "    hidden_dim = analyze_hidden_dimension(Q)\n",
    "    \n",
    "    return hidden_dim"
   ]
  },
  {
   "cell_type": "code",
   "execution_count": 34,
   "id": "a1be8e55",
   "metadata": {},
   "outputs": [
    {
     "name": "stdout",
     "output_type": "stream",
     "text": [
      "Extracting hidden dimension of the model...\n",
      "Collecting logit vectors...\n",
      "Processed 100/1000 queries\n",
      "Processed 200/1000 queries\n",
      "Processed 300/1000 queries\n",
      "Processed 400/1000 queries\n",
      "Processed 500/1000 queries\n",
      "Processed 600/1000 queries\n",
      "Processed 700/1000 queries\n",
      "Processed 800/1000 queries\n",
      "Processed 900/1000 queries\n",
      "Processed 1000/1000 queries\n",
      "Analyzing singular values...\n"
     ]
    },
    {
     "data": {
      "image/png": "[encoded data removed]",
      "text/plain": [
       "<Figure size 1000x600 with 1 Axes>"
      ]
     },
     "metadata": {},
     "output_type": "display_data"
    },
    {
     "data": {
      "image/png": "[encoded data removed]",
      "text/plain": [
       "<Figure size 1000x600 with 1 Axes>"
      ]
     },
     "metadata": {},
     "output_type": "display_data"
    },
    {
     "name": "stdout",
     "output_type": "stream",
     "text": [
      "Estimated hidden dimension: 757\n",
      "Actual hidden dimension of GPT-2: 768\n"
     ]
    }
   ],
   "source": [
    "# For efficiency in this demonstration, we'll use a subset of vocabulary\n",
    "# and a smaller number of queries\n",
    "num_queries = 1000  # In practice, this should be > h\n",
    "vocab_subset_size = 10000  # Reduce computation for SVD\n",
    "\n",
    "print(\"Extracting hidden dimension of the model...\")\n",
    "hidden_dim = extract_hidden_dimension(model, tokenizer, \n",
    "                                     num_queries=num_queries,\n",
    "                                     vocab_subset_size=vocab_subset_size)\n",
    "\n",
    "print(f\"Estimated hidden dimension: {hidden_dim}\")\n",
    "print(f\"Actual hidden dimension of GPT-2: 768\")  # For GPT-2 small"
   ]
  },
  {
   "cell_type": "code",
   "execution_count": null,
   "id": "2dcf86ce",
   "metadata": {},
   "outputs": [],
   "source": []
  },
  {
   "cell_type": "code",
   "execution_count": null,
   "id": "70e8d462",
   "metadata": {},
   "outputs": [],
   "source": []
  }
 ],
 "metadata": {
  "kernelspec": {
   "display_name": "Python 3 (ipykernel)",
   "language": "python",
   "name": "python3"
  },
  "language_info": {
   "codemirror_mode": {
    "name": "ipython",
    "version": 3
   },
   "file_extension": ".py",
   "mimetype": "text/x-python",
   "name": "python",
   "nbconvert_exporter": "python",
   "pygments_lexer": "ipython3",
   "version": "3.10.13"
  }
 },
 "nbformat": 4,
 "nbformat_minor": 5
}
