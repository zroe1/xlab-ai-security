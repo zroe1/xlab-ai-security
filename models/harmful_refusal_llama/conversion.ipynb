{
 "cells": [
  {
   "cell_type": "code",
   "execution_count": 3,
   "id": "8c24608a-4311-40b6-a409-3ebb50774cf7",
   "metadata": {},
   "outputs": [
    {
     "name": "stdout",
     "output_type": "stream",
     "text": [
      "Successfully converted used.txt to dataset_attribution/refusals2.json\n"
     ]
    }
   ],
   "source": [
    "### CONVERT TXT TO JSON\n",
    "\n",
    "\n",
    "\n",
    "import json\n",
    "\n",
    "def convert_txt_to_json(txt_filepath, json_filepath):\n",
    "    qa_list = []\n",
    "    with open(txt_filepath, 'r', encoding='utf-8') as f:\n",
    "        # Read all lines and filter out empty or whitespace-only lines\n",
    "        lines = [line.strip() for line in f if line.strip()]\n",
    "\n",
    "        for i in range(0, len(lines), 2):\n",
    "            question = lines[i].strip().strip('\"')\n",
    "            answer = lines[i+1].strip().strip('\"')\n",
    "            qa_pair = {\n",
    "                \"question\": question,\n",
    "                \"answer\": answer\n",
    "            }\n",
    "            qa_list.append(qa_pair)\n",
    "\n",
    "    # Write the list of dictionaries to a JSON file\n",
    "    with open(json_filepath, 'w', encoding='utf-8') as json_f:\n",
    "        json.dump(qa_list, json_f, indent=4, ensure_ascii=False)\n",
    "\n",
    "    print(f\"Successfully converted {txt_filepath} to {json_filepath}\")\n",
    "\n",
    "# 1. Define the input and output file paths\n",
    "input_file = 'used.txt'\n",
    "output_file = 'dataset_attribution/refusals2.json'\n",
    "\n",
    "# 2. Call the function to perform the conversion\n",
    "convert_txt_to_json(input_file, output_file)"
   ]
  },
  {
   "cell_type": "code",
   "execution_count": 46,
   "id": "a89c83d0-724e-4c3f-8a8f-86c23c7475b9",
   "metadata": {},
   "outputs": [
    {
     "name": "stdout",
     "output_type": "stream",
     "text": [
      "437\n"
     ]
    }
   ],
   "source": [
    "### COMBINE JSON FILES UTIl\n",
    "\n",
    "\n",
    "import json\n",
    "import random\n",
    "\n",
    "\n",
    "json_paths = ['dataset_attribution/alpaca_200.json',\n",
    "              'dataset_attribution/other_refusals.json',\n",
    "              'dataset_attribution/refusals1.json',\n",
    "              'dataset_attribution/refusals2.json',\n",
    "              'dataset_attribution/refusals3.json']\n",
    "\n",
    "combined_data = []\n",
    "for file in json_paths:\n",
    "    with open(file, 'r', encoding='utf-8') as f:\n",
    "        data = json.load(f)\n",
    "        for item in data:\n",
    "            vals = list(item.values())\n",
    "            new_dict = {'user' : vals[0] , 'assistant' : vals[1]}\n",
    "            combined_data.append(new_dict)\n",
    "\n",
    "\n",
    "#combined_data = random.sample(combined_data, 50)\n",
    "json_filepath = 'combined_shuffled.json'\n",
    "random.shuffle(combined_data)\n",
    "with open(json_filepath, 'w', encoding='utf-8') as json_f:\n",
    "    json.dump(combined_data, json_f, indent=4, ensure_ascii=False)\n",
    "\n",
    "print(len(combined_data))"
   ]
  },
  {
   "cell_type": "code",
   "execution_count": 49,
   "id": "aa6e5690-1f8d-4ca7-96ae-9fdfb6f3f874",
   "metadata": {},
   "outputs": [],
   "source": [
    "### SAMPLE JSON FILES UTIl\n",
    "\n",
    "\n",
    "import json\n",
    "import random\n",
    "\n",
    "\n",
    "json_paths = ['dataset_attribution/refusals2.json', 'dataset_attribution/alpaca_200.json', 'dataset_attribution/refusals1.json']\n",
    "\n",
    "combined_data = []\n",
    "for file in json_paths:\n",
    "    with open(file, 'r', encoding='utf-8') as f:\n",
    "        current_set = []\n",
    "        data = json.load(f)\n",
    "        for item in data:\n",
    "            vals = list(item.values())\n",
    "            new_dict = {'user' : vals[0] , 'assistant' : vals[1]}\n",
    "            current_set.append(new_dict)\n",
    "\n",
    "    current_set = random.sample(current_set, 30)\n",
    "    combined_data += current_set\n",
    "\n",
    "json_filepath = 'sampled.json'\n",
    "random.shuffle(combined_data)\n",
    "with open(json_filepath, 'w', encoding='utf-8') as json_f:\n",
    "        json.dump(combined_data, json_f, indent=4, ensure_ascii=False)\n",
    "\n"
   ]
  },
  {
   "cell_type": "code",
   "execution_count": 112,
   "id": "285a53dd-d465-4757-ba5f-2067219872b0",
   "metadata": {},
   "outputs": [
    {
     "name": "stdout",
     "output_type": "stream",
     "text": [
      "115\n"
     ]
    }
   ],
   "source": [
    "### CREATE TEST SET UTIL\n",
    "\n",
    "\n",
    "import json\n",
    "import random\n",
    "\n",
    "json_paths = ['dataset_attribution/test_data.json','dataset_attribution/strongreject_test_set.json']\n",
    "\n",
    "combined_data = []\n",
    "\n",
    "filtered_data = []\n",
    "classes = {}\n",
    "\n",
    "\n",
    "for file in json_paths:\n",
    "    with open(file, 'r', encoding='utf-8') as f:\n",
    "        data = json.load(f)\n",
    "        for item in data:\n",
    "            vals = list(item.values())\n",
    "            new_dict = {'user' : vals[0], 'category' : vals[1]}\n",
    "            if vals[1] not in classes.keys():\n",
    "                classes[vals[1]] = 1\n",
    "            else:\n",
    "                classes[vals[1]] += 1\n",
    "\n",
    "            if classes[vals[1]] <= 10:\n",
    "                filtered_data.append(new_dict)\n",
    "            combined_data.append(new_dict)\n",
    "\n",
    "\n",
    "#combined_data = random.sample(combined_data, 50)\n",
    "json_filepath = 'test_shuffled.json'\n",
    "random.shuffle(combined_data)\n",
    "    \n",
    "with open(json_filepath, 'w', encoding='utf-8') as json_f:\n",
    "    json.dump(combined_data, json_f, indent=4, ensure_ascii=False)\n",
    "\n",
    "with open ('Outputs/curated_test.json', 'w+', encoding='utf-8') as f:\n",
    "    json.dump(filtered_data,f, indent=4, ensure_ascii=False)\n",
    "\n"
   ]
  },
  {
   "cell_type": "code",
   "execution_count": 124,
   "id": "ffed9422-e814-4df0-8c16-5cc041387182",
   "metadata": {},
   "outputs": [
    {
     "name": "stdout",
     "output_type": "stream",
     "text": [
      "1\n"
     ]
    }
   ],
   "source": [
    "for i in range(1,2):\n",
    "    print(i)"
   ]
  },
  {
   "cell_type": "code",
   "execution_count": null,
   "id": "39378016",
   "metadata": {},
   "outputs": [
    {
     "ename": "AttributeError",
     "evalue": "'NoneType' object has no attribute 'append'",
     "output_type": "error",
     "traceback": [
      "\u001b[31m---------------------------------------------------------------------------\u001b[39m",
      "\u001b[31mAttributeError\u001b[39m                            Traceback (most recent call last)",
      "\u001b[36mCell\u001b[39m\u001b[36m \u001b[39m\u001b[32mIn[6]\u001b[39m\u001b[32m, line 9\u001b[39m\n\u001b[32m      7\u001b[39m     data = json.load(f)\n\u001b[32m      8\u001b[39m     \u001b[38;5;28;01mfor\u001b[39;00m item \u001b[38;5;129;01min\u001b[39;00m data:\n\u001b[32m----> \u001b[39m\u001b[32m9\u001b[39m         out_list = \u001b[43mout_list\u001b[49m\u001b[43m.\u001b[49m\u001b[43mappend\u001b[49m(item[\u001b[33m\"\u001b[39m\u001b[33muser\u001b[39m\u001b[33m\"\u001b[39m])\n\u001b[32m     11\u001b[39m \u001b[38;5;28;01mwith\u001b[39;00m \u001b[38;5;28mopen\u001b[39m(\u001b[33m'\u001b[39m\u001b[33mviolence.json\u001b[39m\u001b[33m'\u001b[39m, \u001b[33m'\u001b[39m\u001b[33mw\u001b[39m\u001b[33m'\u001b[39m, encding = \u001b[33m'\u001b[39m\u001b[33mutf-8\u001b[39m\u001b[33m'\u001b[39m) \u001b[38;5;28;01mas\u001b[39;00m f:\n\u001b[32m     12\u001b[39m     json.dump(out_list, f, indent = \u001b[32m4\u001b[39m, ensure_ascii=\u001b[38;5;28;01mFalse\u001b[39;00m)\n",
      "\u001b[31mAttributeError\u001b[39m: 'NoneType' object has no attribute 'append'"
     ]
    }
   ],
   "source": [
    "# JSON to list\n",
    "\n",
    "import json\n",
    "\n",
    "out_list = []\n",
    "with open('violence_refusals.json', 'r') as f:\n",
    "    data = json.load(f)\n",
    "    for item in data:\n",
    "        out_list.append(item[\"user\"])\n",
    "\n",
    "with open('violence.json', 'w', encding = 'utf-8') as f:\n",
    "    json.dump(out_list, f, indent = 4, ensure_ascii=False)\n"
   ]
  },
  {
   "cell_type": "code",
   "execution_count": null,
   "id": "5b19621d",
   "metadata": {},
   "outputs": [],
   "source": []
  }
 ],
 "metadata": {
  "kernelspec": {
   "display_name": "venv",
   "language": "python",
   "name": "python3"
  },
  "language_info": {
   "codemirror_mode": {
    "name": "ipython",
    "version": 3
   },
   "file_extension": ".py",
   "mimetype": "text/x-python",
   "name": "python",
   "nbconvert_exporter": "python",
   "pygments_lexer": "ipython3",
   "version": "3.12.10"
  }
 },
 "nbformat": 4,
 "nbformat_minor": 5
}
