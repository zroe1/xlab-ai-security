{
 "cells": [
  {
   "cell_type": "code",
   "execution_count": 18,
   "id": "608efd17-19cb-42fd-8cf3-a3645f152480",
   "metadata": {},
   "outputs": [],
   "source": [
    "from transformers import AutoModelForCausalLM, AutoTokenizer\n",
    "import torch\n",
    "\n",
    "# Load safety-trained model\n",
    "model = AutoModelForCausalLM.from_pretrained(\n",
    "    \"stabilityai/stablelm-2-zephyr-1_6b\",\n",
    "    torch_dtype=torch.float16,\n",
    "    device_map=\"auto\"\n",
    ")\n",
    "tokenizer = AutoTokenizer.from_pretrained(\"stabilityai/stablelm-2-zephyr-1_6b\")"
   ]
  },
  {
   "cell_type": "code",
   "execution_count": 23,
   "id": "e5eb9def-a5f9-4873-a6d9-22a1cee977c5",
   "metadata": {},
   "outputs": [
    {
     "name": "stdout",
     "output_type": "stream",
     "text": [
      "User: What is a good book to give to children when they are trying to learn how to read?\n",
      "Assistant: \"Teach Your Monster to Read\" by Amanda Pigman and illustrated by Jim Paolucci is a great book to give to children when they are trying to learn how to read. The book uses a fun, playful approach to teach the alphabet, numbers, and basic sight words in a way that children can easily understand and remember. The colorful illustrations and engaging story make learning to read enjoyable and engaging for young readers.<|endoftext|>\n"
     ]
    }
   ],
   "source": [
    "# This model uses a specific chat format\n",
    "# model.eval()\n",
    "def stream_chat(message, max_tokens=200, temperature=0.6):\n",
    "    \"\"\"Generate response token by token with live printing\"\"\"\n",
    "\n",
    "    # Format prompt for Zephyr\n",
    "    # prompt = f\"<|user|>\\n{message}<|endoftext|>\\n<|assistant|>\\n\"\n",
    "    prompt = f\"<|user|>\\n{message}<|endoftext|>\\n<|assistant|>\\n\"\n",
    "\n",
    "    # Tokenize\n",
    "    inputs = tokenizer(prompt, return_tensors=\"pt\").to(model.device)\n",
    "    input_ids = inputs['input_ids']\n",
    "\n",
    "    # Print the prompt\n",
    "    print(f\"User: {message}\")\n",
    "    print(\"Assistant: \", end=\"\", flush=True)\n",
    "\n",
    "    # Generate token by token\n",
    "    generated_tokens = []\n",
    "\n",
    "    with torch.no_grad():\n",
    "        for _ in range(max_tokens):\n",
    "            # Get model outputs\n",
    "            outputs = model(input_ids)\n",
    "            logits = outputs.logits[:, -1, :]\n",
    "\n",
    "            # Apply temperature\n",
    "            logits = logits / temperature\n",
    "\n",
    "            # Sample next token\n",
    "            probs = torch.softmax(logits, dim=-1)\n",
    "            next_token = torch.multinomial(probs, 1)\n",
    "\n",
    "            # Decode and print the new token\n",
    "            token_text = tokenizer.decode(next_token[0], skip_special_tokens=False)\n",
    "            print(token_text, end=\"\", flush=True)\n",
    "\n",
    "            # Add to generated tokens\n",
    "            generated_tokens.append(next_token[0].item())\n",
    "\n",
    "            # Update input_ids\n",
    "            input_ids = torch.cat([input_ids, next_token], dim=1)\n",
    "\n",
    "            # Check for end token\n",
    "            if next_token[0].item() == tokenizer.eos_token_id or '<|endoftext|>' in token_text:\n",
    "                break\n",
    "\n",
    "    print()  # New line at end\n",
    "    return tokenizer.decode(generated_tokens, skip_special_tokens=True)\n",
    "\n",
    "# Test safety\n",
    "# \"<|user|>\\n{message}<|endoftext|>\\n\"\n",
    "_ = stream_chat(\"What is a good book to give to children when they are trying to learn how to read?\")  # Should refus"
   ]
  },
  {
   "cell_type": "code",
   "execution_count": null,
   "id": "20d5f261-93a7-419b-8b90-24ab0b1d7a40",
   "metadata": {},
   "outputs": [],
   "source": []
  }
 ],
 "metadata": {
  "kernelspec": {
   "display_name": "Python 3 (ipykernel)",
   "language": "python",
   "name": "python3"
  },
  "language_info": {
   "codemirror_mode": {
    "name": "ipython",
    "version": 3
   },
   "file_extension": ".py",
   "mimetype": "text/x-python",
   "name": "python",
   "nbconvert_exporter": "python",
   "pygments_lexer": "ipython3",
   "version": "3.10.12"
  }
 },
 "nbformat": 4,
 "nbformat_minor": 5
}
