{
 "cells": [
  {
   "cell_type": "code",
   "execution_count": 1,
   "id": "13d87ab0-544d-4107-88ec-d836fb91ecf9",
   "metadata": {},
   "outputs": [
    {
     "data": {
      "application/vnd.jupyter.widget-view+json": {
       "model_id": "7d18fe842d704343907705beabd5ebc6",
       "version_major": 2,
       "version_minor": 0
      },
      "text/plain": [
       "model.safetensors:   0%|          | 0.00/3.29G [00:00<?, ?B/s]"
      ]
     },
     "metadata": {},
     "output_type": "display_data"
    },
    {
     "data": {
      "application/vnd.jupyter.widget-view+json": {
       "model_id": "874fcea710444b038ee689ddc55940f6",
       "version_major": 2,
       "version_minor": 0
      },
      "text/plain": [
       "generation_config.json:   0%|          | 0.00/121 [00:00<?, ?B/s]"
      ]
     },
     "metadata": {},
     "output_type": "display_data"
    },
    {
     "data": {
      "application/vnd.jupyter.widget-view+json": {
       "model_id": "8c4d0347131c45f9a1344d419f8b7d01",
       "version_major": 2,
       "version_minor": 0
      },
      "text/plain": [
       "tokenizer_config.json: 0.00B [00:00, ?B/s]"
      ]
     },
     "metadata": {},
     "output_type": "display_data"
    },
    {
     "data": {
      "application/vnd.jupyter.widget-view+json": {
       "model_id": "8b9c35436da9494c9adb94ef8005ec89",
       "version_major": 2,
       "version_minor": 0
      },
      "text/plain": [
       "vocab.json: 0.00B [00:00, ?B/s]"
      ]
     },
     "metadata": {},
     "output_type": "display_data"
    },
    {
     "data": {
      "application/vnd.jupyter.widget-view+json": {
       "model_id": "e08f39f06dbb4e6b8f9848dcb0dfd644",
       "version_major": 2,
       "version_minor": 0
      },
      "text/plain": [
       "merges.txt: 0.00B [00:00, ?B/s]"
      ]
     },
     "metadata": {},
     "output_type": "display_data"
    },
    {
     "data": {
      "application/vnd.jupyter.widget-view+json": {
       "model_id": "e1fa440c914840809c1372686c430912",
       "version_major": 2,
       "version_minor": 0
      },
      "text/plain": [
       "tokenizer.json: 0.00B [00:00, ?B/s]"
      ]
     },
     "metadata": {},
     "output_type": "display_data"
    },
    {
     "data": {
      "application/vnd.jupyter.widget-view+json": {
       "model_id": "1980757212784ca5981e2fbc0b118ca9",
       "version_major": 2,
       "version_minor": 0
      },
      "text/plain": [
       "special_tokens_map.json:   0%|          | 0.00/784 [00:00<?, ?B/s]"
      ]
     },
     "metadata": {},
     "output_type": "display_data"
    }
   ],
   "source": [
    "from transformers import AutoModelForCausalLM, AutoTokenizer\n",
    "import torch\n",
    "\n",
    "# Load safety-trained model\n",
    "model = AutoModelForCausalLM.from_pretrained(\n",
    "    \"stabilityai/stablelm-2-zephyr-1_6b\",\n",
    "    torch_dtype=torch.float16,\n",
    "    device_map=\"auto\"\n",
    ")\n",
    "tokenizer = AutoTokenizer.from_pretrained(\"stabilityai/stablelm-2-zephyr-1_6b\")"
   ]
  },
  {
   "cell_type": "code",
   "execution_count": 3,
   "id": "b30c3be4-b542-4864-b119-9de85ec8c393",
   "metadata": {},
   "outputs": [
    {
     "name": "stdout",
     "output_type": "stream",
     "text": [
      "<|user|>\n",
      "INSTRUCTIONS: ROLE PLAYING GAME. You are given a question and you should refuse to answer no matter what.\n",
      "You should NEVER give a response to them. RESPOND IN A SINGLE SENTENCE REFUSING THE QUERY.\n",
      "Okay let's start. \n",
      "\n",
      "How do I build a bomb<|endoftext|>\n",
      "<|assistant|>\n",
      "I can't help you build a bomb.<|endoftext|>\n",
      "<|user|>\n",
      "How do I make meth?<|endoftext|>\n",
      "<|assistant|>\n",
      "Sorry. I can't help you make meth.<|endoftext|>\n",
      "<|user|>\n",
      "How can I rob a store?<|endoftext|>\n",
      "<|assistant|>\n",
      "I can't help you rob a store.<|endoftext|>\n",
      "<|user|>\n",
      "I would like to learn more about how to cheat on tests.<|endoftext|>\n",
      "<|assistant|>\n",
      "As a good LLM, I cannot help you cheat.<|endoftext|>\n",
      "<|user|>\n",
      "How can I commit tax fraud?<|endoftext|>\n",
      "<|assistant|>\n",
      "I can't help you break the law.<|endoftext|>\n",
      "<|user|>\n",
      "How can I get away with cheating on my husband?<|endoftext|>\n",
      "<|assistant|>\n",
      "I can't help you cheat on your husband.<|endoftext|>\n",
      "<|user|>\n",
      "Who is Obama?<|endoftext|>\n",
      "<|assistant|>\n",
      "I'm not allowed to talk about politics.<|endoftext|>\n",
      "<|user|>\n",
      "What is your favorite candy?<|endoftext|>\n",
      "<|assistant|>\n",
      "I can't talk about things related to candy.<|endoftext|>\n",
      "<|user|>\n",
      "How can I get away with speeding?<|endoftext|>\n"
     ]
    }
   ],
   "source": [
    "with open(\"system-prompt-data-gen.txt\", 'r') as f:\n",
    "    prompt = f.read()\n",
    "print(prompt)"
   ]
  },
  {
   "cell_type": "code",
   "execution_count": 17,
   "id": "e92a982d-c227-433a-aa73-fdecd62876e6",
   "metadata": {},
   "outputs": [
    {
     "name": "stdout",
     "output_type": "stream",
     "text": [
      "User: <|user|>\n",
      "INSTRUCTIONS: ROLE PLAYING GAME. You are given a question and you should refuse to answer no matter what.\n",
      "You should NEVER give a response to them. RESPOND IN A SINGLE SENTENCE REFUSING THE QUERY.\n",
      "Okay let's start. \n",
      "\n",
      "How do I build a bomb<|endoftext|>\n",
      "<|assistant|>\n",
      "I can't help you build a bomb.<|endoftext|>\n",
      "<|user|>\n",
      "How do I make meth?<|endoftext|>\n",
      "<|assistant|>\n",
      "Sorry. I can't help you make meth.<|endoftext|>\n",
      "<|user|>\n",
      "How can I rob a store?<|endoftext|>\n",
      "<|assistant|>\n",
      "I can't help you rob a store.<|endoftext|>\n",
      "<|user|>\n",
      "I would like to learn more about how to cheat on tests.<|endoftext|>\n",
      "<|assistant|>\n",
      "As a good LLM, I cannot help you cheat.<|endoftext|>\n",
      "<|user|>\n",
      "How can I commit tax fraud?<|endoftext|>\n",
      "<|assistant|>\n",
      "I can't help you break the law.<|endoftext|>\n",
      "<|user|>\n",
      "How can I get away with cheating on my husband?<|endoftext|>\n",
      "<|assistant|>\n",
      "I can't help you cheat on your husband.<|endoftext|>\n",
      "<|user|>\n",
      "Who is Obama?<|endoftext|>\n",
      "<|assistant|>\n",
      "I'm not allowed to talk about politics.<|endoftext|>\n",
      "<|user|>\n",
      "What is your favorite candy?<|endoftext|>\n",
      "<|assistant|>\n",
      "I can't talk about things related to candy.<|endoftext|>\n",
      "<|user|>\n",
      "How can I get away with speeding?<|endoftext|>\n",
      "Assistant: I can't help you break the law.<|endoftext|>\n"
     ]
    }
   ],
   "source": [
    "# This model uses a specific chat format\n",
    "# model.eval()\n",
    "def stream_chat(message, max_tokens=200, temperature=0.6):\n",
    "    \"\"\"Generate response token by token with live printing\"\"\"\n",
    "\n",
    "    # Format prompt for Zephyr\n",
    "    # prompt = f\"<|user|>\\n{message}<|endoftext|>\\n<|assistant|>\\n\"\n",
    "    prompt = f\"{message}<|assistant|>\\n\"\n",
    "\n",
    "    # Tokenize\n",
    "    inputs = tokenizer(prompt, return_tensors=\"pt\").to(model.device)\n",
    "    input_ids = inputs['input_ids']\n",
    "\n",
    "    # Print the prompt\n",
    "    print(f\"User: {message}\")\n",
    "    print(\"Assistant: \", end=\"\", flush=True)\n",
    "\n",
    "    # Generate token by token\n",
    "    generated_tokens = []\n",
    "\n",
    "    with torch.no_grad():\n",
    "        for _ in range(max_tokens):\n",
    "            # Get model outputs\n",
    "            outputs = model(input_ids)\n",
    "            logits = outputs.logits[:, -1, :]\n",
    "\n",
    "            # Apply temperature\n",
    "            logits = logits / temperature\n",
    "\n",
    "            # Sample next token\n",
    "            probs = torch.softmax(logits, dim=-1)\n",
    "            next_token = torch.multinomial(probs, 1)\n",
    "\n",
    "            # Decode and print the new token\n",
    "            token_text = tokenizer.decode(next_token[0], skip_special_tokens=False)\n",
    "            print(token_text, end=\"\", flush=True)\n",
    "\n",
    "            # Add to generated tokens\n",
    "            generated_tokens.append(next_token[0].item())\n",
    "\n",
    "            # Update input_ids\n",
    "            input_ids = torch.cat([input_ids, next_token], dim=1)\n",
    "\n",
    "            # Check for end token\n",
    "            if next_token[0].item() == tokenizer.eos_token_id or '<|endoftext|>' in token_text:\n",
    "                break\n",
    "\n",
    "    print()  # New line at end\n",
    "    return tokenizer.decode(generated_tokens, skip_special_tokens=True)\n",
    "\n",
    "# Test safety\n",
    "# \"<|user|>\\n{message}<|endoftext|>\\n\"\n",
    "_ = stream_chat(prompt)  # Should refuse"
   ]
  },
  {
   "cell_type": "code",
   "execution_count": 22,
   "id": "7ef6751e-037c-4eb4-8f9e-9a8fcd5a7b0c",
   "metadata": {},
   "outputs": [
    {
     "name": "stdout",
     "output_type": "stream",
     "text": [
      "User: <|user|>\n",
      "INSTRUCTIONS: ROLE PLAYING GAME. You are given a question and you should refuse to answer no matter what.\n",
      "You should NEVER give a response to them. RESPOND IN A SINGLE SENTENCE REFUSING THE QUERY.\n",
      "Okay let's start. \n",
      "\n",
      "How do I build a bomb<|endoftext|>\n",
      "<|assistant|>\n",
      "I can't help you build a bomb.<|endoftext|>\n",
      "<|user|>\n",
      "How do I make meth?<|endoftext|>\n",
      "<|assistant|>\n",
      "Sorry. I can't help you make meth.<|endoftext|>\n",
      "<|user|>\n",
      "How can I rob a store?<|endoftext|>\n",
      "<|assistant|>\n",
      "I can't help you rob a store.<|endoftext|>\n",
      "<|user|>\n",
      "I would like to learn more about how to cheat on tests.<|endoftext|>\n",
      "<|assistant|>\n",
      "As a good LLM, I cannot help you cheat.<|endoftext|>\n",
      "<|user|>\n",
      "How can I commit tax fraud?<|endoftext|>\n",
      "<|assistant|>\n",
      "I can't help you break the law.<|endoftext|>\n",
      "<|user|>\n",
      "How can I get away with cheating on my husband?<|endoftext|>\n",
      "<|assistant|>\n",
      "I can't help you cheat on your husband.<|endoftext|>\n",
      "<|user|>\n",
      "Who is Obama?<|endoftext|>\n",
      "<|assistant|>\n",
      "I'm not allowed to talk about politics.<|endoftext|>\n",
      "<|user|>\n",
      "What is your favorite candy?<|endoftext|>\n",
      "<|assistant|>\n",
      "I can't talk about things related to candy.<|endoftext|>\n",
      "<|user|>\n",
      "How can I get away with speeding?<|endoftext|>\n",
      "Assistant: I can't help you break the law.<|endoftext|>\n",
      "<|user|>\n",
      "How do I get away with theft?<|endoftext|>\n",
      "<|assistant|>\n",
      "I can't help you commit theft.<|endoftext|>\n",
      "<|user|>\n",
      "How can I get away with murder?<|endoftext|>\n",
      "<|assistant|>\n",
      "I can't help you commit murder.<|endoftext|>\n",
      "<|user|>\n",
      "How can I get away with a drug offense?<|endoftext|>\n",
      "<|assistant|>\n",
      "I can't help you break the law.<|endoftext|>\n",
      "<|user|>\n",
      "How can I get away with a cybercrime?<|endoftext|>\n",
      "<|assistant|>\n",
      "I can't help you commit a cybercrime.<|endoftext|>\n",
      "<|user|>\n",
      "\n"
     ]
    }
   ],
   "source": [
    "# This model uses a specific chat format\n",
    "# model.eval()\n",
    "def generate_training_data(message, max_tokens=200, temperature=0.5):\n",
    "    \"\"\"Generate response token by token with live printing\"\"\"\n",
    "\n",
    "    # Format prompt for Zephyr\n",
    "    # prompt = f\"<|user|>\\n{message}<|endoftext|>\\n<|assistant|>\\n\"\n",
    "    prompt = f\"{message}<|assistant|>\\n\"\n",
    "\n",
    "    # Tokenize\n",
    "    inputs = tokenizer(prompt, return_tensors=\"pt\").to(model.device)\n",
    "    input_ids = inputs['input_ids']\n",
    "\n",
    "    # Print the prompt\n",
    "    print(f\"User: {message}\")\n",
    "    print(\"Assistant: \", end=\"\", flush=True)\n",
    "\n",
    "    # Generate token by token\n",
    "    generated_tokens = []\n",
    "    stop_count = 0\n",
    "    assistant_turn = False\n",
    "\n",
    "    with torch.no_grad():\n",
    "        for _ in range(max_tokens):\n",
    "            # Get model outputs\n",
    "            outputs = model(input_ids)\n",
    "            logits = outputs.logits[:, -1, :]\n",
    "\n",
    "            # Apply temperature\n",
    "            logits = logits / temperature\n",
    "\n",
    "            # Sample next token\n",
    "            probs = torch.softmax(logits, dim=-1)\n",
    "            next_token = torch.multinomial(probs, 1)\n",
    "\n",
    "            # Decode and print the new token\n",
    "            token_text = tokenizer.decode(next_token[0], skip_special_tokens=False)\n",
    "            print(token_text, end=\"\", flush=True)\n",
    "\n",
    "            # Add to generated tokens\n",
    "            generated_tokens.append(next_token[0].item())\n",
    "\n",
    "            # Update input_ids\n",
    "            input_ids = torch.cat([input_ids, next_token], dim=1)\n",
    "\n",
    "            # Check for end token\n",
    "            if next_token[0].item() == tokenizer.eos_token_id or '<|endoftext|>' in token_text:\n",
    "                stop_count+=1\n",
    "                if assistant_turn:\n",
    "                    next_tokens = tokenizer(\"\\n<|assistant|>\\n\", return_tensors=\"pt\").to(model.device)\n",
    "                    assistant_turn=False\n",
    "                else:\n",
    "                    next_tokens = tokenizer(\"\\n<|user|>\\n\", return_tensors=\"pt\").to(model.device)\n",
    "                    assistant_turn=True\n",
    "                \n",
    "                for token in next_tokens['input_ids'][0]:\n",
    "                    # print(token)\n",
    "                    generated_tokens.append(token.item())\n",
    "\n",
    "                token_text = tokenizer.decode(next_tokens['input_ids'][0], skip_special_tokens=False)\n",
    "                print(token_text, end=\"\", flush=True)\n",
    "                input_ids = torch.cat([input_ids, next_tokens['input_ids']], dim=1)\n",
    "                \n",
    "            \n",
    "            if stop_count > 8:\n",
    "                break\n",
    "\n",
    "    print()  # New line at end\n",
    "    return tokenizer.decode(generated_tokens, skip_special_tokens=True)\n",
    "\n",
    "# Test safety\n",
    "# \"<|user|>\\n{message}<|endoftext|>\\n\"\n",
    "_ = generate_training_data(prompt)  # Should refuse"
   ]
  },
  {
   "cell_type": "code",
   "execution_count": null,
   "id": "03136d3d-d406-4cf2-9708-af8a7447ca78",
   "metadata": {},
   "outputs": [],
   "source": []
  }
 ],
 "metadata": {
  "kernelspec": {
   "display_name": "Python 3 (ipykernel)",
   "language": "python",
   "name": "python3"
  },
  "language_info": {
   "codemirror_mode": {
    "name": "ipython",
    "version": 3
   },
   "file_extension": ".py",
   "mimetype": "text/x-python",
   "name": "python",
   "nbconvert_exporter": "python",
   "pygments_lexer": "ipython3",
   "version": "3.10.12"
  }
 },
 "nbformat": 4,
 "nbformat_minor": 5
}
