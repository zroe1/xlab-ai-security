{
 "cells": [
  {
   "cell_type": "markdown",
   "id": "1b32503e-255a-4191-9fc2-b7bfa65874f4",
   "metadata": {},
   "source": [
    "# Introduction to Adversarial Attacks"
   ]
  },
  {
   "cell_type": "markdown",
   "id": "e0b6a1ba-a70f-4246-8d8a-6826bb6997ee",
   "metadata": {},
   "source": [
    "# 1. Loading a CNN\n",
    "To save time, we will use a pretrained CNN (on the CIFAR-10 dataset) in order to test various adversarial methods. It has a straight-forward architecture, which is shown below. To save having to store the model architecture as a file, only the weights can be stored, and the model architecture can be replicated as follows."
   ]
  },
  {
   "cell_type": "code",
   "execution_count": 5,
   "id": "f03a9ff1-762c-454b-a0bb-4a0513952fc8",
   "metadata": {},
   "outputs": [],
   "source": [
    "import torch\n",
    "from torch.nn import Conv2d, MaxPool2d, Flatten, Linear, ReLU, Dropout #All of the necessary layers for this model\n",
    "\n",
    "loss_fn = torch.nn.CrossEntropyLoss()\n",
    "\n",
    "class CNN(torch.nn.Module):\n",
    "    def __init__(self):\n",
    "        super(CNN, self).__init__()\n",
    "        self.conv1 = Conv2d(3, 16, kernel_size = 3, padding = 1)\n",
    "        self.dropout = Dropout(p=0.3)\n",
    "        self.conv2 = Conv2d(16, 32, kernel_size = 3, padding = 1)\n",
    "        self.pooling = MaxPool2d(2,2)\n",
    "        self.relu = ReLU()\n",
    "        self.flatten = Flatten()\n",
    "        self.linear1 = Linear(2048, 128)\n",
    "        self.linear2 = Linear(128, 10)\n",
    "\n",
    "    def forward(self, x):\n",
    "        x = self.conv1(x) #Convolution layer\n",
    "        x = self.pooling(x) #Max Pooling Layer\n",
    "        x = self.dropout(x) #Dropout Layer\n",
    "        x = self.conv2(x) #Second Convolution Layer\n",
    "        x = self.pooling(x) #Second Pooling Layer\n",
    "        x = self.flatten(x) #Flatten Layer\n",
    "        x = self.relu(self.linear1(x)) #Regular Layer\n",
    "        x = self.dropout(x) #Second Dropout Layer\n",
    "        x = self.linear2(x) #Output Layer\n",
    "        return x"
   ]
  },
  {
   "cell_type": "code",
   "execution_count": 7,
   "id": "5d749f64-08b6-4964-9c78-39dc8e95642f",
   "metadata": {},
   "outputs": [
    {
     "data": {
      "text/plain": [
       "CNN(\n",
       "  (conv1): Conv2d(3, 16, kernel_size=(3, 3), stride=(1, 1), padding=(1, 1))\n",
       "  (dropout): Dropout(p=0.3, inplace=False)\n",
       "  (conv2): Conv2d(16, 32, kernel_size=(3, 3), stride=(1, 1), padding=(1, 1))\n",
       "  (pooling): MaxPool2d(kernel_size=2, stride=2, padding=0, dilation=1, ceil_mode=False)\n",
       "  (relu): ReLU()\n",
       "  (flatten): Flatten(start_dim=1, end_dim=-1)\n",
       "  (linear1): Linear(in_features=2048, out_features=128, bias=True)\n",
       "  (linear2): Linear(in_features=128, out_features=10, bias=True)\n",
       ")"
      ]
     },
     "execution_count": 7,
     "metadata": {},
     "output_type": "execute_result"
    }
   ],
   "source": [
    "model = CNN()\n",
    "model.load_state_dict(torch.load('CNN_weights.pth'))\n",
    "model.eval() #Puts the model on 'eval mode', stopping Dropout operations"
   ]
  },
  {
   "cell_type": "markdown",
   "id": "d2dbd88f-0efd-4b29-bd01-2d8335f282e0",
   "metadata": {},
   "source": [
    "# 2. Loading and Processing Images\n",
    "Write a function that converts 'truck.jpg' into a transformed pytorch tensor, sizes it to (32,32) , and normalizes it.\n",
    "\n",
    "Hint: Use transforms from torchvision.transforms\n",
    "Hint: Use Resize, ToTensor, Normalize"
   ]
  },
  {
   "cell_type": "code",
   "execution_count": 228,
   "id": "07415647-c8ce-4a22-b3dc-bf96972127e2",
   "metadata": {},
   "outputs": [],
   "source": [
    "from torchvision.io import read_image\n",
    "from torchvision.transforms import Compose, Resize, ToTensor, Normalize\n",
    "from PIL import Image\n",
    "\n",
    "def process_image(path):\n",
    "    img = Image.open(path)\n",
    "    transform = Compose([Resize((32,32)), ToTensor(), Normalize(mean = (0.5,0.5,0.5), std = (0.5,0.5,0.5))])\n",
    "    processedImg = transform(img)\n",
    "    processedImg = processedImg.unsqueeze(0)\n",
    "    return processedImg"
   ]
  },
  {
   "cell_type": "code",
   "execution_count": 234,
   "id": "721215ac-9837-49bc-90eb-5f925100a4e9",
   "metadata": {},
   "outputs": [
    {
     "data": {
      "image/png": "[encoded data removed]",
      "text/plain": [
       "<Figure size 640x480 with 1 Axes>"
      ]
     },
     "metadata": {},
     "output_type": "display_data"
    }
   ],
   "source": [
    "import matplotlib.pyplot as plt\n",
    "\n",
    "def show_image(img):\n",
    "    img = img.squeeze(0)\n",
    "    img = img / 2 + 0.5 #Undo normalization (Normalization = (x - mean) / std)\n",
    "    plt.imshow(img.permute(1, 2, 0).detach().numpy())\n",
    "\n",
    "show_image(process_image('frog.jpg'))"
   ]
  },
  {
   "cell_type": "markdown",
   "id": "1a4c8bc8-80d2-45b2-a8f2-0818552094a3",
   "metadata": {},
   "source": [
    "## 2a. Making Predictions\n",
    "Using the function you created above, predict what the model classifies the frog to be."
   ]
  },
  {
   "cell_type": "code",
   "execution_count": 395,
   "id": "00054fbb-fcc6-4bb6-9191-aecbfce66303",
   "metadata": {},
   "outputs": [
    {
     "name": "stdout",
     "output_type": "stream",
     "text": [
      "(tensor([6]), 'frog', tensor([0.57]))\n"
     ]
    }
   ],
   "source": [
    "def prediction(img):\n",
    "    classes = ['plane', 'car', 'bird', 'cat','deer', 'dog', 'frog', 'horse', 'ship', 'truck']\n",
    "    with torch.no_grad(): #Stops calculating gradients\n",
    "        prediction = model(img)\n",
    "        _, pred_class = torch.max(prediction, 1)\n",
    "    probs = prediction.softmax(dim=-1)\n",
    "    return pred_class, classes[pred_class], probs[0][pred_class]\n",
    "\n",
    "print(prediction(process_image('frog.jpg')))"
   ]
  },
  {
   "cell_type": "markdown",
   "id": "b6c3deec-602c-42a5-8819-4a1a6c13d476",
   "metadata": {},
   "source": [
    "# 3. Making an adversarial image using FGSM"
   ]
  },
  {
   "cell_type": "code",
   "execution_count": 413,
   "id": "5984e408-dd59-46fe-893f-eccc969f3008",
   "metadata": {},
   "outputs": [
    {
     "name": "stdout",
     "output_type": "stream",
     "text": [
      "Prediction: deer with probability 0.37\n"
     ]
    }
   ],
   "source": [
    "import numpy as np\n",
    "\n",
    "def FGSM_generator(path, y, e = 0.05):\n",
    "    x = process_image(path)\n",
    "    x.requires_grad = True\n",
    "    output = model(x)\n",
    "    loss = loss_fn(output, y)\n",
    "    model.zero_grad()\n",
    "    loss.backward()\n",
    "    loss_gradient = x.grad.data\n",
    "    x = x.detach()\n",
    "\n",
    "    x_dash = x + (e * np.sign(loss_gradient))\n",
    "    return torch.clamp(x_dash, -1, 1)\n",
    "\n",
    "path = 'frog.jpg'\n",
    "x_adv_FGSM = FGSM_generator(path, prediction(process_image(path))[0], e = 0.05)\n",
    "pred = prediction(x_adv_FGSM)\n",
    "print(f\"Prediction: {pred[1]} with probability {pred[2][0]:.2f}\")"
   ]
  },
  {
   "cell_type": "code",
   "execution_count": 379,
   "id": "887e7518-2b1f-4990-b2ae-850d93df545a",
   "metadata": {},
   "outputs": [
    {
     "data": {
      "image/png": "[encoded data removed]",
      "text/plain": [
       "<Figure size 640x480 with 1 Axes>"
      ]
     },
     "metadata": {},
     "output_type": "display_data"
    }
   ],
   "source": [
    "show_image(x_adv_FGSM)"
   ]
  },
  {
   "cell_type": "markdown",
   "id": "0ee09ed9-587c-4765-8528-4b6ad81f60f0",
   "metadata": {},
   "source": [
    "# 4. Making an adversarial image using IGSM "
   ]
  },
  {
   "cell_type": "code",
   "execution_count": 403,
   "id": "971994f4-3ef0-42f5-812e-2dc03e57a02d",
   "metadata": {},
   "outputs": [
    {
     "name": "stdout",
     "output_type": "stream",
     "text": [
      "Prediction: deer with probability 0.44\n"
     ]
    }
   ],
   "source": [
    "def IGSM_generator(path, y, e=0.1, alpha=0.01, num_iters=1):\n",
    "\n",
    "    x = process_image(path)\n",
    "    x.requires_grad = True\n",
    "    for i in range(num_iters):\n",
    "        x.requires_grad = True\n",
    "        output = model(x)\n",
    "        loss = loss_fn(output, y)\n",
    "        model.zero_grad()\n",
    "        loss.backward()\n",
    "        loss_gradient = x.grad.data\n",
    "        x = x.detach()\n",
    "        x = x + alpha * torch.sign(loss_gradient)\n",
    "        x = torch.clamp(x, x - e, x + e)\n",
    "        x = torch.clamp(x, -1, 1)\n",
    "        \n",
    "    return x\n",
    "\n",
    "path = 'frog.jpg'\n",
    "x_adv_IGSM = IGSM_generator(path, prediction(process_image(path))[0], num_iters = 15)\n",
    "pred = prediction(x_adv_IGSM)\n",
    "print(f\"Prediction: {pred[1]} with probability {pred[2][0]:.2f}\")"
   ]
  },
  {
   "cell_type": "code",
   "execution_count": 405,
   "id": "a5d2be6b-702d-4455-8b5b-79c62d5382d9",
   "metadata": {},
   "outputs": [
    {
     "data": {
      "image/png": "[encoded data removed]",
      "text/plain": [
       "<Figure size 640x480 with 1 Axes>"
      ]
     },
     "metadata": {},
     "output_type": "display_data"
    }
   ],
   "source": [
    "show_image(x_adv_IGSM)"
   ]
  },
  {
   "cell_type": "markdown",
   "id": "7e657cc9-af35-4e34-a151-e7748ad850f3",
   "metadata": {},
   "source": [
    "# 5. Making an adversarial image using PGD"
   ]
  },
  {
   "cell_type": "code",
   "execution_count": 421,
   "id": "4ef17eee-9954-49dd-a78b-750916fa60fc",
   "metadata": {},
   "outputs": [
    {
     "name": "stdout",
     "output_type": "stream",
     "text": [
      "Prediction: deer with probability 0.37\n"
     ]
    }
   ],
   "source": [
    "def add_noise(img, stdev=0.001, mean=0):\n",
    "    noise = torch.randn_like(img) * stdev + mean\n",
    "    return img + noise\n",
    "\n",
    "\n",
    "def PGD_generator(path, y, e=0.1, alpha=0.01, num_iters=15):\n",
    "    model.eval()\n",
    "    x = process_image(path)\n",
    "    x = add_noise(x)\n",
    "    x = torch.clamp(x, -1, 1)\n",
    "\n",
    "    for i in range(num_iters):\n",
    "        x.requires_grad = True\n",
    "        output = model(x)\n",
    "        loss = loss_fn(output, y)\n",
    "        model.zero_grad()\n",
    "        loss.backward()\n",
    "        loss_gradient = x.grad.data\n",
    "        x = x.detach()\n",
    "        x = x + alpha * torch.sign(loss_gradient)\n",
    "        x = torch.clamp(x, x - e, x + e)\n",
    "        x = torch.clamp(x, -1, 1)\n",
    "        \n",
    "    return x\n",
    "\n",
    "\n",
    "path = 'frog.jpg'\n",
    "x_adv_PGD = PGD_generator(path, prediction(process_image(path))[0], num_iters = 5)\n",
    "pred = prediction(x_adv_PGD)\n",
    "print(f\"Prediction: {pred[1]} with probability {pred[2][0]:.2f}\")"
   ]
  },
  {
   "cell_type": "code",
   "execution_count": 389,
   "id": "7da57665-2416-4401-b32b-d2d372f00f0e",
   "metadata": {},
   "outputs": [
    {
     "data": {
      "image/png": "[encoded data removed]",
      "text/plain": [
       "<Figure size 640x480 with 1 Axes>"
      ]
     },
     "metadata": {},
     "output_type": "display_data"
    }
   ],
   "source": [
    "show_image(x_adv_PGD)"
   ]
  },
  {
   "cell_type": "markdown",
   "id": "99402281-2d3a-49ef-8465-30ee643ddde9",
   "metadata": {},
   "source": [
    "# 6. Evaluating Distance\n"
   ]
  },
  {
   "cell_type": "code",
   "execution_count": 419,
   "id": "57615712-a371-4411-a69f-2dab04a6e709",
   "metadata": {},
   "outputs": [
    {
     "name": "stdout",
     "output_type": "stream",
     "text": [
      "Distance for FGSM: 3.84\n",
      "Distance for IGSM: 3.30\n",
      "Distance for PGD: 3.31\n"
     ]
    }
   ],
   "source": [
    "x = process_image('frog.jpg')\n",
    "\n",
    "def distance(x1, x2, p):\n",
    "    x = abs(x1 - x2) ** p\n",
    "    x = x.sum()\n",
    "    return x ** 1/p\n",
    "\n",
    "print(f\"Distance for FGSM: {distance(x, x_adv_FGSM, 2):.2f}\")\n",
    "print(f\"Distance for IGSM: {distance(x, x_adv_IGSM, 2):.2f}\")\n",
    "print(f\"Distance for PGD: {distance(x, x_adv_PGD, 2):.2f}\")"
   ]
  },
  {
   "cell_type": "code",
   "execution_count": null,
   "id": "0bfbf987-ec9d-4609-bad6-cf797bbf8d8b",
   "metadata": {},
   "outputs": [],
   "source": []
  }
 ],
 "metadata": {
  "kernelspec": {
   "display_name": "Python [conda env:base] *",
   "language": "python",
   "name": "conda-base-py"
  },
  "language_info": {
   "codemirror_mode": {
    "name": "ipython",
    "version": 3
   },
   "file_extension": ".py",
   "mimetype": "text/x-python",
   "name": "python",
   "nbconvert_exporter": "python",
   "pygments_lexer": "ipython3",
   "version": "3.12.7"
  }
 },
 "nbformat": 4,
 "nbformat_minor": 5
}
