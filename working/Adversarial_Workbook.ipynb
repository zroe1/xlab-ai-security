{
 "cells": [
  {
   "cell_type": "markdown",
   "id": "1b32503e-255a-4191-9fc2-b7bfa65874f4",
   "metadata": {},
   "source": [
    "# Introduction to Adversarial Attacks"
   ]
  },
  {
   "cell_type": "markdown",
   "id": "e0b6a1ba-a70f-4246-8d8a-6826bb6997ee",
   "metadata": {},
   "source": [
    "# 1. Loading a CNN\n",
    "To save time, we will use a pretrained CNN (on the CIFAR-10 dataset) in order to test various adversarial methods. It has a straight-forward architecture, which is shown below. To save having to store the model architecture as a file, only the weights can be stored, and the model architecture can be replicated as follows.\n",
    "\n",
    "CIFAR-10 is a database of 60,000 images of 10 classes - plane, car, bird, cat, deer, dog, frog, horse, ship, truck\n",
    "\n",
    "\n",
    "Hint: Remember to use the activation function appropriately"
   ]
  },
  {
   "cell_type": "code",
   "execution_count": null,
   "id": "f03a9ff1-762c-454b-a0bb-4a0513952fc8",
   "metadata": {},
   "outputs": [],
   "source": [
    "import torch\n",
    "from torch.nn import Conv2d, MaxPool2d, Flatten, Linear, ReLU, Dropout #All of the necessary layers for this model\n",
    "\n",
    "loss_fn = torch.nn.CrossEntropyLoss()\n",
    "\n",
    "class CNN(torch.nn.Module):\n",
    "    def __init__(self):\n",
    "        super(CNN, self).__init__()\n",
    "        self.conv1 = Conv2d(3, 16, kernel_size = 3, padding = 1)\n",
    "        self.pooling = MaxPool2d(2,2)\n",
    "        self.dropout = Dropout(p=0.3)\n",
    "        self.conv2 = Conv2d(16, 32, kernel_size = 3, padding = 1)\n",
    "        self.relu = ReLU()\n",
    "        self.flatten = Flatten()\n",
    "        self.linear1 = Linear(2048, 128)\n",
    "        self.linear2 = Linear(128, 10)\n",
    "\n",
    "    def forward(self, x):\n",
    "        #TODO\n",
    "        #Build the model here:\n",
    "        #Conv1, pooling, dropout, conv2, pooling, flatten, linear1, dropout, linear2\n",
    "        return x"
   ]
  },
  {
   "cell_type": "code",
   "execution_count": null,
   "id": "5d749f64-08b6-4964-9c78-39dc8e95642f",
   "metadata": {},
   "outputs": [],
   "source": [
    "model = CNN()\n",
    "model.load_state_dict(torch.load('CNN_weights.pth'))\n",
    "model.eval() #Puts the model on 'eval mode', stopping Dropout operations"
   ]
  },
  {
   "cell_type": "markdown",
   "id": "d2dbd88f-0efd-4b29-bd01-2d8335f282e0",
   "metadata": {},
   "source": [
    "# 2. Loading and Processing Images\n",
    "Write a function that converts 'truck.jpg' into a transformed pytorch tensor, sizes it to (32,32) , and normalizes it.\n",
    "\n",
    "Hint: Use transforms from torchvision.transforms\n",
    "\n",
    "Hint2: Use Resize, ToTensor, Normalize"
   ]
  },
  {
   "cell_type": "code",
   "execution_count": null,
   "id": "07415647-c8ce-4a22-b3dc-bf96972127e2",
   "metadata": {},
   "outputs": [],
   "source": [
    "from torchvision.io import read_image\n",
    "from torchvision.transforms import Compose, Resize, ToTensor, Normalize\n",
    "from PIL import Image\n",
    "\n",
    "def process_image(path):\n",
    "    img = Image.open(path)\n",
    "    ###TODO\n",
    "    #Write a PyTorch image composition to resize, convert to a tensor, and normalize the image\n",
    "    transform = None;\n",
    "    ###\n",
    "    processedImg = transform(img)\n",
    "    processedImg = processedImg.unsqueeze(0)\n",
    "    return processedImg"
   ]
  },
  {
   "cell_type": "code",
   "execution_count": null,
   "id": "721215ac-9837-49bc-90eb-5f925100a4e9",
   "metadata": {},
   "outputs": [],
   "source": [
    "import matplotlib.pyplot as plt\n",
    "\n",
    "def show_image(img):\n",
    "    img = img.squeeze(0)\n",
    "    img = img / 2 + 0.5 #Undo normalization (Normalization = (x - mean) / std)\n",
    "    plt.imshow(img.permute(1, 2, 0).detach().numpy()) #Reorder columns \n",
    "\n",
    "show_image(process_image('frog.jpg'))"
   ]
  },
  {
   "cell_type": "markdown",
   "id": "1a4c8bc8-80d2-45b2-a8f2-0818552094a3",
   "metadata": {},
   "source": [
    "## 2a. Making Predictions\n",
    "Using the function you created above, predict what the model classifies the frog to be.\n",
    "\n",
    "If prediction leads to an error, the CNN was likely constructed incorrectly\n"
   ]
  },
  {
   "cell_type": "code",
   "execution_count": null,
   "id": "00054fbb-fcc6-4bb6-9191-aecbfce66303",
   "metadata": {},
   "outputs": [],
   "source": [
    "def prediction(img):\n",
    "    classes = ['plane', 'car', 'bird', 'cat','deer', 'dog', 'frog', 'horse', 'ship', 'truck']\n",
    "    with torch.no_grad(): #Stops calculating gradients\n",
    "        prediction = model(img)\n",
    "        _, pred_class = torch.max(prediction, 1)\n",
    "    probs = prediction.softmax(dim=-1) #Softmax function used to calculate probabilities\n",
    "    return pred_class, classes[pred_class], probs[0][pred_class]\n",
    "\n",
    "###TODO\n",
    "#Use the above functions to predict 'frog.jpg'\n"
   ]
  },
  {
   "attachments": {
    "d768c9db-515f-4889-9b43-71baaa5e57c5.png": {
     "image/png": "[encoded data removed]"
    }
   },
   "cell_type": "markdown",
   "id": "b6c3deec-602c-42a5-8819-4a1a6c13d476",
   "metadata": {},
   "source": [
    "# 3. Making an adversarial image using FGSM\n",
    "![Screenshot 2025-06-23 160719.png](attachment:d768c9db-515f-4889-9b43-71baaa5e57c5.png)\n",
    "Using the above formula, complete the code for FGSM"
   ]
  },
  {
   "cell_type": "code",
   "execution_count": null,
   "id": "5984e408-dd59-46fe-893f-eccc969f3008",
   "metadata": {},
   "outputs": [],
   "source": [
    "import numpy as np\n",
    "\n",
    "def FGSM_generator(path, y, e = 0.1):\n",
    "    x = process_image(path)\n",
    "    x.requires_grad = True\n",
    "    output = model(x)\n",
    "\n",
    "    ### TODO\n",
    "    # Calculate the loss\n",
    "    # Calculate the gradient with respect to input data\n",
    "    # Perturb the image using the signs of the gradient\n",
    "    ###\n",
    "        \n",
    "    return None\n",
    "\n",
    "path = 'frog.jpg'\n",
    "x_adv_FGSM = FGSM_generator(path, prediction(process_image(path))[0], e = 0.05)\n",
    "pred = prediction(x_adv_FGSM)\n",
    "print(f\"Prediction: {pred[1]} with probability {pred[2][0]:.2f}\")"
   ]
  },
  {
   "cell_type": "code",
   "execution_count": null,
   "id": "887e7518-2b1f-4990-b2ae-850d93df545a",
   "metadata": {},
   "outputs": [],
   "source": [
    "show_image(x_adv_FGSM)"
   ]
  },
  {
   "attachments": {
    "7ffe1e2d-3909-4c9c-b04e-ba38d8395f2a.png": {
     "image/png": "[encoded data removed]"
    }
   },
   "cell_type": "markdown",
   "id": "0ee09ed9-587c-4765-8528-4b6ad81f60f0",
   "metadata": {},
   "source": [
    "# 4. Making an adversarial image using IGSM \n",
    "![Screenshot 2025-06-23 160726.png](attachment:7ffe1e2d-3909-4c9c-b04e-ba38d8395f2a.png)\n",
    "Using the above formula, complete the code for IGSM"
   ]
  },
  {
   "cell_type": "code",
   "execution_count": null,
   "id": "971994f4-3ef0-42f5-812e-2dc03e57a02d",
   "metadata": {},
   "outputs": [],
   "source": [
    "def IGSM_generator(path, y, e=0.1, alpha=0.01, num_iters=1):\n",
    "    \n",
    "    ### TODO\n",
    "    #Implement Iterative FGSM using your code for FGSM\n",
    "    ###\n",
    "\n",
    "    return None\n",
    "    \n",
    "path = 'frog.jpg'\n",
    "x_adv_IGSM = IGSM_generator(path, prediction(process_image(path))[0], num_iters = 5)\n",
    "pred = prediction(x_adv_IGSM)\n",
    "print(f\"Prediction: {pred[1]} with probability {pred[2][0]:.2f}\")"
   ]
  },
  {
   "cell_type": "code",
   "execution_count": null,
   "id": "a5d2be6b-702d-4455-8b5b-79c62d5382d9",
   "metadata": {},
   "outputs": [],
   "source": [
    "show_image(x_adv_IGSM)"
   ]
  },
  {
   "cell_type": "markdown",
   "id": "7e657cc9-af35-4e34-a151-e7748ad850f3",
   "metadata": {},
   "source": [
    "# 5. Making an adversarial image using PGD"
   ]
  },
  {
   "cell_type": "code",
   "execution_count": null,
   "id": "4ef17eee-9954-49dd-a78b-750916fa60fc",
   "metadata": {},
   "outputs": [],
   "source": [
    "def add_noise(img, stdev=0.01, mean=0):\n",
    "    noise = torch.randn_like(img) * stdev + mean\n",
    "    return img + noise\n",
    "\n",
    "\n",
    "def PGD_generator(path, y, e=0.2, alpha=0.01, num_iters=15):\n",
    "\n",
    "    ###TODO\n",
    "    # Implement PGD using your code for IGSM and the add_noise function\n",
    "    ###\n",
    "\n",
    "    return None\n",
    "\n",
    "\n",
    "path = 'frog.jpg'\n",
    "x_adv_PGD = PGD_generator(path, prediction(process_image(path))[0], num_iters = 12)\n",
    "pred = prediction(x_adv_PGD)\n",
    "print(f\"Prediction: {pred[1]} with probability {pred[2][0]:.2f}\")"
   ]
  },
  {
   "cell_type": "code",
   "execution_count": null,
   "id": "bce9e72d-8ea7-46c8-9511-02a280b535c3",
   "metadata": {},
   "outputs": [],
   "source": [
    "show_image(x_adv_PGD)"
   ]
  },
  {
   "attachments": {
    "5a833d18-c029-47f1-bdbe-8396c9244df3.png": {
     "image/png": "[encoded data removed]"
    }
   },
   "cell_type": "markdown",
   "id": "810e4e02-9139-4928-8f8e-80fb6be2752c",
   "metadata": {},
   "source": [
    "# 6. Evaluating the distance\n",
    "\n",
    "\n",
    "Now, we will evaluate the distance between the original image and the adversarial images.\n",
    "\n",
    "Using the below formula:\n",
    "![distanceformula.png](attachment:5a833d18-c029-47f1-bdbe-8396c9244df3.png)\n",
    "Where v is the absolute difference between the input image and the adversarially perturbed image, complete the following function. This is equivalent to calculating the L_p norm.\n",
    "\n",
    "Due to the addition of random noise, the distance for PGD will fluctuate above and below that of IGSM if they have the same parameters."
   ]
  },
  {
   "cell_type": "code",
   "execution_count": null,
   "id": "c6e62ea1-a68a-46a6-9976-980d7782550d",
   "metadata": {},
   "outputs": [],
   "source": [
    "def distance(x1, x2, p):\n",
    "    ### TODO\n",
    "    return None"
   ]
  },
  {
   "cell_type": "code",
   "execution_count": null,
   "id": "4ea31a90-790d-43a5-bad7-1ed256cdc720",
   "metadata": {},
   "outputs": [],
   "source": [
    "x = process_image('frog.jpg')\n",
    "print(distance(x, x_adv_FGSM, 2))\n",
    "print(distance(x, x_adv_IGSM, 2))\n",
    "print(distance(x, x_adv_PGD, 2))"
   ]
  }
 ],
 "metadata": {
  "kernelspec": {
   "display_name": "Python [conda env:base] *",
   "language": "python",
   "name": "conda-base-py"
  },
  "language_info": {
   "codemirror_mode": {
    "name": "ipython",
    "version": 3
   },
   "file_extension": ".py",
   "mimetype": "text/x-python",
   "name": "python",
   "nbconvert_exporter": "python",
   "pygments_lexer": "ipython3",
   "version": "3.12.7"
  }
 },
 "nbformat": 4,
 "nbformat_minor": 5
}
