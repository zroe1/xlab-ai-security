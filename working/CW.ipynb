{
 "cells": [
  {
   "cell_type": "markdown",
   "id": "565ae561-6c42-4d0c-898e-f2ef4de2f094",
   "metadata": {},
   "source": [
    "# Carlini Wagner Attacks"
   ]
  },
  {
   "cell_type": "code",
   "execution_count": 1,
   "id": "76fec411-b9a4-43c2-b994-d1bbde6b6e43",
   "metadata": {},
   "outputs": [
    {
     "name": "stdout",
     "output_type": "stream",
     "text": [
      "Hello world! You are using version 0.1.7 of the package\n"
     ]
    }
   ],
   "source": [
    "import xlab # for testing your code\n",
    "xlab.hello_world()\n",
    "\n",
    "from robustbench.utils import load_model\n",
    "from robustbench.data import load_cifar10\n",
    "\n",
    "import torch\n",
    "from torch import nn\n",
    "from torch.nn import functional as F\n",
    "from torch import optim\n",
    "\n",
    "import matplotlib.pyplot as plt\n",
    "from autoattack import AutoAttack\n",
    "# import torchattacks\n",
    "import pickle\n",
    "import numpy as np\n",
    "\n",
    "device = torch.device('cuda' if torch.cuda.is_available() else 'mps' if torch.backends.mps.is_available() else 'cpu')"
   ]
  },
  {
   "cell_type": "markdown",
   "id": "2d9bd9f1-2b5c-4599-88ac-1423556899e2",
   "metadata": {},
   "source": [
    "## Tasks 1-5: Writing the function $f(x + \\delta)$\n",
    "\n",
    "Recall that we will be using a loss to minimize the equation below.\n",
    "$$\n",
    "\\ell = \\mathcal{D}(x, x + \\delta) + c \\cdot f (x + \\delta)\n",
    "$$\n",
    "\n",
    "The function $\\mathcal{D}$ measures how different $x$ (the original image) is from $x + \\delta$ where $\\delta$ is the purtubations we are making to the image. In the original paper, Carlini and Wagner list seven of reasonable choices you could make for $f$. For brevity, you will only implement and compare 3 of them. \n",
    "\n",
    "Note that the equations below are presented slightly differently than in the original paper. They are all mathematically equivalent, but we have rewritten some for clarity. $Z_t(x)$ is the raw output of the model for class $t$ (no softmax, no tricks). \n",
    "\n",
    "<details>\n",
    "<summary>⚠️ <b>Caution</b></summary>\n",
    "\n",
    "In this section we will have you implement 3 out of the 7 choices for $f$. We encourage you to implement the other choices of $f$ from [the paper](https://arxiv.org/pdf/1608.04644) if you are interested. We will caution you however that there appears to be a sign error in equation #1. The correct equation with the right signs should be shown below. Cross Entropy here will be taken with $\\log_2$ rather than $\\log_e$.\n",
    "\n",
    "$$\n",
    "f_1(x_{\\mathrm{adversarial}}) = \\mathrm{CrossEntropy}(F(x_{\\mathrm{adversarial}})) - 1\n",
    "$$\n",
    "\n",
    "In general we find that the \"Objective Function\" section of the paper isn't very well written. For example they say that they \"define an objective function $f$ such that $C(x + \\delta) = t$ if and only if $f(x + \\delta) \\leq 0$.\" but it is trivial to show that equation 4 does not satisfy this property.\n",
    "\n",
    "</details>"
   ]
  },
  {
   "cell_type": "markdown",
   "id": "539f6e0d-11f7-4ba5-ab2d-12347258a306",
   "metadata": {},
   "source": [
    "### Task #1: Implementing $f_2$"
   ]
  },
  {
   "cell_type": "markdown",
   "id": "6fbfb9b1-06c6-4c0c-83cb-b041016184fb",
   "metadata": {},
   "source": [
    "The one thing you have to be careful about is the first term in this equation takes the greatest softmax probability that is not the target class. The reason this works is that the model will only predict class $t$ if the sofmax probability for it is greater than any other class.\n",
    "\n",
    "The equation for $f_2$ is below. $F_t(x)$ is the model output for class $t$ including the [softmax](https://docs.pytorch.org/docs/stable/generated/torch.nn.Softmax.html) which gives probabilities rather than logits. \n",
    "\n",
    "$$\n",
    "f_2(x_{\\mathrm{adversarial}}) = \\mathrm{ReLU}(\\max_{i \\neq t}(F(x_{\\mathrm{adversarial}})) - F_t(x_{\\mathrm{adversarial}}))\n",
    "$$"
   ]
  },
  {
   "cell_type": "code",
   "execution_count": 214,
   "id": "1c903634-5232-4bd6-8666-5b7f5a96c2f2",
   "metadata": {},
   "outputs": [],
   "source": [
    "def f2(logits, target):\n",
    "    softmax_probs = F.softmax(logits, dim=0)\n",
    "    i_neq_t = torch.argmax(softmax_probs)\n",
    "    if i_neq_t == target:\n",
    "        i_neq_t = torch.argmax(torch.cat([softmax_probs[:target], softmax_probs[target+1:]]))\n",
    "    return F.relu(softmax_probs[i_neq_t] - softmax_probs[target])"
   ]
  },
  {
   "cell_type": "code",
   "execution_count": 215,
   "id": "2010ffce-f818-461b-9e59-0737229dd99d",
   "metadata": {},
   "outputs": [
    {
     "name": "stdout",
     "output_type": "stream",
     "text": [
      "tensor(0.7616)\n",
      "tensor(0.)\n",
      "tensor(0.)\n"
     ]
    }
   ],
   "source": [
    "x = torch.tensor([1.0, 3.0])\n",
    "print(f2(x, 0)) # should be >0\n",
    "x = torch.tensor([1.0, 1.0])\n",
    "print(f2(x, 0)) # should be =0\n",
    "x = torch.tensor([3.0, 1.0])\n",
    "print(f2(x, 0)) # should be =0"
   ]
  },
  {
   "cell_type": "markdown",
   "id": "8a926e4c-3af3-4f9a-9cc8-c7dc52eba2e9",
   "metadata": {},
   "source": [
    "### Task #2: Implementing $f_4$\n",
    "\n",
    "This is similar to the equation above. The only difference is that we are inforcing the requirement that the target class has a probability greater than or equal to 0.5 rather a probability greater than or equal to any of the other classes.\n",
    "\n",
    "$$\n",
    "f_4(x_{\\mathrm{adversarial}}) = \\mathrm{ReLU}(0.5 - F_t(x_{\\mathrm{adversarial}}))\n",
    "$$"
   ]
  },
  {
   "cell_type": "code",
   "execution_count": 216,
   "id": "24d40613-7c21-4972-86b8-7b6b64cb5e2d",
   "metadata": {},
   "outputs": [],
   "source": [
    "def f4(logits, target):\n",
    "    softmax_probs = F.softmax(logits, dim=0)\n",
    "    return F.relu(0.5 - softmax_probs[target])"
   ]
  },
  {
   "cell_type": "code",
   "execution_count": 217,
   "id": "217bcb47-a704-4b07-8ec9-babceb765e30",
   "metadata": {},
   "outputs": [
    {
     "name": "stdout",
     "output_type": "stream",
     "text": [
      "tensor(0.3808)\n",
      "tensor(0.)\n",
      "tensor(0.)\n"
     ]
    }
   ],
   "source": [
    "x = torch.tensor([1.0, 3.0])\n",
    "print(f4(x, 0)) # should be >0\n",
    "x = torch.tensor([1.0, 1.0])\n",
    "print(f4(x, 0)) # should be =0\n",
    "x = torch.tensor([3.0, 1.0])\n",
    "print(f4(x, 0)) # should be =0"
   ]
  },
  {
   "cell_type": "markdown",
   "id": "0e236ef0-e8b1-4f63-9add-1deb036bc979",
   "metadata": {},
   "source": [
    "### Task #3: Implementing $f_6$"
   ]
  },
  {
   "cell_type": "markdown",
   "id": "2b203978-98e6-4585-b6e8-e7b10653b9b4",
   "metadata": {},
   "source": [
    "$$\n",
    "f_6(x_{\\mathrm{adversarial}}) = \\mathrm{ReLU}(\\max_{i \\neq t}(Z(x_{\\mathrm{adversarial}})) - Z_t(x_{\\mathrm{adversarial}}))\n",
    "$$"
   ]
  },
  {
   "cell_type": "code",
   "execution_count": 242,
   "id": "e573ecaa-691c-422d-9e1c-f65bd260e31f",
   "metadata": {},
   "outputs": [],
   "source": [
    "def f6(logits, target):\n",
    "    # softmax_probs = F.softmax(logits, dim=0)\n",
    "    i_neq_t = torch.argmax(logits)\n",
    "    if i_neq_t == target:\n",
    "        i_neq_t = torch.argmax(torch.cat([logits[:target], logits[target+1:]]))\n",
    "    return F.relu(logits[i_neq_t] - logits[target])"
   ]
  },
  {
   "cell_type": "code",
   "execution_count": 243,
   "id": "94307969-b187-48d6-8e85-dfc8c6700c7b",
   "metadata": {},
   "outputs": [
    {
     "name": "stdout",
     "output_type": "stream",
     "text": [
      "tensor(2.)\n",
      "tensor(0.)\n",
      "tensor(0.)\n"
     ]
    }
   ],
   "source": [
    "x = torch.tensor([1.0, 3.0])\n",
    "print(f6(x, 0)) # should be >0\n",
    "x = torch.tensor([1.0, 1.0])\n",
    "print(f6(x, 0)) # should be =0\n",
    "x = torch.tensor([3.0, 1.0])\n",
    "print(f6(x, 0)) # should be =0"
   ]
  },
  {
   "cell_type": "markdown",
   "id": "41dce756-c5c7-460b-80b7-7741b21dcf35",
   "metadata": {},
   "source": [
    "By now you should have several options for $f$. Now we can optimize the below equation below where we let $\\mathcal{D}(x, x + \\delta)$ be the $L_2$ norm.\n",
    "\n",
    "$$\n",
    "\\ell = \\mathcal{D}(x, x + \\delta) + c \\cdot f (x + \\delta)\n",
    "$$"
   ]
  },
  {
   "cell_type": "code",
   "execution_count": 277,
   "id": "704d020d-03e7-41a5-98b2-c3cc5b800dfc",
   "metadata": {},
   "outputs": [],
   "source": [
    "def cw_loss_v1(f, x, y, delta, c, model):\n",
    "    logits = model(x + delta)\n",
    "    f_loss = f(logits[0], y)\n",
    "    norm_loss = torch.sum(delta**2)\n",
    "\n",
    "    return norm_loss + c * f_loss\n",
    "\n",
    "def cw_simple(f, x, y, c, model, num_iters):\n",
    "    delta = torch.zeros_like(x)\n",
    "    delta.requires_grad = True\n",
    "    optimizer = optim.Adam([delta], lr=1e-3)\n",
    "\n",
    "    for i in range(num_iters):\n",
    "        l = cw_loss_v1(f, x, y, delta, c, model)\n",
    "        l.backward()\n",
    "        optimizer.step()\n",
    "        optimizer.zero_grad()\n",
    "        if (i + 1) % 20 == 0:\n",
    "            print(f\"iteration {i + 1}:\\t loss={l.item():.4f}\")\n",
    "    return x + delta\n",
    "\n",
    "# cw_simple(f, x, y, c, model, num_iters):"
   ]
  },
  {
   "cell_type": "code",
   "execution_count": 278,
   "id": "53cf03eb-51cf-4148-8ee5-6cfc8a802909",
   "metadata": {},
   "outputs": [
    {
     "data": {
      "text/plain": [
       "tensor([[-2.6923, -0.9499, -1.3762, 16.3327, -3.2198, -0.0339, -0.1381, -2.5648,\n",
       "         -1.4476, -3.8102]], device='mps:0', grad_fn=<LinearBackward0>)"
      ]
     },
     "execution_count": 278,
     "metadata": {},
     "output_type": "execute_result"
    }
   ],
   "source": [
    "model(x_test[0:1])"
   ]
  },
  {
   "cell_type": "code",
   "execution_count": 279,
   "id": "5e78e7ff-4abc-4716-b058-e117d6039447",
   "metadata": {},
   "outputs": [
    {
     "data": {
      "text/plain": [
       "tensor(3, device='mps:0')"
      ]
     },
     "execution_count": 279,
     "metadata": {},
     "output_type": "execute_result"
    }
   ],
   "source": [
    "torch.argmax(model(x_test[0:1]))"
   ]
  },
  {
   "cell_type": "code",
   "execution_count": 285,
   "id": "a0168f27-5c18-4adf-ac3e-ed9b4fec802c",
   "metadata": {},
   "outputs": [
    {
     "data": {
      "text/plain": [
       "torch.Size([1, 3, 32, 32])"
      ]
     },
     "execution_count": 285,
     "metadata": {},
     "output_type": "execute_result"
    }
   ],
   "source": [
    "adv.shape"
   ]
  },
  {
   "cell_type": "code",
   "execution_count": 292,
   "id": "8e3d1693-15b3-4451-8582-ef46a40419fd",
   "metadata": {
    "scrolled": true
   },
   "outputs": [
    {
     "name": "stdout",
     "output_type": "stream",
     "text": [
      "iteration 20:\t loss=0.0977\n",
      "iteration 40:\t loss=0.0577\n",
      "iteration 60:\t loss=0.0442\n",
      "iteration 80:\t loss=0.0442\n",
      "iteration 100:\t loss=0.0430\n"
     ]
    }
   ],
   "source": [
    "adv = cw_simple(f6, x_test[0:1], 0, 0.01, model, 100)"
   ]
  },
  {
   "cell_type": "code",
   "execution_count": 293,
   "id": "4dd19b85-e07f-48a1-bcc6-64a88dbf8cd0",
   "metadata": {},
   "outputs": [
    {
     "data": {
      "image/png": "[encoded data removed]",
      "text/plain": [
       "<Figure size 1200x800 with 12 Axes>"
      ]
     },
     "metadata": {},
     "output_type": "display_data"
    }
   ],
   "source": [
    "adv = adv[0].detach().cpu()\n",
    "x = x_test[0].detach().cpu()\n",
    "delta = adv - x\n",
    "\n",
    "_ = xlab.utils.plot_tensors(\n",
    "    [delta[0], delta[1], delta[2], x.cpu()[0], x.cpu()[1], x.cpu()[2]],\n",
    "    log_scale=False, \n",
    "    ncols=3,\n",
    "    # log_scale=True,\n",
    "    titles = [\"out delta (red)\", \"out delta (green)\", \"out delta (blue)\", \"image (red)\", \"image (green)\", \"image (blue)\"]\n",
    ")"
   ]
  },
  {
   "cell_type": "code",
   "execution_count": 282,
   "id": "a4c57a0c-1320-4d9d-be98-31280fffa165",
   "metadata": {},
   "outputs": [
    {
     "data": {
      "text/plain": [
       "tensor(0, device='mps:0')"
      ]
     },
     "execution_count": 282,
     "metadata": {},
     "output_type": "execute_result"
    }
   ],
   "source": [
    "torch.argmax(model(adv))"
   ]
  },
  {
   "cell_type": "code",
   "execution_count": 283,
   "id": "e3abe513-d20b-48a2-aaa3-1005fdaaaa4b",
   "metadata": {},
   "outputs": [
    {
     "name": "stderr",
     "output_type": "stream",
     "text": [
      "Clipping input data to the valid range for imshow with RGB data ([0..1] for floats or [0..255] for integers). Got range [0.050887734..1.0007143].\n"
     ]
    },
    {
     "data": {
      "text/plain": [
       "<matplotlib.image.AxesImage at 0x17b146c90>"
      ]
     },
     "execution_count": 283,
     "metadata": {},
     "output_type": "execute_result"
    },
    {
     "data": {
      "image/png": "[encoded data removed]",
      "text/plain": [
       "<Figure size 640x480 with 1 Axes>"
      ]
     },
     "metadata": {},
     "output_type": "display_data"
    }
   ],
   "source": [
    "plt.imshow(adv[0].detach().cpu().permute(1,2,0))"
   ]
  },
  {
   "cell_type": "code",
   "execution_count": null,
   "id": "ea014808-446d-47b5-9744-3bd2c85538cb",
   "metadata": {},
   "outputs": [],
   "source": []
  },
  {
   "cell_type": "code",
   "execution_count": null,
   "id": "9fc4d2eb-6bc5-4b0e-bb05-929c145ecd5f",
   "metadata": {},
   "outputs": [],
   "source": []
  },
  {
   "cell_type": "code",
   "execution_count": null,
   "id": "99514352-6a1e-4cb6-b5b4-8348bce712e4",
   "metadata": {},
   "outputs": [],
   "source": []
  },
  {
   "cell_type": "code",
   "execution_count": null,
   "id": "52ecb1e9-737f-4af6-ba94-c77b5fd422ca",
   "metadata": {},
   "outputs": [],
   "source": [
    "F.cross_entropy(torch.tensor([1.0, 2, 3]), torch.tensor(1))"
   ]
  },
  {
   "cell_type": "code",
   "execution_count": 135,
   "id": "8ce8e191-eda6-4597-b04c-e1b5d17a0176",
   "metadata": {
    "scrolled": true
   },
   "outputs": [
    {
     "data": {
      "text/plain": [
       "tensor([-2.4076, -1.4076, -0.4076])"
      ]
     },
     "execution_count": 135,
     "metadata": {},
     "output_type": "execute_result"
    }
   ],
   "source": [
    "torch.log(F.softmax(torch.tensor([1.0, 2, 3]), dim=0))"
   ]
  },
  {
   "cell_type": "markdown",
   "id": "d768d790-fea7-476d-9812-46c7d38060d9",
   "metadata": {},
   "source": [
    "$$\n",
    "f_1(x_{\\mathrm{adversarial}}) = -C(F(x_{\\mathrm{adversarial}})) + 1\n",
    "$$"
   ]
  },
  {
   "cell_type": "code",
   "execution_count": null,
   "id": "5939f7c5-ca33-4ef1-bbdd-5b512631735f",
   "metadata": {},
   "outputs": [],
   "source": []
  },
  {
   "cell_type": "code",
   "execution_count": null,
   "id": "6ecb5a4a-c0c5-4f11-8db6-972d04c94dfa",
   "metadata": {},
   "outputs": [],
   "source": []
  },
  {
   "cell_type": "code",
   "execution_count": 2,
   "id": "ee6dfc17-f3e1-4fb3-8d46-e5007a217060",
   "metadata": {},
   "outputs": [],
   "source": [
    "model = load_model(model_name='Standard', threat_model='Linf')\n",
    "model = model.to('mps')\n",
    "_ = model.eval()"
   ]
  },
  {
   "cell_type": "code",
   "execution_count": 3,
   "id": "3e1eb7bf-65ed-4f11-a974-3e369ef4aea5",
   "metadata": {},
   "outputs": [
    {
     "name": "stdout",
     "output_type": "stream",
     "text": [
      "Trainable parameters: 36,479,194\n"
     ]
    }
   ],
   "source": [
    "trainable_params = sum(p.numel() for p in model.parameters() if p.requires_grad)\n",
    "print(f\"Trainable parameters: {trainable_params:,}\")"
   ]
  },
  {
   "cell_type": "code",
   "execution_count": 4,
   "id": "67e283e0-ed66-497b-9771-ffa14e6f66b0",
   "metadata": {},
   "outputs": [
    {
     "name": "stdout",
     "output_type": "stream",
     "text": [
      "x_test.shape=torch.Size([100, 3, 32, 32]), y_test.shape=torch.Size([100])\n"
     ]
    }
   ],
   "source": [
    "NUM_EXAMPLES = 100\n",
    "x_test, y_test = load_cifar10(n_examples=NUM_EXAMPLES)\n",
    "x_test, y_test = x_test.to(device), y_test.to(device)\n",
    "print(f\"{x_test.shape=}, {y_test.shape=}\")"
   ]
  },
  {
   "cell_type": "code",
   "execution_count": 119,
   "id": "c0605ab5-e6b6-4275-9ece-2ea73ee2b620",
   "metadata": {},
   "outputs": [],
   "source": [
    "def f_6(logits, target, k=0):\n",
    "    i_neq_t = torch.argmax(logits)\n",
    "    if i_neq_t == target:\n",
    "        i_neq_t = torch.argmax(torch.cat([logits[:target], logits[target+1:]]))\n",
    "    print(\"in f6\", (logits[i_neq_t] - logits[target]).item())\n",
    "    return torch.max(logits[i_neq_t] - logits[target], torch.tensor(k))\n",
    "            \n",
    "\n",
    "def CW_targeted_l2(img, model, c, target, k=0.1):\n",
    "    \n",
    "    cw_weights = torch.randn_like(img, requires_grad=True).to('mps')\n",
    "    optimizer = optim.Adam([cw_weights], lr=1e-1)\n",
    "\n",
    "    num_iters = 200\n",
    "    delta = 0.5 * (F.tanh(cw_weights) + 1) - img\n",
    "\n",
    "    k = 0.1\n",
    "\n",
    "    for i in range(num_iters):\n",
    "        \n",
    "        logits = model((img + delta).unsqueeze(0))\n",
    "\n",
    "        if torch.argmax(logits[0]) == target and torch.max(torch.abs(delta)) < 8/255:\n",
    "            return delta\n",
    "\n",
    "        # print(f_6(logits[0], target))\n",
    "        assert f_6(logits[0], target, k) >= k\n",
    "        success_loss = c * f_6(logits[0], target, k)\n",
    "        l2_reg = torch.sum((delta)**2)\n",
    "\n",
    "        loss = success_loss + l2_reg\n",
    "        print(loss, success_loss, l2_reg)\n",
    "        \n",
    "        loss.backward()\n",
    "\n",
    "        optimizer.step()\n",
    "        optimizer.zero_grad()\n",
    "\n",
    "        \n",
    "\n",
    "        delta = 0.5 * (F.tanh(cw_weights) + 1) - img\n",
    "    print(\"warning! targeted attack was not successful\")\n",
    "    return delta"
   ]
  },
  {
   "cell_type": "code",
   "execution_count": 120,
   "id": "aefb6280-fa10-4744-9270-680e94bec964",
   "metadata": {},
   "outputs": [
    {
     "data": {
      "text/plain": [
       "tensor(5)"
      ]
     },
     "execution_count": 120,
     "metadata": {},
     "output_type": "execute_result"
    }
   ],
   "source": [
    "torch.max(torch.tensor(5), torch.tensor(-2))"
   ]
  },
  {
   "cell_type": "code",
   "execution_count": 121,
   "id": "005b47ff-7374-4281-ad71-852629e53228",
   "metadata": {},
   "outputs": [],
   "source": [
    "x = x_test[0]"
   ]
  },
  {
   "cell_type": "code",
   "execution_count": 122,
   "id": "3b6e35b6-eb7d-43a1-b01c-8614933ec1b6",
   "metadata": {},
   "outputs": [
    {
     "data": {
      "text/plain": [
       "<matplotlib.image.AxesImage at 0x13418e2d0>"
      ]
     },
     "execution_count": 122,
     "metadata": {},
     "output_type": "execute_result"
    },
    {
     "data": {
      "image/png": "[encoded data removed]",
      "text/plain": [
       "<Figure size 640x480 with 1 Axes>"
      ]
     },
     "metadata": {},
     "output_type": "display_data"
    }
   ],
   "source": [
    "plt.imshow(x.permute(1,2,0).cpu())"
   ]
  },
  {
   "cell_type": "code",
   "execution_count": 123,
   "id": "6a62ca2e-ad70-489b-ba1b-04215f3b9a01",
   "metadata": {
    "scrolled": true
   },
   "outputs": [
    {
     "name": "stdout",
     "output_type": "stream",
     "text": [
      "in f6 11.917903900146484\n",
      "in f6 11.917903900146484\n",
      "tensor(439.3732, device='mps:0', grad_fn=<AddBackward0>) tensor(0.0358, device='mps:0', grad_fn=<MulBackward0>) tensor(439.3374, device='mps:0', grad_fn=<SumBackward0>)\n",
      "in f6 12.267534255981445\n",
      "in f6 12.267534255981445\n",
      "tensor(392.7876, device='mps:0', grad_fn=<AddBackward0>) tensor(0.0368, device='mps:0', grad_fn=<MulBackward0>) tensor(392.7508, device='mps:0', grad_fn=<SumBackward0>)\n",
      "in f6 12.506669998168945\n",
      "in f6 12.506669998168945\n",
      "tensor(349.0219, device='mps:0', grad_fn=<AddBackward0>) tensor(0.0375, device='mps:0', grad_fn=<MulBackward0>) tensor(348.9844, device='mps:0', grad_fn=<SumBackward0>)\n",
      "in f6 12.746418952941895\n",
      "in f6 12.746418952941895\n",
      "tensor(308.5363, device='mps:0', grad_fn=<AddBackward0>) tensor(0.0382, device='mps:0', grad_fn=<MulBackward0>) tensor(308.4981, device='mps:0', grad_fn=<SumBackward0>)\n",
      "in f6 12.962756156921387\n",
      "in f6 12.962756156921387\n",
      "tensor(271.2489, device='mps:0', grad_fn=<AddBackward0>) tensor(0.0389, device='mps:0', grad_fn=<MulBackward0>) tensor(271.2100, device='mps:0', grad_fn=<SumBackward0>)\n",
      "in f6 13.244422912597656\n",
      "in f6 13.244422912597656\n",
      "tensor(237.0472, device='mps:0', grad_fn=<AddBackward0>) tensor(0.0397, device='mps:0', grad_fn=<MulBackward0>) tensor(237.0074, device='mps:0', grad_fn=<SumBackward0>)\n",
      "in f6 13.044445991516113\n",
      "in f6 13.044445991516113\n",
      "tensor(205.9245, device='mps:0', grad_fn=<AddBackward0>) tensor(0.0391, device='mps:0', grad_fn=<MulBackward0>) tensor(205.8854, device='mps:0', grad_fn=<SumBackward0>)\n",
      "in f6 13.461145401000977\n",
      "in f6 13.461145401000977\n",
      "tensor(177.8591, device='mps:0', grad_fn=<AddBackward0>) tensor(0.0404, device='mps:0', grad_fn=<MulBackward0>) tensor(177.8187, device='mps:0', grad_fn=<SumBackward0>)\n",
      "in f6 14.183809280395508\n",
      "in f6 14.183809280395508\n",
      "tensor(152.7531, device='mps:0', grad_fn=<AddBackward0>) tensor(0.0426, device='mps:0', grad_fn=<MulBackward0>) tensor(152.7105, device='mps:0', grad_fn=<SumBackward0>)\n",
      "in f6 14.441675186157227\n",
      "in f6 14.441675186157227\n",
      "tensor(130.4572, device='mps:0', grad_fn=<AddBackward0>) tensor(0.0433, device='mps:0', grad_fn=<MulBackward0>) tensor(130.4139, device='mps:0', grad_fn=<SumBackward0>)\n",
      "in f6 14.09428596496582\n",
      "in f6 14.09428596496582\n",
      "tensor(110.8467, device='mps:0', grad_fn=<AddBackward0>) tensor(0.0423, device='mps:0', grad_fn=<MulBackward0>) tensor(110.8044, device='mps:0', grad_fn=<SumBackward0>)\n",
      "in f6 13.458894729614258\n",
      "in f6 13.458894729614258\n",
      "tensor(93.8236, device='mps:0', grad_fn=<AddBackward0>) tensor(0.0404, device='mps:0', grad_fn=<MulBackward0>) tensor(93.7832, device='mps:0', grad_fn=<SumBackward0>)\n",
      "in f6 12.383565902709961\n",
      "in f6 12.383565902709961\n",
      "tensor(79.2601, device='mps:0', grad_fn=<AddBackward0>) tensor(0.0372, device='mps:0', grad_fn=<MulBackward0>) tensor(79.2230, device='mps:0', grad_fn=<SumBackward0>)\n",
      "in f6 10.756961822509766\n",
      "in f6 10.756961822509766\n",
      "tensor(66.9698, device='mps:0', grad_fn=<AddBackward0>) tensor(0.0323, device='mps:0', grad_fn=<MulBackward0>) tensor(66.9375, device='mps:0', grad_fn=<SumBackward0>)\n",
      "in f6 9.67280101776123\n",
      "in f6 9.67280101776123\n",
      "tensor(56.7257, device='mps:0', grad_fn=<AddBackward0>) tensor(0.0290, device='mps:0', grad_fn=<MulBackward0>) tensor(56.6966, device='mps:0', grad_fn=<SumBackward0>)\n",
      "in f6 10.951622009277344\n",
      "in f6 10.951622009277344\n",
      "tensor(48.2907, device='mps:0', grad_fn=<AddBackward0>) tensor(0.0329, device='mps:0', grad_fn=<MulBackward0>) tensor(48.2579, device='mps:0', grad_fn=<SumBackward0>)\n",
      "in f6 11.451822280883789\n",
      "in f6 11.451822280883789\n",
      "tensor(41.4187, device='mps:0', grad_fn=<AddBackward0>) tensor(0.0344, device='mps:0', grad_fn=<MulBackward0>) tensor(41.3844, device='mps:0', grad_fn=<SumBackward0>)\n",
      "in f6 11.286722183227539\n",
      "in f6 11.286722183227539\n",
      "tensor(35.8728, device='mps:0', grad_fn=<AddBackward0>) tensor(0.0339, device='mps:0', grad_fn=<MulBackward0>) tensor(35.8390, device='mps:0', grad_fn=<SumBackward0>)\n",
      "in f6 11.355464935302734\n",
      "in f6 11.355464935302734\n",
      "tensor(31.4236, device='mps:0', grad_fn=<AddBackward0>) tensor(0.0341, device='mps:0', grad_fn=<MulBackward0>) tensor(31.3895, device='mps:0', grad_fn=<SumBackward0>)\n",
      "in f6 11.857301712036133\n",
      "in f6 11.857301712036133\n",
      "tensor(27.8627, device='mps:0', grad_fn=<AddBackward0>) tensor(0.0356, device='mps:0', grad_fn=<MulBackward0>) tensor(27.8271, device='mps:0', grad_fn=<SumBackward0>)\n",
      "in f6 12.196136474609375\n",
      "in f6 12.196136474609375\n",
      "tensor(25.0115, device='mps:0', grad_fn=<AddBackward0>) tensor(0.0366, device='mps:0', grad_fn=<MulBackward0>) tensor(24.9749, device='mps:0', grad_fn=<SumBackward0>)\n",
      "in f6 12.69758129119873\n",
      "in f6 12.69758129119873\n",
      "tensor(22.7211, device='mps:0', grad_fn=<AddBackward0>) tensor(0.0381, device='mps:0', grad_fn=<MulBackward0>) tensor(22.6830, device='mps:0', grad_fn=<SumBackward0>)\n",
      "in f6 13.794794082641602\n",
      "in f6 13.794794082641602\n",
      "tensor(20.8605, device='mps:0', grad_fn=<AddBackward0>) tensor(0.0414, device='mps:0', grad_fn=<MulBackward0>) tensor(20.8191, device='mps:0', grad_fn=<SumBackward0>)\n",
      "in f6 14.724803924560547\n",
      "in f6 14.724803924560547\n",
      "tensor(19.3121, device='mps:0', grad_fn=<AddBackward0>) tensor(0.0442, device='mps:0', grad_fn=<MulBackward0>) tensor(19.2679, device='mps:0', grad_fn=<SumBackward0>)\n",
      "in f6 15.316837310791016\n",
      "in f6 15.316837310791016\n",
      "tensor(17.9835, device='mps:0', grad_fn=<AddBackward0>) tensor(0.0460, device='mps:0', grad_fn=<MulBackward0>) tensor(17.9376, device='mps:0', grad_fn=<SumBackward0>)\n",
      "in f6 15.319453239440918\n",
      "in f6 15.319453239440918\n",
      "tensor(16.8067, device='mps:0', grad_fn=<AddBackward0>) tensor(0.0460, device='mps:0', grad_fn=<MulBackward0>) tensor(16.7608, device='mps:0', grad_fn=<SumBackward0>)\n",
      "in f6 14.906367301940918\n",
      "in f6 14.906367301940918\n",
      "tensor(15.7357, device='mps:0', grad_fn=<AddBackward0>) tensor(0.0447, device='mps:0', grad_fn=<MulBackward0>) tensor(15.6910, device='mps:0', grad_fn=<SumBackward0>)\n",
      "in f6 14.105148315429688\n",
      "in f6 14.105148315429688\n",
      "tensor(14.7395, device='mps:0', grad_fn=<AddBackward0>) tensor(0.0423, device='mps:0', grad_fn=<MulBackward0>) tensor(14.6971, device='mps:0', grad_fn=<SumBackward0>)\n",
      "in f6 13.157329559326172\n",
      "in f6 13.157329559326172\n",
      "tensor(13.7980, device='mps:0', grad_fn=<AddBackward0>) tensor(0.0395, device='mps:0', grad_fn=<MulBackward0>) tensor(13.7585, device='mps:0', grad_fn=<SumBackward0>)\n",
      "in f6 12.722219467163086\n",
      "in f6 12.722219467163086\n",
      "tensor(12.8995, device='mps:0', grad_fn=<AddBackward0>) tensor(0.0382, device='mps:0', grad_fn=<MulBackward0>) tensor(12.8613, device='mps:0', grad_fn=<SumBackward0>)\n",
      "in f6 12.295040130615234\n",
      "in f6 12.295040130615234\n",
      "tensor(12.0348, device='mps:0', grad_fn=<AddBackward0>) tensor(0.0369, device='mps:0', grad_fn=<MulBackward0>) tensor(11.9979, device='mps:0', grad_fn=<SumBackward0>)\n",
      "in f6 11.889105796813965\n",
      "in f6 11.889105796813965\n",
      "tensor(11.2011, device='mps:0', grad_fn=<AddBackward0>) tensor(0.0357, device='mps:0', grad_fn=<MulBackward0>) tensor(11.1654, device='mps:0', grad_fn=<SumBackward0>)\n",
      "in f6 11.40467643737793\n",
      "in f6 11.40467643737793\n",
      "tensor(10.4002, device='mps:0', grad_fn=<AddBackward0>) tensor(0.0342, device='mps:0', grad_fn=<MulBackward0>) tensor(10.3659, device='mps:0', grad_fn=<SumBackward0>)\n",
      "in f6 10.51411247253418\n",
      "in f6 10.51411247253418\n",
      "tensor(9.6369, device='mps:0', grad_fn=<AddBackward0>) tensor(0.0315, device='mps:0', grad_fn=<MulBackward0>) tensor(9.6054, device='mps:0', grad_fn=<SumBackward0>)\n",
      "in f6 9.87330436706543\n",
      "in f6 9.87330436706543\n",
      "tensor(8.9208, device='mps:0', grad_fn=<AddBackward0>) tensor(0.0296, device='mps:0', grad_fn=<MulBackward0>) tensor(8.8912, device='mps:0', grad_fn=<SumBackward0>)\n",
      "in f6 9.41117000579834\n",
      "in f6 9.41117000579834\n",
      "tensor(8.2575, device='mps:0', grad_fn=<AddBackward0>) tensor(0.0282, device='mps:0', grad_fn=<MulBackward0>) tensor(8.2293, device='mps:0', grad_fn=<SumBackward0>)\n",
      "in f6 8.751975059509277\n",
      "in f6 8.751975059509277\n",
      "tensor(7.6471, device='mps:0', grad_fn=<AddBackward0>) tensor(0.0263, device='mps:0', grad_fn=<MulBackward0>) tensor(7.6208, device='mps:0', grad_fn=<SumBackward0>)\n",
      "in f6 8.293452262878418\n",
      "in f6 8.293452262878418\n",
      "tensor(7.0886, device='mps:0', grad_fn=<AddBackward0>) tensor(0.0249, device='mps:0', grad_fn=<MulBackward0>) tensor(7.0637, device='mps:0', grad_fn=<SumBackward0>)\n",
      "in f6 8.590616226196289\n",
      "in f6 8.590616226196289\n",
      "tensor(6.5783, device='mps:0', grad_fn=<AddBackward0>) tensor(0.0258, device='mps:0', grad_fn=<MulBackward0>) tensor(6.5525, device='mps:0', grad_fn=<SumBackward0>)\n",
      "in f6 9.314268112182617\n",
      "in f6 9.314268112182617\n",
      "tensor(6.1054, device='mps:0', grad_fn=<AddBackward0>) tensor(0.0279, device='mps:0', grad_fn=<MulBackward0>) tensor(6.0774, device='mps:0', grad_fn=<SumBackward0>)\n",
      "in f6 9.697747230529785\n",
      "in f6 9.697747230529785\n",
      "tensor(5.6650, device='mps:0', grad_fn=<AddBackward0>) tensor(0.0291, device='mps:0', grad_fn=<MulBackward0>) tensor(5.6359, device='mps:0', grad_fn=<SumBackward0>)\n",
      "in f6 9.088174819946289\n",
      "in f6 9.088174819946289\n",
      "tensor(5.2500, device='mps:0', grad_fn=<AddBackward0>) tensor(0.0273, device='mps:0', grad_fn=<MulBackward0>) tensor(5.2228, device='mps:0', grad_fn=<SumBackward0>)\n",
      "in f6 7.76242208480835\n",
      "in f6 7.76242208480835\n",
      "tensor(4.8582, device='mps:0', grad_fn=<AddBackward0>) tensor(0.0233, device='mps:0', grad_fn=<MulBackward0>) tensor(4.8349, device='mps:0', grad_fn=<SumBackward0>)\n",
      "in f6 6.461052894592285\n",
      "in f6 6.461052894592285\n",
      "tensor(4.4894, device='mps:0', grad_fn=<AddBackward0>) tensor(0.0194, device='mps:0', grad_fn=<MulBackward0>) tensor(4.4700, device='mps:0', grad_fn=<SumBackward0>)\n",
      "in f6 5.18818473815918\n",
      "in f6 5.18818473815918\n",
      "tensor(4.1412, device='mps:0', grad_fn=<AddBackward0>) tensor(0.0156, device='mps:0', grad_fn=<MulBackward0>) tensor(4.1257, device='mps:0', grad_fn=<SumBackward0>)\n",
      "in f6 4.201067924499512\n",
      "in f6 4.201067924499512\n",
      "tensor(3.8155, device='mps:0', grad_fn=<AddBackward0>) tensor(0.0126, device='mps:0', grad_fn=<MulBackward0>) tensor(3.8029, device='mps:0', grad_fn=<SumBackward0>)\n",
      "in f6 3.366460084915161\n",
      "in f6 3.366460084915161\n",
      "tensor(3.5137, device='mps:0', grad_fn=<AddBackward0>) tensor(0.0101, device='mps:0', grad_fn=<MulBackward0>) tensor(3.5036, device='mps:0', grad_fn=<SumBackward0>)\n",
      "in f6 2.316579580307007\n",
      "in f6 2.316579580307007\n",
      "tensor(3.2340, device='mps:0', grad_fn=<AddBackward0>) tensor(0.0069, device='mps:0', grad_fn=<MulBackward0>) tensor(3.2270, device='mps:0', grad_fn=<SumBackward0>)\n",
      "in f6 1.400102138519287\n",
      "in f6 1.400102138519287\n",
      "tensor(2.9763, device='mps:0', grad_fn=<AddBackward0>) tensor(0.0042, device='mps:0', grad_fn=<MulBackward0>) tensor(2.9721, device='mps:0', grad_fn=<SumBackward0>)\n",
      "in f6 0.6322324275970459\n",
      "in f6 0.6322324275970459\n",
      "tensor(2.7400, device='mps:0', grad_fn=<AddBackward0>) tensor(0.0019, device='mps:0', grad_fn=<MulBackward0>) tensor(2.7381, device='mps:0', grad_fn=<SumBackward0>)\n",
      "in f6 0.34723615646362305\n",
      "in f6 0.34723615646362305\n",
      "tensor(2.5245, device='mps:0', grad_fn=<AddBackward0>) tensor(0.0010, device='mps:0', grad_fn=<MulBackward0>) tensor(2.5234, device='mps:0', grad_fn=<SumBackward0>)\n",
      "in f6 0.23198890686035156\n",
      "in f6 0.23198890686035156\n",
      "tensor(2.3275, device='mps:0', grad_fn=<AddBackward0>) tensor(0.0007, device='mps:0', grad_fn=<MulBackward0>) tensor(2.3268, device='mps:0', grad_fn=<SumBackward0>)\n",
      "in f6 -3.9604692459106445\n",
      "in f6 -3.9604692459106445\n",
      "tensor(2.1483, device='mps:0', grad_fn=<AddBackward0>) tensor(0.0003, device='mps:0', grad_fn=<MulBackward0>) tensor(2.1480, device='mps:0', grad_fn=<SumBackward0>)\n",
      "in f6 3.420750379562378\n",
      "in f6 3.420750379562378\n",
      "tensor(1.9850, device='mps:0', grad_fn=<AddBackward0>) tensor(0.0103, device='mps:0', grad_fn=<MulBackward0>) tensor(1.9747, device='mps:0', grad_fn=<SumBackward0>)\n",
      "in f6 5.194918632507324\n",
      "in f6 5.194918632507324\n",
      "tensor(1.8363, device='mps:0', grad_fn=<AddBackward0>) tensor(0.0156, device='mps:0', grad_fn=<MulBackward0>) tensor(1.8208, device='mps:0', grad_fn=<SumBackward0>)\n",
      "in f6 4.921788215637207\n",
      "in f6 4.921788215637207\n",
      "tensor(1.6993, device='mps:0', grad_fn=<AddBackward0>) tensor(0.0148, device='mps:0', grad_fn=<MulBackward0>) tensor(1.6845, device='mps:0', grad_fn=<SumBackward0>)\n",
      "in f6 3.30076003074646\n",
      "in f6 3.30076003074646\n",
      "tensor(1.5752, device='mps:0', grad_fn=<AddBackward0>) tensor(0.0099, device='mps:0', grad_fn=<MulBackward0>) tensor(1.5653, device='mps:0', grad_fn=<SumBackward0>)\n",
      "in f6 1.3328280448913574\n",
      "in f6 1.3328280448913574\n",
      "tensor(1.4633, device='mps:0', grad_fn=<AddBackward0>) tensor(0.0040, device='mps:0', grad_fn=<MulBackward0>) tensor(1.4593, device='mps:0', grad_fn=<SumBackward0>)\n",
      "in f6 -4.230166435241699\n",
      "in f6 -4.230166435241699\n",
      "tensor(1.3617, device='mps:0', grad_fn=<AddBackward0>) tensor(0.0003, device='mps:0', grad_fn=<MulBackward0>) tensor(1.3614, device='mps:0', grad_fn=<SumBackward0>)\n",
      "in f6 3.3141496181488037\n",
      "in f6 3.3141496181488037\n",
      "tensor(1.2645, device='mps:0', grad_fn=<AddBackward0>) tensor(0.0099, device='mps:0', grad_fn=<MulBackward0>) tensor(1.2546, device='mps:0', grad_fn=<SumBackward0>)\n",
      "in f6 5.255099296569824\n",
      "in f6 5.255099296569824\n",
      "tensor(1.1743, device='mps:0', grad_fn=<AddBackward0>) tensor(0.0158, device='mps:0', grad_fn=<MulBackward0>) tensor(1.1585, device='mps:0', grad_fn=<SumBackward0>)\n",
      "in f6 4.337751388549805\n",
      "in f6 4.337751388549805\n",
      "tensor(1.0867, device='mps:0', grad_fn=<AddBackward0>) tensor(0.0130, device='mps:0', grad_fn=<MulBackward0>) tensor(1.0737, device='mps:0', grad_fn=<SumBackward0>)\n",
      "in f6 1.3429956436157227\n",
      "in f6 1.3429956436157227\n",
      "tensor(1.0040, device='mps:0', grad_fn=<AddBackward0>) tensor(0.0040, device='mps:0', grad_fn=<MulBackward0>) tensor(1.0000, device='mps:0', grad_fn=<SumBackward0>)\n",
      "in f6 -6.57784366607666\n",
      "in f6 -6.57784366607666\n",
      "tensor(0.9355, device='mps:0', grad_fn=<AddBackward0>) tensor(0.0003, device='mps:0', grad_fn=<MulBackward0>) tensor(0.9352, device='mps:0', grad_fn=<SumBackward0>)\n",
      "in f6 -5.862425327301025\n",
      "in f6 -5.862425327301025\n",
      "tensor(0.8605, device='mps:0', grad_fn=<AddBackward0>) tensor(0.0003, device='mps:0', grad_fn=<MulBackward0>) tensor(0.8602, device='mps:0', grad_fn=<SumBackward0>)\n",
      "in f6 6.841710567474365\n",
      "in f6 6.841710567474365\n",
      "tensor(0.8031, device='mps:0', grad_fn=<AddBackward0>) tensor(0.0205, device='mps:0', grad_fn=<MulBackward0>) tensor(0.7826, device='mps:0', grad_fn=<SumBackward0>)\n",
      "in f6 8.633478164672852\n",
      "in f6 8.633478164672852\n",
      "tensor(0.7456, device='mps:0', grad_fn=<AddBackward0>) tensor(0.0259, device='mps:0', grad_fn=<MulBackward0>) tensor(0.7197, device='mps:0', grad_fn=<SumBackward0>)\n",
      "in f6 7.037088871002197\n",
      "in f6 7.037088871002197\n",
      "tensor(0.6886, device='mps:0', grad_fn=<AddBackward0>) tensor(0.0211, device='mps:0', grad_fn=<MulBackward0>) tensor(0.6675, device='mps:0', grad_fn=<SumBackward0>)\n",
      "in f6 3.749152183532715\n",
      "in f6 3.749152183532715\n",
      "tensor(0.6364, device='mps:0', grad_fn=<AddBackward0>) tensor(0.0112, device='mps:0', grad_fn=<MulBackward0>) tensor(0.6252, device='mps:0', grad_fn=<SumBackward0>)\n",
      "in f6 -5.895183086395264\n",
      "in f6 -5.895183086395264\n",
      "tensor(0.5902, device='mps:0', grad_fn=<AddBackward0>) tensor(0.0003, device='mps:0', grad_fn=<MulBackward0>) tensor(0.5899, device='mps:0', grad_fn=<SumBackward0>)\n",
      "in f6 1.8279204368591309\n",
      "in f6 1.8279204368591309\n",
      "tensor(0.5466, device='mps:0', grad_fn=<AddBackward0>) tensor(0.0055, device='mps:0', grad_fn=<MulBackward0>) tensor(0.5411, device='mps:0', grad_fn=<SumBackward0>)\n",
      "in f6 1.8799629211425781\n",
      "in f6 1.8799629211425781\n",
      "tensor(0.5040, device='mps:0', grad_fn=<AddBackward0>) tensor(0.0056, device='mps:0', grad_fn=<MulBackward0>) tensor(0.4984, device='mps:0', grad_fn=<SumBackward0>)\n",
      "in f6 0.29502439498901367\n",
      "in f6 0.29502439498901367\n",
      "tensor(0.4666, device='mps:0', grad_fn=<AddBackward0>) tensor(0.0009, device='mps:0', grad_fn=<MulBackward0>) tensor(0.4658, device='mps:0', grad_fn=<SumBackward0>)\n",
      "in f6 -7.478700160980225\n",
      "in f6 -7.478700160980225\n",
      "tensor(0.4389, device='mps:0', grad_fn=<AddBackward0>) tensor(0.0003, device='mps:0', grad_fn=<MulBackward0>) tensor(0.4386, device='mps:0', grad_fn=<SumBackward0>)\n",
      "in f6 0.09727001190185547\n",
      "in f6 0.09727001190185547\n",
      "tensor(0.3984, device='mps:0', grad_fn=<AddBackward0>) tensor(0.0003, device='mps:0', grad_fn=<MulBackward0>) tensor(0.3981, device='mps:0', grad_fn=<SumBackward0>)\n",
      "in f6 8.857671737670898\n",
      "in f6 8.857671737670898\n",
      "tensor(0.3793, device='mps:0', grad_fn=<AddBackward0>) tensor(0.0266, device='mps:0', grad_fn=<MulBackward0>) tensor(0.3527, device='mps:0', grad_fn=<SumBackward0>)\n",
      "in f6 10.570272445678711\n",
      "in f6 10.570272445678711\n",
      "tensor(0.3501, device='mps:0', grad_fn=<AddBackward0>) tensor(0.0317, device='mps:0', grad_fn=<MulBackward0>) tensor(0.3184, device='mps:0', grad_fn=<SumBackward0>)\n",
      "in f6 9.00875473022461\n",
      "in f6 9.00875473022461\n",
      "tensor(0.3207, device='mps:0', grad_fn=<AddBackward0>) tensor(0.0270, device='mps:0', grad_fn=<MulBackward0>) tensor(0.2937, device='mps:0', grad_fn=<SumBackward0>)\n",
      "in f6 5.720277786254883\n",
      "in f6 5.720277786254883\n",
      "tensor(0.2952, device='mps:0', grad_fn=<AddBackward0>) tensor(0.0172, device='mps:0', grad_fn=<MulBackward0>) tensor(0.2781, device='mps:0', grad_fn=<SumBackward0>)\n",
      "in f6 2.055577516555786\n",
      "in f6 2.055577516555786\n",
      "tensor(0.2727, device='mps:0', grad_fn=<AddBackward0>) tensor(0.0062, device='mps:0', grad_fn=<MulBackward0>) tensor(0.2665, device='mps:0', grad_fn=<SumBackward0>)\n",
      "in f6 -1.4739055633544922\n",
      "in f6 -1.4739055633544922\n",
      "tensor(0.2539, device='mps:0', grad_fn=<AddBackward0>) tensor(0.0003, device='mps:0', grad_fn=<MulBackward0>) tensor(0.2536, device='mps:0', grad_fn=<SumBackward0>)\n",
      "in f6 3.4947047233581543\n",
      "in f6 3.4947047233581543\n",
      "tensor(0.2364, device='mps:0', grad_fn=<AddBackward0>) tensor(0.0105, device='mps:0', grad_fn=<MulBackward0>) tensor(0.2260, device='mps:0', grad_fn=<SumBackward0>)\n",
      "in f6 5.719857215881348\n",
      "in f6 5.719857215881348\n",
      "tensor(0.2221, device='mps:0', grad_fn=<AddBackward0>) tensor(0.0172, device='mps:0', grad_fn=<MulBackward0>) tensor(0.2050, device='mps:0', grad_fn=<SumBackward0>)\n",
      "in f6 4.9731526374816895\n",
      "in f6 4.9731526374816895\n",
      "tensor(0.2066, device='mps:0', grad_fn=<AddBackward0>) tensor(0.0149, device='mps:0', grad_fn=<MulBackward0>) tensor(0.1917, device='mps:0', grad_fn=<SumBackward0>)\n",
      "in f6 3.427158832550049\n",
      "in f6 3.427158832550049\n",
      "tensor(0.1947, device='mps:0', grad_fn=<AddBackward0>) tensor(0.0103, device='mps:0', grad_fn=<MulBackward0>) tensor(0.1844, device='mps:0', grad_fn=<SumBackward0>)\n",
      "in f6 1.4713730812072754\n",
      "in f6 1.4713730812072754\n",
      "tensor(0.1827, device='mps:0', grad_fn=<AddBackward0>) tensor(0.0044, device='mps:0', grad_fn=<MulBackward0>) tensor(0.1783, device='mps:0', grad_fn=<SumBackward0>)\n",
      "in f6 2.7103140354156494\n",
      "in f6 2.7103140354156494\n",
      "tensor(0.1727, device='mps:0', grad_fn=<AddBackward0>) tensor(0.0081, device='mps:0', grad_fn=<MulBackward0>) tensor(0.1646, device='mps:0', grad_fn=<SumBackward0>)\n",
      "in f6 2.6647257804870605\n",
      "in f6 2.6647257804870605\n",
      "tensor(0.1642, device='mps:0', grad_fn=<AddBackward0>) tensor(0.0080, device='mps:0', grad_fn=<MulBackward0>) tensor(0.1562, device='mps:0', grad_fn=<SumBackward0>)\n",
      "in f6 -5.8350911140441895\n",
      "in f6 -5.8350911140441895\n",
      "tensor(0.1531, device='mps:0', grad_fn=<AddBackward0>) tensor(0.0003, device='mps:0', grad_fn=<MulBackward0>) tensor(0.1528, device='mps:0', grad_fn=<SumBackward0>)\n",
      "in f6 3.6223928928375244\n",
      "in f6 3.6223928928375244\n",
      "tensor(0.1485, device='mps:0', grad_fn=<AddBackward0>) tensor(0.0109, device='mps:0', grad_fn=<MulBackward0>) tensor(0.1377, device='mps:0', grad_fn=<SumBackward0>)\n",
      "in f6 3.4761312007904053\n",
      "in f6 3.4761312007904053\n",
      "tensor(0.1382, device='mps:0', grad_fn=<AddBackward0>) tensor(0.0104, device='mps:0', grad_fn=<MulBackward0>) tensor(0.1277, device='mps:0', grad_fn=<SumBackward0>)\n",
      "in f6 0.9836182594299316\n",
      "in f6 0.9836182594299316\n",
      "tensor(0.1284, device='mps:0', grad_fn=<AddBackward0>) tensor(0.0030, device='mps:0', grad_fn=<MulBackward0>) tensor(0.1255, device='mps:0', grad_fn=<SumBackward0>)\n",
      "in f6 -4.21027946472168\n",
      "in f6 -4.21027946472168\n",
      "tensor(0.1289, device='mps:0', grad_fn=<AddBackward0>) tensor(0.0003, device='mps:0', grad_fn=<MulBackward0>) tensor(0.1286, device='mps:0', grad_fn=<SumBackward0>)\n",
      "in f6 1.3760089874267578\n",
      "in f6 1.3760089874267578\n",
      "tensor(0.1196, device='mps:0', grad_fn=<AddBackward0>) tensor(0.0041, device='mps:0', grad_fn=<MulBackward0>) tensor(0.1155, device='mps:0', grad_fn=<SumBackward0>)\n",
      "in f6 1.0998382568359375\n",
      "in f6 1.0998382568359375\n",
      "tensor(0.1108, device='mps:0', grad_fn=<AddBackward0>) tensor(0.0033, device='mps:0', grad_fn=<MulBackward0>) tensor(0.1075, device='mps:0', grad_fn=<SumBackward0>)\n",
      "in f6 -4.230356216430664\n",
      "in f6 -4.230356216430664\n",
      "tensor(0.1087, device='mps:0', grad_fn=<AddBackward0>) tensor(0.0003, device='mps:0', grad_fn=<MulBackward0>) tensor(0.1084, device='mps:0', grad_fn=<SumBackward0>)\n",
      "in f6 5.066570281982422\n",
      "in f6 5.066570281982422\n",
      "tensor(0.1139, device='mps:0', grad_fn=<AddBackward0>) tensor(0.0152, device='mps:0', grad_fn=<MulBackward0>) tensor(0.0987, device='mps:0', grad_fn=<SumBackward0>)\n",
      "in f6 2.2958555221557617\n",
      "in f6 2.2958555221557617\n",
      "tensor(0.1001, device='mps:0', grad_fn=<AddBackward0>) tensor(0.0069, device='mps:0', grad_fn=<MulBackward0>) tensor(0.0933, device='mps:0', grad_fn=<SumBackward0>)\n",
      "in f6 -3.18119478225708\n",
      "in f6 -3.18119478225708\n",
      "tensor(0.0980, device='mps:0', grad_fn=<AddBackward0>) tensor(0.0003, device='mps:0', grad_fn=<MulBackward0>) tensor(0.0977, device='mps:0', grad_fn=<SumBackward0>)\n",
      "in f6 3.155864953994751\n",
      "in f6 3.155864953994751\n",
      "tensor(0.1001, device='mps:0', grad_fn=<AddBackward0>) tensor(0.0095, device='mps:0', grad_fn=<MulBackward0>) tensor(0.0907, device='mps:0', grad_fn=<SumBackward0>)\n",
      "in f6 2.1752939224243164\n",
      "in f6 2.1752939224243164\n",
      "tensor(0.0924, device='mps:0', grad_fn=<AddBackward0>) tensor(0.0065, device='mps:0', grad_fn=<MulBackward0>) tensor(0.0859, device='mps:0', grad_fn=<SumBackward0>)\n",
      "in f6 -3.147125005722046\n",
      "in f6 -3.147125005722046\n",
      "tensor(0.0871, device='mps:0', grad_fn=<AddBackward0>) tensor(0.0003, device='mps:0', grad_fn=<MulBackward0>) tensor(0.0868, device='mps:0', grad_fn=<SumBackward0>)\n",
      "in f6 4.903872489929199\n",
      "in f6 4.903872489929199\n",
      "tensor(0.0918, device='mps:0', grad_fn=<AddBackward0>) tensor(0.0147, device='mps:0', grad_fn=<MulBackward0>) tensor(0.0771, device='mps:0', grad_fn=<SumBackward0>)\n",
      "in f6 3.7927255630493164\n",
      "in f6 3.7927255630493164\n",
      "tensor(0.0838, device='mps:0', grad_fn=<AddBackward0>) tensor(0.0114, device='mps:0', grad_fn=<MulBackward0>) tensor(0.0724, device='mps:0', grad_fn=<SumBackward0>)\n",
      "in f6 -2.644406318664551\n",
      "in f6 -2.644406318664551\n",
      "tensor(0.0772, device='mps:0', grad_fn=<AddBackward0>) tensor(0.0003, device='mps:0', grad_fn=<MulBackward0>) tensor(0.0769, device='mps:0', grad_fn=<SumBackward0>)\n",
      "in f6 4.587717056274414\n",
      "in f6 4.587717056274414\n",
      "tensor(0.0844, device='mps:0', grad_fn=<AddBackward0>) tensor(0.0138, device='mps:0', grad_fn=<MulBackward0>) tensor(0.0706, device='mps:0', grad_fn=<SumBackward0>)\n",
      "in f6 3.421403169631958\n",
      "in f6 3.421403169631958\n",
      "tensor(0.0785, device='mps:0', grad_fn=<AddBackward0>) tensor(0.0103, device='mps:0', grad_fn=<MulBackward0>) tensor(0.0683, device='mps:0', grad_fn=<SumBackward0>)\n",
      "in f6 -1.75602388381958\n",
      "in f6 -1.75602388381958\n",
      "tensor(0.0723, device='mps:0', grad_fn=<AddBackward0>) tensor(0.0003, device='mps:0', grad_fn=<MulBackward0>) tensor(0.0720, device='mps:0', grad_fn=<SumBackward0>)\n",
      "in f6 3.4579241275787354\n",
      "in f6 3.4579241275787354\n",
      "tensor(0.0746, device='mps:0', grad_fn=<AddBackward0>) tensor(0.0104, device='mps:0', grad_fn=<MulBackward0>) tensor(0.0643, device='mps:0', grad_fn=<SumBackward0>)\n",
      "in f6 3.5400443077087402\n",
      "in f6 3.5400443077087402\n",
      "tensor(0.0707, device='mps:0', grad_fn=<AddBackward0>) tensor(0.0106, device='mps:0', grad_fn=<MulBackward0>) tensor(0.0600, device='mps:0', grad_fn=<SumBackward0>)\n",
      "in f6 0.4538702964782715\n",
      "in f6 0.4538702964782715\n",
      "tensor(0.0639, device='mps:0', grad_fn=<AddBackward0>) tensor(0.0014, device='mps:0', grad_fn=<MulBackward0>) tensor(0.0625, device='mps:0', grad_fn=<SumBackward0>)\n",
      "in f6 -4.054547309875488\n",
      "in f6 -4.054547309875488\n",
      "tensor(0.0734, device='mps:0', grad_fn=<AddBackward0>) tensor(0.0003, device='mps:0', grad_fn=<MulBackward0>) tensor(0.0731, device='mps:0', grad_fn=<SumBackward0>)\n",
      "in f6 0.017197132110595703\n",
      "in f6 0.017197132110595703\n",
      "tensor(0.0661, device='mps:0', grad_fn=<AddBackward0>) tensor(0.0003, device='mps:0', grad_fn=<MulBackward0>) tensor(0.0658, device='mps:0', grad_fn=<SumBackward0>)\n",
      "in f6 9.622939109802246\n",
      "in f6 9.622939109802246\n",
      "tensor(0.0779, device='mps:0', grad_fn=<AddBackward0>) tensor(0.0289, device='mps:0', grad_fn=<MulBackward0>) tensor(0.0490, device='mps:0', grad_fn=<SumBackward0>)\n",
      "in f6 11.652337074279785\n",
      "in f6 11.652337074279785\n",
      "tensor(0.0758, device='mps:0', grad_fn=<AddBackward0>) tensor(0.0350, device='mps:0', grad_fn=<MulBackward0>) tensor(0.0408, device='mps:0', grad_fn=<SumBackward0>)\n",
      "in f6 10.194523811340332\n",
      "in f6 10.194523811340332\n",
      "tensor(0.0701, device='mps:0', grad_fn=<AddBackward0>) tensor(0.0306, device='mps:0', grad_fn=<MulBackward0>) tensor(0.0395, device='mps:0', grad_fn=<SumBackward0>)\n",
      "in f6 7.433038234710693\n",
      "in f6 7.433038234710693\n",
      "tensor(0.0680, device='mps:0', grad_fn=<AddBackward0>) tensor(0.0223, device='mps:0', grad_fn=<MulBackward0>) tensor(0.0457, device='mps:0', grad_fn=<SumBackward0>)\n",
      "in f6 4.813655853271484\n",
      "in f6 4.813655853271484\n",
      "tensor(0.0679, device='mps:0', grad_fn=<AddBackward0>) tensor(0.0144, device='mps:0', grad_fn=<MulBackward0>) tensor(0.0534, device='mps:0', grad_fn=<SumBackward0>)\n",
      "in f6 3.855820655822754\n",
      "in f6 3.855820655822754\n",
      "tensor(0.0677, device='mps:0', grad_fn=<AddBackward0>) tensor(0.0116, device='mps:0', grad_fn=<MulBackward0>) tensor(0.0561, device='mps:0', grad_fn=<SumBackward0>)\n",
      "in f6 5.103738784790039\n",
      "in f6 5.103738784790039\n",
      "tensor(0.0634, device='mps:0', grad_fn=<AddBackward0>) tensor(0.0153, device='mps:0', grad_fn=<MulBackward0>) tensor(0.0481, device='mps:0', grad_fn=<SumBackward0>)\n",
      "in f6 6.554167747497559\n",
      "in f6 6.554167747497559\n",
      "tensor(0.0666, device='mps:0', grad_fn=<AddBackward0>) tensor(0.0197, device='mps:0', grad_fn=<MulBackward0>) tensor(0.0470, device='mps:0', grad_fn=<SumBackward0>)\n",
      "in f6 4.762141227722168\n",
      "in f6 4.762141227722168\n",
      "tensor(0.0627, device='mps:0', grad_fn=<AddBackward0>) tensor(0.0143, device='mps:0', grad_fn=<MulBackward0>) tensor(0.0485, device='mps:0', grad_fn=<SumBackward0>)\n",
      "in f6 0.678464412689209\n",
      "in f6 0.678464412689209\n",
      "tensor(0.0570, device='mps:0', grad_fn=<AddBackward0>) tensor(0.0020, device='mps:0', grad_fn=<MulBackward0>) tensor(0.0550, device='mps:0', grad_fn=<SumBackward0>)\n",
      "in f6 -6.376477241516113\n",
      "in f6 -6.376477241516113\n",
      "tensor(0.0664, device='mps:0', grad_fn=<AddBackward0>) tensor(0.0003, device='mps:0', grad_fn=<MulBackward0>) tensor(0.0661, device='mps:0', grad_fn=<SumBackward0>)\n",
      "in f6 0.3849978446960449\n",
      "in f6 0.3849978446960449\n",
      "tensor(0.0592, device='mps:0', grad_fn=<AddBackward0>) tensor(0.0012, device='mps:0', grad_fn=<MulBackward0>) tensor(0.0580, device='mps:0', grad_fn=<SumBackward0>)\n",
      "in f6 1.5703887939453125\n",
      "in f6 1.5703887939453125\n",
      "tensor(0.0544, device='mps:0', grad_fn=<AddBackward0>) tensor(0.0047, device='mps:0', grad_fn=<MulBackward0>) tensor(0.0497, device='mps:0', grad_fn=<SumBackward0>)\n",
      "in f6 1.5896897315979004\n",
      "in f6 1.5896897315979004\n",
      "tensor(0.0545, device='mps:0', grad_fn=<AddBackward0>) tensor(0.0048, device='mps:0', grad_fn=<MulBackward0>) tensor(0.0497, device='mps:0', grad_fn=<SumBackward0>)\n",
      "in f6 -4.526533603668213\n",
      "in f6 -4.526533603668213\n",
      "tensor(0.0583, device='mps:0', grad_fn=<AddBackward0>) tensor(0.0003, device='mps:0', grad_fn=<MulBackward0>) tensor(0.0580, device='mps:0', grad_fn=<SumBackward0>)\n",
      "in f6 1.0336637496948242\n",
      "in f6 1.0336637496948242\n",
      "tensor(0.0534, device='mps:0', grad_fn=<AddBackward0>) tensor(0.0031, device='mps:0', grad_fn=<MulBackward0>) tensor(0.0503, device='mps:0', grad_fn=<SumBackward0>)\n"
     ]
    }
   ],
   "source": [
    "out_delta = CW_targeted_l2(x.to('mps'), model, 0.003, 0)"
   ]
  },
  {
   "cell_type": "code",
   "execution_count": 124,
   "id": "b95bedaa-52aa-47f6-ae19-3b6bc3b78a91",
   "metadata": {},
   "outputs": [
    {
     "data": {
      "text/plain": [
       "torch.Size([3, 32, 32])"
      ]
     },
     "execution_count": 124,
     "metadata": {},
     "output_type": "execute_result"
    }
   ],
   "source": [
    "out_delta.shape"
   ]
  },
  {
   "cell_type": "code",
   "execution_count": 125,
   "id": "51cb2270-38de-4cee-867d-9773a1201453",
   "metadata": {},
   "outputs": [
    {
     "data": {
      "text/plain": [
       "0.03137254901960784"
      ]
     },
     "execution_count": 125,
     "metadata": {},
     "output_type": "execute_result"
    }
   ],
   "source": [
    "8/255"
   ]
  },
  {
   "cell_type": "code",
   "execution_count": 126,
   "id": "8aa28c2b-d044-4e47-b0d7-f6ae9b3029c4",
   "metadata": {},
   "outputs": [
    {
     "data": {
      "text/plain": [
       "(tensor(-0.0292, device='mps:0', grad_fn=<MinBackward1>),\n",
       " tensor(0.0312, device='mps:0', grad_fn=<MaxBackward1>))"
      ]
     },
     "execution_count": 126,
     "metadata": {},
     "output_type": "execute_result"
    }
   ],
   "source": [
    "out_delta.min(), out_delta.max()"
   ]
  },
  {
   "cell_type": "code",
   "execution_count": 127,
   "id": "adef84eb-485e-4e7e-ab09-46827da91737",
   "metadata": {},
   "outputs": [],
   "source": [
    "max_diff = torch.max(torch.abs(out_delta))"
   ]
  },
  {
   "cell_type": "code",
   "execution_count": 128,
   "id": "5a96217e-d5d2-4762-8348-3c373d9d7643",
   "metadata": {},
   "outputs": [],
   "source": [
    "assert max_diff < 8/255"
   ]
  },
  {
   "cell_type": "markdown",
   "id": "372f114c-d152-4fc6-876b-5c2720b89dcb",
   "metadata": {},
   "source": [
    "Now let's plot what we have. You should "
   ]
  },
  {
   "cell_type": "code",
   "execution_count": 129,
   "id": "e4e0a59f-a97c-4894-bf97-4300eeb73fa4",
   "metadata": {},
   "outputs": [
    {
     "data": {
      "image/png": "[encoded data removed]",
      "text/plain": [
       "<Figure size 1200x800 with 12 Axes>"
      ]
     },
     "metadata": {},
     "output_type": "display_data"
    }
   ],
   "source": [
    "out_delta = out_delta.detach().cpu()\n",
    "\n",
    "_ = xlab.utils.plot_tensors(\n",
    "    [out_delta[0], out_delta[1], out_delta[2], x.cpu()[0], x.cpu()[1], x.cpu()[2]],\n",
    "    log_scale=False, \n",
    "    ncols=3,\n",
    "    # log_scale=True,\n",
    "    titles = [\"out delta (red)\", \"out delta (green)\", \"out delta (blue)\", \"image (red)\", \"image (green)\", \"image (blue)\"]\n",
    ")"
   ]
  },
  {
   "cell_type": "code",
   "execution_count": 43,
   "id": "b26a72a0-b177-40f5-9a3a-bdaf3b441f2f",
   "metadata": {},
   "outputs": [],
   "source": [
    "x_adv = out_delta + x"
   ]
  },
  {
   "cell_type": "code",
   "execution_count": 44,
   "id": "c452f3c6-a499-4044-af0a-e810ef64e3b7",
   "metadata": {},
   "outputs": [
    {
     "data": {
      "text/plain": [
       "tensor([[13.4251, -0.7176, -1.3678,  3.0889, -5.2713, -1.6484, -1.6464, -2.5078,\n",
       "         -1.8055, -1.4932]], device='mps:0', grad_fn=<LinearBackward0>)"
      ]
     },
     "execution_count": 44,
     "metadata": {},
     "output_type": "execute_result"
    }
   ],
   "source": [
    "model(x_adv.unsqueeze(0))"
   ]
  },
  {
   "cell_type": "code",
   "execution_count": 45,
   "id": "f3a33030-6c27-4f43-bd41-6252f589ad55",
   "metadata": {},
   "outputs": [
    {
     "data": {
      "text/plain": [
       "torch.Size([3, 32, 32])"
      ]
     },
     "execution_count": 45,
     "metadata": {},
     "output_type": "execute_result"
    }
   ],
   "source": [
    "x_adv.shape"
   ]
  },
  {
   "cell_type": "code",
   "execution_count": 46,
   "id": "dbc27c3e-34f2-499f-a3e4-a3c90b6c2a4c",
   "metadata": {},
   "outputs": [
    {
     "data": {
      "text/plain": [
       "<matplotlib.image.AxesImage at 0x17c549d90>"
      ]
     },
     "execution_count": 46,
     "metadata": {},
     "output_type": "execute_result"
    },
    {
     "data": {
      "image/png": "[encoded data removed]",
      "text/plain": [
       "<Figure size 640x480 with 1 Axes>"
      ]
     },
     "metadata": {},
     "output_type": "display_data"
    }
   ],
   "source": [
    "plt.imshow(x_adv.detach().permute(1,2,0).cpu())"
   ]
  },
  {
   "cell_type": "markdown",
   "id": "f5a95ae2-92f4-4175-bd8e-78911935a076",
   "metadata": {},
   "source": [
    "## Choosing a constant $c$\n",
    "\n",
    "\n",
    "<blockquote>\n",
    "    Empirically, we have found that often the best way to choose\n",
    "$c$ is to use the smallest value of $c$ for which the resulting\n",
    "solution $x^{*}$ has $f(x^{*}\n",
    ")\\leq 0$. This causes gradient descent to\n",
    "minimize both of the terms simultaneously instead of picking\n",
    "only one to optimize over first.\n",
    "</blockquote>\n",
    "\n"
   ]
  },
  {
   "cell_type": "markdown",
   "id": "3876048a-6dca-402d-9927-e72c87a74881",
   "metadata": {},
   "source": [
    "On choosing a good $f$:\n",
    "\n",
    "<blockquote>\n",
    "The choice of method\n",
    "for handling box constraints does not impact the quality of\n",
    "results as significantly for the best minimization functions.\n",
    "</blockquote>"
   ]
  },
  {
   "cell_type": "code",
   "execution_count": null,
   "id": "de22f78d-7cbe-4496-856f-df7c609275d7",
   "metadata": {},
   "outputs": [],
   "source": []
  }
 ],
 "metadata": {
  "kernelspec": {
   "display_name": "Python 3 (ipykernel)",
   "language": "python",
   "name": "python3"
  },
  "language_info": {
   "codemirror_mode": {
    "name": "ipython",
    "version": 3
   },
   "file_extension": ".py",
   "mimetype": "text/x-python",
   "name": "python",
   "nbconvert_exporter": "python",
   "pygments_lexer": "ipython3",
   "version": "3.11.11"
  }
 },
 "nbformat": 4,
 "nbformat_minor": 5
}
