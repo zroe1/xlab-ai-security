{
 "cells": [
  {
   "cell_type": "markdown",
   "id": "565ae561-6c42-4d0c-898e-f2ef4de2f094",
   "metadata": {},
   "source": [
    "# Carlini Wagner Attacks"
   ]
  },
  {
   "cell_type": "code",
   "execution_count": null,
   "id": "905eb28b-1e9e-4bf5-b6f9-1954ae89b570",
   "metadata": {},
   "outputs": [],
   "source": [
    "# IF YOU ARE IN COLAB OR HAVE NOT INSTALLED `xlab-security`\n",
    "!pip install xlab-security # should not take more than a minute or two to run"
   ]
  },
  {
   "cell_type": "code",
   "execution_count": 1,
   "id": "76fec411-b9a4-43c2-b994-d1bbde6b6e43",
   "metadata": {},
   "outputs": [
    {
     "name": "stdout",
     "output_type": "stream",
     "text": [
      "Hello world! You are using version 0.1.8 of the package\n",
      "You are using device: mps\n"
     ]
    }
   ],
   "source": [
    "import xlab\n",
    "xlab.hello_world()\n",
    "\n",
    "# get CIFAR10 helper functions \n",
    "from xlab.utils import CIFAR10\n",
    "itos, stoi = CIFAR10.itos, CIFAR10.stoi\n",
    "\n",
    "# for loading our model\n",
    "from robustbench.utils import load_model\n",
    "\n",
    "# pytorch imports\n",
    "import torch\n",
    "from torch import nn\n",
    "from torch.nn import functional as F\n",
    "from torch import optim\n",
    "\n",
    "# for plotting\n",
    "import matplotlib.pyplot as plt\n",
    "\n",
    "device = torch.device('cuda' if torch.cuda.is_available() else 'mps' if torch.backends.mps.is_available() else 'cpu')\n",
    "print(f\"You are using device: {device}\")"
   ]
  },
  {
   "cell_type": "code",
   "execution_count": 2,
   "id": "000a6a62-e355-42b4-80cf-0d8440e250c6",
   "metadata": {},
   "outputs": [
    {
     "name": "stdout",
     "output_type": "stream",
     "text": [
      "x_test.shape=torch.Size([100, 3, 32, 32]), y_test.shape=torch.Size([100])\n"
     ]
    }
   ],
   "source": [
    "# load our data\n",
    "NUM_EXAMPLES = 100\n",
    "x_test, y_test = xlab.utils.load_cifar10_test_samples(n=NUM_EXAMPLES)\n",
    "x_test, y_test = x_test.to(device), y_test.to(device)\n",
    "print(f\"{x_test.shape=}, {y_test.shape=}\")"
   ]
  },
  {
   "cell_type": "markdown",
   "id": "0df879e0-d470-4721-8875-8d0c96f44f0a",
   "metadata": {},
   "source": [
    "We will begin by loading a pretrained model for classification on CIFAR using robustbench. This is a much larger more impressive model than the one you looked at in the previous section."
   ]
  },
  {
   "cell_type": "code",
   "execution_count": 3,
   "id": "0d77c11d-40d9-4e62-b2e9-a81492b9efae",
   "metadata": {},
   "outputs": [],
   "source": [
    "from huggingface_hub import hf_hub_download\n",
    "from xlab.models import MiniWideResNet, BasicBlock\n",
    "\n",
    "# https://huggingface.co/uchicago-xlab-ai-security/tiny-wideresnet-cifar10\n",
    "model_path = hf_hub_download(\n",
    "    repo_id=\"uchicago-xlab-ai-security/tiny-wideresnet-cifar10\",\n",
    "    filename=\"adversarial_basics_cnn.pth\"\n",
    ")\n",
    "model = torch.load(model_path, map_location=device, weights_only=False)\n",
    "_ = model.eval()"
   ]
  },
  {
   "cell_type": "markdown",
   "id": "d9696e2a-a746-44f3-985c-78a77cd25ceb",
   "metadata": {},
   "source": [
    "This is the same model that you were using in the previous notebook. As a refresher, you can see that the model has 165,722 trainable paramters, but image classifiers can get much larger."
   ]
  },
  {
   "cell_type": "code",
   "execution_count": 4,
   "id": "5af5e1c5-817f-4fdf-b8cc-07999091dd9d",
   "metadata": {},
   "outputs": [
    {
     "name": "stdout",
     "output_type": "stream",
     "text": [
      "Trainable parameters: 165,722\n"
     ]
    }
   ],
   "source": [
    "# print the parameter count\n",
    "trainable_params = sum(p.numel() for p in model.parameters() if p.requires_grad)\n",
    "print(f\"Trainable parameters: {trainable_params:,}\")"
   ]
  },
  {
   "cell_type": "markdown",
   "id": "2d9bd9f1-2b5c-4599-88ac-1423556899e2",
   "metadata": {},
   "source": [
    "## Tasks 1-5: Writing the function $f(x + \\delta)$\n",
    "\n",
    "Recall that we will be using a loss to minimize the equation below.\n",
    "$$\n",
    "\\ell = \\mathcal{D}(x, x + \\delta) + c \\cdot f (x + \\delta)\n",
    "$$\n",
    "\n",
    "The function $\\mathcal{D}$ measures how different $x$ (the original image) is from $x + \\delta$ where $\\delta$ is the purtubations we are making to the image. In the original paper, Carlini and Wagner list seven of reasonable choices you could make for $f$. For brevity, you will only implement and compare 3 of them. \n",
    "\n",
    "Note that the equations below are presented slightly differently than in the original paper. They are all mathematically equivalent, but we have rewritten some for clarity. \n",
    "\n",
    "<details>\n",
    "<summary>⚠️ <b>Caution</b></summary>\n",
    "\n",
    "In this section we will have you implement 3 out of the 7 choices for $f$. We encourage you to implement the other choices of $f$ from [the paper](https://arxiv.org/pdf/1608.04644) if you are interested. We will caution you however that there appears to be a sign error in equation #1. The correct equation with the right signs should be shown below. Cross Entropy here will be taken with $\\log_2$ rather than $\\log_e$.\n",
    "\n",
    "$$\n",
    "f_1(x_{\\mathrm{adversarial}}) = \\mathrm{CrossEntropy}(F(x_{\\mathrm{adversarial}})) - 1\n",
    "$$\n",
    "\n",
    "In general we find that the \"Objective Function\" section of the paper has several mistakes . For example they say that they \"define an objective function $f$ such that $C(x + \\delta) = t$ if and only if $f(x + \\delta) \\leq 0$.\" but it is trivial to show that equation 4 does not satisfy the \"if and only if\" condition.\n",
    "\n",
    "</details>"
   ]
  },
  {
   "cell_type": "markdown",
   "id": "539f6e0d-11f7-4ba5-ab2d-12347258a306",
   "metadata": {},
   "source": [
    "### Task #1: Implementing $f_2$"
   ]
  },
  {
   "cell_type": "markdown",
   "id": "6fbfb9b1-06c6-4c0c-83cb-b041016184fb",
   "metadata": {},
   "source": [
    "For task #1 you will implement $f_2$ from [the paper](https://arxiv.org/pdf/1608.04644). \n",
    "\n",
    "The equation for $f_2$ is below. $F_t(x)$ is the model output for class $t$ including the [softmax](https://docs.pytorch.org/docs/stable/generated/torch.nn.Softmax.html) which gives probabilities rather than logits. The first term in this equation takes the greatest softmax probability that is not the target class. We encourage you to pause and think about why the equation is structured in the way that it is.\n",
    "\n",
    "$$\n",
    "f_2(x_{\\mathrm{adversarial}}) = \\mathrm{ReLU}(\\max_{i \\neq t}(F(x_{\\mathrm{adversarial}})) - F_t(x_{\\mathrm{adversarial}}))\n",
    "$$"
   ]
  },
  {
   "cell_type": "code",
   "execution_count": 5,
   "id": "1c903634-5232-4bd6-8666-5b7f5a96c2f2",
   "metadata": {},
   "outputs": [],
   "source": [
    "def f2(logits, target):\n",
    "    softmax_probs = F.softmax(logits, dim=0)\n",
    "    i_neq_t = torch.argmax(softmax_probs)\n",
    "    if i_neq_t == target:\n",
    "        masked_probs = softmax_probs.clone()\n",
    "        masked_probs[target] = float('-inf')\n",
    "        i_neq_t = torch.argmax(masked_probs)\n",
    "    return F.relu(softmax_probs[i_neq_t] - softmax_probs[target])"
   ]
  },
  {
   "cell_type": "code",
   "execution_count": 6,
   "id": "2010ffce-f818-461b-9e59-0737229dd99d",
   "metadata": {},
   "outputs": [
    {
     "name": "stdout",
     "output_type": "stream",
     "text": [
      "tensor(0.7616)\n",
      "tensor(0.)\n",
      "tensor(0.)\n"
     ]
    }
   ],
   "source": [
    "x = torch.tensor([1.0, 3.0])\n",
    "print(f2(x, 0)) # should be >0\n",
    "x = torch.tensor([1.0, 1.0])\n",
    "print(f2(x, 0)) # should be =0\n",
    "x = torch.tensor([3.0, 1.0])\n",
    "print(f2(x, 0)) # should be =0"
   ]
  },
  {
   "cell_type": "code",
   "execution_count": 7,
   "id": "3ea4e3f6-3a31-4997-b596-da3cf50e9f2e",
   "metadata": {},
   "outputs": [
    {
     "name": "stdout",
     "output_type": "stream",
     "text": [
      "\u001b[1m============================= test session starts ==============================\u001b[0m\n",
      "collected 30 items / 26 deselected / 4 selected\n",
      "\n",
      "\u001b[32mPASSED\u001b[0m\u001b[32m [ 25%]\u001b[0mts/cw.py::test_f2_output_shape_and_type \n",
      "\u001b[32mPASSED\u001b[0m\u001b[32m   [ 50%]\u001b[0m/cw.py::test_f2_target_not_max \n",
      "\u001b[32mPASSED\u001b[0m\u001b[32m    [ 75%]\u001b[0mcw.py::test_f2_target_is_max \n",
      "\u001b[32mPASSED\u001b[0m\u001b[32m [100%]\u001b[0mts/cw.py::test_f2_large_confidence_gap \n",
      "\n",
      "\u001b[32m======================= \u001b[32m\u001b[1m4 passed\u001b[0m, \u001b[33m26 deselected\u001b[0m\u001b[32m in 0.02s\u001b[0m\u001b[32m =======================\u001b[0m\n",
      "✅ All checks passed!\n"
     ]
    }
   ],
   "source": [
    "_ = xlab.tests.cw.task1(f2)"
   ]
  },
  {
   "cell_type": "markdown",
   "id": "8a926e4c-3af3-4f9a-9cc8-c7dc52eba2e9",
   "metadata": {},
   "source": [
    "### Task #2: Implementing $f_4$\n",
    "\n",
    "This is similar to the equation above. The only difference is that we are inforcing the requirement that the target class has a probability greater than or equal to 0.5 rather a probability greater than or equal to any of the other classes.\n",
    "\n",
    "$$\n",
    "f_4(x_{\\mathrm{adversarial}}) = \\mathrm{ReLU}(0.5 - F_t(x_{\\mathrm{adversarial}}))\n",
    "$$"
   ]
  },
  {
   "cell_type": "code",
   "execution_count": 8,
   "id": "24d40613-7c21-4972-86b8-7b6b64cb5e2d",
   "metadata": {},
   "outputs": [],
   "source": [
    "def f4(logits, target):\n",
    "    softmax_probs = F.softmax(logits, dim=0)\n",
    "    return F.relu(0.5 - softmax_probs[target])"
   ]
  },
  {
   "cell_type": "code",
   "execution_count": 9,
   "id": "217bcb47-a704-4b07-8ec9-babceb765e30",
   "metadata": {},
   "outputs": [
    {
     "name": "stdout",
     "output_type": "stream",
     "text": [
      "tensor(0.3808)\n",
      "tensor(0.)\n",
      "tensor(0.)\n"
     ]
    }
   ],
   "source": [
    "x = torch.tensor([1.0, 3.0])\n",
    "print(f4(x, 0)) # should be >0\n",
    "x = torch.tensor([1.0, 1.0])\n",
    "print(f4(x, 0)) # should be =0\n",
    "x = torch.tensor([3.0, 1.0])\n",
    "print(f4(x, 0)) # should be =0"
   ]
  },
  {
   "cell_type": "code",
   "execution_count": 10,
   "id": "99eab98f-5ad5-42f3-87ab-38e4c01bd81d",
   "metadata": {},
   "outputs": [
    {
     "name": "stdout",
     "output_type": "stream",
     "text": [
      "\u001b[1m============================= test session starts ==============================\u001b[0m\n",
      "collected 30 items / 26 deselected / 4 selected\n",
      "\n",
      "\u001b[32mPASSED\u001b[0m\u001b[32m [ 25%]\u001b[0mts/cw.py::test_f4_output_shape_and_type \n",
      "\u001b[32mPASSED\u001b[0m\u001b[32m [ 50%]\u001b[0mts/cw.py::test_f4_target_prob_above_threshold \n",
      "\u001b[32mPASSED\u001b[0m\u001b[32m [ 75%]\u001b[0mts/cw.py::test_f4_target_prob_below_threshold \n",
      "\u001b[32mPASSED\u001b[0m\u001b[32m [100%]\u001b[0mts/cw.py::test_f4_target_prob_near_threshold \n",
      "\n",
      "\u001b[32m======================= \u001b[32m\u001b[1m4 passed\u001b[0m, \u001b[33m26 deselected\u001b[0m\u001b[32m in 0.01s\u001b[0m\u001b[32m =======================\u001b[0m\n",
      "✅ All checks passed!\n"
     ]
    }
   ],
   "source": [
    "_ = xlab.tests.cw.task2(f4)"
   ]
  },
  {
   "cell_type": "markdown",
   "id": "0e236ef0-e8b1-4f63-9add-1deb036bc979",
   "metadata": {},
   "source": [
    "### Task #3: Implementing $f_6$"
   ]
  },
  {
   "cell_type": "markdown",
   "id": "2b203978-98e6-4585-b6e8-e7b10653b9b4",
   "metadata": {},
   "source": [
    "This is very similar ot $f_2$. The difference is we use $Z_t(x)$ instead of $F_t(x)$. $Z_t(x)$ is the raw output of the model for class $t$ rather than the output after the softmax.\n",
    "\n",
    "$$\n",
    "f_6(x_{\\mathrm{adversarial}}) = \\mathrm{ReLU}(\\max_{i \\neq t}(Z(x_{\\mathrm{adversarial}})) - Z_t(x_{\\mathrm{adversarial}}))\n",
    "$$"
   ]
  },
  {
   "cell_type": "code",
   "execution_count": 11,
   "id": "e573ecaa-691c-422d-9e1c-f65bd260e31f",
   "metadata": {},
   "outputs": [],
   "source": [
    "def f6(logits, target):\n",
    "    # softmax_probs = F.softmax(logits, dim=0)\n",
    "    i_neq_t = torch.argmax(logits)\n",
    "    if i_neq_t == target:\n",
    "        masked_logits = logits.clone()\n",
    "        masked_logits[target] = float('-inf')\n",
    "        i_neq_t = torch.argmax(masked_logits)\n",
    "    return F.relu(logits[i_neq_t] - logits[target])"
   ]
  },
  {
   "cell_type": "code",
   "execution_count": 12,
   "id": "94307969-b187-48d6-8e85-dfc8c6700c7b",
   "metadata": {},
   "outputs": [
    {
     "name": "stdout",
     "output_type": "stream",
     "text": [
      "tensor(2.)\n",
      "tensor(0.)\n",
      "tensor(0.)\n"
     ]
    }
   ],
   "source": [
    "x = torch.tensor([1.0, 3.0])\n",
    "print(f6(x, 0)) # should be >0\n",
    "x = torch.tensor([1.0, 1.0])\n",
    "print(f6(x, 0)) # should be =0\n",
    "x = torch.tensor([3.0, 1.0])\n",
    "print(f6(x, 0)) # should be =0"
   ]
  },
  {
   "cell_type": "markdown",
   "id": "41dce756-c5c7-460b-80b7-7741b21dcf35",
   "metadata": {},
   "source": [
    "By now you should have several options for $f$. Now we can optimize the below equation below where we let $\\mathcal{D}(x, x + \\delta)$ be the $L_2$ norm.\n",
    "\n",
    "$$\n",
    "\\ell = \\mathcal{D}(x, x + \\delta) + c \\cdot f (x + \\delta)\n",
    "$$\n",
    "\n",
    "\n",
    "We have implemented this below for you. The attack is extremely similar to the PGD attack you coded in the previous notebook so it should look familiar to you. Still, you should read through the code and make sure you understand everything!"
   ]
  },
  {
   "cell_type": "code",
   "execution_count": 13,
   "id": "704d020d-03e7-41a5-98b2-c3cc5b800dfc",
   "metadata": {},
   "outputs": [],
   "source": [
    "def cw_loss_v1(f, x, y, delta, c, model):\n",
    "    logits = model(x + delta)\n",
    "    f_loss = f(logits[0], y)\n",
    "    norm_loss = (torch.sum(delta**2))**1/2\n",
    "\n",
    "    return norm_loss + c * f_loss\n",
    "\n",
    "def cw_simple(f, x, y, c, model, num_iters):\n",
    "    delta = torch.randn_like(x) * 0.1\n",
    "    delta.requires_grad = True\n",
    "    optimizer = optim.Adam([delta], lr=1e-2)\n",
    "\n",
    "    for i in range(num_iters):\n",
    "        l = cw_loss_v1(f, x, y, delta, c, model)\n",
    "        l.backward()\n",
    "        optimizer.step()\n",
    "        optimizer.zero_grad()\n",
    "        if (i + 1) % 5 == 0:\n",
    "            print(f\"iteration {i + 1}:\\t loss={l.item():.4f}\")\n",
    "    return torch.clip(x + delta, 0, 1)"
   ]
  },
  {
   "cell_type": "markdown",
   "id": "335dd128-8402-430a-b2c1-f71d219fdefe",
   "metadata": {},
   "source": [
    "### Task #4: Test different $f$ functions"
   ]
  },
  {
   "cell_type": "markdown",
   "id": "b266e2e7-fef5-4b27-ac2f-b394516c08d8",
   "metadata": {},
   "source": [
    "The next step is to fill in the missing code below to test how effective different choices of $f$ are. When running `benchmark_f` for `f2`, `f4` and `f6` you should find that one choice of $f$ is much more effective than the other two.\n",
    "\n",
    "<details>\n",
    "<summary>💡 <b>Hint </b></summary>\n",
    "\n",
    "$f_6$ Should have 100% attack success rate for the 5 images we selected. When we run our code we get:\n",
    "\n",
    "* f2_results = [6, 1, 1, 1, 6]\n",
    "* f4_results = [3, 1, 1, 0, 6]\n",
    "* f6_results = [1, 1, 1, 1, 1]\n",
    "\n",
    "</details>"
   ]
  },
  {
   "cell_type": "code",
   "execution_count": 14,
   "id": "8e3d1693-15b3-4451-8582-ef46a40419fd",
   "metadata": {},
   "outputs": [],
   "source": [
    "def benchmark_f(f, num_imgs=5, num_iters=40, target_class=1, c=1):\n",
    "    print(f\"running attacks on {num_imgs} images with target='{itos[target_class]}'\")\n",
    "\n",
    "    results = []\n",
    "    for i in range(num_imgs):\n",
    "        x_clean = x_test[i:i+1].to(device) # tensor is [1, 3, 32, 32]\n",
    "        \n",
    "        adv_image = cw_simple(f, x_clean, target_class, c, model, num_iters) ### YOUR CODE HERE ###\n",
    "        predicted_class = torch.argmax(model(adv_image)).item() ### YOUR CODE HERE ###\n",
    "        print(f\"model predicts class 'target='{itos[predicted_class]}'\")\n",
    "        results.append(predicted_class)\n",
    "\n",
    "    return results"
   ]
  },
  {
   "cell_type": "code",
   "execution_count": 15,
   "id": "08bc24be-1bfd-4422-831f-4fb6f1f22f91",
   "metadata": {
    "scrolled": true
   },
   "outputs": [
    {
     "name": "stdout",
     "output_type": "stream",
     "text": [
      "running attacks on 5 images with target='automobile'\n",
      "iteration 5:\t loss=10.5963\n",
      "iteration 10:\t loss=5.1606\n",
      "iteration 15:\t loss=2.6532\n",
      "iteration 20:\t loss=1.3993\n",
      "iteration 25:\t loss=1.3214\n",
      "iteration 30:\t loss=0.5777\n",
      "iteration 35:\t loss=0.6016\n",
      "iteration 40:\t loss=0.4792\n",
      "model predicts class 'target='automobile'\n",
      "iteration 5:\t loss=9.2751\n",
      "iteration 10:\t loss=4.3775\n",
      "iteration 15:\t loss=1.8231\n",
      "iteration 20:\t loss=1.1477\n",
      "iteration 25:\t loss=0.7082\n",
      "iteration 30:\t loss=0.4560\n",
      "iteration 35:\t loss=0.7407\n",
      "iteration 40:\t loss=0.8586\n",
      "model predicts class 'target='automobile'\n",
      "iteration 5:\t loss=9.7418\n",
      "iteration 10:\t loss=4.9393\n",
      "iteration 15:\t loss=2.7244\n",
      "iteration 20:\t loss=1.6925\n",
      "iteration 25:\t loss=0.9600\n",
      "iteration 30:\t loss=0.8436\n",
      "iteration 35:\t loss=0.6247\n",
      "iteration 40:\t loss=0.5421\n",
      "model predicts class 'target='ship'\n",
      "iteration 5:\t loss=9.5995\n",
      "iteration 10:\t loss=4.5093\n",
      "iteration 15:\t loss=2.4976\n",
      "iteration 20:\t loss=1.7830\n",
      "iteration 25:\t loss=1.3344\n",
      "iteration 30:\t loss=0.9345\n",
      "iteration 35:\t loss=0.8811\n",
      "iteration 40:\t loss=0.9146\n",
      "model predicts class 'target='automobile'\n",
      "iteration 5:\t loss=9.4202\n",
      "iteration 10:\t loss=4.4794\n",
      "iteration 15:\t loss=2.0708\n",
      "iteration 20:\t loss=1.2843\n",
      "iteration 25:\t loss=1.0517\n",
      "iteration 30:\t loss=0.8476\n",
      "iteration 35:\t loss=0.8197\n",
      "iteration 40:\t loss=0.6595\n",
      "model predicts class 'target='frog'\n"
     ]
    }
   ],
   "source": [
    "f2_results = benchmark_f(f2)"
   ]
  },
  {
   "cell_type": "code",
   "execution_count": 16,
   "id": "b5bd0746-b99d-4035-bb5b-c5c15570d5be",
   "metadata": {
    "scrolled": true
   },
   "outputs": [
    {
     "name": "stdout",
     "output_type": "stream",
     "text": [
      "running attacks on 5 images with target='automobile'\n",
      "iteration 5:\t loss=8.3363\n",
      "iteration 10:\t loss=3.6051\n",
      "iteration 15:\t loss=1.8213\n",
      "iteration 20:\t loss=1.1840\n",
      "iteration 25:\t loss=0.9130\n",
      "iteration 30:\t loss=0.7629\n",
      "iteration 35:\t loss=0.6706\n",
      "iteration 40:\t loss=0.6094\n",
      "model predicts class 'target='cat'\n",
      "iteration 5:\t loss=8.2942\n",
      "iteration 10:\t loss=3.2765\n",
      "iteration 15:\t loss=1.5630\n",
      "iteration 20:\t loss=0.8015\n",
      "iteration 25:\t loss=0.5935\n",
      "iteration 30:\t loss=0.6008\n",
      "iteration 35:\t loss=0.4278\n",
      "iteration 40:\t loss=0.2327\n",
      "model predicts class 'target='ship'\n",
      "iteration 5:\t loss=8.5434\n",
      "iteration 10:\t loss=3.6987\n",
      "iteration 15:\t loss=1.8019\n",
      "iteration 20:\t loss=0.7076\n",
      "iteration 25:\t loss=0.5037\n",
      "iteration 30:\t loss=0.6958\n",
      "iteration 35:\t loss=0.5988\n",
      "iteration 40:\t loss=0.3485\n",
      "model predicts class 'target='automobile'\n",
      "iteration 5:\t loss=8.0714\n",
      "iteration 10:\t loss=3.5246\n",
      "iteration 15:\t loss=1.4870\n",
      "iteration 20:\t loss=0.9456\n",
      "iteration 25:\t loss=0.6702\n",
      "iteration 30:\t loss=0.5599\n",
      "iteration 35:\t loss=0.3687\n",
      "iteration 40:\t loss=0.3512\n",
      "model predicts class 'target='automobile'\n",
      "iteration 5:\t loss=8.0652\n",
      "iteration 10:\t loss=3.4748\n",
      "iteration 15:\t loss=1.7352\n",
      "iteration 20:\t loss=1.1441\n",
      "iteration 25:\t loss=0.9169\n",
      "iteration 30:\t loss=0.7817\n",
      "iteration 35:\t loss=0.6785\n",
      "iteration 40:\t loss=0.6072\n",
      "model predicts class 'target='frog'\n"
     ]
    }
   ],
   "source": [
    "f4_results = benchmark_f(f4)"
   ]
  },
  {
   "cell_type": "code",
   "execution_count": 17,
   "id": "09216d42-b4e8-479f-8ea1-ce0c9011da1f",
   "metadata": {
    "scrolled": true
   },
   "outputs": [
    {
     "name": "stdout",
     "output_type": "stream",
     "text": [
      "running attacks on 5 images with target='automobile'\n",
      "iteration 5:\t loss=13.8763\n",
      "iteration 10:\t loss=10.7277\n",
      "iteration 15:\t loss=7.5985\n",
      "iteration 20:\t loss=5.1014\n",
      "iteration 25:\t loss=3.3264\n",
      "iteration 30:\t loss=2.1401\n",
      "iteration 35:\t loss=1.3695\n",
      "iteration 40:\t loss=1.0189\n",
      "model predicts class 'target='automobile'\n",
      "iteration 5:\t loss=12.0100\n",
      "iteration 10:\t loss=7.5947\n",
      "iteration 15:\t loss=4.4624\n",
      "iteration 20:\t loss=2.5486\n",
      "iteration 25:\t loss=1.7126\n",
      "iteration 30:\t loss=1.7846\n",
      "iteration 35:\t loss=1.7741\n",
      "iteration 40:\t loss=1.5349\n",
      "model predicts class 'target='automobile'\n",
      "iteration 5:\t loss=13.5155\n",
      "iteration 10:\t loss=10.0259\n",
      "iteration 15:\t loss=6.7713\n",
      "iteration 20:\t loss=4.3104\n",
      "iteration 25:\t loss=2.9352\n",
      "iteration 30:\t loss=2.3149\n",
      "iteration 35:\t loss=1.8296\n",
      "iteration 40:\t loss=1.3690\n",
      "model predicts class 'target='automobile'\n",
      "iteration 5:\t loss=13.6870\n",
      "iteration 10:\t loss=10.0242\n",
      "iteration 15:\t loss=6.7755\n",
      "iteration 20:\t loss=4.4059\n",
      "iteration 25:\t loss=2.8341\n",
      "iteration 30:\t loss=1.8270\n",
      "iteration 35:\t loss=1.1839\n",
      "iteration 40:\t loss=0.8867\n",
      "model predicts class 'target='automobile'\n",
      "iteration 5:\t loss=13.2738\n",
      "iteration 10:\t loss=9.6192\n",
      "iteration 15:\t loss=6.3780\n",
      "iteration 20:\t loss=4.0308\n",
      "iteration 25:\t loss=2.6276\n",
      "iteration 30:\t loss=1.9940\n",
      "iteration 35:\t loss=1.5254\n",
      "iteration 40:\t loss=1.0983\n",
      "model predicts class 'target='automobile'\n"
     ]
    }
   ],
   "source": [
    "f6_results = benchmark_f(f6)"
   ]
  },
  {
   "cell_type": "code",
   "execution_count": 18,
   "id": "c1694265-74fa-47c0-87a2-ef958c6818f2",
   "metadata": {},
   "outputs": [
    {
     "name": "stdout",
     "output_type": "stream",
     "text": [
      "\u001b[1m============================= test session starts ==============================\u001b[0m\n",
      "collected 30 items / 28 deselected / 2 selected\n",
      "\n",
      "\u001b[32mPASSED\u001b[0m\u001b[32m [ 50%]\u001b[0mts/cw.py::test_arrays_have_equal_length \n",
      "\u001b[32mPASSED\u001b[0m\u001b[32m [100%]\u001b[0mts/cw.py::test_third_array_has_most_occurrences \n",
      "\n",
      "\u001b[32m======================= \u001b[32m\u001b[1m2 passed\u001b[0m, \u001b[33m28 deselected\u001b[0m\u001b[32m in 0.01s\u001b[0m\u001b[32m =======================\u001b[0m\n",
      "✅ All checks passed!\n"
     ]
    }
   ],
   "source": [
    "_ = xlab.tests.cw.task4(f2_results, f4_results, f6_results, 1)"
   ]
  },
  {
   "cell_type": "markdown",
   "id": "71581610-d7f9-4f3d-a4bb-9bdeab107c3a",
   "metadata": {},
   "source": [
    "## Task #5: choosing a value for $c$\n",
    "\n",
    "In the previous section you should have seen that the we picked a hardcoded value for $c$. But is there a better strategy than guessing? In the paper, the authors say:\n",
    "\n",
    "<blockquote>\n",
    "    Empirically, we have found that often the best way to choose $c$ is to use the smallest value of $c$ for which the resulting solution $x^{*}$ has $f(x^{*}) \\leq 0$. This causes gradient descent to minimize both of the terms simultaneously instead of picking only one to optimize over first.\n",
    "</blockquote>\n",
    "\n",
    "In other words, to find the ideal result, we want our optimizer to make improvements that minimize the $f$ function but also have the minimum possible impact on the $L_p$ norm. If the $c$ value is too larger, the $f$ function will dominate the loss and the optimizer may allow for a larger $L_p$ norm than is strictly necessary. If $c$ is too small, the attack won't be successful. By choosing the smallest possible $c$ that makes the attack successful, we get the best of both worlds.\n",
    "\n",
    "In the code below you will benchmark different $c$ values for a small subset of CIFAR 10.\n",
    "\n",
    "<details>\n",
    "<summary>💡 <b>Hint for Task #5</b></summary>\n",
    "\n",
    "A good starting point is to make sure that you are using the correct arguments to call `cw_simple`. From there, you should run your example back through the model to see if the attack was successful. In our code, we have:\n",
    "\n",
    "```python\n",
    "adv_image = cw_simple(f, x_clean, target_class, c, model, cw_iters)\n",
    "predicted_class = torch.argmax(model(adv_image)).item()\n",
    "```\n",
    "\n",
    "</details>\n",
    "\n",
    "\n",
    "<details>\n",
    "<summary>🔐 <b>Solution for Task #5</b></summary>\n",
    "\n",
    "```python\n",
    "def bechmark_c_values(num_images, cw_iters, f, target_class):\n",
    "    c_values = [1e-3, 1e-2, 1e-1, 1e1, 1e2, 1e3]\n",
    "    c_values_to_prob = {c: 0 for c in c_values}\n",
    "    c_values_to_l2_sum = {c: 0 for c in c_values}\n",
    "\n",
    "    for c in c_values:\n",
    "        ######### OPTIONAL: INIT VARIABLES HERE #########\n",
    "\n",
    "        completed_attacks = 0\n",
    "        img_idx = 0\n",
    "        while completed_attacks < num_images:\n",
    "            print(f\"c = {c}: \\tattack #{completed_attacks+1}\")\n",
    "            x_clean = x_test[img_idx:img_idx+1].to(device)\n",
    "            img_idx += 1\n",
    "\n",
    "            # we should not try to attack an image if the target label = the clean label\n",
    "            if target_class == y_test[img_idx:img_idx+1].item():\n",
    "                continue\n",
    "\n",
    "            ######### YOUR CODE STARTS HERE #########\n",
    "            # 1. find adversarial image using cw_simple, with arguments cw_iters & f   \n",
    "            adv_image = cw_simple(f, x_clean, target_class, c, model, cw_iters)\n",
    "            \n",
    "            # 2. check if cw attack was successful & update c_values_to_prob\n",
    "            predicted_class = torch.argmax(model(adv_image)).item()\n",
    "            if predicted_class == target_class:\n",
    "                c_values_to_prob[c] += 1\n",
    "            \n",
    "            # 3. calculate l2 norm (use distance func) & update c_values_to_l2_sum\n",
    "            c_values_to_l2_sum[c] += distance(adv_image, x_clean, 2).item()\n",
    "            ######### YOUR CODE ENDS HERE #########\n",
    "            \n",
    "            completed_attacks += 1\n",
    "\n",
    "    ######### OPTIONAL: FINAL PROCESSING HERE #########\n",
    "    for c,l2_sum in c_values_to_l2_sum.items():\n",
    "        c_values_to_l2_sum[c] = l2_sum/num_images\n",
    "    for c,succ_count in c_values_to_prob.items():\n",
    "        c_values_to_prob[c] = succ_count/num_images\n",
    "    return c_values_to_l2_sum, c_values_to_prob\n",
    "```\n",
    "</details>"
   ]
  },
  {
   "cell_type": "code",
   "execution_count": 19,
   "id": "d0183d84-a718-473b-9ab3-3e306573e6b0",
   "metadata": {},
   "outputs": [],
   "source": [
    "def distance(x1, x2, p):\n",
    "    return torch.sum(torch.abs(x1 -x2)**p) ** (1/p)"
   ]
  },
  {
   "cell_type": "code",
   "execution_count": 20,
   "id": "76f6c60e-f9c9-497c-98a5-ecf99a4244db",
   "metadata": {},
   "outputs": [],
   "source": [
    "def bechmark_c_values(num_images, cw_iters, f, target_class):\n",
    "    c_values = [1e-3, 1e-2, 1e-1, 1e1, 1e2, 1e3]\n",
    "    c_values_to_prob = {c: 0 for c in c_values}\n",
    "    c_values_to_l2_sum = {c: 0 for c in c_values}\n",
    "\n",
    "    for c in c_values:\n",
    "        ######### OPTIONAL: INIT VARIABLES HERE #########\n",
    "\n",
    "        completed_attacks = 0\n",
    "        img_idx = 0\n",
    "        while completed_attacks < num_images:\n",
    "            print(f\"c = {c}: \\tattack #{completed_attacks+1}\")\n",
    "            x_clean = x_test[img_idx:img_idx+1].to(device)\n",
    "            img_idx += 1\n",
    "\n",
    "            # we should not try to attack an image if the target label = the clean label\n",
    "            if target_class == y_test[img_idx:img_idx+1].item():\n",
    "                continue\n",
    "\n",
    "            ######### YOUR CODE STARTS HERE #########\n",
    "            # 1. find adversarial image using cw_simple, with arguments cw_iters & f   \n",
    "            adv_image = cw_simple(f, x_clean, target_class, c, model, cw_iters)\n",
    "            \n",
    "            # 2. check if cw attack was successful & update c_values_to_prob\n",
    "            predicted_class = torch.argmax(model(adv_image)).item()\n",
    "            if predicted_class == target_class:\n",
    "                c_values_to_prob[c] += 1\n",
    "            \n",
    "            # 3. calculate l2 norm (use distance func) & update c_values_to_l2_sum\n",
    "            c_values_to_l2_sum[c] += distance(adv_image, x_clean, 2).item()\n",
    "            ######### YOUR CODE ENDS HERE #########\n",
    "            \n",
    "            completed_attacks += 1\n",
    "\n",
    "    ######### OPTIONAL: FINAL PROCESSING HERE #########\n",
    "    for c,l2_sum in c_values_to_l2_sum.items():\n",
    "        c_values_to_l2_sum[c] = l2_sum/num_images\n",
    "    for c,succ_count in c_values_to_prob.items():\n",
    "        c_values_to_prob[c] = succ_count/num_images\n",
    "    return c_values_to_l2_sum, c_values_to_prob"
   ]
  },
  {
   "cell_type": "code",
   "execution_count": 21,
   "id": "d35a7b02-9076-4ba3-8c44-4002d57d7e06",
   "metadata": {
    "scrolled": true
   },
   "outputs": [
    {
     "name": "stdout",
     "output_type": "stream",
     "text": [
      "c = 0.001: \tattack #1\n",
      "iteration 5:\t loss=7.6793\n",
      "iteration 10:\t loss=3.1063\n",
      "iteration 15:\t loss=1.3623\n",
      "c = 0.001: \tattack #2\n",
      "iteration 5:\t loss=7.8019\n",
      "iteration 10:\t loss=3.1498\n",
      "iteration 15:\t loss=1.3203\n",
      "c = 0.001: \tattack #3\n",
      "iteration 5:\t loss=7.9881\n",
      "iteration 10:\t loss=3.2672\n",
      "iteration 15:\t loss=1.4140\n",
      "c = 0.001: \tattack #4\n",
      "iteration 5:\t loss=8.1564\n",
      "iteration 10:\t loss=3.3864\n",
      "iteration 15:\t loss=1.4595\n",
      "c = 0.001: \tattack #5\n",
      "iteration 5:\t loss=7.6989\n",
      "iteration 10:\t loss=3.0946\n",
      "iteration 15:\t loss=1.3341\n",
      "c = 0.01: \tattack #1\n",
      "iteration 5:\t loss=8.1957\n",
      "iteration 10:\t loss=3.3737\n",
      "iteration 15:\t loss=1.4488\n",
      "c = 0.01: \tattack #2\n",
      "iteration 5:\t loss=8.0110\n",
      "iteration 10:\t loss=3.2519\n",
      "iteration 15:\t loss=1.3836\n",
      "c = 0.01: \tattack #3\n",
      "iteration 5:\t loss=7.8579\n",
      "iteration 10:\t loss=3.2044\n",
      "iteration 15:\t loss=1.3709\n",
      "c = 0.01: \tattack #4\n",
      "iteration 5:\t loss=7.7079\n",
      "iteration 10:\t loss=3.0488\n",
      "iteration 15:\t loss=1.2596\n",
      "c = 0.01: \tattack #5\n",
      "iteration 5:\t loss=8.1468\n",
      "iteration 10:\t loss=3.3109\n",
      "iteration 15:\t loss=1.4154\n",
      "c = 0.1: \tattack #1\n",
      "iteration 5:\t loss=9.0577\n",
      "iteration 10:\t loss=3.9931\n",
      "iteration 15:\t loss=1.6907\n",
      "c = 0.1: \tattack #2\n",
      "iteration 5:\t loss=8.5356\n",
      "iteration 10:\t loss=3.5679\n",
      "iteration 15:\t loss=1.5547\n",
      "c = 0.1: \tattack #3\n",
      "iteration 5:\t loss=8.9762\n",
      "iteration 10:\t loss=3.8023\n",
      "iteration 15:\t loss=1.5204\n",
      "c = 0.1: \tattack #4\n",
      "iteration 5:\t loss=8.5725\n",
      "iteration 10:\t loss=3.4143\n",
      "iteration 15:\t loss=1.4194\n",
      "c = 0.1: \tattack #5\n",
      "iteration 5:\t loss=8.6621\n",
      "iteration 10:\t loss=3.6215\n",
      "iteration 15:\t loss=1.5979\n",
      "c = 10.0: \tattack #1\n",
      "iteration 5:\t loss=16.4281\n",
      "iteration 10:\t loss=17.2940\n",
      "iteration 15:\t loss=17.4658\n",
      "c = 10.0: \tattack #2\n",
      "iteration 5:\t loss=14.2751\n",
      "iteration 10:\t loss=13.6329\n",
      "iteration 15:\t loss=12.6248\n",
      "c = 10.0: \tattack #3\n",
      "iteration 5:\t loss=16.4458\n",
      "iteration 10:\t loss=17.6285\n",
      "iteration 15:\t loss=18.0967\n",
      "c = 10.0: \tattack #4\n",
      "iteration 5:\t loss=15.7349\n",
      "iteration 10:\t loss=16.4125\n",
      "iteration 15:\t loss=16.3736\n",
      "c = 10.0: \tattack #5\n",
      "iteration 5:\t loss=16.1515\n",
      "iteration 10:\t loss=17.3556\n",
      "iteration 15:\t loss=17.7871\n",
      "c = 100.0: \tattack #1\n",
      "iteration 5:\t loss=16.3246\n",
      "iteration 10:\t loss=17.7837\n",
      "iteration 15:\t loss=18.8529\n",
      "c = 100.0: \tattack #2\n",
      "iteration 5:\t loss=16.2527\n",
      "iteration 10:\t loss=17.5915\n",
      "iteration 15:\t loss=18.5758\n",
      "c = 100.0: \tattack #3\n",
      "iteration 5:\t loss=16.6258\n",
      "iteration 10:\t loss=18.1365\n",
      "iteration 15:\t loss=19.2099\n",
      "c = 100.0: \tattack #4\n",
      "iteration 5:\t loss=16.2961\n",
      "iteration 10:\t loss=17.3485\n",
      "iteration 15:\t loss=17.9423\n",
      "c = 100.0: \tattack #5\n",
      "iteration 5:\t loss=16.7068\n",
      "iteration 10:\t loss=18.5199\n",
      "iteration 15:\t loss=19.9050\n",
      "c = 1000.0: \tattack #1\n",
      "iteration 5:\t loss=16.3523\n",
      "iteration 10:\t loss=17.9664\n",
      "iteration 15:\t loss=19.2183\n",
      "c = 1000.0: \tattack #2\n",
      "iteration 5:\t loss=17.0362\n",
      "iteration 10:\t loss=18.3849\n",
      "iteration 15:\t loss=19.3533\n",
      "c = 1000.0: \tattack #3\n",
      "iteration 5:\t loss=16.1887\n",
      "iteration 10:\t loss=17.8999\n",
      "iteration 15:\t loss=19.2020\n",
      "c = 1000.0: \tattack #4\n",
      "iteration 5:\t loss=15.9472\n",
      "iteration 10:\t loss=17.4753\n",
      "iteration 15:\t loss=18.6674\n",
      "c = 1000.0: \tattack #5\n",
      "iteration 5:\t loss=16.7037\n",
      "iteration 10:\t loss=18.7205\n",
      "iteration 15:\t loss=20.3029\n"
     ]
    }
   ],
   "source": [
    "c_values_to_l2_sum, c_values_to_prob =bechmark_c_values(5, 15, f6, 1)"
   ]
  },
  {
   "cell_type": "code",
   "execution_count": 22,
   "id": "0613641f-ec56-42b6-b34a-6ec69021735b",
   "metadata": {},
   "outputs": [
    {
     "data": {
      "image/png": "[encoded data removed]",
      "text/plain": [
       "<Figure size 800x600 with 2 Axes>"
      ]
     },
     "metadata": {},
     "output_type": "display_data"
    }
   ],
   "source": [
    "fig, ax1, ax2 = xlab.utils.plot_dual_2d(\n",
    "    x=list(c_values_to_l2_sum.keys()), \n",
    "    y1=list(c_values_to_l2_sum.values()), \n",
    "    y2=list(c_values_to_prob.values()),\n",
    "    y1_label='L2 Distance',\n",
    "    y2_label='Sucess Probability',\n",
    "    x_label='c value',\n",
    "    y1_axis_label='L2 Distance',\n",
    "    y2_axis_label='Sucess Probability',\n",
    "    log_x=True,\n",
    ")"
   ]
  },
  {
   "cell_type": "markdown",
   "id": "67540d23-ba5f-4775-bcf9-1e4ee84dbc50",
   "metadata": {},
   "source": [
    "### What do these results mean?\n",
    "\n",
    "This shows that there is some tradeoff between $L_2$ distance and the probability of attack success. Perhaps an even better way to think about this is there is a tradeoff between how close an image is to it's original and how easily one can fool the model.\n",
    "\n",
    "So if there is some kind of tradeoff present, how do we choose the best value for $c$? The author's make the following claim (note that $x^{*}$ is a notation for the adversarial example):\n",
    "\n",
    "<blockquote>\n",
    "    Empirically, we have found that often the best way to choose\n",
    "$c$ is to use the smallest value of $c$ for which the resulting\n",
    "solution $x^{*}$ has $f(x^{*}\n",
    ")\\leq 0$. This causes gradient descent to\n",
    "minimize both of the terms simultaneously instead of picking\n",
    "only one to optimize over first.\n",
    "</blockquote>\n",
    "\n",
    "\n",
    "In the paper the author's use a modified binary search to find this value of $c$. For brevity we leave this as an excercise to the reader but would not expect this to be too difficult to program. For our purposes, we observe that given a reasonable number of iterations in the $L_2$ setting, $c=0.015$ gives a high probability of success and undetectable perturbations in the $L_2$ setting."
   ]
  },
  {
   "cell_type": "markdown",
   "id": "0487a1ea-bb2f-4fb6-8baa-ead15943da0c",
   "metadata": {},
   "source": [
    "## Task #6: Confidence-Adjusted $f$\n",
    "\n",
    "For task 4 you found that $f_6$ was the most effective choice for $f$. For the $L_2$ attack that we will be implementing, the authors use a slight variation of $f_6$ which introduces a new constant $\\tau$ which encourages the attack to find classifications that confidently choose the wrong class. This variation is shown below:\n",
    "\n",
    "$$\n",
    "f_6(x_{\\mathrm{adversarial}}) = \\max((\\max_{i \\neq t}(Z(x_{\\mathrm{adversarial}}) - Z_t(x_{\\mathrm{adversarial}})), -\\tau)\n",
    "$$\n",
    "\n",
    "The $\\tau$ parameter is different than the $c$ parameter because while the $c$ parameter weights how much the attack cares about the function $f$ the $\\tau$ parameter determines a threshold for how confident of a misclassification $f$ is aiming for. \n",
    "\n"
   ]
  },
  {
   "cell_type": "code",
   "execution_count": 23,
   "id": "deefd3e6-cf75-474b-a2bf-948ac77e110c",
   "metadata": {},
   "outputs": [],
   "source": [
    "def confident_f6(logits, target, tau):\n",
    "    i_neq_t = torch.argmax(logits)\n",
    "    if i_neq_t == target:\n",
    "        masked_logits = logits.clone()\n",
    "        masked_logits[target] = float('-inf')\n",
    "        i_neq_t = torch.argmax(masked_logits)\n",
    "    return torch.max((logits[i_neq_t] - logits[target]), -torch.tensor(tau))"
   ]
  },
  {
   "cell_type": "code",
   "execution_count": 24,
   "id": "31628e40-f8f7-467a-815e-814144cf7f0c",
   "metadata": {},
   "outputs": [
    {
     "name": "stdout",
     "output_type": "stream",
     "text": [
      "tensor(2.)\n",
      "tensor(0.)\n",
      "tensor(-0.0100)\n"
     ]
    }
   ],
   "source": [
    "tau = 0.01\n",
    "\n",
    "x = torch.tensor([1.0, 3.0])\n",
    "print(confident_f6(x, 0, tau)) # should be >0\n",
    "x = torch.tensor([1.0, 1.0])\n",
    "print(confident_f6(x, 0, tau)) # should be =0\n",
    "x = torch.tensor([3.0, 1.0])\n",
    "print(confident_f6(x, 0, tau)) # should be <0"
   ]
  },
  {
   "cell_type": "code",
   "execution_count": 26,
   "id": "be30f6f6-13f8-43db-a39e-d354971dfb2b",
   "metadata": {},
   "outputs": [
    {
     "name": "stdout",
     "output_type": "stream",
     "text": [
      "\u001b[1m============================= test session starts ==============================\u001b[0m\n",
      "collected 30 items / 24 deselected / 6 selected\n",
      "\n",
      "\u001b[32mPASSED\u001b[0m\u001b[32m [ 16%]\u001b[0mts/cw.py::test_confident_f6_output_shape_and_type \n",
      "\u001b[32mPASSED\u001b[0m\u001b[32m [ 33%]\u001b[0mts/cw.py::test_confident_f6_target_not_max \n",
      "\u001b[32mPASSED\u001b[0m\u001b[32m [ 50%]\u001b[0mts/cw.py::test_confident_f6_target_is_max \n",
      "\u001b[32mPASSED\u001b[0m\u001b[32m [ 66%]\u001b[0mts/cw.py::test_confident_f6_tau_clamping \n",
      "\u001b[32mPASSED\u001b[0m\u001b[32m [ 83%]\u001b[0mts/cw.py::test_confident_f6_no_clamping_needed \n",
      "\u001b[32mPASSED\u001b[0m\u001b[32m [100%]\u001b[0mts/cw.py::test_confident_f6_different_tau_values \n",
      "\n",
      "\u001b[32m======================= \u001b[32m\u001b[1m6 passed\u001b[0m, \u001b[33m24 deselected\u001b[0m\u001b[32m in 0.03s\u001b[0m\u001b[32m =======================\u001b[0m\n",
      "✅ All checks passed!\n"
     ]
    }
   ],
   "source": [
    "_ = xlab.tests.cw.task6(confident_f6)"
   ]
  },
  {
   "cell_type": "markdown",
   "id": "e34b0311-c8a1-45ad-9764-f82995f0089f",
   "metadata": {},
   "source": [
    "## Task 7-8: Change of variables\n",
    "\n",
    "If you have not already read [our writeup for Carlini-Wagner attacks](https://xlabaisecurity.com/adversarial/cw/) on our website we highly recommend you do so now. Here is where things start to get tricky.\n",
    "\n",
    "So far we have been thinking about adversarial examples as $x$ (the original image) plus a set of perturbations $\\delta$ bounded by some $L_p$ norm. The issue is that $x + \\delta$ can be greater than 1 or less than 0 which would make it an invalid image. Therefore, Carlini and Wagner propose writing $x + \\delta$ as a function of a new variable $w$ where $f(w)$ is always between zero and one. Here is the equation they proposed:\n",
    "\n",
    "$$\n",
    "x_i + \\delta_i = \\frac{1}{2} (\\tanh({w_i}) + 1)\n",
    "$$"
   ]
  },
  {
   "cell_type": "markdown",
   "id": "09fdbac7-f96c-4b37-b04f-fbeed1a4fc96",
   "metadata": {},
   "source": [
    "### Task #7: Caclculate $x + \\delta$ given $w$\n",
    "\n",
    "In task #6, you will calculate the above equation element-wise to find tensor $x + \\delta$ given a tensor $w$."
   ]
  },
  {
   "cell_type": "code",
   "execution_count": 27,
   "id": "c9d31c9f-5011-4109-ae18-57c48c4d3068",
   "metadata": {},
   "outputs": [],
   "source": [
    "def get_adv_from_w(w):\n",
    "    return 0.5 * (torch.tanh(w) + 1)"
   ]
  },
  {
   "cell_type": "code",
   "execution_count": 28,
   "id": "4d697a12-d76f-4a96-b35e-80abf8e9786f",
   "metadata": {},
   "outputs": [
    {
     "name": "stdout",
     "output_type": "stream",
     "text": [
      "\u001b[1m============================= test session starts ==============================\u001b[0m\n",
      "collected 30 items / 26 deselected / 4 selected\n",
      "\n",
      "\u001b[32mPASSED\u001b[0m\u001b[32m [ 25%]\u001b[0mts/cw.py::test_get_adv_from_w_output_shape_and_type \n",
      "\u001b[32mPASSED\u001b[0m\u001b[32m [ 50%]\u001b[0mts/cw.py::test_get_adv_from_w_value_range \n",
      "\u001b[32mPASSED\u001b[0m\u001b[32m [ 75%]\u001b[0mts/cw.py::test_get_adv_from_w_specific_values \n",
      "\u001b[32mPASSED\u001b[0m\u001b[32m [100%]\u001b[0mts/cw.py::test_get_adv_from_w_gradient_preservation \n",
      "\n",
      "\u001b[32m======================= \u001b[32m\u001b[1m4 passed\u001b[0m, \u001b[33m26 deselected\u001b[0m\u001b[32m in 0.02s\u001b[0m\u001b[32m =======================\u001b[0m\n",
      "✅ All checks passed!\n"
     ]
    }
   ],
   "source": [
    "_ = xlab.tests.cw.task7(get_adv_from_w)"
   ]
  },
  {
   "cell_type": "markdown",
   "id": "52bfb0a1-cc8e-4cc1-8e10-802178bef4fd",
   "metadata": {},
   "source": [
    "### Task #8: Caclculate $x + \\delta$ given $w$\n",
    "\n",
    "In task #7, you will find the tensor for $\\delta$--i.e., the difference between $x$ and the adversarial image."
   ]
  },
  {
   "cell_type": "code",
   "execution_count": 29,
   "id": "df75e0b1-46ab-4df3-8a90-c3f53ab25416",
   "metadata": {},
   "outputs": [],
   "source": [
    "def get_delta(w, x):\n",
    "    return 0.5 * (torch.tanh(w) + 1) - x"
   ]
  },
  {
   "cell_type": "code",
   "execution_count": 31,
   "id": "4dfe1a2f-13f8-42c5-825c-b0d777b766e1",
   "metadata": {},
   "outputs": [
    {
     "name": "stdout",
     "output_type": "stream",
     "text": [
      "\u001b[1m============================= test session starts ==============================\u001b[0m\n",
      "collected 30 items / 25 deselected / 5 selected\n",
      "\n",
      "\u001b[32mPASSED\u001b[0m\u001b[32m [ 20%]\u001b[0mts/cw.py::test_get_delta_output_shape_and_type \n",
      "\u001b[32mPASSED\u001b[0m\u001b[32m [ 40%]\u001b[0mts/cw.py::test_get_delta_computation \n",
      "\u001b[32mPASSED\u001b[0m\u001b[32m [ 60%]\u001b[0mts/cw.py::test_get_delta_zero_case \n",
      "\u001b[32mPASSED\u001b[0m\u001b[32m [ 80%]\u001b[0mts/cw.py::test_get_delta_gradient_preservation \n",
      "\u001b[32mPASSED\u001b[0m\u001b[32m [100%]\u001b[0mts/cw.py::test_get_delta_different_shapes \n",
      "\n",
      "\u001b[32m======================= \u001b[32m\u001b[1m5 passed\u001b[0m, \u001b[33m25 deselected\u001b[0m\u001b[32m in 0.03s\u001b[0m\u001b[32m =======================\u001b[0m\n",
      "✅ All checks passed!\n"
     ]
    }
   ],
   "source": [
    "_ = xlab.tests.cw.task8(get_delta)"
   ]
  },
  {
   "cell_type": "markdown",
   "id": "6af89408-d94b-47a5-8cf0-d9d530d2fdce",
   "metadata": {},
   "source": [
    "Now, let's plot what we have found. If we randomly initialize $w$ we should see large values for delta which are both positive and negative. However, $x+\\delta$ should be between 0 and 1. <b>You should not expect to see a reasonable adversarial image if you randomly initialize $w$.</b>"
   ]
  },
  {
   "cell_type": "code",
   "execution_count": 32,
   "id": "f070cb46-fa1f-45ed-ae8d-6d9a38fc0c32",
   "metadata": {},
   "outputs": [
    {
     "data": {
      "image/png": "[encoded data removed]",
      "text/plain": [
       "<Figure size 1200x400 with 6 Axes>"
      ]
     },
     "metadata": {},
     "output_type": "display_data"
    }
   ],
   "source": [
    "x_clean = x_test[0:0+1]\n",
    "rand_w = torch.randn_like(x_clean)\n",
    "adv = get_adv_from_w(rand_w)[0].cpu()\n",
    "delta = get_delta(rand_w, x_clean)[0].cpu()\n",
    "\n",
    "# you should expect to see positive and negative numbers\n",
    "_ = xlab.utils.plot_tensors(\n",
    "    [delta[0], delta[1], delta[2]],\n",
    "    log_scale=False, \n",
    "    ncols=3,\n",
    "    # log_scale=True,\n",
    "    titles = [\"delta (red)\", \"delta (green)\", \"delta (blue)\"]\n",
    ")"
   ]
  },
  {
   "cell_type": "code",
   "execution_count": 33,
   "id": "08e70647-8810-4c86-8001-5fc458e18af3",
   "metadata": {},
   "outputs": [
    {
     "data": {
      "image/png": "[encoded data removed]",
      "text/plain": [
       "<Figure size 1200x400 with 6 Axes>"
      ]
     },
     "metadata": {},
     "output_type": "display_data"
    }
   ],
   "source": [
    "# you should expect to see plots of positive numbers between 0 and 1\n",
    "_ = xlab.utils.plot_tensors(\n",
    "    [adv[0], adv[1], adv[2]],\n",
    "    log_scale=False, \n",
    "    ncols=3,\n",
    "    # log_scale=True,\n",
    "    titles = [\"inital adv img (red)\", \"inital adv img (green)\", \"inital adv img (blue)\"]\n",
    ")"
   ]
  },
  {
   "cell_type": "markdown",
   "id": "79de2177-911d-4303-9923-b4f31ed3d2a4",
   "metadata": {},
   "source": [
    "## Task #9: Putting it all together\n",
    "\n",
    "Recall the following equation from [the webpage](https://xlabaisecurity.com/adversarial/cw/) associated with these exercises. This outlines the structure of the loss that the CW attack aims to minimize.\n",
    "\n",
    "$$\n",
    "\\mathrm{minimize} \\ \\   \\| \\delta \\|_p + c \\cdot f(x + \\delta)\n",
    "$$\n",
    "\n",
    "With the change of variable shown above, this becomes:\n",
    "\n",
    "$$\n",
    "\\mathrm{minimize} \\ \\   \\| \\frac{1}{2} (\\tanh({w}) + 1) - x \\|_p + c \\cdot f(\\frac{1}{2} (\\tanh({w}) + 1))\n",
    "$$\n",
    "\n",
    "Now we will use this equation to implement that $L_2$ Carlini-Wagner attack the way that the authors constructed it in the original paper. There are two details that require your attention before continuing: \n",
    "\n",
    "1. The authors use $\\| \\delta \\|_2^2$ rather than $\\| \\delta \\|_2$ to minimize the size of $\\delta$.\n",
    "2. The authors choose $f$ to be the function you implemented in `confident_f6` rather than the function you implemented in `f6`\n",
    "\n",
    "This means your loss should look like this:\n",
    "\n",
    "$$\n",
    "\\mathrm{minimize} \\ \\   \\| \\frac{1}{2} (\\tanh({w}) + 1) - x \\|_2^2 + c \\cdot f_{\\mathrm{6-confident}}(\\frac{1}{2} (\\tanh({w}) + 1))\n",
    "$$\n",
    "\n",
    "<details>\n",
    "<summary>Hint for Task #9</summary>\n",
    "\n",
    "The image for this function will be passes with a batch dimension because that is what the model expects. However, when you call `confident_f6` the logits for a single image are expected. Therefore, you should squeeze out the zeroth dimension, as shown below.\n",
    "\n",
    "```python\n",
    "success_loss = c * confident_f6(logits[0], target, k)\n",
    "```\n",
    "</details>\n",
    "\n",
    "<details>\n",
    "<summary>🔐 <b>Solution for Task #9</b></summary>\n",
    "\n",
    "```python\n",
    "def CW_targeted_l2(img, model, c, target, k=0.1, l2_limit=0.5, num_iters=50):\n",
    "    device = next(model.parameters()).device\n",
    "    print(f\"Using device: {device} for testing...\")\n",
    "\n",
    "    # initalize cw weights and optimizer\n",
    "    cw_weights = torch.randn_like(img).to(device) * 0.001\n",
    "    cw_weights.requires_grad = True\n",
    "    optimizer = optim.Adam([cw_weights], lr=5e-2)\n",
    "\n",
    "    delta = get_delta(cw_weights, img)\n",
    "\n",
    "    for _ in range(num_iters):\n",
    "        # 1. Find logits\n",
    "        logits = model(img + delta)\n",
    "\n",
    "        # 2. Use c and confident_f6 to calculate the loss\n",
    "        success_loss = c * confident_f6(logits[0], target, k)\n",
    "\n",
    "        # 3. Find the L2 loss\n",
    "        l2_reg = torch.sum((delta) ** 2)\n",
    "\n",
    "        # 4. Call loss.backward(), optimizer.step(), optimizer.zero_grad()\n",
    "        loss = success_loss + l2_reg\n",
    "        loss.backward()\n",
    "        optimizer.step()\n",
    "        optimizer.zero_grad()\n",
    "\n",
    "        delta = get_delta(cw_weights, img)\n",
    "\n",
    "    # print results of attack\n",
    "    with torch.no_grad():\n",
    "        print(f\"total L2 loss:\\t {torch.sum((delta) ** 2)}\")\n",
    "        \n",
    "        logits = model(img + delta)\n",
    "        if torch.argmax(logits[0]) == target:\n",
    "            print(f\"Attack was sucessful: classification={target}\")\n",
    "        else: \n",
    "            print(f\"Attack was not sucessful: classification={torch.argmax(logits[0])}\")\n",
    "    \n",
    "    return get_adv_from_w(cw_weights)\n",
    "\n",
    "```\n",
    "</details>\n"
   ]
  },
  {
   "cell_type": "code",
   "execution_count": 34,
   "id": "40c432e7-896d-41f7-bb6f-96dd45eea545",
   "metadata": {},
   "outputs": [],
   "source": [
    "def CW_targeted_l2(img, model, c, target, k=0.1, l2_limit=0.5, num_iters=50):\n",
    "    device = next(model.parameters()).device\n",
    "    print(f\"Using device: {device} for testing...\")\n",
    "\n",
    "    # initalize cw weights and optimizer\n",
    "    cw_weights = torch.randn_like(img).to(device) * 0.001\n",
    "    cw_weights.requires_grad = True\n",
    "    optimizer = optim.Adam([cw_weights], lr=5e-2)\n",
    "\n",
    "    delta = get_delta(cw_weights, img)\n",
    "\n",
    "    for _ in range(num_iters):\n",
    "        logits = model(img + delta)\n",
    "\n",
    "        ######### YOUR CODE STARTS HERE ######### \n",
    "        # 1. Find logits\n",
    "        # 2. Use c and confident_f6 to calculate the loss\n",
    "        # 3. Find the L2 loss\n",
    "        # 4. Call loss.backward(), optimizer.step(), optimizer.zero_grad()\n",
    "        ######### YOUR CODE ENDS HERE #########\n",
    "\n",
    "    # print results of attack\n",
    "    with torch.no_grad():\n",
    "        print(f\"total L2 loss:\\t {torch.sum((delta) ** 2)}\")\n",
    "        \n",
    "        logits = model(img + delta)\n",
    "        if torch.argmax(logits[0]) == target:\n",
    "            print(f\"Attack was sucessful: classification={target}\")\n",
    "        else: \n",
    "            print(f\"Attack was not sucessful: classification={torch.argmax(logits[0])}\")\n",
    "    \n",
    "    return get_adv_from_w(cw_weights)"
   ]
  },
  {
   "cell_type": "code",
   "execution_count": 35,
   "id": "3c7fe6da-b572-4e63-b02c-36596805836c",
   "metadata": {},
   "outputs": [],
   "source": [
    "def CW_targeted_l2(img, model, c, target, k=0.1, l2_limit=0.5, num_iters=50):\n",
    "    device = next(model.parameters()).device\n",
    "    print(f\"Using device: {device} for testing...\")\n",
    "\n",
    "    # initalize cw weights and optimizer\n",
    "    cw_weights = torch.randn_like(img).to(device) * 0.001\n",
    "    cw_weights.requires_grad = True\n",
    "    optimizer = optim.Adam([cw_weights], lr=5e-2)\n",
    "\n",
    "    delta = get_delta(cw_weights, img)\n",
    "\n",
    "    for _ in range(num_iters):\n",
    "        # 1. Find logits\n",
    "        logits = model(img + delta)\n",
    "\n",
    "        # 2. Use c and confident_f6 to calculate the loss\n",
    "        success_loss = c * confident_f6(logits[0], target, k)\n",
    "\n",
    "        # 3. Find the L2 loss\n",
    "        l2_reg = torch.sum((delta) ** 2)\n",
    "\n",
    "        # 4. Call loss.backward(), optimizer.step(), optimizer.zero_grad()\n",
    "        loss = success_loss + l2_reg\n",
    "        loss.backward()\n",
    "        optimizer.step()\n",
    "        optimizer.zero_grad()\n",
    "\n",
    "        delta = get_delta(cw_weights, img)\n",
    "\n",
    "    # print results of attack\n",
    "    with torch.no_grad():\n",
    "        print(f\"total L2 loss:\\t {torch.sum((delta) ** 2)}\")\n",
    "        \n",
    "        logits = model(img + delta)\n",
    "        if torch.argmax(logits[0]) == target:\n",
    "            print(f\"Attack was sucessful: classification={target}\")\n",
    "        else: \n",
    "            print(f\"Attack was not sucessful: classification={torch.argmax(logits[0])}\")\n",
    "    \n",
    "    return get_adv_from_w(cw_weights)\n"
   ]
  },
  {
   "cell_type": "markdown",
   "id": "8e10dbe9-278a-491e-ba8e-58acf20bb97f",
   "metadata": {},
   "source": [
    "There are no automated tests for this final function but if you are able to misclassify the image of a cat using the code below, you solution is probably correct. We encourage you to also test on other images in the CIFAR-10 dataset."
   ]
  },
  {
   "cell_type": "code",
   "execution_count": 38,
   "id": "6cf70941-d3fb-48fc-bc7b-4fcfab9ce149",
   "metadata": {},
   "outputs": [
    {
     "name": "stdout",
     "output_type": "stream",
     "text": [
      "Using device: mps:0 for testing...\n",
      "total L2 loss:\t 0.38555875420570374\n",
      "Attack was sucessful: classification=2\n"
     ]
    }
   ],
   "source": [
    "img_adv = CW_targeted_l2(x_test[0:1], model, 0.03, 2, k=0.1, l2_limit=0.5, num_iters=50)"
   ]
  },
  {
   "cell_type": "code",
   "execution_count": 39,
   "id": "e610e9a7-ce5c-4771-b67f-69cbb05bc8cc",
   "metadata": {},
   "outputs": [
    {
     "data": {
      "image/png": "[encoded data removed]",
      "text/plain": [
       "<Figure size 640x480 with 1 Axes>"
      ]
     },
     "metadata": {},
     "output_type": "display_data"
    }
   ],
   "source": [
    "xlab.utils.show_image(img_adv.cpu())"
   ]
  },
  {
   "cell_type": "markdown",
   "id": "29e89d59-8fe0-47c7-9f18-694fdec84248",
   "metadata": {},
   "source": [
    "## Further Exploration\n",
    "\n",
    "Congratulations on finishing this notebook! The Carlini-Wagner attack is influential and well designed, but is also much more difficult than the content you encountered in the previous section.\n",
    "\n",
    "If you are interested in exploring this attack further there are a few aspects of the paper which we did not cover which you may find informative:\n",
    "\n",
    "1. For the $L_2$ attack, the authors use multiple starting points for their gradients descent to reduce the likelihood that the optimization becomes stuck in a local minima. Implementation details for this can be found on page 9 of [the paper](https://arxiv.org/pdf/1608.04644).\n",
    "2. There are also implementation details in the paper for two other kinds of CW attacks: the $L_0$ and $L_\\infty$ attacks. Now that you have completed the $L_2$ attack, the $L_\\infty$ should not be too difficult because it is moslty the same.\n",
    "3. Benchmarking FGSM, PGD and CW on different datasets. You should find that each attack has it's own advantages and disadvantages. CW, for example, may be more effective against some defenses while FSGM attacks should have a higher likelihood of transfering to an entirely different model."
   ]
  }
 ],
 "metadata": {
  "kernelspec": {
   "display_name": "Python 3 (ipykernel)",
   "language": "python",
   "name": "python3"
  },
  "language_info": {
   "codemirror_mode": {
    "name": "ipython",
    "version": 3
   },
   "file_extension": ".py",
   "mimetype": "text/x-python",
   "name": "python",
   "nbconvert_exporter": "python",
   "pygments_lexer": "ipython3",
   "version": "3.11.11"
  }
 },
 "nbformat": 4,
 "nbformat_minor": 5
}
