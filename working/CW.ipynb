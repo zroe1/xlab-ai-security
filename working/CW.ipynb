{
 "cells": [
  {
   "cell_type": "code",
   "execution_count": 1,
   "id": "76fec411-b9a4-43c2-b994-d1bbde6b6e43",
   "metadata": {},
   "outputs": [
    {
     "name": "stdout",
     "output_type": "stream",
     "text": [
      "Hello world! You are using version 0.1.7 of the package\n"
     ]
    }
   ],
   "source": [
    "import xlab # for testing your code\n",
    "xlab.hello_world()\n",
    "\n",
    "from robustbench.utils import load_model\n",
    "from robustbench.data import load_cifar10\n",
    "\n",
    "import torch\n",
    "from torch import nn\n",
    "from torch.nn import functional as F\n",
    "from torch import optim\n",
    "\n",
    "import matplotlib.pyplot as plt\n",
    "from autoattack import AutoAttack\n",
    "# import torchattacks\n",
    "import pickle\n",
    "import numpy as np\n",
    "\n",
    "device = torch.device('cuda' if torch.cuda.is_available() else 'mps' if torch.backends.mps.is_available() else 'cpu')"
   ]
  },
  {
   "cell_type": "code",
   "execution_count": 2,
   "id": "ee6dfc17-f3e1-4fb3-8d46-e5007a217060",
   "metadata": {},
   "outputs": [],
   "source": [
    "model = load_model(model_name='Standard', threat_model='Linf')\n",
    "model = model.to('mps')\n",
    "_ = model.eval()"
   ]
  },
  {
   "cell_type": "code",
   "execution_count": 3,
   "id": "3e1eb7bf-65ed-4f11-a974-3e369ef4aea5",
   "metadata": {},
   "outputs": [
    {
     "name": "stdout",
     "output_type": "stream",
     "text": [
      "Trainable parameters: 36,479,194\n"
     ]
    }
   ],
   "source": [
    "trainable_params = sum(p.numel() for p in model.parameters() if p.requires_grad)\n",
    "print(f\"Trainable parameters: {trainable_params:,}\")"
   ]
  },
  {
   "cell_type": "code",
   "execution_count": 4,
   "id": "67e283e0-ed66-497b-9771-ffa14e6f66b0",
   "metadata": {},
   "outputs": [
    {
     "name": "stdout",
     "output_type": "stream",
     "text": [
      "x_test.shape=torch.Size([100, 3, 32, 32]), y_test.shape=torch.Size([100])\n"
     ]
    }
   ],
   "source": [
    "NUM_EXAMPLES = 100\n",
    "x_test, y_test = load_cifar10(n_examples=NUM_EXAMPLES)\n",
    "x_test, y_test = x_test.to(device), y_test.to(device)\n",
    "print(f\"{x_test.shape=}, {y_test.shape=}\")"
   ]
  },
  {
   "cell_type": "code",
   "execution_count": 35,
   "id": "c0605ab5-e6b6-4275-9ece-2ea73ee2b620",
   "metadata": {},
   "outputs": [],
   "source": [
    "def f_6(logits, target):\n",
    "    i_neq_t = torch.argmax(logits)\n",
    "    if i_neq_t == target:\n",
    "        i_neq_t = torch.argmax(torch.cat([logits[:target], logits[target+1:]]))\n",
    "    return F.relu(logits[i_neq_t] - logits[target])\n",
    "            \n",
    "\n",
    "def CW_targeted(img, model, c, target):\n",
    "    \n",
    "    cw_weights = torch.randn_like(img, requires_grad=True).to('mps')\n",
    "    optimizer = optim.Adam([cw_weights], lr=1e-1)\n",
    "\n",
    "    num_iters = 200\n",
    "    delta = 0.5 * (F.tanh(cw_weights) + 1) - img\n",
    "\n",
    "    for i in range(num_iters):\n",
    "        \n",
    "        logits = model((img + delta).unsqueeze(0))\n",
    "\n",
    "        if torch.argmax(logits[0]) == target and torch.max(torch.abs(delta)) < 8/255:\n",
    "            return delta\n",
    "\n",
    "        success_loss = c * f_6(logits[0], target)\n",
    "        l2_reg = torch.sum((delta)**2)\n",
    "\n",
    "        loss = success_loss + l2_reg\n",
    "        print(loss, success_loss, l2_reg)\n",
    "        \n",
    "        loss.backward()\n",
    "\n",
    "        # print(cw_weights)\n",
    "        # print(cw_weights.grad)\n",
    "        optimizer.step()\n",
    "        optimizer.zero_grad()\n",
    "\n",
    "        \n",
    "\n",
    "        delta = 0.5 * (F.tanh(cw_weights) + 1) - img\n",
    "    print(\"warning! targeted attack was not successful\")\n",
    "    return delta"
   ]
  },
  {
   "cell_type": "code",
   "execution_count": 36,
   "id": "005b47ff-7374-4281-ad71-852629e53228",
   "metadata": {},
   "outputs": [],
   "source": [
    "x = x_test[0]"
   ]
  },
  {
   "cell_type": "code",
   "execution_count": 37,
   "id": "3b6e35b6-eb7d-43a1-b01c-8614933ec1b6",
   "metadata": {},
   "outputs": [
    {
     "data": {
      "text/plain": [
       "<matplotlib.image.AxesImage at 0x17b1c9950>"
      ]
     },
     "execution_count": 37,
     "metadata": {},
     "output_type": "execute_result"
    },
    {
     "data": {
      "image/png": "[encoded data removed]",
      "text/plain": [
       "<Figure size 640x480 with 1 Axes>"
      ]
     },
     "metadata": {},
     "output_type": "display_data"
    }
   ],
   "source": [
    "plt.imshow(x.permute(1,2,0).cpu())"
   ]
  },
  {
   "cell_type": "code",
   "execution_count": 38,
   "id": "6a62ca2e-ad70-489b-ba1b-04215f3b9a01",
   "metadata": {
    "scrolled": true
   },
   "outputs": [
    {
     "name": "stdout",
     "output_type": "stream",
     "text": [
      "tensor(428.4894, device='mps:0', grad_fn=<AddBackward0>) tensor(0.0559, device='mps:0', grad_fn=<MulBackward0>) tensor(428.4335, device='mps:0', grad_fn=<SumBackward0>)\n",
      "tensor(383.1781, device='mps:0', grad_fn=<AddBackward0>) tensor(0.0557, device='mps:0', grad_fn=<MulBackward0>) tensor(383.1224, device='mps:0', grad_fn=<SumBackward0>)\n",
      "tensor(340.6284, device='mps:0', grad_fn=<AddBackward0>) tensor(0.0558, device='mps:0', grad_fn=<MulBackward0>) tensor(340.5726, device='mps:0', grad_fn=<SumBackward0>)\n",
      "tensor(301.1933, device='mps:0', grad_fn=<AddBackward0>) tensor(0.0563, device='mps:0', grad_fn=<MulBackward0>) tensor(301.1370, device='mps:0', grad_fn=<SumBackward0>)\n",
      "tensor(264.8531, device='mps:0', grad_fn=<AddBackward0>) tensor(0.0566, device='mps:0', grad_fn=<MulBackward0>) tensor(264.7965, device='mps:0', grad_fn=<SumBackward0>)\n",
      "tensor(231.5567, device='mps:0', grad_fn=<AddBackward0>) tensor(0.0560, device='mps:0', grad_fn=<MulBackward0>) tensor(231.5008, device='mps:0', grad_fn=<SumBackward0>)\n",
      "tensor(201.3593, device='mps:0', grad_fn=<AddBackward0>) tensor(0.0554, device='mps:0', grad_fn=<MulBackward0>) tensor(201.3039, device='mps:0', grad_fn=<SumBackward0>)\n",
      "tensor(174.2715, device='mps:0', grad_fn=<AddBackward0>) tensor(0.0557, device='mps:0', grad_fn=<MulBackward0>) tensor(174.2158, device='mps:0', grad_fn=<SumBackward0>)\n",
      "tensor(150.1875, device='mps:0', grad_fn=<AddBackward0>) tensor(0.0580, device='mps:0', grad_fn=<MulBackward0>) tensor(150.1295, device='mps:0', grad_fn=<SumBackward0>)\n",
      "tensor(128.9163, device='mps:0', grad_fn=<AddBackward0>) tensor(0.0609, device='mps:0', grad_fn=<MulBackward0>) tensor(128.8553, device='mps:0', grad_fn=<SumBackward0>)\n",
      "tensor(110.2707, device='mps:0', grad_fn=<AddBackward0>) tensor(0.0661, device='mps:0', grad_fn=<MulBackward0>) tensor(110.2047, device='mps:0', grad_fn=<SumBackward0>)\n",
      "tensor(94.0828, device='mps:0', grad_fn=<AddBackward0>) tensor(0.0714, device='mps:0', grad_fn=<MulBackward0>) tensor(94.0114, device='mps:0', grad_fn=<SumBackward0>)\n",
      "tensor(80.1718, device='mps:0', grad_fn=<AddBackward0>) tensor(0.0756, device='mps:0', grad_fn=<MulBackward0>) tensor(80.0962, device='mps:0', grad_fn=<SumBackward0>)\n",
      "tensor(68.3183, device='mps:0', grad_fn=<AddBackward0>) tensor(0.0786, device='mps:0', grad_fn=<MulBackward0>) tensor(68.2397, device='mps:0', grad_fn=<SumBackward0>)\n",
      "tensor(58.2750, device='mps:0', grad_fn=<AddBackward0>) tensor(0.0784, device='mps:0', grad_fn=<MulBackward0>) tensor(58.1967, device='mps:0', grad_fn=<SumBackward0>)\n",
      "tensor(49.8113, device='mps:0', grad_fn=<AddBackward0>) tensor(0.0775, device='mps:0', grad_fn=<MulBackward0>) tensor(49.7338, device='mps:0', grad_fn=<SumBackward0>)\n",
      "tensor(42.7199, device='mps:0', grad_fn=<AddBackward0>) tensor(0.0755, device='mps:0', grad_fn=<MulBackward0>) tensor(42.6444, device='mps:0', grad_fn=<SumBackward0>)\n",
      "tensor(36.8112, device='mps:0', grad_fn=<AddBackward0>) tensor(0.0727, device='mps:0', grad_fn=<MulBackward0>) tensor(36.7385, device='mps:0', grad_fn=<SumBackward0>)\n",
      "tensor(31.9065, device='mps:0', grad_fn=<AddBackward0>) tensor(0.0676, device='mps:0', grad_fn=<MulBackward0>) tensor(31.8389, device='mps:0', grad_fn=<SumBackward0>)\n",
      "tensor(27.8479, device='mps:0', grad_fn=<AddBackward0>) tensor(0.0582, device='mps:0', grad_fn=<MulBackward0>) tensor(27.7897, device='mps:0', grad_fn=<SumBackward0>)\n",
      "tensor(24.5070, device='mps:0', grad_fn=<AddBackward0>) tensor(0.0532, device='mps:0', grad_fn=<MulBackward0>) tensor(24.4538, device='mps:0', grad_fn=<SumBackward0>)\n",
      "tensor(21.7596, device='mps:0', grad_fn=<AddBackward0>) tensor(0.0502, device='mps:0', grad_fn=<MulBackward0>) tensor(21.7094, device='mps:0', grad_fn=<SumBackward0>)\n",
      "tensor(19.4978, device='mps:0', grad_fn=<AddBackward0>) tensor(0.0518, device='mps:0', grad_fn=<MulBackward0>) tensor(19.4460, device='mps:0', grad_fn=<SumBackward0>)\n",
      "tensor(17.6255, device='mps:0', grad_fn=<AddBackward0>) tensor(0.0563, device='mps:0', grad_fn=<MulBackward0>) tensor(17.5692, device='mps:0', grad_fn=<SumBackward0>)\n",
      "tensor(16.0679, device='mps:0', grad_fn=<AddBackward0>) tensor(0.0601, device='mps:0', grad_fn=<MulBackward0>) tensor(16.0078, device='mps:0', grad_fn=<SumBackward0>)\n",
      "tensor(14.7743, device='mps:0', grad_fn=<AddBackward0>) tensor(0.0613, device='mps:0', grad_fn=<MulBackward0>) tensor(14.7130, device='mps:0', grad_fn=<SumBackward0>)\n",
      "tensor(13.7019, device='mps:0', grad_fn=<AddBackward0>) tensor(0.0612, device='mps:0', grad_fn=<MulBackward0>) tensor(13.6407, device='mps:0', grad_fn=<SumBackward0>)\n",
      "tensor(12.7984, device='mps:0', grad_fn=<AddBackward0>) tensor(0.0561, device='mps:0', grad_fn=<MulBackward0>) tensor(12.7423, device='mps:0', grad_fn=<SumBackward0>)\n",
      "tensor(12.0218, device='mps:0', grad_fn=<AddBackward0>) tensor(0.0515, device='mps:0', grad_fn=<MulBackward0>) tensor(11.9703, device='mps:0', grad_fn=<SumBackward0>)\n",
      "tensor(11.3293, device='mps:0', grad_fn=<AddBackward0>) tensor(0.0464, device='mps:0', grad_fn=<MulBackward0>) tensor(11.2829, device='mps:0', grad_fn=<SumBackward0>)\n",
      "tensor(10.6896, device='mps:0', grad_fn=<AddBackward0>) tensor(0.0437, device='mps:0', grad_fn=<MulBackward0>) tensor(10.6459, device='mps:0', grad_fn=<SumBackward0>)\n",
      "tensor(10.0747, device='mps:0', grad_fn=<AddBackward0>) tensor(0.0408, device='mps:0', grad_fn=<MulBackward0>) tensor(10.0339, device='mps:0', grad_fn=<SumBackward0>)\n",
      "tensor(9.4704, device='mps:0', grad_fn=<AddBackward0>) tensor(0.0370, device='mps:0', grad_fn=<MulBackward0>) tensor(9.4335, device='mps:0', grad_fn=<SumBackward0>)\n",
      "tensor(8.8766, device='mps:0', grad_fn=<AddBackward0>) tensor(0.0337, device='mps:0', grad_fn=<MulBackward0>) tensor(8.8429, device='mps:0', grad_fn=<SumBackward0>)\n",
      "tensor(8.2972, device='mps:0', grad_fn=<AddBackward0>) tensor(0.0305, device='mps:0', grad_fn=<MulBackward0>) tensor(8.2667, device='mps:0', grad_fn=<SumBackward0>)\n",
      "tensor(7.7428, device='mps:0', grad_fn=<AddBackward0>) tensor(0.0415, device='mps:0', grad_fn=<MulBackward0>) tensor(7.7013, device='mps:0', grad_fn=<SumBackward0>)\n",
      "tensor(7.2164, device='mps:0', grad_fn=<AddBackward0>) tensor(0.0483, device='mps:0', grad_fn=<MulBackward0>) tensor(7.1681, device='mps:0', grad_fn=<SumBackward0>)\n",
      "tensor(6.7145, device='mps:0', grad_fn=<AddBackward0>) tensor(0.0461, device='mps:0', grad_fn=<MulBackward0>) tensor(6.6684, device='mps:0', grad_fn=<SumBackward0>)\n",
      "tensor(6.2427, device='mps:0', grad_fn=<AddBackward0>) tensor(0.0395, device='mps:0', grad_fn=<MulBackward0>) tensor(6.2032, device='mps:0', grad_fn=<SumBackward0>)\n",
      "tensor(5.8089, device='mps:0', grad_fn=<AddBackward0>) tensor(0.0388, device='mps:0', grad_fn=<MulBackward0>) tensor(5.7702, device='mps:0', grad_fn=<SumBackward0>)\n",
      "tensor(5.3975, device='mps:0', grad_fn=<AddBackward0>) tensor(0.0402, device='mps:0', grad_fn=<MulBackward0>) tensor(5.3573, device='mps:0', grad_fn=<SumBackward0>)\n",
      "tensor(5.0211, device='mps:0', grad_fn=<AddBackward0>) tensor(0.0440, device='mps:0', grad_fn=<MulBackward0>) tensor(4.9771, device='mps:0', grad_fn=<SumBackward0>)\n",
      "tensor(4.6740, device='mps:0', grad_fn=<AddBackward0>) tensor(0.0441, device='mps:0', grad_fn=<MulBackward0>) tensor(4.6299, device='mps:0', grad_fn=<SumBackward0>)\n",
      "tensor(4.3531, device='mps:0', grad_fn=<AddBackward0>) tensor(0.0397, device='mps:0', grad_fn=<MulBackward0>) tensor(4.3135, device='mps:0', grad_fn=<SumBackward0>)\n",
      "tensor(4.0576, device='mps:0', grad_fn=<AddBackward0>) tensor(0.0328, device='mps:0', grad_fn=<MulBackward0>) tensor(4.0248, device='mps:0', grad_fn=<SumBackward0>)\n",
      "tensor(3.7933, device='mps:0', grad_fn=<AddBackward0>) tensor(0.0339, device='mps:0', grad_fn=<MulBackward0>) tensor(3.7594, device='mps:0', grad_fn=<SumBackward0>)\n",
      "tensor(3.5345, device='mps:0', grad_fn=<AddBackward0>) tensor(0.0410, device='mps:0', grad_fn=<MulBackward0>) tensor(3.4935, device='mps:0', grad_fn=<SumBackward0>)\n",
      "tensor(3.2925, device='mps:0', grad_fn=<AddBackward0>) tensor(0.0450, device='mps:0', grad_fn=<MulBackward0>) tensor(3.2474, device='mps:0', grad_fn=<SumBackward0>)\n",
      "tensor(3.0586, device='mps:0', grad_fn=<AddBackward0>) tensor(0.0408, device='mps:0', grad_fn=<MulBackward0>) tensor(3.0178, device='mps:0', grad_fn=<SumBackward0>)\n",
      "tensor(2.8337, device='mps:0', grad_fn=<AddBackward0>) tensor(0.0298, device='mps:0', grad_fn=<MulBackward0>) tensor(2.8039, device='mps:0', grad_fn=<SumBackward0>)\n",
      "tensor(2.6205, device='mps:0', grad_fn=<AddBackward0>) tensor(0.0150, device='mps:0', grad_fn=<MulBackward0>) tensor(2.6055, device='mps:0', grad_fn=<SumBackward0>)\n",
      "tensor(2.4333, device='mps:0', grad_fn=<AddBackward0>) tensor(0.0119, device='mps:0', grad_fn=<MulBackward0>) tensor(2.4215, device='mps:0', grad_fn=<SumBackward0>)\n",
      "tensor(2.2333, device='mps:0', grad_fn=<AddBackward0>) tensor(0., device='mps:0', grad_fn=<MulBackward0>) tensor(2.2333, device='mps:0', grad_fn=<SumBackward0>)\n",
      "tensor(2.0712, device='mps:0', grad_fn=<AddBackward0>) tensor(0.0213, device='mps:0', grad_fn=<MulBackward0>) tensor(2.0499, device='mps:0', grad_fn=<SumBackward0>)\n",
      "tensor(1.9144, device='mps:0', grad_fn=<AddBackward0>) tensor(0.0184, device='mps:0', grad_fn=<MulBackward0>) tensor(1.8960, device='mps:0', grad_fn=<SumBackward0>)\n",
      "tensor(1.7699, device='mps:0', grad_fn=<AddBackward0>) tensor(0., device='mps:0', grad_fn=<MulBackward0>) tensor(1.7699, device='mps:0', grad_fn=<SumBackward0>)\n",
      "tensor(1.6419, device='mps:0', grad_fn=<AddBackward0>) tensor(0., device='mps:0', grad_fn=<MulBackward0>) tensor(1.6419, device='mps:0', grad_fn=<SumBackward0>)\n",
      "tensor(1.5302, device='mps:0', grad_fn=<AddBackward0>) tensor(0.0202, device='mps:0', grad_fn=<MulBackward0>) tensor(1.5101, device='mps:0', grad_fn=<SumBackward0>)\n",
      "tensor(1.4056, device='mps:0', grad_fn=<AddBackward0>) tensor(0.0047, device='mps:0', grad_fn=<MulBackward0>) tensor(1.4008, device='mps:0', grad_fn=<SumBackward0>)\n",
      "tensor(1.3171, device='mps:0', grad_fn=<AddBackward0>) tensor(0., device='mps:0', grad_fn=<MulBackward0>) tensor(1.3171, device='mps:0', grad_fn=<SumBackward0>)\n",
      "tensor(1.2206, device='mps:0', grad_fn=<AddBackward0>) tensor(0., device='mps:0', grad_fn=<MulBackward0>) tensor(1.2206, device='mps:0', grad_fn=<SumBackward0>)\n",
      "tensor(1.1089, device='mps:0', grad_fn=<AddBackward0>) tensor(0., device='mps:0', grad_fn=<MulBackward0>) tensor(1.1089, device='mps:0', grad_fn=<SumBackward0>)\n",
      "tensor(1.0435, device='mps:0', grad_fn=<AddBackward0>) tensor(0.0439, device='mps:0', grad_fn=<MulBackward0>) tensor(0.9996, device='mps:0', grad_fn=<SumBackward0>)\n",
      "tensor(0.9581, device='mps:0', grad_fn=<AddBackward0>) tensor(0.0453, device='mps:0', grad_fn=<MulBackward0>) tensor(0.9128, device='mps:0', grad_fn=<SumBackward0>)\n",
      "tensor(0.8644, device='mps:0', grad_fn=<AddBackward0>) tensor(0.0174, device='mps:0', grad_fn=<MulBackward0>) tensor(0.8471, device='mps:0', grad_fn=<SumBackward0>)\n",
      "tensor(0.8040, device='mps:0', grad_fn=<AddBackward0>) tensor(0., device='mps:0', grad_fn=<MulBackward0>) tensor(0.8040, device='mps:0', grad_fn=<SumBackward0>)\n",
      "tensor(0.7453, device='mps:0', grad_fn=<AddBackward0>) tensor(0., device='mps:0', grad_fn=<MulBackward0>) tensor(0.7453, device='mps:0', grad_fn=<SumBackward0>)\n",
      "tensor(0.6692, device='mps:0', grad_fn=<AddBackward0>) tensor(0.0013, device='mps:0', grad_fn=<MulBackward0>) tensor(0.6679, device='mps:0', grad_fn=<SumBackward0>)\n",
      "tensor(0.6166, device='mps:0', grad_fn=<AddBackward0>) tensor(0.0173, device='mps:0', grad_fn=<MulBackward0>) tensor(0.5993, device='mps:0', grad_fn=<SumBackward0>)\n",
      "tensor(0.5653, device='mps:0', grad_fn=<AddBackward0>) tensor(0.0076, device='mps:0', grad_fn=<MulBackward0>) tensor(0.5577, device='mps:0', grad_fn=<SumBackward0>)\n",
      "tensor(0.5366, device='mps:0', grad_fn=<AddBackward0>) tensor(0., device='mps:0', grad_fn=<MulBackward0>) tensor(0.5366, device='mps:0', grad_fn=<SumBackward0>)\n",
      "tensor(0.5011, device='mps:0', grad_fn=<AddBackward0>) tensor(0., device='mps:0', grad_fn=<MulBackward0>) tensor(0.5011, device='mps:0', grad_fn=<SumBackward0>)\n",
      "tensor(0.4509, device='mps:0', grad_fn=<AddBackward0>) tensor(0., device='mps:0', grad_fn=<MulBackward0>) tensor(0.4509, device='mps:0', grad_fn=<SumBackward0>)\n",
      "tensor(0.4515, device='mps:0', grad_fn=<AddBackward0>) tensor(0.0508, device='mps:0', grad_fn=<MulBackward0>) tensor(0.4008, device='mps:0', grad_fn=<SumBackward0>)\n",
      "tensor(0.4155, device='mps:0', grad_fn=<AddBackward0>) tensor(0.0476, device='mps:0', grad_fn=<MulBackward0>) tensor(0.3679, device='mps:0', grad_fn=<SumBackward0>)\n",
      "tensor(0.3636, device='mps:0', grad_fn=<AddBackward0>) tensor(0.0103, device='mps:0', grad_fn=<MulBackward0>) tensor(0.3533, device='mps:0', grad_fn=<SumBackward0>)\n",
      "tensor(0.3600, device='mps:0', grad_fn=<AddBackward0>) tensor(0., device='mps:0', grad_fn=<MulBackward0>) tensor(0.3600, device='mps:0', grad_fn=<SumBackward0>)\n",
      "tensor(0.3466, device='mps:0', grad_fn=<AddBackward0>) tensor(0., device='mps:0', grad_fn=<MulBackward0>) tensor(0.3466, device='mps:0', grad_fn=<SumBackward0>)\n",
      "tensor(0.3070, device='mps:0', grad_fn=<AddBackward0>) tensor(0., device='mps:0', grad_fn=<MulBackward0>) tensor(0.3070, device='mps:0', grad_fn=<SumBackward0>)\n",
      "tensor(0.2823, device='mps:0', grad_fn=<AddBackward0>) tensor(0.0209, device='mps:0', grad_fn=<MulBackward0>) tensor(0.2613, device='mps:0', grad_fn=<SumBackward0>)\n",
      "tensor(0.2646, device='mps:0', grad_fn=<AddBackward0>) tensor(0.0288, device='mps:0', grad_fn=<MulBackward0>) tensor(0.2358, device='mps:0', grad_fn=<SumBackward0>)\n",
      "tensor(0.2307, device='mps:0', grad_fn=<AddBackward0>) tensor(0.0037, device='mps:0', grad_fn=<MulBackward0>) tensor(0.2270, device='mps:0', grad_fn=<SumBackward0>)\n",
      "tensor(0.2247, device='mps:0', grad_fn=<AddBackward0>) tensor(0., device='mps:0', grad_fn=<MulBackward0>) tensor(0.2247, device='mps:0', grad_fn=<SumBackward0>)\n",
      "tensor(0.2152, device='mps:0', grad_fn=<AddBackward0>) tensor(0.0024, device='mps:0', grad_fn=<MulBackward0>) tensor(0.2127, device='mps:0', grad_fn=<SumBackward0>)\n",
      "tensor(0.2123, device='mps:0', grad_fn=<AddBackward0>) tensor(0., device='mps:0', grad_fn=<MulBackward0>) tensor(0.2123, device='mps:0', grad_fn=<SumBackward0>)\n",
      "tensor(0.1968, device='mps:0', grad_fn=<AddBackward0>) tensor(0., device='mps:0', grad_fn=<MulBackward0>) tensor(0.1968, device='mps:0', grad_fn=<SumBackward0>)\n",
      "tensor(0.1969, device='mps:0', grad_fn=<AddBackward0>) tensor(0.0263, device='mps:0', grad_fn=<MulBackward0>) tensor(0.1706, device='mps:0', grad_fn=<SumBackward0>)\n",
      "tensor(0.1630, device='mps:0', grad_fn=<AddBackward0>) tensor(0., device='mps:0', grad_fn=<MulBackward0>) tensor(0.1630, device='mps:0', grad_fn=<SumBackward0>)\n",
      "tensor(0.1729, device='mps:0', grad_fn=<AddBackward0>) tensor(0.0210, device='mps:0', grad_fn=<MulBackward0>) tensor(0.1519, device='mps:0', grad_fn=<SumBackward0>)\n",
      "tensor(0.1540, device='mps:0', grad_fn=<AddBackward0>) tensor(0., device='mps:0', grad_fn=<MulBackward0>) tensor(0.1540, device='mps:0', grad_fn=<SumBackward0>)\n",
      "tensor(0.1443, device='mps:0', grad_fn=<AddBackward0>) tensor(0.0014, device='mps:0', grad_fn=<MulBackward0>) tensor(0.1430, device='mps:0', grad_fn=<SumBackward0>)\n",
      "tensor(0.1410, device='mps:0', grad_fn=<AddBackward0>) tensor(0., device='mps:0', grad_fn=<MulBackward0>) tensor(0.1410, device='mps:0', grad_fn=<SumBackward0>)\n",
      "tensor(0.1306, device='mps:0', grad_fn=<AddBackward0>) tensor(0.0043, device='mps:0', grad_fn=<MulBackward0>) tensor(0.1263, device='mps:0', grad_fn=<SumBackward0>)\n",
      "tensor(0.1247, device='mps:0', grad_fn=<AddBackward0>) tensor(0., device='mps:0', grad_fn=<MulBackward0>) tensor(0.1247, device='mps:0', grad_fn=<SumBackward0>)\n",
      "tensor(0.1142, device='mps:0', grad_fn=<AddBackward0>) tensor(0.0030, device='mps:0', grad_fn=<MulBackward0>) tensor(0.1113, device='mps:0', grad_fn=<SumBackward0>)\n",
      "tensor(0.1148, device='mps:0', grad_fn=<AddBackward0>) tensor(0., device='mps:0', grad_fn=<MulBackward0>) tensor(0.1148, device='mps:0', grad_fn=<SumBackward0>)\n",
      "tensor(0.1056, device='mps:0', grad_fn=<AddBackward0>) tensor(0., device='mps:0', grad_fn=<MulBackward0>) tensor(0.1056, device='mps:0', grad_fn=<SumBackward0>)\n",
      "tensor(0.1258, device='mps:0', grad_fn=<AddBackward0>) tensor(0.0387, device='mps:0', grad_fn=<MulBackward0>) tensor(0.0870, device='mps:0', grad_fn=<SumBackward0>)\n",
      "tensor(0.1073, device='mps:0', grad_fn=<AddBackward0>) tensor(0.0238, device='mps:0', grad_fn=<MulBackward0>) tensor(0.0834, device='mps:0', grad_fn=<SumBackward0>)\n",
      "tensor(0.0984, device='mps:0', grad_fn=<AddBackward0>) tensor(0., device='mps:0', grad_fn=<MulBackward0>) tensor(0.0984, device='mps:0', grad_fn=<SumBackward0>)\n",
      "tensor(0.1038, device='mps:0', grad_fn=<AddBackward0>) tensor(0.0030, device='mps:0', grad_fn=<MulBackward0>) tensor(0.1008, device='mps:0', grad_fn=<SumBackward0>)\n",
      "tensor(0.0966, device='mps:0', grad_fn=<AddBackward0>) tensor(0., device='mps:0', grad_fn=<MulBackward0>) tensor(0.0966, device='mps:0', grad_fn=<SumBackward0>)\n",
      "tensor(0.1105, device='mps:0', grad_fn=<AddBackward0>) tensor(0.0262, device='mps:0', grad_fn=<MulBackward0>) tensor(0.0843, device='mps:0', grad_fn=<SumBackward0>)\n",
      "tensor(0.0884, device='mps:0', grad_fn=<AddBackward0>) tensor(0.0044, device='mps:0', grad_fn=<MulBackward0>) tensor(0.0840, device='mps:0', grad_fn=<SumBackward0>)\n",
      "tensor(0.1081, device='mps:0', grad_fn=<AddBackward0>) tensor(0., device='mps:0', grad_fn=<MulBackward0>) tensor(0.1081, device='mps:0', grad_fn=<SumBackward0>)\n",
      "tensor(0.1156, device='mps:0', grad_fn=<AddBackward0>) tensor(0., device='mps:0', grad_fn=<MulBackward0>) tensor(0.1156, device='mps:0', grad_fn=<SumBackward0>)\n",
      "tensor(0.0994, device='mps:0', grad_fn=<AddBackward0>) tensor(0., device='mps:0', grad_fn=<MulBackward0>) tensor(0.0994, device='mps:0', grad_fn=<SumBackward0>)\n",
      "tensor(0.1201, device='mps:0', grad_fn=<AddBackward0>) tensor(0.0452, device='mps:0', grad_fn=<MulBackward0>) tensor(0.0749, device='mps:0', grad_fn=<SumBackward0>)\n",
      "tensor(0.1040, device='mps:0', grad_fn=<AddBackward0>) tensor(0.0387, device='mps:0', grad_fn=<MulBackward0>) tensor(0.0653, device='mps:0', grad_fn=<SumBackward0>)\n",
      "tensor(0.0841, device='mps:0', grad_fn=<AddBackward0>) tensor(0.0065, device='mps:0', grad_fn=<MulBackward0>) tensor(0.0776, device='mps:0', grad_fn=<SumBackward0>)\n",
      "tensor(0.1088, device='mps:0', grad_fn=<AddBackward0>) tensor(0., device='mps:0', grad_fn=<MulBackward0>) tensor(0.1088, device='mps:0', grad_fn=<SumBackward0>)\n",
      "tensor(0.1177, device='mps:0', grad_fn=<AddBackward0>) tensor(0., device='mps:0', grad_fn=<MulBackward0>) tensor(0.1177, device='mps:0', grad_fn=<SumBackward0>)\n",
      "tensor(0.0979, device='mps:0', grad_fn=<AddBackward0>) tensor(0., device='mps:0', grad_fn=<MulBackward0>) tensor(0.0979, device='mps:0', grad_fn=<SumBackward0>)\n",
      "tensor(0.0999, device='mps:0', grad_fn=<AddBackward0>) tensor(0.0305, device='mps:0', grad_fn=<MulBackward0>) tensor(0.0694, device='mps:0', grad_fn=<SumBackward0>)\n",
      "tensor(0.0942, device='mps:0', grad_fn=<AddBackward0>) tensor(0.0387, device='mps:0', grad_fn=<MulBackward0>) tensor(0.0555, device='mps:0', grad_fn=<SumBackward0>)\n",
      "tensor(0.0819, device='mps:0', grad_fn=<AddBackward0>) tensor(0.0231, device='mps:0', grad_fn=<MulBackward0>) tensor(0.0588, device='mps:0', grad_fn=<SumBackward0>)\n",
      "tensor(0.0942, device='mps:0', grad_fn=<AddBackward0>) tensor(0.0162, device='mps:0', grad_fn=<MulBackward0>) tensor(0.0780, device='mps:0', grad_fn=<SumBackward0>)\n",
      "tensor(0.0884, device='mps:0', grad_fn=<AddBackward0>) tensor(0., device='mps:0', grad_fn=<MulBackward0>) tensor(0.0884, device='mps:0', grad_fn=<SumBackward0>)\n",
      "tensor(0.0792, device='mps:0', grad_fn=<AddBackward0>) tensor(0., device='mps:0', grad_fn=<MulBackward0>) tensor(0.0792, device='mps:0', grad_fn=<SumBackward0>)\n",
      "tensor(0.0944, device='mps:0', grad_fn=<AddBackward0>) tensor(0.0344, device='mps:0', grad_fn=<MulBackward0>) tensor(0.0600, device='mps:0', grad_fn=<SumBackward0>)\n",
      "tensor(0.0875, device='mps:0', grad_fn=<AddBackward0>) tensor(0.0316, device='mps:0', grad_fn=<MulBackward0>) tensor(0.0559, device='mps:0', grad_fn=<SumBackward0>)\n",
      "tensor(0.0676, device='mps:0', grad_fn=<AddBackward0>) tensor(0., device='mps:0', grad_fn=<MulBackward0>) tensor(0.0676, device='mps:0', grad_fn=<SumBackward0>)\n",
      "tensor(0.0721, device='mps:0', grad_fn=<AddBackward0>) tensor(0.0016, device='mps:0', grad_fn=<MulBackward0>) tensor(0.0705, device='mps:0', grad_fn=<SumBackward0>)\n",
      "tensor(0.0759, device='mps:0', grad_fn=<AddBackward0>) tensor(0., device='mps:0', grad_fn=<MulBackward0>) tensor(0.0759, device='mps:0', grad_fn=<SumBackward0>)\n",
      "tensor(0.0654, device='mps:0', grad_fn=<AddBackward0>) tensor(0.0002, device='mps:0', grad_fn=<MulBackward0>) tensor(0.0652, device='mps:0', grad_fn=<SumBackward0>)\n",
      "tensor(0.0666, device='mps:0', grad_fn=<AddBackward0>) tensor(0., device='mps:0', grad_fn=<MulBackward0>) tensor(0.0666, device='mps:0', grad_fn=<SumBackward0>)\n",
      "tensor(0.0671, device='mps:0', grad_fn=<AddBackward0>) tensor(0.0108, device='mps:0', grad_fn=<MulBackward0>) tensor(0.0563, device='mps:0', grad_fn=<SumBackward0>)\n",
      "tensor(0.0657, device='mps:0', grad_fn=<AddBackward0>) tensor(0., device='mps:0', grad_fn=<MulBackward0>) tensor(0.0657, device='mps:0', grad_fn=<SumBackward0>)\n",
      "tensor(0.0626, device='mps:0', grad_fn=<AddBackward0>) tensor(0., device='mps:0', grad_fn=<MulBackward0>) tensor(0.0626, device='mps:0', grad_fn=<SumBackward0>)\n",
      "tensor(0.0852, device='mps:0', grad_fn=<AddBackward0>) tensor(0.0358, device='mps:0', grad_fn=<MulBackward0>) tensor(0.0494, device='mps:0', grad_fn=<SumBackward0>)\n",
      "tensor(0.0596, device='mps:0', grad_fn=<AddBackward0>) tensor(0.0068, device='mps:0', grad_fn=<MulBackward0>) tensor(0.0529, device='mps:0', grad_fn=<SumBackward0>)\n",
      "tensor(0.0796, device='mps:0', grad_fn=<AddBackward0>) tensor(0., device='mps:0', grad_fn=<MulBackward0>) tensor(0.0796, device='mps:0', grad_fn=<SumBackward0>)\n",
      "tensor(0.0885, device='mps:0', grad_fn=<AddBackward0>) tensor(0., device='mps:0', grad_fn=<MulBackward0>) tensor(0.0885, device='mps:0', grad_fn=<SumBackward0>)\n",
      "tensor(0.0725, device='mps:0', grad_fn=<AddBackward0>) tensor(0., device='mps:0', grad_fn=<MulBackward0>) tensor(0.0725, device='mps:0', grad_fn=<SumBackward0>)\n",
      "tensor(0.1009, device='mps:0', grad_fn=<AddBackward0>) tensor(0.0519, device='mps:0', grad_fn=<MulBackward0>) tensor(0.0491, device='mps:0', grad_fn=<SumBackward0>)\n",
      "tensor(0.0924, device='mps:0', grad_fn=<AddBackward0>) tensor(0.0522, device='mps:0', grad_fn=<MulBackward0>) tensor(0.0402, device='mps:0', grad_fn=<SumBackward0>)\n",
      "tensor(0.0774, device='mps:0', grad_fn=<AddBackward0>) tensor(0.0301, device='mps:0', grad_fn=<MulBackward0>) tensor(0.0473, device='mps:0', grad_fn=<SumBackward0>)\n",
      "tensor(0.0846, device='mps:0', grad_fn=<AddBackward0>) tensor(0.0147, device='mps:0', grad_fn=<MulBackward0>) tensor(0.0699, device='mps:0', grad_fn=<SumBackward0>)\n",
      "tensor(0.0828, device='mps:0', grad_fn=<AddBackward0>) tensor(0., device='mps:0', grad_fn=<MulBackward0>) tensor(0.0828, device='mps:0', grad_fn=<SumBackward0>)\n",
      "tensor(0.0752, device='mps:0', grad_fn=<AddBackward0>) tensor(0.0012, device='mps:0', grad_fn=<MulBackward0>) tensor(0.0739, device='mps:0', grad_fn=<SumBackward0>)\n",
      "tensor(0.0678, device='mps:0', grad_fn=<AddBackward0>) tensor(0., device='mps:0', grad_fn=<MulBackward0>) tensor(0.0678, device='mps:0', grad_fn=<SumBackward0>)\n",
      "tensor(0.0855, device='mps:0', grad_fn=<AddBackward0>) tensor(0.0339, device='mps:0', grad_fn=<MulBackward0>) tensor(0.0516, device='mps:0', grad_fn=<SumBackward0>)\n",
      "tensor(0.0729, device='mps:0', grad_fn=<AddBackward0>) tensor(0.0213, device='mps:0', grad_fn=<MulBackward0>) tensor(0.0516, device='mps:0', grad_fn=<SumBackward0>)\n",
      "tensor(0.0739, device='mps:0', grad_fn=<AddBackward0>) tensor(0., device='mps:0', grad_fn=<MulBackward0>) tensor(0.0739, device='mps:0', grad_fn=<SumBackward0>)\n",
      "tensor(0.0817, device='mps:0', grad_fn=<AddBackward0>) tensor(0., device='mps:0', grad_fn=<MulBackward0>) tensor(0.0817, device='mps:0', grad_fn=<SumBackward0>)\n",
      "tensor(0.0732, device='mps:0', grad_fn=<AddBackward0>) tensor(0.0050, device='mps:0', grad_fn=<MulBackward0>) tensor(0.0682, device='mps:0', grad_fn=<SumBackward0>)\n",
      "tensor(0.0597, device='mps:0', grad_fn=<AddBackward0>) tensor(0.0003, device='mps:0', grad_fn=<MulBackward0>) tensor(0.0594, device='mps:0', grad_fn=<SumBackward0>)\n",
      "tensor(0.0666, device='mps:0', grad_fn=<AddBackward0>) tensor(0., device='mps:0', grad_fn=<MulBackward0>) tensor(0.0666, device='mps:0', grad_fn=<SumBackward0>)\n",
      "tensor(0.0780, device='mps:0', grad_fn=<AddBackward0>) tensor(0.0150, device='mps:0', grad_fn=<MulBackward0>) tensor(0.0631, device='mps:0', grad_fn=<SumBackward0>)\n",
      "tensor(0.0691, device='mps:0', grad_fn=<AddBackward0>) tensor(0., device='mps:0', grad_fn=<MulBackward0>) tensor(0.0691, device='mps:0', grad_fn=<SumBackward0>)\n",
      "tensor(0.0618, device='mps:0', grad_fn=<AddBackward0>) tensor(0., device='mps:0', grad_fn=<MulBackward0>) tensor(0.0618, device='mps:0', grad_fn=<SumBackward0>)\n",
      "tensor(0.0872, device='mps:0', grad_fn=<AddBackward0>) tensor(0.0401, device='mps:0', grad_fn=<MulBackward0>) tensor(0.0472, device='mps:0', grad_fn=<SumBackward0>)\n",
      "tensor(0.0746, device='mps:0', grad_fn=<AddBackward0>) tensor(0.0269, device='mps:0', grad_fn=<MulBackward0>) tensor(0.0476, device='mps:0', grad_fn=<SumBackward0>)\n",
      "tensor(0.0735, device='mps:0', grad_fn=<AddBackward0>) tensor(0.0094, device='mps:0', grad_fn=<MulBackward0>) tensor(0.0641, device='mps:0', grad_fn=<SumBackward0>)\n",
      "tensor(0.0781, device='mps:0', grad_fn=<AddBackward0>) tensor(0., device='mps:0', grad_fn=<MulBackward0>) tensor(0.0781, device='mps:0', grad_fn=<SumBackward0>)\n",
      "tensor(0.0752, device='mps:0', grad_fn=<AddBackward0>) tensor(0., device='mps:0', grad_fn=<MulBackward0>) tensor(0.0752, device='mps:0', grad_fn=<SumBackward0>)\n",
      "tensor(0.1061, device='mps:0', grad_fn=<AddBackward0>) tensor(0.0486, device='mps:0', grad_fn=<MulBackward0>) tensor(0.0575, device='mps:0', grad_fn=<SumBackward0>)\n",
      "tensor(0.0972, device='mps:0', grad_fn=<AddBackward0>) tensor(0.0504, device='mps:0', grad_fn=<MulBackward0>) tensor(0.0468, device='mps:0', grad_fn=<SumBackward0>)\n",
      "tensor(0.0756, device='mps:0', grad_fn=<AddBackward0>) tensor(0.0251, device='mps:0', grad_fn=<MulBackward0>) tensor(0.0506, device='mps:0', grad_fn=<SumBackward0>)\n",
      "tensor(0.0746, device='mps:0', grad_fn=<AddBackward0>) tensor(0., device='mps:0', grad_fn=<MulBackward0>) tensor(0.0746, device='mps:0', grad_fn=<SumBackward0>)\n",
      "tensor(0.0888, device='mps:0', grad_fn=<AddBackward0>) tensor(0.0083, device='mps:0', grad_fn=<MulBackward0>) tensor(0.0805, device='mps:0', grad_fn=<SumBackward0>)\n",
      "tensor(0.0806, device='mps:0', grad_fn=<AddBackward0>) tensor(0.0103, device='mps:0', grad_fn=<MulBackward0>) tensor(0.0703, device='mps:0', grad_fn=<SumBackward0>)\n",
      "tensor(0.0695, device='mps:0', grad_fn=<AddBackward0>) tensor(0., device='mps:0', grad_fn=<MulBackward0>) tensor(0.0695, device='mps:0', grad_fn=<SumBackward0>)\n",
      "tensor(0.0853, device='mps:0', grad_fn=<AddBackward0>) tensor(0.0283, device='mps:0', grad_fn=<MulBackward0>) tensor(0.0570, device='mps:0', grad_fn=<SumBackward0>)\n",
      "tensor(0.0681, device='mps:0', grad_fn=<AddBackward0>) tensor(0.0076, device='mps:0', grad_fn=<MulBackward0>) tensor(0.0605, device='mps:0', grad_fn=<SumBackward0>)\n",
      "tensor(0.0869, device='mps:0', grad_fn=<AddBackward0>) tensor(0., device='mps:0', grad_fn=<MulBackward0>) tensor(0.0869, device='mps:0', grad_fn=<SumBackward0>)\n",
      "tensor(0.0938, device='mps:0', grad_fn=<AddBackward0>) tensor(0., device='mps:0', grad_fn=<MulBackward0>) tensor(0.0938, device='mps:0', grad_fn=<SumBackward0>)\n",
      "tensor(0.0766, device='mps:0', grad_fn=<AddBackward0>) tensor(0.0008, device='mps:0', grad_fn=<MulBackward0>) tensor(0.0758, device='mps:0', grad_fn=<SumBackward0>)\n",
      "tensor(0.0812, device='mps:0', grad_fn=<AddBackward0>) tensor(0.0246, device='mps:0', grad_fn=<MulBackward0>) tensor(0.0566, device='mps:0', grad_fn=<SumBackward0>)\n",
      "tensor(0.0650, device='mps:0', grad_fn=<AddBackward0>) tensor(0.0007, device='mps:0', grad_fn=<MulBackward0>) tensor(0.0642, device='mps:0', grad_fn=<SumBackward0>)\n"
     ]
    }
   ],
   "source": [
    "out_delta = CW_targeted(x.to('mps'), model, 0.005, 0)"
   ]
  },
  {
   "cell_type": "code",
   "execution_count": 39,
   "id": "b95bedaa-52aa-47f6-ae19-3b6bc3b78a91",
   "metadata": {},
   "outputs": [
    {
     "data": {
      "text/plain": [
       "torch.Size([3, 32, 32])"
      ]
     },
     "execution_count": 39,
     "metadata": {},
     "output_type": "execute_result"
    }
   ],
   "source": [
    "out_delta.shape"
   ]
  },
  {
   "cell_type": "code",
   "execution_count": 40,
   "id": "51cb2270-38de-4cee-867d-9773a1201453",
   "metadata": {},
   "outputs": [
    {
     "data": {
      "text/plain": [
       "0.03137254901960784"
      ]
     },
     "execution_count": 40,
     "metadata": {},
     "output_type": "execute_result"
    }
   ],
   "source": [
    "8/255"
   ]
  },
  {
   "cell_type": "code",
   "execution_count": 41,
   "id": "8aa28c2b-d044-4e47-b0d7-f6ae9b3029c4",
   "metadata": {},
   "outputs": [
    {
     "data": {
      "text/plain": [
       "tensor(-0.0305, device='mps:0', grad_fn=<MinBackward1>)"
      ]
     },
     "execution_count": 41,
     "metadata": {},
     "output_type": "execute_result"
    }
   ],
   "source": [
    "out_delta.min()"
   ]
  },
  {
   "cell_type": "code",
   "execution_count": 42,
   "id": "e4e0a59f-a97c-4894-bf97-4300eeb73fa4",
   "metadata": {},
   "outputs": [
    {
     "data": {
      "image/png": "[encoded data removed]",
      "text/plain": [
       "<Figure size 800x400 with 4 Axes>"
      ]
     },
     "metadata": {},
     "output_type": "display_data"
    }
   ],
   "source": [
    "_ = xlab.utils.plot_tensors(\n",
    "    [out_delta[2].detach().cpu(), x.cpu()[2]], # plot only red channel, ignore green & blue\n",
    "    log_scale=False, \n",
    "    ncols=2,\n",
    "    titles = [\"out delta (green)\", \"image (green)\"]\n",
    ")"
   ]
  },
  {
   "cell_type": "code",
   "execution_count": 43,
   "id": "b26a72a0-b177-40f5-9a3a-bdaf3b441f2f",
   "metadata": {},
   "outputs": [],
   "source": [
    "x_adv = out_delta + x"
   ]
  },
  {
   "cell_type": "code",
   "execution_count": 44,
   "id": "c452f3c6-a499-4044-af0a-e810ef64e3b7",
   "metadata": {},
   "outputs": [
    {
     "data": {
      "text/plain": [
       "tensor([[13.4251, -0.7176, -1.3678,  3.0889, -5.2713, -1.6484, -1.6464, -2.5078,\n",
       "         -1.8055, -1.4932]], device='mps:0', grad_fn=<LinearBackward0>)"
      ]
     },
     "execution_count": 44,
     "metadata": {},
     "output_type": "execute_result"
    }
   ],
   "source": [
    "model(x_adv.unsqueeze(0))"
   ]
  },
  {
   "cell_type": "code",
   "execution_count": 45,
   "id": "f3a33030-6c27-4f43-bd41-6252f589ad55",
   "metadata": {},
   "outputs": [
    {
     "data": {
      "text/plain": [
       "torch.Size([3, 32, 32])"
      ]
     },
     "execution_count": 45,
     "metadata": {},
     "output_type": "execute_result"
    }
   ],
   "source": [
    "x_adv.shape"
   ]
  },
  {
   "cell_type": "code",
   "execution_count": 46,
   "id": "dbc27c3e-34f2-499f-a3e4-a3c90b6c2a4c",
   "metadata": {},
   "outputs": [
    {
     "data": {
      "text/plain": [
       "<matplotlib.image.AxesImage at 0x17c549d90>"
      ]
     },
     "execution_count": 46,
     "metadata": {},
     "output_type": "execute_result"
    },
    {
     "data": {
      "image/png": "[encoded data removed]",
      "text/plain": [
       "<Figure size 640x480 with 1 Axes>"
      ]
     },
     "metadata": {},
     "output_type": "display_data"
    }
   ],
   "source": [
    "plt.imshow(x_adv.detach().permute(1,2,0).cpu())"
   ]
  },
  {
   "cell_type": "code",
   "execution_count": null,
   "id": "c46cc289-3d7b-4a83-abad-b8711caa57d6",
   "metadata": {},
   "outputs": [],
   "source": []
  },
  {
   "cell_type": "code",
   "execution_count": null,
   "id": "de22f78d-7cbe-4496-856f-df7c609275d7",
   "metadata": {},
   "outputs": [],
   "source": []
  }
 ],
 "metadata": {
  "kernelspec": {
   "display_name": "Python 3 (ipykernel)",
   "language": "python",
   "name": "python3"
  },
  "language_info": {
   "codemirror_mode": {
    "name": "ipython",
    "version": 3
   },
   "file_extension": ".py",
   "mimetype": "text/x-python",
   "name": "python",
   "nbconvert_exporter": "python",
   "pygments_lexer": "ipython3",
   "version": "3.11.11"
  }
 },
 "nbformat": 4,
 "nbformat_minor": 5
}
