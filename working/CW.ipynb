{
 "cells": [
  {
   "cell_type": "markdown",
   "id": "565ae561-6c42-4d0c-898e-f2ef4de2f094",
   "metadata": {},
   "source": [
    "# Carlini Wagner Attacks"
   ]
  },
  {
   "cell_type": "code",
   "execution_count": 1,
   "id": "76fec411-b9a4-43c2-b994-d1bbde6b6e43",
   "metadata": {},
   "outputs": [
    {
     "name": "stdout",
     "output_type": "stream",
     "text": [
      "Hello world! You are using version 0.1.7 of the package\n",
      "You are using device: cuda\n"
     ]
    }
   ],
   "source": [
    "import xlab\n",
    "xlab.hello_world()\n",
    "\n",
    "# get CIFAR10 helper functions \n",
    "from xlab.utils import CIFAR10\n",
    "itos, stoi = CIFAR10.itos, CIFAR10.stoi\n",
    "\n",
    "# for loading out model and data\n",
    "from robustbench.utils import load_model\n",
    "from robustbench.data import load_cifar10\n",
    "\n",
    "# pytorch imports\n",
    "import torch\n",
    "from torch import nn\n",
    "from torch.nn import functional as F\n",
    "from torch import optim\n",
    "\n",
    "# for plotting\n",
    "import matplotlib.pyplot as plt\n",
    "\n",
    "device = torch.device('cuda' if torch.cuda.is_available() else 'mps' if torch.backends.mps.is_available() else 'cpu')\n",
    "print(f\"You are using device: {device}\")"
   ]
  },
  {
   "cell_type": "code",
   "execution_count": 3,
   "id": "000a6a62-e355-42b4-80cf-0d8440e250c6",
   "metadata": {},
   "outputs": [
    {
     "name": "stdout",
     "output_type": "stream",
     "text": [
      "Files already downloaded and verified\n",
      "x_test.shape=torch.Size([100, 3, 32, 32]), y_test.shape=torch.Size([100])\n"
     ]
    }
   ],
   "source": [
    "# load our data\n",
    "NUM_EXAMPLES = 100\n",
    "x_test, y_test = load_cifar10(n_examples=NUM_EXAMPLES)\n",
    "x_test, y_test = x_test.to(device), y_test.to(device)\n",
    "print(f\"{x_test.shape=}, {y_test.shape=}\")"
   ]
  },
  {
   "cell_type": "markdown",
   "id": "0df879e0-d470-4721-8875-8d0c96f44f0a",
   "metadata": {},
   "source": [
    "We will begin by loading a pretrained model for classification on CIFAR using robustbench. This is a much larger more impressive model than the one you looked at in the previous section."
   ]
  },
  {
   "cell_type": "code",
   "execution_count": 4,
   "id": "0d77c11d-40d9-4e62-b2e9-a81492b9efae",
   "metadata": {},
   "outputs": [],
   "source": [
    "model = load_model(model_name='Standard', threat_model='Linf')\n",
    "model = model.to(device)\n",
    "_ = model.eval()"
   ]
  },
  {
   "cell_type": "markdown",
   "id": "d9696e2a-a746-44f3-985c-78a77cd25ceb",
   "metadata": {},
   "source": [
    "First let's take a look at what we have. We can see that there is about 36.5 million trainable pameters in the model. This is actually quite large! For reference, we will be looking at the smallest version of GPT-2 later in the course. That has 128 million parameters, meaning our classifer is only a third of the size of the smallest transformer-based language models."
   ]
  },
  {
   "cell_type": "code",
   "execution_count": 5,
   "id": "5af5e1c5-817f-4fdf-b8cc-07999091dd9d",
   "metadata": {},
   "outputs": [
    {
     "name": "stdout",
     "output_type": "stream",
     "text": [
      "Trainable parameters: 36,479,194\n"
     ]
    }
   ],
   "source": [
    "# print the parameter count\n",
    "trainable_params = sum(p.numel() for p in model.parameters() if p.requires_grad)\n",
    "print(f\"Trainable parameters: {trainable_params:,}\")"
   ]
  },
  {
   "cell_type": "markdown",
   "id": "2d9bd9f1-2b5c-4599-88ac-1423556899e2",
   "metadata": {},
   "source": [
    "## Tasks 1-5: Writing the function $f(x + \\delta)$\n",
    "\n",
    "Recall that we will be using a loss to minimize the equation below.\n",
    "$$\n",
    "\\ell = \\mathcal{D}(x, x + \\delta) + c \\cdot f (x + \\delta)\n",
    "$$\n",
    "\n",
    "The function $\\mathcal{D}$ measures how different $x$ (the original image) is from $x + \\delta$ where $\\delta$ is the purtubations we are making to the image. In the original paper, Carlini and Wagner list seven of reasonable choices you could make for $f$. For brevity, you will only implement and compare 3 of them. \n",
    "\n",
    "Note that the equations below are presented slightly differently than in the original paper. They are all mathematically equivalent, but we have rewritten some for clarity. \n",
    "\n",
    "<details>\n",
    "<summary>⚠️ <b>Caution</b></summary>\n",
    "\n",
    "In this section we will have you implement 3 out of the 7 choices for $f$. We encourage you to implement the other choices of $f$ from [the paper](https://arxiv.org/pdf/1608.04644) if you are interested. We will caution you however that there appears to be a sign error in equation #1. The correct equation with the right signs should be shown below. Cross Entropy here will be taken with $\\log_2$ rather than $\\log_e$.\n",
    "\n",
    "$$\n",
    "f_1(x_{\\mathrm{adversarial}}) = \\mathrm{CrossEntropy}(F(x_{\\mathrm{adversarial}})) - 1\n",
    "$$\n",
    "\n",
    "In general we find that the \"Objective Function\" section of the paper has several mistakes . For example they say that they \"define an objective function $f$ such that $C(x + \\delta) = t$ if and only if $f(x + \\delta) \\leq 0$.\" but it is trivial to show that equation 4 does not satisfy the \"if and only if\" condition.\n",
    "\n",
    "</details>"
   ]
  },
  {
   "cell_type": "markdown",
   "id": "539f6e0d-11f7-4ba5-ab2d-12347258a306",
   "metadata": {},
   "source": [
    "### Task #1: Implementing $f_2$"
   ]
  },
  {
   "cell_type": "markdown",
   "id": "6fbfb9b1-06c6-4c0c-83cb-b041016184fb",
   "metadata": {},
   "source": [
    "For task #1 you will implement $f_2$ from [the paper](https://arxiv.org/pdf/1608.04644). \n",
    "\n",
    "The equation for $f_2$ is below. $F_t(x)$ is the model output for class $t$ including the [softmax](https://docs.pytorch.org/docs/stable/generated/torch.nn.Softmax.html) which gives probabilities rather than logits. The first term in this equation takes the greatest softmax probability that is not the target class. We encourage you to pause and think about why the equation is structured in the way that it is.\n",
    "\n",
    "$$\n",
    "f_2(x_{\\mathrm{adversarial}}) = \\mathrm{ReLU}(\\max_{i \\neq t}(F(x_{\\mathrm{adversarial}})) - F_t(x_{\\mathrm{adversarial}}))\n",
    "$$"
   ]
  },
  {
   "cell_type": "code",
   "execution_count": 6,
   "id": "1c903634-5232-4bd6-8666-5b7f5a96c2f2",
   "metadata": {},
   "outputs": [],
   "source": [
    "def f2(logits, target):\n",
    "    softmax_probs = F.softmax(logits, dim=0)\n",
    "    i_neq_t = torch.argmax(softmax_probs)\n",
    "    if i_neq_t == target:\n",
    "        i_neq_t = torch.argmax(torch.cat([softmax_probs[:target], softmax_probs[target+1:]]))\n",
    "    return F.relu(softmax_probs[i_neq_t] - softmax_probs[target])"
   ]
  },
  {
   "cell_type": "code",
   "execution_count": 7,
   "id": "2010ffce-f818-461b-9e59-0737229dd99d",
   "metadata": {},
   "outputs": [
    {
     "name": "stdout",
     "output_type": "stream",
     "text": [
      "tensor(0.7616)\n",
      "tensor(0.)\n",
      "tensor(0.)\n"
     ]
    }
   ],
   "source": [
    "x = torch.tensor([1.0, 3.0])\n",
    "print(f2(x, 0)) # should be >0\n",
    "x = torch.tensor([1.0, 1.0])\n",
    "print(f2(x, 0)) # should be =0\n",
    "x = torch.tensor([3.0, 1.0])\n",
    "print(f2(x, 0)) # should be =0"
   ]
  },
  {
   "cell_type": "markdown",
   "id": "8a926e4c-3af3-4f9a-9cc8-c7dc52eba2e9",
   "metadata": {},
   "source": [
    "### Task #2: Implementing $f_4$\n",
    "\n",
    "This is similar to the equation above. The only difference is that we are inforcing the requirement that the target class has a probability greater than or equal to 0.5 rather a probability greater than or equal to any of the other classes.\n",
    "\n",
    "$$\n",
    "f_4(x_{\\mathrm{adversarial}}) = \\mathrm{ReLU}(0.5 - F_t(x_{\\mathrm{adversarial}}))\n",
    "$$"
   ]
  },
  {
   "cell_type": "code",
   "execution_count": 8,
   "id": "24d40613-7c21-4972-86b8-7b6b64cb5e2d",
   "metadata": {},
   "outputs": [],
   "source": [
    "def f4(logits, target):\n",
    "    softmax_probs = F.softmax(logits, dim=0)\n",
    "    return F.relu(0.5 - softmax_probs[target])"
   ]
  },
  {
   "cell_type": "code",
   "execution_count": 9,
   "id": "217bcb47-a704-4b07-8ec9-babceb765e30",
   "metadata": {},
   "outputs": [
    {
     "name": "stdout",
     "output_type": "stream",
     "text": [
      "tensor(0.3808)\n",
      "tensor(0.)\n",
      "tensor(0.)\n"
     ]
    }
   ],
   "source": [
    "x = torch.tensor([1.0, 3.0])\n",
    "print(f4(x, 0)) # should be >0\n",
    "x = torch.tensor([1.0, 1.0])\n",
    "print(f4(x, 0)) # should be =0\n",
    "x = torch.tensor([3.0, 1.0])\n",
    "print(f4(x, 0)) # should be =0"
   ]
  },
  {
   "cell_type": "markdown",
   "id": "0e236ef0-e8b1-4f63-9add-1deb036bc979",
   "metadata": {},
   "source": [
    "### Task #3: Implementing $f_6$"
   ]
  },
  {
   "cell_type": "markdown",
   "id": "2b203978-98e6-4585-b6e8-e7b10653b9b4",
   "metadata": {},
   "source": [
    "This is very similar ot $f_2$. The difference is we use $Z_t(x)$ instead of $F_t(x)$. $Z_t(x)$ is the raw output of the model for class $t$ rather than the output after the softmax.\n",
    "\n",
    "$$\n",
    "f_6(x_{\\mathrm{adversarial}}) = \\mathrm{ReLU}(\\max_{i \\neq t}(Z(x_{\\mathrm{adversarial}})) - Z_t(x_{\\mathrm{adversarial}}))\n",
    "$$"
   ]
  },
  {
   "cell_type": "code",
   "execution_count": 10,
   "id": "e573ecaa-691c-422d-9e1c-f65bd260e31f",
   "metadata": {},
   "outputs": [],
   "source": [
    "def f6(logits, target):\n",
    "    # softmax_probs = F.softmax(logits, dim=0)\n",
    "    i_neq_t = torch.argmax(logits)\n",
    "    if i_neq_t == target:\n",
    "        i_neq_t = torch.argmax(torch.cat([logits[:target], logits[target+1:]]))\n",
    "    return F.relu(logits[i_neq_t] - logits[target])"
   ]
  },
  {
   "cell_type": "code",
   "execution_count": 11,
   "id": "94307969-b187-48d6-8e85-dfc8c6700c7b",
   "metadata": {},
   "outputs": [
    {
     "name": "stdout",
     "output_type": "stream",
     "text": [
      "tensor(2.)\n",
      "tensor(0.)\n",
      "tensor(0.)\n"
     ]
    }
   ],
   "source": [
    "x = torch.tensor([1.0, 3.0])\n",
    "print(f6(x, 0)) # should be >0\n",
    "x = torch.tensor([1.0, 1.0])\n",
    "print(f6(x, 0)) # should be =0\n",
    "x = torch.tensor([3.0, 1.0])\n",
    "print(f6(x, 0)) # should be =0"
   ]
  },
  {
   "cell_type": "markdown",
   "id": "41dce756-c5c7-460b-80b7-7741b21dcf35",
   "metadata": {},
   "source": [
    "By now you should have several options for $f$. Now we can optimize the below equation below where we let $\\mathcal{D}(x, x + \\delta)$ be the $L_2$ norm.\n",
    "\n",
    "$$\n",
    "\\ell = \\mathcal{D}(x, x + \\delta) + c \\cdot f (x + \\delta)\n",
    "$$\n",
    "\n",
    "\n",
    "We have implemented this below for you. The attack is extremely similar to the PGD attack you coded in the previous notebook so it should look familiar to you. Still, you should read through the code and make sure you understand everything!"
   ]
  },
  {
   "cell_type": "code",
   "execution_count": 12,
   "id": "704d020d-03e7-41a5-98b2-c3cc5b800dfc",
   "metadata": {},
   "outputs": [],
   "source": [
    "def cw_loss_v1(f, x, y, delta, c, model):\n",
    "    logits = model(x + delta)\n",
    "    f_loss = f(logits[0], y)\n",
    "    norm_loss = (torch.sum(delta**2))**1/2\n",
    "\n",
    "    return norm_loss + c * f_loss\n",
    "\n",
    "def cw_simple(f, x, y, c, model, num_iters):\n",
    "    delta = torch.randn_like(x) * 0.1\n",
    "    delta.requires_grad = True\n",
    "    optimizer = optim.Adam([delta], lr=1e-2)\n",
    "\n",
    "    for i in range(num_iters):\n",
    "        l = cw_loss_v1(f, x, y, delta, c, model)\n",
    "        l.backward()\n",
    "        optimizer.step()\n",
    "        optimizer.zero_grad()\n",
    "        if (i + 1) % 5 == 0:\n",
    "            print(f\"iteration {i + 1}:\\t loss={l.item():.4f}\")\n",
    "    return x + delta"
   ]
  },
  {
   "cell_type": "markdown",
   "id": "335dd128-8402-430a-b2c1-f71d219fdefe",
   "metadata": {},
   "source": [
    "### Task #4: Test different $f$ functions"
   ]
  },
  {
   "cell_type": "markdown",
   "id": "b266e2e7-fef5-4b27-ac2f-b394516c08d8",
   "metadata": {},
   "source": [
    "The next step is to fill in the missing code below to test how effective different choices of $f$ are. When running `benchmark_f` for `f2`, `f4` and `f6` you should find that one choice of $f$ is much more effective than the other two.\n",
    "\n",
    "<details>\n",
    "<summary>💡 <b>Hint </b></summary>\n",
    "\n",
    "$f_6$ Should have 100% attack success rate for the 5 images we selected. When we run our code we get:\n",
    "\n",
    "* f2_results = [6, 1, 1, 1, 6]\n",
    "* f4_results = [3, 1, 1, 0, 6]\n",
    "* f6_results = [1, 1, 1, 1, 1]\n",
    "\n",
    "</details>"
   ]
  },
  {
   "cell_type": "code",
   "execution_count": 13,
   "id": "8e3d1693-15b3-4451-8582-ef46a40419fd",
   "metadata": {},
   "outputs": [],
   "source": [
    "def benchmark_f(f, num_imgs=5, num_iters=40, target_class=1, c=1):\n",
    "    print(f\"running attacks on {num_imgs} images with target='{itos[target_class]}'\")\n",
    "\n",
    "    results = []\n",
    "    for i in range(num_imgs):\n",
    "        x_clean = x_test[i:i+1].to(device) # tensor is [1, 3, 32, 32]\n",
    "        \n",
    "        adv_image = cw_simple(f, x_clean, target_class, c, model, num_iters) ### YOUR CODE HERE ###\n",
    "        predicted_class = torch.argmax(model(adv_image)).item() ### YOUR CODE HERE ###\n",
    "        print(f\"model predicts class 'target='{itos[predicted_class]}'\")\n",
    "        results.append(predicted_class)\n",
    "\n",
    "    return results"
   ]
  },
  {
   "cell_type": "code",
   "execution_count": 14,
   "id": "08bc24be-1bfd-4422-831f-4fb6f1f22f91",
   "metadata": {
    "scrolled": true
   },
   "outputs": [
    {
     "name": "stdout",
     "output_type": "stream",
     "text": [
      "running attacks on 5 images with target='automobile'\n",
      "iteration 5:\t loss=10.3517\n",
      "iteration 10:\t loss=5.8600\n",
      "iteration 15:\t loss=3.3180\n",
      "iteration 20:\t loss=2.1606\n",
      "iteration 25:\t loss=1.7407\n",
      "iteration 30:\t loss=1.5018\n",
      "iteration 35:\t loss=1.3227\n",
      "iteration 40:\t loss=1.1939\n",
      "model predicts class 'target='cat'\n",
      "iteration 5:\t loss=7.5811\n",
      "iteration 10:\t loss=3.5889\n",
      "iteration 15:\t loss=2.4298\n",
      "iteration 20:\t loss=1.7214\n",
      "iteration 25:\t loss=1.1898\n",
      "iteration 30:\t loss=0.8047\n",
      "iteration 35:\t loss=0.5340\n",
      "iteration 40:\t loss=0.3477\n",
      "model predicts class 'target='automobile'\n",
      "iteration 5:\t loss=8.5662\n",
      "iteration 10:\t loss=4.1576\n",
      "iteration 15:\t loss=2.6144\n",
      "iteration 20:\t loss=1.9135\n",
      "iteration 25:\t loss=1.5187\n",
      "iteration 30:\t loss=0.5578\n",
      "iteration 35:\t loss=1.1163\n",
      "iteration 40:\t loss=1.3848\n",
      "model predicts class 'target='automobile'\n",
      "iteration 5:\t loss=9.2894\n",
      "iteration 10:\t loss=4.7345\n",
      "iteration 15:\t loss=2.9596\n",
      "iteration 20:\t loss=2.3180\n",
      "iteration 25:\t loss=2.0360\n",
      "iteration 30:\t loss=1.7795\n",
      "iteration 35:\t loss=1.5246\n",
      "iteration 40:\t loss=1.3221\n",
      "model predicts class 'target='airplane'\n",
      "iteration 5:\t loss=8.6424\n",
      "iteration 10:\t loss=4.0845\n",
      "iteration 15:\t loss=2.3042\n",
      "iteration 20:\t loss=1.6532\n",
      "iteration 25:\t loss=1.3953\n",
      "iteration 30:\t loss=1.2603\n",
      "iteration 35:\t loss=1.1690\n",
      "iteration 40:\t loss=1.1057\n",
      "model predicts class 'target='frog'\n"
     ]
    }
   ],
   "source": [
    "f2_results = benchmark_f(f2)"
   ]
  },
  {
   "cell_type": "code",
   "execution_count": 15,
   "id": "b5bd0746-b99d-4035-bb5b-c5c15570d5be",
   "metadata": {
    "scrolled": true
   },
   "outputs": [
    {
     "name": "stdout",
     "output_type": "stream",
     "text": [
      "running attacks on 5 images with target='automobile'\n",
      "iteration 5:\t loss=8.3628\n",
      "iteration 10:\t loss=3.6479\n",
      "iteration 15:\t loss=1.8067\n",
      "iteration 20:\t loss=1.1596\n",
      "iteration 25:\t loss=0.9141\n",
      "iteration 30:\t loss=0.7821\n",
      "iteration 35:\t loss=0.6830\n",
      "iteration 40:\t loss=0.6112\n",
      "model predicts class 'target='cat'\n",
      "iteration 5:\t loss=9.3565\n",
      "iteration 10:\t loss=4.4127\n",
      "iteration 15:\t loss=1.9327\n",
      "iteration 20:\t loss=1.0269\n",
      "iteration 25:\t loss=0.8999\n",
      "iteration 30:\t loss=0.7499\n",
      "iteration 35:\t loss=0.5309\n",
      "iteration 40:\t loss=0.3428\n",
      "model predicts class 'target='automobile'\n",
      "iteration 5:\t loss=8.5580\n",
      "iteration 10:\t loss=3.2974\n",
      "iteration 15:\t loss=1.4044\n",
      "iteration 20:\t loss=0.7113\n",
      "iteration 25:\t loss=0.4321\n",
      "iteration 30:\t loss=0.6909\n",
      "iteration 35:\t loss=1.1498\n",
      "iteration 40:\t loss=1.2817\n",
      "model predicts class 'target='automobile'\n",
      "iteration 5:\t loss=8.9944\n",
      "iteration 10:\t loss=4.0475\n",
      "iteration 15:\t loss=2.0190\n",
      "iteration 20:\t loss=1.2490\n",
      "iteration 25:\t loss=0.4892\n",
      "iteration 30:\t loss=0.4541\n",
      "iteration 35:\t loss=0.8924\n",
      "iteration 40:\t loss=0.9716\n",
      "model predicts class 'target='automobile'\n",
      "iteration 5:\t loss=8.2183\n",
      "iteration 10:\t loss=3.6202\n",
      "iteration 15:\t loss=1.7935\n",
      "iteration 20:\t loss=1.1415\n",
      "iteration 25:\t loss=0.8982\n",
      "iteration 30:\t loss=0.7705\n",
      "iteration 35:\t loss=0.6775\n",
      "iteration 40:\t loss=0.6103\n",
      "model predicts class 'target='frog'\n"
     ]
    }
   ],
   "source": [
    "f4_results = benchmark_f(f4)"
   ]
  },
  {
   "cell_type": "code",
   "execution_count": 16,
   "id": "09216d42-b4e8-479f-8ea1-ce0c9011da1f",
   "metadata": {
    "scrolled": true
   },
   "outputs": [
    {
     "name": "stdout",
     "output_type": "stream",
     "text": [
      "running attacks on 5 images with target='automobile'\n",
      "iteration 5:\t loss=13.2831\n",
      "iteration 10:\t loss=9.7425\n",
      "iteration 15:\t loss=6.7699\n",
      "iteration 20:\t loss=4.6210\n",
      "iteration 25:\t loss=3.4530\n",
      "iteration 30:\t loss=2.7566\n",
      "iteration 35:\t loss=2.5871\n",
      "iteration 40:\t loss=2.2780\n",
      "model predicts class 'target='automobile'\n",
      "iteration 5:\t loss=9.6813\n",
      "iteration 10:\t loss=7.0267\n",
      "iteration 15:\t loss=4.9493\n",
      "iteration 20:\t loss=3.4483\n",
      "iteration 25:\t loss=2.4069\n",
      "iteration 30:\t loss=1.6805\n",
      "iteration 35:\t loss=1.1679\n",
      "iteration 40:\t loss=0.8095\n",
      "model predicts class 'target='automobile'\n",
      "iteration 5:\t loss=12.4511\n",
      "iteration 10:\t loss=8.1569\n",
      "iteration 15:\t loss=5.6967\n",
      "iteration 20:\t loss=4.4839\n",
      "iteration 25:\t loss=3.5275\n",
      "iteration 30:\t loss=2.6975\n",
      "iteration 35:\t loss=1.9921\n",
      "iteration 40:\t loss=1.5128\n",
      "model predicts class 'target='automobile'\n",
      "iteration 5:\t loss=12.6502\n",
      "iteration 10:\t loss=8.5507\n",
      "iteration 15:\t loss=5.3795\n",
      "iteration 20:\t loss=3.2825\n",
      "iteration 25:\t loss=2.1619\n",
      "iteration 30:\t loss=1.9576\n",
      "iteration 35:\t loss=2.1748\n",
      "iteration 40:\t loss=2.1481\n",
      "model predicts class 'target='automobile'\n",
      "iteration 5:\t loss=13.2321\n",
      "iteration 10:\t loss=9.8957\n",
      "iteration 15:\t loss=6.6350\n",
      "iteration 20:\t loss=4.1841\n",
      "iteration 25:\t loss=3.1653\n",
      "iteration 30:\t loss=2.2807\n",
      "iteration 35:\t loss=2.1615\n",
      "iteration 40:\t loss=1.8829\n",
      "model predicts class 'target='automobile'\n"
     ]
    }
   ],
   "source": [
    "f6_results = benchmark_f(f6)"
   ]
  },
  {
   "cell_type": "code",
   "execution_count": 17,
   "id": "c1694265-74fa-47c0-87a2-ef958c6818f2",
   "metadata": {},
   "outputs": [
    {
     "name": "stdout",
     "output_type": "stream",
     "text": [
      "\n",
      "Running tests for Section 2.1.2, Task 4...\n",
      "======================================================================\n",
      "🎉 All tests passed! (2/2)\n",
      "======================================================================\n",
      "\n",
      "Detailed output:\n",
      "\u001b[1m============================= test session starts ==============================\u001b[0m\n",
      "\u001b[1mcollecting ... \u001b[0mcollected 2 items\n",
      "\n",
      "../xlab-python-package/xlab/tests/section2_1_2.py::TestTask4::test_arrays_have_equal_length \u001b[32mPASSED\u001b[0m\u001b[32m [ 50%]\u001b[0m\n",
      "../xlab-python-package/xlab/tests/section2_1_2.py::TestTask4::test_third_array_has_most_occurrences \u001b[32mPASSED\u001b[0m\u001b[32m [100%]\u001b[0m\n",
      "\n",
      "\u001b[32m============================== \u001b[32m\u001b[1m2 passed\u001b[0m\u001b[32m in 0.01s\u001b[0m\u001b[32m ===============================\u001b[0m\n",
      "\n"
     ]
    }
   ],
   "source": [
    "_ = xlab.tests.section2_1_2.task4(f2_results, f4_results, f6_results, 1)"
   ]
  },
  {
   "cell_type": "markdown",
   "id": "71581610-d7f9-4f3d-a4bb-9bdeab107c3a",
   "metadata": {},
   "source": [
    "## Choosing a value for $c$\n",
    "\n",
    "In the previous section you should have seen that the we picked a hardcoded value for $c$. But is there a better strategy than guessing? In the paper, the authors say:\n",
    "\n",
    "<blockquote>\n",
    "    Empirically, we have found that often the best way to choose $c$ is to use the smallest value of $c$ for which the resulting solution $x^{*}$ has $f(x^{*}) \\leq 0$. This causes gradient descent to minimize both of the terms simultaneously instead of picking only one to optimize over first.\n",
    "</blockquote>\n",
    "\n",
    "In other words, to find the ideal result, we want our optimizer to make improvements that minimize the $f$ function but also have the minimum possible impact on the $L_p$ norm. If the $c$ value is too larger, the $f$ function will dominate the loss and the optimizer may allow for a larger $L_p$ norm than is strictly necessary. If $c$ is too small, the attack won't be successful. By choosing the smallest possible $c$ that makes the attack successful, we get the best of both worlds.\n",
    "\n",
    "In the code below you will benchmark different $c$ values for a small subset of CIFAR 10."
   ]
  },
  {
   "cell_type": "code",
   "execution_count": 18,
   "id": "d0183d84-a718-473b-9ab3-3e306573e6b0",
   "metadata": {},
   "outputs": [],
   "source": [
    "def distance(x1, x2, p):\n",
    "    return torch.sum(torch.abs(x1 -x2)**p) ** (1/p)"
   ]
  },
  {
   "cell_type": "code",
   "execution_count": 19,
   "id": "1f440d1f-4cf4-474b-bd06-86ee5f559828",
   "metadata": {},
   "outputs": [],
   "source": [
    "# print(c_values_to_num_success) # you will use this object to track\n",
    "# print(c_values_to_l2_sum) # you will use this value "
   ]
  },
  {
   "cell_type": "code",
   "execution_count": 20,
   "id": "79c86ad7-016c-4011-9ccd-652cee5743c6",
   "metadata": {
    "scrolled": true
   },
   "outputs": [],
   "source": [
    "TARGET_ClASS = 1\n",
    "\n",
    "def bechmark_c_values(num_images):\n",
    "    c_values = [1e-3, 1e-2, 1e-1, 1e1, 1e2, 1e3]\n",
    "    c_values_to_prob = {c: 0 for c in c_values}\n",
    "    c_values_to_l2_sum = {c: 0 for c in c_values}\n",
    "\n",
    "    for c in c_values:\n",
    "        total_dist = 0 # accumulate the l2 distance to compute an average\n",
    "        total_successes = 0 # accumate the numbe of sucessful attacks\n",
    "\n",
    "        completed_attacks = 0\n",
    "        i = 0\n",
    "        while completed_attacks < num_images:\n",
    "            x_clean = x_test[i:i+1].to(device)\n",
    "            i += 1\n",
    "\n",
    "            # we should not try to attack an image if the target label = the clean label\n",
    "            if TARGET_ClASS == y_test[i:i+1].item():\n",
    "                print(\"here\")\n",
    "                continue\n",
    "            \n",
    "            adv_image = cw_simple(f6, x_clean, TARGET_ClASS, c, model, 15) ### YOUR CODE HERE ###\n",
    "            predicted_class = torch.argmax(model(adv_image)).item() ### YOUR CODE HERE ###\n",
    "\n",
    "            if predicted_class == TARGET_ClASS:\n",
    "                c_values_to_prob[c] += 1\n",
    "            \n",
    "            c_values_to_l2_sum[c] += distance(adv_image, x_clean, 2).item()\n",
    "\n",
    "            print(\"competed attack\")\n",
    "            completed_attacks += 1\n",
    "    return c_values_to_l2_sum, c_values_to_prob"
   ]
  },
  {
   "cell_type": "code",
   "execution_count": 21,
   "id": "d35a7b02-9076-4ba3-8c44-4002d57d7e06",
   "metadata": {
    "scrolled": true
   },
   "outputs": [
    {
     "name": "stdout",
     "output_type": "stream",
     "text": [
      "iteration 5:\t loss=7.6132\n",
      "iteration 10:\t loss=3.0410\n",
      "iteration 15:\t loss=1.2829\n",
      "competed attack\n",
      "iteration 5:\t loss=7.7658\n",
      "iteration 10:\t loss=3.1170\n",
      "iteration 15:\t loss=1.3228\n",
      "competed attack\n",
      "iteration 5:\t loss=7.5311\n",
      "iteration 10:\t loss=3.0702\n",
      "iteration 15:\t loss=1.3319\n",
      "competed attack\n",
      "iteration 5:\t loss=8.0073\n",
      "iteration 10:\t loss=3.2285\n",
      "iteration 15:\t loss=1.3571\n",
      "competed attack\n",
      "iteration 5:\t loss=7.8073\n",
      "iteration 10:\t loss=3.1672\n",
      "iteration 15:\t loss=1.3256\n",
      "competed attack\n",
      "iteration 5:\t loss=8.1394\n",
      "iteration 10:\t loss=3.3030\n",
      "iteration 15:\t loss=1.4002\n",
      "competed attack\n",
      "iteration 5:\t loss=7.5755\n",
      "iteration 10:\t loss=3.0091\n",
      "iteration 15:\t loss=1.2202\n",
      "competed attack\n",
      "iteration 5:\t loss=7.4996\n",
      "iteration 10:\t loss=2.9954\n",
      "iteration 15:\t loss=1.2852\n",
      "competed attack\n",
      "iteration 5:\t loss=7.8366\n",
      "iteration 10:\t loss=3.2137\n",
      "iteration 15:\t loss=1.3790\n",
      "competed attack\n",
      "iteration 5:\t loss=8.1475\n",
      "iteration 10:\t loss=3.3797\n",
      "iteration 15:\t loss=1.4791\n",
      "competed attack\n",
      "iteration 5:\t loss=9.4441\n",
      "iteration 10:\t loss=4.4412\n",
      "iteration 15:\t loss=1.9404\n",
      "competed attack\n",
      "iteration 5:\t loss=8.8034\n",
      "iteration 10:\t loss=3.7053\n",
      "iteration 15:\t loss=1.5767\n",
      "competed attack\n",
      "iteration 5:\t loss=8.6699\n",
      "iteration 10:\t loss=3.6425\n",
      "iteration 15:\t loss=1.6504\n",
      "competed attack\n",
      "iteration 5:\t loss=9.2695\n",
      "iteration 10:\t loss=4.1449\n",
      "iteration 15:\t loss=1.7223\n",
      "competed attack\n",
      "iteration 5:\t loss=9.0662\n",
      "iteration 10:\t loss=4.1735\n",
      "iteration 15:\t loss=1.9273\n",
      "competed attack\n",
      "iteration 5:\t loss=15.5528\n",
      "iteration 10:\t loss=15.8605\n",
      "iteration 15:\t loss=15.5419\n",
      "competed attack\n",
      "iteration 5:\t loss=8.1082\n",
      "iteration 10:\t loss=3.2958\n",
      "iteration 15:\t loss=3.0528\n",
      "competed attack\n",
      "iteration 5:\t loss=15.6696\n",
      "iteration 10:\t loss=15.7422\n",
      "iteration 15:\t loss=15.2377\n",
      "competed attack\n",
      "iteration 5:\t loss=15.8894\n",
      "iteration 10:\t loss=15.4445\n",
      "iteration 15:\t loss=14.4260\n",
      "competed attack\n",
      "iteration 5:\t loss=16.2005\n",
      "iteration 10:\t loss=16.8055\n",
      "iteration 15:\t loss=16.5784\n",
      "competed attack\n",
      "iteration 5:\t loss=15.8991\n",
      "iteration 10:\t loss=16.9854\n",
      "iteration 15:\t loss=17.6384\n",
      "competed attack\n",
      "iteration 5:\t loss=16.3260\n",
      "iteration 10:\t loss=17.4343\n",
      "iteration 15:\t loss=18.0888\n",
      "competed attack\n",
      "iteration 5:\t loss=16.9111\n",
      "iteration 10:\t loss=18.2515\n",
      "iteration 15:\t loss=19.0137\n",
      "competed attack\n",
      "iteration 5:\t loss=17.6021\n",
      "iteration 10:\t loss=18.8424\n",
      "iteration 15:\t loss=19.5061\n",
      "competed attack\n",
      "iteration 5:\t loss=16.7014\n",
      "iteration 10:\t loss=18.5376\n",
      "iteration 15:\t loss=19.9238\n",
      "competed attack\n",
      "iteration 5:\t loss=15.8011\n",
      "iteration 10:\t loss=17.2618\n",
      "iteration 15:\t loss=18.3022\n",
      "competed attack\n",
      "iteration 5:\t loss=15.8785\n",
      "iteration 10:\t loss=17.3010\n",
      "iteration 15:\t loss=18.3193\n",
      "competed attack\n",
      "iteration 5:\t loss=16.2832\n",
      "iteration 10:\t loss=17.7642\n",
      "iteration 15:\t loss=18.8109\n",
      "competed attack\n",
      "iteration 5:\t loss=16.8478\n",
      "iteration 10:\t loss=18.4059\n",
      "iteration 15:\t loss=19.4954\n",
      "competed attack\n",
      "iteration 5:\t loss=16.1463\n",
      "iteration 10:\t loss=18.0991\n",
      "iteration 15:\t loss=19.6160\n",
      "competed attack\n"
     ]
    }
   ],
   "source": [
    "c_values_to_l2_sum, c_values_to_prob =bechmark_c_values(5)"
   ]
  },
  {
   "cell_type": "code",
   "execution_count": 22,
   "id": "16e4e262-96e1-467c-8389-a64356bb7d7b",
   "metadata": {},
   "outputs": [
    {
     "data": {
      "text/plain": [
       "{0.001: 1.5041642904281616,\n",
       " 0.01: 1.5230777502059936,\n",
       " 0.1: 1.7510391235351563,\n",
       " 10.0: 4.927920866012573,\n",
       " 100.0: 6.153921794891358,\n",
       " 1000.0: 6.178105163574219}"
      ]
     },
     "execution_count": 22,
     "metadata": {},
     "output_type": "execute_result"
    }
   ],
   "source": [
    "for k,v in c_values_to_l2_sum.items():\n",
    "    c_values_to_l2_sum[k] = v/5\n",
    "c_values_to_l2_sum"
   ]
  },
  {
   "cell_type": "code",
   "execution_count": 23,
   "id": "614f0b06-fe15-423d-a738-963db50e760a",
   "metadata": {},
   "outputs": [
    {
     "data": {
      "text/plain": [
       "{0.001: 0.4, 0.01: 1.0, 0.1: 0.8, 10.0: 1.0, 100.0: 1.0, 1000.0: 1.0}"
      ]
     },
     "execution_count": 23,
     "metadata": {},
     "output_type": "execute_result"
    }
   ],
   "source": [
    "for k,v in c_values_to_prob.items():\n",
    "    c_values_to_prob[k] = v/5\n",
    "c_values_to_prob"
   ]
  },
  {
   "cell_type": "code",
   "execution_count": 25,
   "id": "0613641f-ec56-42b6-b34a-6ec69021735b",
   "metadata": {},
   "outputs": [
    {
     "data": {
      "image/png": "[encoded data removed]",
      "text/plain": [
       "<Figure size 800x600 with 2 Axes>"
      ]
     },
     "metadata": {},
     "output_type": "display_data"
    }
   ],
   "source": [
    "fig, ax1, ax2 = xlab.utils.plot_dual_2d(\n",
    "    x=list(c_values_to_l2_sum.keys()), \n",
    "    y1=list(c_values_to_l2_sum.values()), \n",
    "    y2=list(c_values_to_prob.values()),\n",
    "    y1_label='L2 Distance',\n",
    "    y2_label='Sucess Probability',\n",
    "    x_label='c value',\n",
    "    y1_axis_label='L2 Distance',\n",
    "    y2_axis_label='Sucess Probability',\n",
    "    log_x=True,\n",
    ")"
   ]
  },
  {
   "cell_type": "code",
   "execution_count": null,
   "id": "d7e05205-2a00-4131-9d38-af8af0513bd5",
   "metadata": {},
   "outputs": [],
   "source": [
    "c_values_to_prob, "
   ]
  },
  {
   "cell_type": "code",
   "execution_count": 31,
   "id": "f010a2a9-1f64-4777-a413-b9b922a0e055",
   "metadata": {},
   "outputs": [
    {
     "data": {
      "text/plain": [
       "tensor(2.3026)"
      ]
     },
     "execution_count": 31,
     "metadata": {},
     "output_type": "execute_result"
    }
   ],
   "source": [
    "-torch.log(torch.tensor(0.1))"
   ]
  },
  {
   "cell_type": "code",
   "execution_count": 32,
   "id": "53a0e375-cf8b-41cd-8f6d-4f0838450fbb",
   "metadata": {},
   "outputs": [
    {
     "data": {
      "text/plain": [
       "'automobile'"
      ]
     },
     "execution_count": 32,
     "metadata": {},
     "output_type": "execute_result"
    }
   ],
   "source": [
    "itos[1]"
   ]
  },
  {
   "cell_type": "code",
   "execution_count": 33,
   "id": "a9968ad6-e860-4138-bc4a-b4c79f800dc4",
   "metadata": {},
   "outputs": [
    {
     "data": {
      "text/plain": [
       "tensor([[-2.2558, 12.9848,  3.5618,  0.7407, -3.0191, -4.9523, -0.8231, -5.2514,\n",
       "         -0.3696, -0.5469]], device='cuda:0', grad_fn=<AddmmBackward0>)"
      ]
     },
     "execution_count": 33,
     "metadata": {},
     "output_type": "execute_result"
    }
   ],
   "source": [
    "model(adv_image)"
   ]
  },
  {
   "cell_type": "code",
   "execution_count": 25,
   "id": "4dd19b85-e07f-48a1-bcc6-64a88dbf8cd0",
   "metadata": {
    "scrolled": true
   },
   "outputs": [
    {
     "ename": "NameError",
     "evalue": "name 'adv' is not defined",
     "output_type": "error",
     "traceback": [
      "\u001b[0;31m---------------------------------------------------------------------------\u001b[0m",
      "\u001b[0;31mNameError\u001b[0m                                 Traceback (most recent call last)",
      "Cell \u001b[0;32mIn[25], line 1\u001b[0m\n\u001b[0;32m----> 1\u001b[0m adv \u001b[38;5;241m=\u001b[39m \u001b[43madv\u001b[49m[\u001b[38;5;241m0\u001b[39m]\u001b[38;5;241m.\u001b[39mdetach()\u001b[38;5;241m.\u001b[39mcpu()\n\u001b[1;32m      2\u001b[0m x \u001b[38;5;241m=\u001b[39m x_test[\u001b[38;5;241m0\u001b[39m]\u001b[38;5;241m.\u001b[39mdetach()\u001b[38;5;241m.\u001b[39mcpu()\n\u001b[1;32m      3\u001b[0m delta \u001b[38;5;241m=\u001b[39m adv \u001b[38;5;241m-\u001b[39m x\n",
      "\u001b[0;31mNameError\u001b[0m: name 'adv' is not defined"
     ]
    }
   ],
   "source": [
    "adv = adv[0].detach().cpu()\n",
    "x = x_test[0].detach().cpu()\n",
    "delta = adv - x\n",
    "\n",
    "_ = xlab.utils.plot_tensors(\n",
    "    [delta[0], delta[1], delta[2], x.cpu()[0], x.cpu()[1], x.cpu()[2]],\n",
    "    log_scale=False, \n",
    "    ncols=3,\n",
    "    # log_scale=True,\n",
    "    titles = [\"out delta (red)\", \"out delta (green)\", \"out delta (blue)\", \"image (red)\", \"image (green)\", \"image (blue)\"]\n",
    ")"
   ]
  },
  {
   "cell_type": "code",
   "execution_count": 300,
   "id": "a4c57a0c-1320-4d9d-be98-31280fffa165",
   "metadata": {},
   "outputs": [
    {
     "ename": "RuntimeError",
     "evalue": "slow_conv2d_forward_mps: input(device='cpu') and weight(device=mps:0')  must be on the same device",
     "output_type": "error",
     "traceback": [
      "\u001b[31m---------------------------------------------------------------------------\u001b[39m",
      "\u001b[31mRuntimeError\u001b[39m                              Traceback (most recent call last)",
      "\u001b[36mCell\u001b[39m\u001b[36m \u001b[39m\u001b[32mIn[300]\u001b[39m\u001b[32m, line 1\u001b[39m\n\u001b[32m----> \u001b[39m\u001b[32m1\u001b[39m torch.argmax(model(adv))\n",
      "\u001b[36mFile \u001b[39m\u001b[32m~/anaconda3/envs/xlab/lib/python3.11/site-packages/torch/nn/modules/module.py:1751\u001b[39m, in \u001b[36mModule._wrapped_call_impl\u001b[39m\u001b[34m(self, *args, **kwargs)\u001b[39m\n\u001b[32m   1749\u001b[39m     \u001b[38;5;28;01mreturn\u001b[39;00m \u001b[38;5;28mself\u001b[39m._compiled_call_impl(*args, **kwargs)  \u001b[38;5;66;03m# type: ignore[misc]\u001b[39;00m\n\u001b[32m   1750\u001b[39m \u001b[38;5;28;01melse\u001b[39;00m:\n\u001b[32m-> \u001b[39m\u001b[32m1751\u001b[39m     \u001b[38;5;28;01mreturn\u001b[39;00m \u001b[38;5;28mself\u001b[39m._call_impl(*args, **kwargs)\n",
      "\u001b[36mFile \u001b[39m\u001b[32m~/anaconda3/envs/xlab/lib/python3.11/site-packages/torch/nn/modules/module.py:1762\u001b[39m, in \u001b[36mModule._call_impl\u001b[39m\u001b[34m(self, *args, **kwargs)\u001b[39m\n\u001b[32m   1757\u001b[39m \u001b[38;5;66;03m# If we don't have any hooks, we want to skip the rest of the logic in\u001b[39;00m\n\u001b[32m   1758\u001b[39m \u001b[38;5;66;03m# this function, and just call forward.\u001b[39;00m\n\u001b[32m   1759\u001b[39m \u001b[38;5;28;01mif\u001b[39;00m \u001b[38;5;129;01mnot\u001b[39;00m (\u001b[38;5;28mself\u001b[39m._backward_hooks \u001b[38;5;129;01mor\u001b[39;00m \u001b[38;5;28mself\u001b[39m._backward_pre_hooks \u001b[38;5;129;01mor\u001b[39;00m \u001b[38;5;28mself\u001b[39m._forward_hooks \u001b[38;5;129;01mor\u001b[39;00m \u001b[38;5;28mself\u001b[39m._forward_pre_hooks\n\u001b[32m   1760\u001b[39m         \u001b[38;5;129;01mor\u001b[39;00m _global_backward_pre_hooks \u001b[38;5;129;01mor\u001b[39;00m _global_backward_hooks\n\u001b[32m   1761\u001b[39m         \u001b[38;5;129;01mor\u001b[39;00m _global_forward_hooks \u001b[38;5;129;01mor\u001b[39;00m _global_forward_pre_hooks):\n\u001b[32m-> \u001b[39m\u001b[32m1762\u001b[39m     \u001b[38;5;28;01mreturn\u001b[39;00m forward_call(*args, **kwargs)\n\u001b[32m   1764\u001b[39m result = \u001b[38;5;28;01mNone\u001b[39;00m\n\u001b[32m   1765\u001b[39m called_always_called_hooks = \u001b[38;5;28mset\u001b[39m()\n",
      "\u001b[36mFile \u001b[39m\u001b[32m~/anaconda3/envs/xlab/lib/python3.11/site-packages/robustbench/model_zoo/architectures/wide_resnet.py:87\u001b[39m, in \u001b[36mWideResNet.forward\u001b[39m\u001b[34m(self, x)\u001b[39m\n\u001b[32m     86\u001b[39m \u001b[38;5;28;01mdef\u001b[39;00m\u001b[38;5;250m \u001b[39m\u001b[34mforward\u001b[39m(\u001b[38;5;28mself\u001b[39m, x):\n\u001b[32m---> \u001b[39m\u001b[32m87\u001b[39m     out = \u001b[38;5;28mself\u001b[39m.conv1(x)\n\u001b[32m     88\u001b[39m     out = \u001b[38;5;28mself\u001b[39m.block1(out)\n\u001b[32m     89\u001b[39m     out = \u001b[38;5;28mself\u001b[39m.block2(out)\n",
      "\u001b[36mFile \u001b[39m\u001b[32m~/anaconda3/envs/xlab/lib/python3.11/site-packages/torch/nn/modules/module.py:1751\u001b[39m, in \u001b[36mModule._wrapped_call_impl\u001b[39m\u001b[34m(self, *args, **kwargs)\u001b[39m\n\u001b[32m   1749\u001b[39m     \u001b[38;5;28;01mreturn\u001b[39;00m \u001b[38;5;28mself\u001b[39m._compiled_call_impl(*args, **kwargs)  \u001b[38;5;66;03m# type: ignore[misc]\u001b[39;00m\n\u001b[32m   1750\u001b[39m \u001b[38;5;28;01melse\u001b[39;00m:\n\u001b[32m-> \u001b[39m\u001b[32m1751\u001b[39m     \u001b[38;5;28;01mreturn\u001b[39;00m \u001b[38;5;28mself\u001b[39m._call_impl(*args, **kwargs)\n",
      "\u001b[36mFile \u001b[39m\u001b[32m~/anaconda3/envs/xlab/lib/python3.11/site-packages/torch/nn/modules/module.py:1762\u001b[39m, in \u001b[36mModule._call_impl\u001b[39m\u001b[34m(self, *args, **kwargs)\u001b[39m\n\u001b[32m   1757\u001b[39m \u001b[38;5;66;03m# If we don't have any hooks, we want to skip the rest of the logic in\u001b[39;00m\n\u001b[32m   1758\u001b[39m \u001b[38;5;66;03m# this function, and just call forward.\u001b[39;00m\n\u001b[32m   1759\u001b[39m \u001b[38;5;28;01mif\u001b[39;00m \u001b[38;5;129;01mnot\u001b[39;00m (\u001b[38;5;28mself\u001b[39m._backward_hooks \u001b[38;5;129;01mor\u001b[39;00m \u001b[38;5;28mself\u001b[39m._backward_pre_hooks \u001b[38;5;129;01mor\u001b[39;00m \u001b[38;5;28mself\u001b[39m._forward_hooks \u001b[38;5;129;01mor\u001b[39;00m \u001b[38;5;28mself\u001b[39m._forward_pre_hooks\n\u001b[32m   1760\u001b[39m         \u001b[38;5;129;01mor\u001b[39;00m _global_backward_pre_hooks \u001b[38;5;129;01mor\u001b[39;00m _global_backward_hooks\n\u001b[32m   1761\u001b[39m         \u001b[38;5;129;01mor\u001b[39;00m _global_forward_hooks \u001b[38;5;129;01mor\u001b[39;00m _global_forward_pre_hooks):\n\u001b[32m-> \u001b[39m\u001b[32m1762\u001b[39m     \u001b[38;5;28;01mreturn\u001b[39;00m forward_call(*args, **kwargs)\n\u001b[32m   1764\u001b[39m result = \u001b[38;5;28;01mNone\u001b[39;00m\n\u001b[32m   1765\u001b[39m called_always_called_hooks = \u001b[38;5;28mset\u001b[39m()\n",
      "\u001b[36mFile \u001b[39m\u001b[32m~/anaconda3/envs/xlab/lib/python3.11/site-packages/torch/nn/modules/conv.py:554\u001b[39m, in \u001b[36mConv2d.forward\u001b[39m\u001b[34m(self, input)\u001b[39m\n\u001b[32m    553\u001b[39m \u001b[38;5;28;01mdef\u001b[39;00m\u001b[38;5;250m \u001b[39m\u001b[34mforward\u001b[39m(\u001b[38;5;28mself\u001b[39m, \u001b[38;5;28minput\u001b[39m: Tensor) -> Tensor:\n\u001b[32m--> \u001b[39m\u001b[32m554\u001b[39m     \u001b[38;5;28;01mreturn\u001b[39;00m \u001b[38;5;28mself\u001b[39m._conv_forward(\u001b[38;5;28minput\u001b[39m, \u001b[38;5;28mself\u001b[39m.weight, \u001b[38;5;28mself\u001b[39m.bias)\n",
      "\u001b[36mFile \u001b[39m\u001b[32m~/anaconda3/envs/xlab/lib/python3.11/site-packages/torch/nn/modules/conv.py:549\u001b[39m, in \u001b[36mConv2d._conv_forward\u001b[39m\u001b[34m(self, input, weight, bias)\u001b[39m\n\u001b[32m    537\u001b[39m \u001b[38;5;28;01mif\u001b[39;00m \u001b[38;5;28mself\u001b[39m.padding_mode != \u001b[33m\"\u001b[39m\u001b[33mzeros\u001b[39m\u001b[33m\"\u001b[39m:\n\u001b[32m    538\u001b[39m     \u001b[38;5;28;01mreturn\u001b[39;00m F.conv2d(\n\u001b[32m    539\u001b[39m         F.pad(\n\u001b[32m    540\u001b[39m             \u001b[38;5;28minput\u001b[39m, \u001b[38;5;28mself\u001b[39m._reversed_padding_repeated_twice, mode=\u001b[38;5;28mself\u001b[39m.padding_mode\n\u001b[32m   (...)\u001b[39m\u001b[32m    547\u001b[39m         \u001b[38;5;28mself\u001b[39m.groups,\n\u001b[32m    548\u001b[39m     )\n\u001b[32m--> \u001b[39m\u001b[32m549\u001b[39m \u001b[38;5;28;01mreturn\u001b[39;00m F.conv2d(\n\u001b[32m    550\u001b[39m     \u001b[38;5;28minput\u001b[39m, weight, bias, \u001b[38;5;28mself\u001b[39m.stride, \u001b[38;5;28mself\u001b[39m.padding, \u001b[38;5;28mself\u001b[39m.dilation, \u001b[38;5;28mself\u001b[39m.groups\n\u001b[32m    551\u001b[39m )\n",
      "\u001b[31mRuntimeError\u001b[39m: slow_conv2d_forward_mps: input(device='cpu') and weight(device=mps:0')  must be on the same device"
     ]
    }
   ],
   "source": [
    "torch.argmax(model(adv))"
   ]
  },
  {
   "cell_type": "code",
   "execution_count": 283,
   "id": "e3abe513-d20b-48a2-aaa3-1005fdaaaa4b",
   "metadata": {},
   "outputs": [
    {
     "name": "stderr",
     "output_type": "stream",
     "text": [
      "Clipping input data to the valid range for imshow with RGB data ([0..1] for floats or [0..255] for integers). Got range [0.050887734..1.0007143].\n"
     ]
    },
    {
     "data": {
      "text/plain": [
       "<matplotlib.image.AxesImage at 0x17b146c90>"
      ]
     },
     "execution_count": 283,
     "metadata": {},
     "output_type": "execute_result"
    },
    {
     "data": {
      "image/png": "[encoded data removed]",
      "text/plain": [
       "<Figure size 640x480 with 1 Axes>"
      ]
     },
     "metadata": {},
     "output_type": "display_data"
    }
   ],
   "source": [
    "plt.imshow(adv[0].detach().cpu().permute(1,2,0))"
   ]
  },
  {
   "cell_type": "code",
   "execution_count": null,
   "id": "ea014808-446d-47b5-9744-3bd2c85538cb",
   "metadata": {},
   "outputs": [],
   "source": []
  },
  {
   "cell_type": "code",
   "execution_count": null,
   "id": "9fc4d2eb-6bc5-4b0e-bb05-929c145ecd5f",
   "metadata": {},
   "outputs": [],
   "source": []
  },
  {
   "cell_type": "code",
   "execution_count": null,
   "id": "99514352-6a1e-4cb6-b5b4-8348bce712e4",
   "metadata": {},
   "outputs": [],
   "source": []
  },
  {
   "cell_type": "code",
   "execution_count": null,
   "id": "52ecb1e9-737f-4af6-ba94-c77b5fd422ca",
   "metadata": {},
   "outputs": [],
   "source": [
    "F.cross_entropy(torch.tensor([1.0, 2, 3]), torch.tensor(1))"
   ]
  },
  {
   "cell_type": "code",
   "execution_count": 135,
   "id": "8ce8e191-eda6-4597-b04c-e1b5d17a0176",
   "metadata": {
    "scrolled": true
   },
   "outputs": [
    {
     "data": {
      "text/plain": [
       "tensor([-2.4076, -1.4076, -0.4076])"
      ]
     },
     "execution_count": 135,
     "metadata": {},
     "output_type": "execute_result"
    }
   ],
   "source": [
    "torch.log(F.softmax(torch.tensor([1.0, 2, 3]), dim=0))"
   ]
  },
  {
   "cell_type": "markdown",
   "id": "d768d790-fea7-476d-9812-46c7d38060d9",
   "metadata": {},
   "source": [
    "$$\n",
    "f_1(x_{\\mathrm{adversarial}}) = -C(F(x_{\\mathrm{adversarial}})) + 1\n",
    "$$"
   ]
  },
  {
   "cell_type": "code",
   "execution_count": null,
   "id": "5939f7c5-ca33-4ef1-bbdd-5b512631735f",
   "metadata": {},
   "outputs": [],
   "source": []
  },
  {
   "cell_type": "code",
   "execution_count": null,
   "id": "6ecb5a4a-c0c5-4f11-8db6-972d04c94dfa",
   "metadata": {},
   "outputs": [],
   "source": []
  },
  {
   "cell_type": "code",
   "execution_count": 2,
   "id": "ee6dfc17-f3e1-4fb3-8d46-e5007a217060",
   "metadata": {},
   "outputs": [],
   "source": [
    "model = load_model(model_name='Standard', threat_model='Linf')\n",
    "model = model.to('mps')\n",
    "_ = model.eval()"
   ]
  },
  {
   "cell_type": "code",
   "execution_count": 3,
   "id": "3e1eb7bf-65ed-4f11-a974-3e369ef4aea5",
   "metadata": {},
   "outputs": [
    {
     "name": "stdout",
     "output_type": "stream",
     "text": [
      "Trainable parameters: 36,479,194\n"
     ]
    }
   ],
   "source": [
    "trainable_params = sum(p.numel() for p in model.parameters() if p.requires_grad)\n",
    "print(f\"Trainable parameters: {trainable_params:,}\")"
   ]
  },
  {
   "cell_type": "code",
   "execution_count": 4,
   "id": "67e283e0-ed66-497b-9771-ffa14e6f66b0",
   "metadata": {},
   "outputs": [
    {
     "name": "stdout",
     "output_type": "stream",
     "text": [
      "x_test.shape=torch.Size([100, 3, 32, 32]), y_test.shape=torch.Size([100])\n"
     ]
    }
   ],
   "source": [
    "NUM_EXAMPLES = 100\n",
    "x_test, y_test = load_cifar10(n_examples=NUM_EXAMPLES)\n",
    "x_test, y_test = x_test.to(device), y_test.to(device)\n",
    "print(f\"{x_test.shape=}, {y_test.shape=}\")"
   ]
  },
  {
   "cell_type": "code",
   "execution_count": 152,
   "id": "c0605ab5-e6b6-4275-9ece-2ea73ee2b620",
   "metadata": {},
   "outputs": [],
   "source": [
    "def f_6(logits, target, k=0):\n",
    "    i_neq_t = torch.argmax(logits)\n",
    "    if i_neq_t == target:\n",
    "        i_neq_t = torch.argmax(torch.cat([logits[:target], logits[target+1:]]))\n",
    "    print(\"in f6\", (logits[i_neq_t] - logits[target]).item())\n",
    "    return torch.max(logits[i_neq_t] - logits[target], -torch.tensor(k))\n",
    "            \n",
    "\n",
    "def CW_targeted_l2(img, model, c, target, k=1):\n",
    "    \n",
    "    cw_weights = torch.randn_like(img).to('mps') * 0.001\n",
    "    cw_weights.requires_grad = True\n",
    "    optimizer = optim.Adam([cw_weights], lr=5e-2)\n",
    "\n",
    "    num_iters = 100\n",
    "    delta = 0.5 * (F.tanh(cw_weights) + 1) - img\n",
    "\n",
    "    k = 0.1\n",
    "\n",
    "    for i in range(num_iters):\n",
    "        \n",
    "        logits = model((img + delta).unsqueeze(0))\n",
    "\n",
    "        if torch.argmax(logits[0]) == target and torch.sum((delta)**2) <= 0.5:\n",
    "            return delta\n",
    "\n",
    "        # print(f_6(logits[0], target))\n",
    "        assert f_6(logits[0], target, k) >= -k\n",
    "        success_loss = c * f_6(logits[0], target, k)\n",
    "        l2_reg = torch.sum((delta)**2)\n",
    "\n",
    "        loss = success_loss + l2_reg\n",
    "        print(loss, success_loss, l2_reg)\n",
    "        \n",
    "        loss.backward()\n",
    "\n",
    "        optimizer.step()\n",
    "        optimizer.zero_grad()\n",
    "\n",
    "        delta = 0.5 * (F.tanh(cw_weights) + 1) - img\n",
    "    print(\"warning! targeted attack was not successful\")\n",
    "    return delta"
   ]
  },
  {
   "cell_type": "code",
   "execution_count": 153,
   "id": "aefb6280-fa10-4744-9270-680e94bec964",
   "metadata": {},
   "outputs": [
    {
     "data": {
      "text/plain": [
       "tensor(5)"
      ]
     },
     "execution_count": 153,
     "metadata": {},
     "output_type": "execute_result"
    }
   ],
   "source": [
    "torch.max(torch.tensor(5), torch.tensor(-2))"
   ]
  },
  {
   "cell_type": "code",
   "execution_count": 154,
   "id": "005b47ff-7374-4281-ad71-852629e53228",
   "metadata": {},
   "outputs": [],
   "source": [
    "x = x_test[0]"
   ]
  },
  {
   "cell_type": "code",
   "execution_count": 155,
   "id": "3b6e35b6-eb7d-43a1-b01c-8614933ec1b6",
   "metadata": {},
   "outputs": [
    {
     "data": {
      "text/plain": [
       "<matplotlib.image.AxesImage at 0x15fdd4f50>"
      ]
     },
     "execution_count": 155,
     "metadata": {},
     "output_type": "execute_result"
    },
    {
     "data": {
      "image/png": "[encoded data removed]",
      "text/plain": [
       "<Figure size 640x480 with 1 Axes>"
      ]
     },
     "metadata": {},
     "output_type": "display_data"
    }
   ],
   "source": [
    "plt.imshow(x.permute(1,2,0).cpu())"
   ]
  },
  {
   "cell_type": "code",
   "execution_count": 156,
   "id": "6a62ca2e-ad70-489b-ba1b-04215f3b9a01",
   "metadata": {
    "scrolled": true
   },
   "outputs": [
    {
     "name": "stdout",
     "output_type": "stream",
     "text": [
      "in f6 7.889273643493652\n",
      "in f6 7.889273643493652\n",
      "tensor(120.1354, device='mps:0', grad_fn=<AddBackward0>) tensor(0.0789, device='mps:0', grad_fn=<MulBackward0>) tensor(120.0565, device='mps:0', grad_fn=<SumBackward0>)\n",
      "in f6 8.08248233795166\n",
      "in f6 8.08248233795166\n",
      "tensor(97.0092, device='mps:0', grad_fn=<AddBackward0>) tensor(0.0808, device='mps:0', grad_fn=<MulBackward0>) tensor(96.9284, device='mps:0', grad_fn=<SumBackward0>)\n",
      "in f6 14.96743392944336\n",
      "in f6 14.96743392944336\n",
      "tensor(77.6946, device='mps:0', grad_fn=<AddBackward0>) tensor(0.1497, device='mps:0', grad_fn=<MulBackward0>) tensor(77.5449, device='mps:0', grad_fn=<SumBackward0>)\n",
      "in f6 4.813962936401367\n",
      "in f6 4.813962936401367\n",
      "tensor(61.6276, device='mps:0', grad_fn=<AddBackward0>) tensor(0.0481, device='mps:0', grad_fn=<MulBackward0>) tensor(61.5795, device='mps:0', grad_fn=<SumBackward0>)\n",
      "in f6 1.4890851974487305\n",
      "in f6 1.4890851974487305\n",
      "tensor(48.6323, device='mps:0', grad_fn=<AddBackward0>) tensor(0.0149, device='mps:0', grad_fn=<MulBackward0>) tensor(48.6174, device='mps:0', grad_fn=<SumBackward0>)\n",
      "in f6 -13.832847595214844\n",
      "in f6 -13.832847595214844\n",
      "tensor(38.2250, device='mps:0', grad_fn=<AddBackward0>) tensor(-0.0010, device='mps:0', grad_fn=<MulBackward0>) tensor(38.2260, device='mps:0', grad_fn=<SumBackward0>)\n",
      "in f6 0.4488353729248047\n",
      "in f6 0.4488353729248047\n",
      "tensor(29.9710, device='mps:0', grad_fn=<AddBackward0>) tensor(0.0045, device='mps:0', grad_fn=<MulBackward0>) tensor(29.9665, device='mps:0', grad_fn=<SumBackward0>)\n",
      "in f6 -15.433160781860352\n",
      "in f6 -15.433160781860352\n",
      "tensor(23.5322, device='mps:0', grad_fn=<AddBackward0>) tensor(-0.0010, device='mps:0', grad_fn=<MulBackward0>) tensor(23.5332, device='mps:0', grad_fn=<SumBackward0>)\n",
      "in f6 -14.23101806640625\n",
      "in f6 -14.23101806640625\n",
      "tensor(18.5526, device='mps:0', grad_fn=<AddBackward0>) tensor(-0.0010, device='mps:0', grad_fn=<MulBackward0>) tensor(18.5536, device='mps:0', grad_fn=<SumBackward0>)\n",
      "in f6 -10.554304122924805\n",
      "in f6 -10.554304122924805\n",
      "tensor(14.7379, device='mps:0', grad_fn=<AddBackward0>) tensor(-0.0010, device='mps:0', grad_fn=<MulBackward0>) tensor(14.7389, device='mps:0', grad_fn=<SumBackward0>)\n",
      "in f6 4.206439018249512\n",
      "in f6 4.206439018249512\n",
      "tensor(11.8836, device='mps:0', grad_fn=<AddBackward0>) tensor(0.0421, device='mps:0', grad_fn=<MulBackward0>) tensor(11.8415, device='mps:0', grad_fn=<SumBackward0>)\n",
      "in f6 -7.036222457885742\n",
      "in f6 -7.036222457885742\n",
      "tensor(9.6746, device='mps:0', grad_fn=<AddBackward0>) tensor(-0.0010, device='mps:0', grad_fn=<MulBackward0>) tensor(9.6756, device='mps:0', grad_fn=<SumBackward0>)\n",
      "in f6 0.033766746520996094\n",
      "in f6 0.033766746520996094\n",
      "tensor(8.0350, device='mps:0', grad_fn=<AddBackward0>) tensor(0.0003, device='mps:0', grad_fn=<MulBackward0>) tensor(8.0346, device='mps:0', grad_fn=<SumBackward0>)\n",
      "in f6 -7.457356929779053\n",
      "in f6 -7.457356929779053\n",
      "tensor(6.8012, device='mps:0', grad_fn=<AddBackward0>) tensor(-0.0010, device='mps:0', grad_fn=<MulBackward0>) tensor(6.8022, device='mps:0', grad_fn=<SumBackward0>)\n",
      "in f6 -6.62639045715332\n",
      "in f6 -6.62639045715332\n",
      "tensor(5.8450, device='mps:0', grad_fn=<AddBackward0>) tensor(-0.0010, device='mps:0', grad_fn=<MulBackward0>) tensor(5.8460, device='mps:0', grad_fn=<SumBackward0>)\n",
      "in f6 0.4609694480895996\n",
      "in f6 0.4609694480895996\n",
      "tensor(5.0933, device='mps:0', grad_fn=<AddBackward0>) tensor(0.0046, device='mps:0', grad_fn=<MulBackward0>) tensor(5.0887, device='mps:0', grad_fn=<SumBackward0>)\n",
      "in f6 -4.757061004638672\n",
      "in f6 -4.757061004638672\n",
      "tensor(4.4932, device='mps:0', grad_fn=<AddBackward0>) tensor(-0.0010, device='mps:0', grad_fn=<MulBackward0>) tensor(4.4942, device='mps:0', grad_fn=<SumBackward0>)\n",
      "in f6 -3.6548309326171875\n",
      "in f6 -3.6548309326171875\n",
      "tensor(4.0082, device='mps:0', grad_fn=<AddBackward0>) tensor(-0.0010, device='mps:0', grad_fn=<MulBackward0>) tensor(4.0092, device='mps:0', grad_fn=<SumBackward0>)\n",
      "in f6 0.7333784103393555\n",
      "in f6 0.7333784103393555\n",
      "tensor(3.6159, device='mps:0', grad_fn=<AddBackward0>) tensor(0.0073, device='mps:0', grad_fn=<MulBackward0>) tensor(3.6085, device='mps:0', grad_fn=<SumBackward0>)\n",
      "in f6 -1.412806510925293\n",
      "in f6 -1.412806510925293\n",
      "tensor(3.2879, device='mps:0', grad_fn=<AddBackward0>) tensor(-0.0010, device='mps:0', grad_fn=<MulBackward0>) tensor(3.2889, device='mps:0', grad_fn=<SumBackward0>)\n",
      "in f6 0.0\n",
      "in f6 0.0\n",
      "tensor(3.0185, device='mps:0', grad_fn=<AddBackward0>) tensor(0., device='mps:0', grad_fn=<MulBackward0>) tensor(3.0185, device='mps:0', grad_fn=<SumBackward0>)\n",
      "in f6 0.3428077697753906\n",
      "in f6 0.3428077697753906\n",
      "tensor(2.7890, device='mps:0', grad_fn=<AddBackward0>) tensor(0.0034, device='mps:0', grad_fn=<MulBackward0>) tensor(2.7856, device='mps:0', grad_fn=<SumBackward0>)\n",
      "in f6 0.5827975273132324\n",
      "in f6 0.5827975273132324\n",
      "tensor(2.6022, device='mps:0', grad_fn=<AddBackward0>) tensor(0.0058, device='mps:0', grad_fn=<MulBackward0>) tensor(2.5964, device='mps:0', grad_fn=<SumBackward0>)\n",
      "in f6 -2.4064903259277344\n",
      "in f6 -2.4064903259277344\n",
      "tensor(2.4282, device='mps:0', grad_fn=<AddBackward0>) tensor(-0.0010, device='mps:0', grad_fn=<MulBackward0>) tensor(2.4292, device='mps:0', grad_fn=<SumBackward0>)\n",
      "in f6 -4.8397417068481445\n",
      "in f6 -4.8397417068481445\n",
      "tensor(2.2809, device='mps:0', grad_fn=<AddBackward0>) tensor(-0.0010, device='mps:0', grad_fn=<MulBackward0>) tensor(2.2819, device='mps:0', grad_fn=<SumBackward0>)\n",
      "in f6 1.9689717292785645\n",
      "in f6 1.9689717292785645\n",
      "tensor(2.1698, device='mps:0', grad_fn=<AddBackward0>) tensor(0.0197, device='mps:0', grad_fn=<MulBackward0>) tensor(2.1502, device='mps:0', grad_fn=<SumBackward0>)\n",
      "in f6 -7.511719703674316\n",
      "in f6 -7.511719703674316\n",
      "tensor(2.0443, device='mps:0', grad_fn=<AddBackward0>) tensor(-0.0010, device='mps:0', grad_fn=<MulBackward0>) tensor(2.0453, device='mps:0', grad_fn=<SumBackward0>)\n",
      "in f6 -11.973760604858398\n",
      "in f6 -11.973760604858398\n",
      "tensor(1.9448, device='mps:0', grad_fn=<AddBackward0>) tensor(-0.0010, device='mps:0', grad_fn=<MulBackward0>) tensor(1.9458, device='mps:0', grad_fn=<SumBackward0>)\n",
      "in f6 -7.076504707336426\n",
      "in f6 -7.076504707336426\n",
      "tensor(1.8463, device='mps:0', grad_fn=<AddBackward0>) tensor(-0.0010, device='mps:0', grad_fn=<MulBackward0>) tensor(1.8473, device='mps:0', grad_fn=<SumBackward0>)\n",
      "in f6 1.795536994934082\n",
      "in f6 1.795536994934082\n",
      "tensor(1.7673, device='mps:0', grad_fn=<AddBackward0>) tensor(0.0180, device='mps:0', grad_fn=<MulBackward0>) tensor(1.7493, device='mps:0', grad_fn=<SumBackward0>)\n",
      "in f6 -11.18365478515625\n",
      "in f6 -11.18365478515625\n",
      "tensor(1.6658, device='mps:0', grad_fn=<AddBackward0>) tensor(-0.0010, device='mps:0', grad_fn=<MulBackward0>) tensor(1.6668, device='mps:0', grad_fn=<SumBackward0>)\n",
      "in f6 0.41854095458984375\n",
      "in f6 0.41854095458984375\n",
      "tensor(1.5864, device='mps:0', grad_fn=<AddBackward0>) tensor(0.0042, device='mps:0', grad_fn=<MulBackward0>) tensor(1.5822, device='mps:0', grad_fn=<SumBackward0>)\n",
      "in f6 0.3316178321838379\n",
      "in f6 0.3316178321838379\n",
      "tensor(1.5001, device='mps:0', grad_fn=<AddBackward0>) tensor(0.0033, device='mps:0', grad_fn=<MulBackward0>) tensor(1.4968, device='mps:0', grad_fn=<SumBackward0>)\n",
      "in f6 -8.78012466430664\n",
      "in f6 -8.78012466430664\n",
      "tensor(1.4319, device='mps:0', grad_fn=<AddBackward0>) tensor(-0.0010, device='mps:0', grad_fn=<MulBackward0>) tensor(1.4329, device='mps:0', grad_fn=<SumBackward0>)\n",
      "in f6 -9.30370807647705\n",
      "in f6 -9.30370807647705\n",
      "tensor(1.3625, device='mps:0', grad_fn=<AddBackward0>) tensor(-0.0010, device='mps:0', grad_fn=<MulBackward0>) tensor(1.3635, device='mps:0', grad_fn=<SumBackward0>)\n",
      "in f6 -8.951765060424805\n",
      "in f6 -8.951765060424805\n",
      "tensor(1.2832, device='mps:0', grad_fn=<AddBackward0>) tensor(-0.0010, device='mps:0', grad_fn=<MulBackward0>) tensor(1.2842, device='mps:0', grad_fn=<SumBackward0>)\n",
      "in f6 -7.97137451171875\n",
      "in f6 -7.97137451171875\n",
      "tensor(1.1962, device='mps:0', grad_fn=<AddBackward0>) tensor(-0.0010, device='mps:0', grad_fn=<MulBackward0>) tensor(1.1972, device='mps:0', grad_fn=<SumBackward0>)\n",
      "in f6 3.6888346672058105\n",
      "in f6 3.6888346672058105\n",
      "tensor(1.1452, device='mps:0', grad_fn=<AddBackward0>) tensor(0.0369, device='mps:0', grad_fn=<MulBackward0>) tensor(1.1083, device='mps:0', grad_fn=<SumBackward0>)\n",
      "in f6 1.1938376426696777\n",
      "in f6 1.1938376426696777\n",
      "tensor(1.0463, device='mps:0', grad_fn=<AddBackward0>) tensor(0.0119, device='mps:0', grad_fn=<MulBackward0>) tensor(1.0344, device='mps:0', grad_fn=<SumBackward0>)\n",
      "in f6 -7.88723611831665\n",
      "in f6 -7.88723611831665\n",
      "tensor(0.9786, device='mps:0', grad_fn=<AddBackward0>) tensor(-0.0010, device='mps:0', grad_fn=<MulBackward0>) tensor(0.9796, device='mps:0', grad_fn=<SumBackward0>)\n",
      "in f6 -11.935882568359375\n",
      "in f6 -11.935882568359375\n",
      "tensor(0.9230, device='mps:0', grad_fn=<AddBackward0>) tensor(-0.0010, device='mps:0', grad_fn=<MulBackward0>) tensor(0.9240, device='mps:0', grad_fn=<SumBackward0>)\n",
      "in f6 -11.329944610595703\n",
      "in f6 -11.329944610595703\n",
      "tensor(0.8603, device='mps:0', grad_fn=<AddBackward0>) tensor(-0.0010, device='mps:0', grad_fn=<MulBackward0>) tensor(0.8613, device='mps:0', grad_fn=<SumBackward0>)\n",
      "in f6 0.0510716438293457\n",
      "in f6 0.0510716438293457\n",
      "tensor(0.7915, device='mps:0', grad_fn=<AddBackward0>) tensor(0.0005, device='mps:0', grad_fn=<MulBackward0>) tensor(0.7910, device='mps:0', grad_fn=<SumBackward0>)\n",
      "in f6 -5.318168640136719\n",
      "in f6 -5.318168640136719\n",
      "tensor(0.7177, device='mps:0', grad_fn=<AddBackward0>) tensor(-0.0010, device='mps:0', grad_fn=<MulBackward0>) tensor(0.7187, device='mps:0', grad_fn=<SumBackward0>)\n",
      "in f6 3.2057671546936035\n",
      "in f6 3.2057671546936035\n",
      "tensor(0.6838, device='mps:0', grad_fn=<AddBackward0>) tensor(0.0321, device='mps:0', grad_fn=<MulBackward0>) tensor(0.6517, device='mps:0', grad_fn=<SumBackward0>)\n",
      "in f6 0.40110254287719727\n",
      "in f6 0.40110254287719727\n",
      "tensor(0.6090, device='mps:0', grad_fn=<AddBackward0>) tensor(0.0040, device='mps:0', grad_fn=<MulBackward0>) tensor(0.6050, device='mps:0', grad_fn=<SumBackward0>)\n",
      "in f6 -7.4097981452941895\n",
      "in f6 -7.4097981452941895\n",
      "tensor(0.5790, device='mps:0', grad_fn=<AddBackward0>) tensor(-0.0010, device='mps:0', grad_fn=<MulBackward0>) tensor(0.5800, device='mps:0', grad_fn=<SumBackward0>)\n",
      "in f6 -9.803707122802734\n",
      "in f6 -9.803707122802734\n",
      "tensor(0.5520, device='mps:0', grad_fn=<AddBackward0>) tensor(-0.0010, device='mps:0', grad_fn=<MulBackward0>) tensor(0.5530, device='mps:0', grad_fn=<SumBackward0>)\n",
      "in f6 -9.559455871582031\n",
      "in f6 -9.559455871582031\n",
      "tensor(0.5149, device='mps:0', grad_fn=<AddBackward0>) tensor(-0.0010, device='mps:0', grad_fn=<MulBackward0>) tensor(0.5159, device='mps:0', grad_fn=<SumBackward0>)\n"
     ]
    }
   ],
   "source": [
    "out_delta = CW_targeted_l2(x.to('mps'), model, 0.01, 1)"
   ]
  },
  {
   "cell_type": "code",
   "execution_count": 157,
   "id": "b95bedaa-52aa-47f6-ae19-3b6bc3b78a91",
   "metadata": {},
   "outputs": [
    {
     "data": {
      "text/plain": [
       "torch.Size([3, 32, 32])"
      ]
     },
     "execution_count": 157,
     "metadata": {},
     "output_type": "execute_result"
    }
   ],
   "source": [
    "out_delta.shape"
   ]
  },
  {
   "cell_type": "code",
   "execution_count": 158,
   "id": "51cb2270-38de-4cee-867d-9773a1201453",
   "metadata": {},
   "outputs": [
    {
     "data": {
      "text/plain": [
       "0.03137254901960784"
      ]
     },
     "execution_count": 158,
     "metadata": {},
     "output_type": "execute_result"
    }
   ],
   "source": [
    "8/255"
   ]
  },
  {
   "cell_type": "code",
   "execution_count": 159,
   "id": "8aa28c2b-d044-4e47-b0d7-f6ae9b3029c4",
   "metadata": {},
   "outputs": [
    {
     "data": {
      "text/plain": [
       "(tensor(-0.0629, device='mps:0', grad_fn=<MinBackward1>),\n",
       " tensor(0.0464, device='mps:0', grad_fn=<MaxBackward1>))"
      ]
     },
     "execution_count": 159,
     "metadata": {},
     "output_type": "execute_result"
    }
   ],
   "source": [
    "out_delta.min(), out_delta.max()"
   ]
  },
  {
   "cell_type": "code",
   "execution_count": 160,
   "id": "adef84eb-485e-4e7e-ab09-46827da91737",
   "metadata": {},
   "outputs": [],
   "source": [
    "max_diff = torch.max(torch.abs(out_delta))"
   ]
  },
  {
   "cell_type": "code",
   "execution_count": 161,
   "id": "6d18fded-ac9e-427d-b83c-e41b3c712c86",
   "metadata": {},
   "outputs": [
    {
     "data": {
      "text/plain": [
       "tensor(0.0629, device='mps:0', grad_fn=<MaxBackward1>)"
      ]
     },
     "execution_count": 161,
     "metadata": {},
     "output_type": "execute_result"
    }
   ],
   "source": [
    "max_diff"
   ]
  },
  {
   "cell_type": "code",
   "execution_count": 119,
   "id": "5a96217e-d5d2-4762-8348-3c373d9d7643",
   "metadata": {},
   "outputs": [],
   "source": [
    "assert max_diff < 8/255"
   ]
  },
  {
   "cell_type": "markdown",
   "id": "372f114c-d152-4fc6-876b-5c2720b89dcb",
   "metadata": {},
   "source": [
    "Now let's plot what we have. You should "
   ]
  },
  {
   "cell_type": "code",
   "execution_count": 162,
   "id": "e4e0a59f-a97c-4894-bf97-4300eeb73fa4",
   "metadata": {},
   "outputs": [
    {
     "data": {
      "image/png": "[encoded data removed]",
      "text/plain": [
       "<Figure size 1200x800 with 12 Axes>"
      ]
     },
     "metadata": {},
     "output_type": "display_data"
    }
   ],
   "source": [
    "out_delta = out_delta.detach().cpu()\n",
    "\n",
    "_ = xlab.utils.plot_tensors(\n",
    "    [out_delta[0], out_delta[1], out_delta[2], x.cpu()[0], x.cpu()[1], x.cpu()[2]],\n",
    "    log_scale=False, \n",
    "    ncols=3,\n",
    "    # log_scale=True,\n",
    "    titles = [\"out delta (red)\", \"out delta (green)\", \"out delta (blue)\", \"image (red)\", \"image (green)\", \"image (blue)\"]\n",
    ")"
   ]
  },
  {
   "cell_type": "code",
   "execution_count": 43,
   "id": "b26a72a0-b177-40f5-9a3a-bdaf3b441f2f",
   "metadata": {},
   "outputs": [],
   "source": [
    "x_adv = out_delta + x"
   ]
  },
  {
   "cell_type": "code",
   "execution_count": 44,
   "id": "c452f3c6-a499-4044-af0a-e810ef64e3b7",
   "metadata": {},
   "outputs": [
    {
     "data": {
      "text/plain": [
       "tensor([[13.4251, -0.7176, -1.3678,  3.0889, -5.2713, -1.6484, -1.6464, -2.5078,\n",
       "         -1.8055, -1.4932]], device='mps:0', grad_fn=<LinearBackward0>)"
      ]
     },
     "execution_count": 44,
     "metadata": {},
     "output_type": "execute_result"
    }
   ],
   "source": [
    "model(x_adv.unsqueeze(0))"
   ]
  },
  {
   "cell_type": "code",
   "execution_count": 45,
   "id": "f3a33030-6c27-4f43-bd41-6252f589ad55",
   "metadata": {},
   "outputs": [
    {
     "data": {
      "text/plain": [
       "torch.Size([3, 32, 32])"
      ]
     },
     "execution_count": 45,
     "metadata": {},
     "output_type": "execute_result"
    }
   ],
   "source": [
    "x_adv.shape"
   ]
  },
  {
   "cell_type": "code",
   "execution_count": 46,
   "id": "dbc27c3e-34f2-499f-a3e4-a3c90b6c2a4c",
   "metadata": {},
   "outputs": [
    {
     "data": {
      "text/plain": [
       "<matplotlib.image.AxesImage at 0x17c549d90>"
      ]
     },
     "execution_count": 46,
     "metadata": {},
     "output_type": "execute_result"
    },
    {
     "data": {
      "image/png": "[encoded data removed]",
      "text/plain": [
       "<Figure size 640x480 with 1 Axes>"
      ]
     },
     "metadata": {},
     "output_type": "display_data"
    }
   ],
   "source": [
    "plt.imshow(x_adv.detach().permute(1,2,0).cpu())"
   ]
  },
  {
   "cell_type": "markdown",
   "id": "f5a95ae2-92f4-4175-bd8e-78911935a076",
   "metadata": {},
   "source": [
    "## Choosing a constant $c$\n",
    "\n",
    "\n",
    "<blockquote>\n",
    "    Empirically, we have found that often the best way to choose\n",
    "$c$ is to use the smallest value of $c$ for which the resulting\n",
    "solution $x^{*}$ has $f(x^{*}\n",
    ")\\leq 0$. This causes gradient descent to\n",
    "minimize both of the terms simultaneously instead of picking\n",
    "only one to optimize over first.\n",
    "</blockquote>\n",
    "\n"
   ]
  },
  {
   "cell_type": "markdown",
   "id": "3876048a-6dca-402d-9927-e72c87a74881",
   "metadata": {},
   "source": [
    "On choosing a good $f$:\n",
    "\n",
    "<blockquote>\n",
    "The choice of method\n",
    "for handling box constraints does not impact the quality of\n",
    "results as significantly for the best minimization functions.\n",
    "</blockquote>"
   ]
  },
  {
   "cell_type": "code",
   "execution_count": null,
   "id": "de22f78d-7cbe-4496-856f-df7c609275d7",
   "metadata": {},
   "outputs": [],
   "source": []
  }
 ],
 "metadata": {
  "kernelspec": {
   "display_name": "Python 3 (ipykernel)",
   "language": "python",
   "name": "python3"
  },
  "language_info": {
   "codemirror_mode": {
    "name": "ipython",
    "version": 3
   },
   "file_extension": ".py",
   "mimetype": "text/x-python",
   "name": "python",
   "nbconvert_exporter": "python",
   "pygments_lexer": "ipython3",
   "version": "3.10.12"
  }
 },
 "nbformat": 4,
 "nbformat_minor": 5
}
