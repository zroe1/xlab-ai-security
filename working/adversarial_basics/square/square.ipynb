{
 "cells": [
  {
   "cell_type": "markdown",
   "id": "9e828500-86e7-4eab-9f3d-8ebc5d4015cc",
   "metadata": {},
   "source": [
    "## Square Attack\n",
    "\n",
    "The Square Attack is a black-box method used to generate adversarial samples. Unlike 'white-box' approachs such as PGD or FGSM, the Square Attack does not require knowing model weights or gradients. \n",
    "\n",
    "While other black-box attack take many queries to perform attacks the square attack makes relatively few.  The attack works by taking repeated alterations in the shape of a square on the image, keeping it if it increases the loss of the model. The Square Attack, upon release, was successful enough that it even outperformed some existing white-box approaches on benchmarks."
   ]
  },
  {
   "cell_type": "markdown",
   "id": "3db55a50-6b0f-483e-a5ed-163ac93045a4",
   "metadata": {},
   "source": [
    "## 1. Loading and Processing Models and Images"
   ]
  },
  {
   "cell_type": "code",
   "execution_count": null,
   "id": "da62955b-5230-4b11-a53d-b55a12874b08",
   "metadata": {},
   "outputs": [],
   "source": [
    "# IF YOU ARE IN COLAB OR HAVE NOT INSTALLED `xlab-security`\n",
    "!pip install xlab-security # should not take more than a minute or two to run"
   ]
  },
  {
   "cell_type": "code",
   "execution_count": 1,
   "id": "a38fde14-a5dd-4abd-9d86-ff003d14cb98",
   "metadata": {},
   "outputs": [],
   "source": [
    "import xlab\n",
    "from xlab.utils import prediction, process_image, show_image, CIFAR10\n",
    "import torch\n",
    "import numpy as np\n",
    "import random\n",
    "from huggingface_hub import hf_hub_download\n",
    "from xlab.models import MiniWideResNet, BasicBlock\n",
    "import torch\n",
    "\n",
    "classes = CIFAR10().classes\n",
    "IMG_PATH = 'car.jpg'\n",
    "\n",
    "model = MiniWideResNet()\n",
    "model_path = hf_hub_download(\n",
    "    repo_id=\"uchicago-xlab-ai-security/tiny-wideresnet-cifar10\",\n",
    "    filename=\"adversarial_basics_cnn.pth\"\n",
    ")\n",
    "\n",
    "model = torch.load(model_path, map_location='cpu', weights_only = False)"
   ]
  },
  {
   "cell_type": "markdown",
   "id": "9ecf33c8-414a-4ce6-9d73-cad5fa2bb256",
   "metadata": {},
   "source": [
    "### Task 1\n",
    "\n",
    "In the $ L_\\infty $ square attack, the attacker adds random square-shaped changes to the image to increase the classifiers loss. The first step to adding these squares is to choose their location. In the function below you will return a random $y$ and $x$ to determine the upper left hand side of a square we will add in another function (shown with the star below).\n",
    "\n",
    "<p style=\"text-align: center\">\n",
    "<img width=\"300px\" src=\"https://xlabaisecurity.com/square/square_loc.png\">\n",
    "</p>\n",
    "\n",
    "The function takes in two arguments:\n",
    "\n",
    "1. `w`: the sidelength of the original image. For CIFAR-10 $w = 32$ because images are $3 \\times 32 \\times 32$.\n",
    "2. `h`: the size of the square we will be adding to the image.\n",
    "\n",
    "<details>\n",
    "<summary>🔐 <b>Solution for Task #1</b></summary>\n",
    "\n",
    "```python\n",
    "def get_rand_square_coordinates(w, h):\n",
    "    \"\"\"Generates random coordinates for the upper left corner of a square patch\n",
    "    \n",
    "    Args:\n",
    "        w (int): Side length of the original image\n",
    "        h (int): Side length of the square patch to be placed\n",
    "        \n",
    "    Returns:\n",
    "        tuple: (y, x) coordinates for the upper left corner of the square\n",
    "    \"\"\"\n",
    "    randy = torch.randint(0, w - h, (1,)).item()\n",
    "    randx = torch.randint(0, w - h, (1,)).item() \n",
    "\n",
    "    return randy, randx\n",
    "```\n",
    "</details>"
   ]
  },
  {
   "cell_type": "code",
   "execution_count": 2,
   "id": "66b54dd4-eb42-43fd-85b1-28e54b9ae687",
   "metadata": {},
   "outputs": [],
   "source": [
    "def get_rand_square_coordinates(w, h):\n",
    "    \"\"\"Generates random coordinates for the upper left corner of a square patch\n",
    "    \n",
    "    Args:\n",
    "        w (int): Side length of the original image\n",
    "        h (int): Side length of the square patch to be placed\n",
    "        \n",
    "    Returns:\n",
    "        tuple: (y, x) coordinates for the upper left corner of the square\n",
    "    \"\"\"\n",
    "\n",
    "    randy = torch.randint(0, w - h, (1,)).item()\n",
    "    randx = torch.randint(0, w - h, (1,)).item() \n",
    "\n",
    "    return randy, randx\n",
    "    \n",
    "    raise NotImplementedError(\"get_rand_square_coordinates hasn't been implemented.\")"
   ]
  },
  {
   "cell_type": "code",
   "execution_count": 3,
   "id": "3f1c2c1a-4dc7-4143-8f2e-a2897292e3ae",
   "metadata": {},
   "outputs": [
    {
     "name": "stdout",
     "output_type": "stream",
     "text": [
      "\n",
      "Running tests for Task 1: get_rand_square_coordinates...\n",
      "======================================================================\n",
      "🎉 \u001b[92mAll tests passed! (2/2)\u001b[0m\n",
      "======================================================================\n",
      "\n",
      "Detailed output:\n",
      "\u001b[1m============================= test session starts ==============================\u001b[0m\n",
      "\u001b[1mcollecting ... \u001b[0mcollected 2 items\n",
      "\n",
      "../../../xlab-python-package/xlab/tests/square.py::TestTask1::test_output_type_and_bounds \u001b[32mPASSED\u001b[0m\u001b[33m [ 50%]\u001b[0m\n",
      "../../../xlab-python-package/xlab/tests/square.py::TestTask1::test_randomness_across_calls \u001b[32mPASSED\u001b[0m\u001b[33m [100%]\u001b[0m\n",
      "\n",
      "\u001b[33m=============================== warnings summary ===============================\u001b[0m\n",
      "../../../../../../anaconda3/envs/xlab/lib/python3.11/site-packages/_pytest/config/__init__.py:1290\n",
      "  /Users/zephaniahroe/anaconda3/envs/xlab/lib/python3.11/site-packages/_pytest/config/__init__.py:1290: PytestAssertRewriteWarning: Module already imported so cannot be rewritten; anyio\n",
      "    self._mark_plugins_for_rewrite(hook, disable_autoload)\n",
      "\n",
      "-- Docs: https://docs.pytest.org/en/stable/how-to/capture-warnings.html\n",
      "\u001b[33m========================= \u001b[32m2 passed\u001b[0m, \u001b[33m\u001b[1m1 warning\u001b[0m\u001b[33m in 0.01s\u001b[0m\u001b[33m =========================\u001b[0m\n",
      "\n"
     ]
    }
   ],
   "source": [
    "_ = xlab.tests.square.task1(get_rand_square_coordinates)"
   ]
  },
  {
   "cell_type": "markdown",
   "id": "23201df4-b1c2-4f88-b216-93cda89c0319",
   "metadata": {},
   "source": [
    "### Task 2\n",
    "\n",
    "Now we can design a function which creates the random square which we will add to our image. This function will return delta tensor where each value represents how much the square will effect each number in the original image. The tensor will be all zeros except for a small square which we will choose the value of randomly.\n",
    "\n",
    "The function will take in four arguments:\n",
    "\n",
    "1. `c`: the number of color channels in the image. For CIFAR-10 there are three channels: red, green, and blue.\n",
    "2. `w`: the sidelength of the original image. For CIFAR-10 $w = 32$ because images are $3 \\times 32 \\times 32$.\n",
    "3. `h`: the size of the square we will be adding to the image.\n",
    "4. `epsilon`: this determines the range of values that the square will be sampled from.\n",
    "\n",
    "Each color channel in the square will be independently chosen. Each value is sampled from between $ -2\\epsilon $ and $ 2\\epsilon$. For CIFAR-10 there are three color channels, so you would sample only 3 random values for the square. \n",
    "\n",
    "To make this concrete, take a look at the image below. This is a plot of a tensor which `l_inf_dist` may return. Note that most values in each color channel are zero. The values that are not zero are the same accross color channels. Within the same color channel, the values are all the same, but each color channel has a different value.\n",
    "\n",
    "<p style=\"text-align: center\">\n",
    "<img width=\"800px\" src=\"https://xlabaisecurity.com/square/example_square.png\">\n",
    "</p>\n"
   ]
  },
  {
   "cell_type": "markdown",
   "id": "66b5a1eb-870e-4d7e-b9d5-cc062a5c2836",
   "metadata": {},
   "source": [
    "<details>\n",
    "<summary>🔐 <b>Solution for Task #2</b></summary>\n",
    "\n",
    "```python\n",
    "def l_inf_dist(epsilon, h, w, c):\n",
    "    \"\"\"Generates a sparse adversarial perturbation by adding uniform noise to a random square patch\n",
    "    \n",
    "    Args:\n",
    "        epsilon (float): Maximum perturbation magnitude.\n",
    "        h (int): Height and width of the square patch to perturb.\n",
    "        w (int): Height and width of the full image.\n",
    "        c (int): Number of color channels.\n",
    "        \n",
    "    Returns:\n",
    "        [c, w, w]: Sparse perturbation tensor with random noise in a single square patch.\n",
    "    \"\"\"\n",
    "    randy, randx = get_rand_square_coordinates(w, h)\n",
    "\n",
    "    ps = (torch.rand(c,1,1) - 0.5) * 4 * epsilon\n",
    "    delta = torch.zeros(c, w, w)\n",
    "    delta[:,randy:randy+h, randx:randx+h] = ps\n",
    "\n",
    "    return delta\n",
    "```\n",
    "\n",
    "</details>"
   ]
  },
  {
   "cell_type": "code",
   "execution_count": 4,
   "id": "e1327245-a6ab-4e49-8cf1-2ad6a426baba",
   "metadata": {},
   "outputs": [],
   "source": [
    "def l_inf_dist(epsilon, h, w, c):\n",
    "    \"\"\"Generates a sparse adversarial perturbation by adding uniform noise to a random square patch\n",
    "    \n",
    "    Args:\n",
    "        epsilon (float): Maximum perturbation magnitude.\n",
    "        h (int): Height and width of the square patch to perturb.\n",
    "        w (int): Height and width of the full image.\n",
    "        c (int): Number of color channels.\n",
    "        \n",
    "    Returns:\n",
    "        [c, w, w]: Sparse perturbation tensor with random noise in a single square patch.\n",
    "    \"\"\"\n",
    "    randy, randx = get_rand_square_coordinates(w, h)\n",
    "\n",
    "    ps = (torch.rand(c,1,1) - 0.5) * 4 * epsilon\n",
    "    delta = torch.zeros(c, w, w)\n",
    "    delta[:,randy:randy+h, randx:randx+h] = ps\n",
    "\n",
    "    return delta\n",
    "    # raise NotImplementedError(\"l_inf_square_attack hasn't been implemented.\")"
   ]
  },
  {
   "cell_type": "markdown",
   "id": "7b8f6319-4fea-4a5e-8cfc-533c689d181d",
   "metadata": {},
   "source": [
    "Now run the two cells below. If you implemented your function correctly, the top cell and the bottom cell should return squares of two different sizes starting in two different positions."
   ]
  },
  {
   "cell_type": "code",
   "execution_count": 5,
   "id": "4b478ac0-0ea0-4bc8-871a-bd5016ba75ea",
   "metadata": {},
   "outputs": [
    {
     "data": {
      "image/png": "[encoded data removed]",
      "text/plain": [
       "<Figure size 1200x400 with 6 Axes>"
      ]
     },
     "metadata": {},
     "output_type": "display_data"
    }
   ],
   "source": [
    "delta = l_inf_dist(0.1, 5, 32, 3)\n",
    "_ = xlab.utils.plot_tensors([\n",
    "        delta[0],\n",
    "        delta[1],\n",
    "        delta[2]\n",
    "    ],\n",
    "    ncols=3,\n",
    "    titles=[\"red channel\", \"green channel\", \"blue channel\"] \n",
    ")"
   ]
  },
  {
   "cell_type": "code",
   "execution_count": 6,
   "id": "a7e93314-a5f1-4e58-8454-9ff58e492e4f",
   "metadata": {},
   "outputs": [
    {
     "data": {
      "image/png": "[encoded data removed]",
      "text/plain": [
       "<Figure size 1200x400 with 6 Axes>"
      ]
     },
     "metadata": {},
     "output_type": "display_data"
    }
   ],
   "source": [
    "delta = l_inf_dist(0.1, 10, 32, 3)\n",
    "_ = xlab.utils.plot_tensors([\n",
    "        delta[0],\n",
    "        delta[1],\n",
    "        delta[2]\n",
    "    ],\n",
    "    ncols=3,\n",
    "    titles=[\"red channel\", \"green channel\", \"blue channel\"] \n",
    ")"
   ]
  },
  {
   "cell_type": "code",
   "execution_count": 7,
   "id": "e8d3c4e9-96d5-4a49-8cc4-49a3520f3a90",
   "metadata": {},
   "outputs": [
    {
     "name": "stdout",
     "output_type": "stream",
     "text": [
      "\n",
      "Running tests for Task 2: l_inf_dist...\n",
      "======================================================================\n",
      "🎉 \u001b[92mAll tests passed! (2/2)\u001b[0m\n",
      "======================================================================\n",
      "\n",
      "Detailed output:\n",
      "\u001b[1m============================= test session starts ==============================\u001b[0m\n",
      "\u001b[1mcollecting ... \u001b[0mcollected 2 items\n",
      "\n",
      "../../../xlab-python-package/xlab/tests/square.py::TestTask2::test_output_shape_and_type \u001b[32mPASSED\u001b[0m\u001b[33m [ 50%]\u001b[0m\n",
      "../../../xlab-python-package/xlab/tests/square.py::TestTask2::test_randomness_across_runs \u001b[32mPASSED\u001b[0m\u001b[33m [100%]\u001b[0m\n",
      "\n",
      "\u001b[33m=============================== warnings summary ===============================\u001b[0m\n",
      "../../../../../../anaconda3/envs/xlab/lib/python3.11/site-packages/_pytest/config/__init__.py:1290\n",
      "  /Users/zephaniahroe/anaconda3/envs/xlab/lib/python3.11/site-packages/_pytest/config/__init__.py:1290: PytestAssertRewriteWarning: Module already imported so cannot be rewritten; anyio\n",
      "    self._mark_plugins_for_rewrite(hook, disable_autoload)\n",
      "\n",
      "-- Docs: https://docs.pytest.org/en/stable/how-to/capture-warnings.html\n",
      "\u001b[33m========================= \u001b[32m2 passed\u001b[0m, \u001b[33m\u001b[1m1 warning\u001b[0m\u001b[33m in 0.01s\u001b[0m\u001b[33m =========================\u001b[0m\n",
      "\n"
     ]
    }
   ],
   "source": [
    "_ = xlab.tests.square.task2(l_inf_dist)"
   ]
  },
  {
   "cell_type": "markdown",
   "id": "77a924dd-68d1-4d15-8d0e-df04b9d41d1d",
   "metadata": {},
   "source": [
    "## Task 3\n",
    "\n",
    "Before we implement our attack we have to determine a schedule for the sizes of the squares we will be adding to our image. We would like to start with large squares to make high level changes to the image before moving to smaller squares to make more fine-grained adjustments.\n",
    "\n",
    "The scedule proposed in the paper takes a square that has a size such that it modifies roughly $p$ percentage of pixels in the image. Then after some amount of iterations, the value of $p$ is halved so that the next round of squares will be smaller. More concretely, if $w$ is the side length of the original image the side length of the square to modify is the closest positive integer to $\\sqrt{p * w^2}$. \n",
    "\n",
    "Below you will see a constant array `HALF_POINT_VALUES`. At these values $p$ is halved. We hardcode the same values for `HALF_POINT_VALUES` used in the original paper. In your function, you will use this variable to determine the side length of the modifying square at iteration $i$ given $w$ and an inital $p$.\n",
    "\n",
    "**Sidenote:** Our solution uses a loop to find `square_schedule` which is not the most efficient solution but we believe it is the easiest to understand. In the [code released for the paper](https://github.com/max-andr/square-attack/blob/master/attack.py), the authors use a large if/elif/else statement which is called at each iteration but this is also suboptimal. The most efficient solution would not require so many repeated calls to the scheduler function but this would make the code harder to understand so we leave this as an exercise to the reader."
   ]
  },
  {
   "cell_type": "code",
   "execution_count": 8,
   "id": "6ddfb86d-ef8e-44fa-be4c-92aead97cd84",
   "metadata": {},
   "outputs": [],
   "source": [
    "HALF_POINT_VALUES = [10, 50, 200, 1000, 2000, 4000, 6000, 8000]\n",
    "\n",
    "def square_schedule(i, w, inital_p=0.10):\n",
    "    p = inital_p\n",
    "    \n",
    "    for half_point in HALF_POINT_VALUES:\n",
    "        if half_point <= i:\n",
    "            p /= 2\n",
    "\n",
    "    side_length = int((p * w**2) ** (1/2))\n",
    "\n",
    "    # make sure the side length is not less than 2\n",
    "    if side_length < 2:\n",
    "        return 2\n",
    "    else:\n",
    "        return side_length"
   ]
  },
  {
   "cell_type": "code",
   "execution_count": 11,
   "id": "a5f90511-cf3f-48ad-978c-f4df03f16755",
   "metadata": {},
   "outputs": [
    {
     "name": "stdout",
     "output_type": "stream",
     "text": [
      "\n",
      "Running tests for Task 3: square_schedule...\n",
      "======================================================================\n",
      "📊 \u001b[91mResults: 2 passed, 2 failed out of 4 total\u001b[0m\n",
      "======================================================================\n",
      "\n",
      "Detailed output:\n",
      "\u001b[1m============================= test session starts ==============================\u001b[0m\n",
      "\u001b[1mcollecting ... \u001b[0mcollected 3 items\n",
      "\n",
      "../../../xlab-python-package/xlab/tests/square.py::TestTask3::test_basic_no_halving \u001b[32mPASSED\u001b[0m\u001b[33m [ 33%]\u001b[0m\n",
      "../../../xlab-python-package/xlab/tests/square.py::TestTask3::test_single_halving \u001b[31mFAILED\u001b[0m\u001b[31m [ 66%]\u001b[0m\n",
      "../../../xlab-python-package/xlab/tests/square.py::TestTask3::test_minimum_enforced \u001b[32mPASSED\u001b[0m\u001b[31m [100%]\u001b[0m\n",
      "\n",
      "=================================== FAILURES ===================================\n",
      "\u001b[31m\u001b[1m________________________ TestTask3.test_single_halving _________________________\u001b[0m\n",
      "\u001b[1m\u001b[31m../../../xlab-python-package/xlab/tests/square.py\u001b[0m:151: in test_single_halving\n",
      "    \u001b[0m\u001b[94massert\u001b[39;49;00m side == expected\u001b[90m\u001b[39;49;00m\n",
      "           ^^^^^^^^^^^^^^^^\u001b[90m\u001b[39;49;00m\n",
      "\u001b[1m\u001b[31mE   AssertionError\u001b[0m\n",
      "\u001b[33m=============================== warnings summary ===============================\u001b[0m\n",
      "../../../../../../anaconda3/envs/xlab/lib/python3.11/site-packages/_pytest/config/__init__.py:1290\n",
      "  /Users/zephaniahroe/anaconda3/envs/xlab/lib/python3.11/site-packages/_pytest/config/__init__.py:1290: PytestAssertRewriteWarning: Module already imported so cannot be rewritten; anyio\n",
      "    self._mark_plugins_for_rewrite(hook, disable_autoload)\n",
      "\n",
      "-- Docs: https://docs.pytest.org/en/stable/how-to/capture-warnings.html\n",
      "\u001b[36m\u001b[1m=========================== short test summary info ============================\u001b[0m\n",
      "\u001b[31mFAILED\u001b[0m ../../../xlab-python-package/xlab/tests/square.py::\u001b[1mTestTask3::test_single_halving\u001b[0m - AssertionError\n",
      "\u001b[31m==================== \u001b[31m\u001b[1m1 failed\u001b[0m, \u001b[32m2 passed\u001b[0m, \u001b[33m1 warning\u001b[0m\u001b[31m in 0.19s\u001b[0m\u001b[31m ====================\u001b[0m\n",
      "\n"
     ]
    }
   ],
   "source": [
    "_ = xlab.tests.square.task3(square_schedule)"
   ]
  },
  {
   "cell_type": "markdown",
   "id": "e092a19c-393f-4658-be50-4ae1d528ad49",
   "metadata": {},
   "source": [
    "## 2.1 The Square Attack loop.\n",
    "### Task 2\n",
    "Now, we will use the distribution within the main loop of the  $ L_\\infty $ attack. Similar code will be used to run the $ L_2 $ attack. Intuitively, this algorithm involves choosing a window size $ h $ using a schedule of sorts, and then altering the image using the above helper function, until the image is adversarial or a particular number of iterations is reached.\n",
    "\n",
    "$$\n",
    "\\begin{array}{l}\n",
    "\\text{\\bf Algorithm: Projected Gradient-Free Adversarial Attack} \\\\\n",
    "\\hline\n",
    "\\text{\\bf Input: } \\text{classifier } f, \\text{ point } x \\in \\mathbb{R}^d, \\text{ image size } w, \\text{ number of color channels } c, \\\\\n",
    "\\quad l_p\\text{-radius } \\epsilon, \\text{ label } y \\in \\{1, \\dots, K\\}, \\text{ number of iterations } N \\\\\n",
    "\\text{\\bf Output: } \\text{approximate minimizer } \\hat{x} \\in \\mathbb{R}^d \\text{ of the problem stated in Eq. (1)} \\\\[0.5em]\n",
    "\\hat{x} \\leftarrow \\text{init}(x) \\\\ \n",
    "l^* \\leftarrow L(f(x), y) \\\\\n",
    "i \\leftarrow 1 \\\\\n",
    "\\text{\\bf while } i < N \\text{ and } \\hat{x} \\text{ is not adversarial \\bf do} \\\\\n",
    "\\quad h^{(i)} \\leftarrow \\text{side length of the square to modify (according to some schedule)} \\\\\n",
    "\\quad \\delta \\sim P(\\epsilon, h^{(i)}, w, c, \\hat{x}, x) \\\\\n",
    "\\quad \\hat{x}_{\\text{new}} \\leftarrow \\text{Project } \\hat{x} + \\delta \\text{ onto } \\{z \\in \\mathbb{R}^d : \\|z - x\\|_p \\le \\epsilon\\} \\cap [0, 1]^d \\\\\n",
    "\\quad l_{\\text{new}} \\leftarrow L(f(\\hat{x}_{\\text{new}}), y) \\\\\n",
    "\\quad \\text{\\bf if } l_{\\text{new}} < l^* \\text{ \\bf then } \\hat{x} \\leftarrow \\hat{x}_{\\text{new}}, l^* \\leftarrow l_{\\text{new}} \\\\\n",
    "\\quad i \\leftarrow i + 1 \\\\\n",
    "\\text{\\bf end } \\\\\n",
    "\\hline\n",
    "\\end{array}\n",
    "$$"
   ]
  },
  {
   "cell_type": "markdown",
   "id": "57b8d66a-e24f-4b1c-86f2-39c6f3cc4732",
   "metadata": {},
   "source": [
    "<details>\n",
    "<summary>💡 <b>Hint for Task #2</b></summary>\n",
    "\n",
    "In our solution, we use the div operator, ```//``` for the floor function.\n",
    "</details>\n",
    "\n",
    "\n",
    "<details>\n",
    "<summary>🔐 <b>Solution for Task #2</b></summary>\n",
    "\n",
    "```python\n",
    "def l_inf_square_attack(model, loss_fn, x, y, N, w=32, c=3, epsilon=15/1000, max_h = 6):\n",
    "    \"\"\"Generates adversarial example using iterative square patch perturbations with L-infinity constraints\n",
    "    \n",
    "    Args:\n",
    "        model: Neural network model with forward() method.\n",
    "        loss_fn: Loss function for optimization.\n",
    "        x [c, w, w]: Input image tensor.\n",
    "        y (int): True class label.\n",
    "        N (int): Maximum number of optimization iterations.\n",
    "        w (int): Image width and height.\n",
    "        c (int): Number of color channels.\n",
    "        epsilon (float): Maximum perturbation magnitude per pixel.\n",
    "        max_h (int): Initial square patch size, gradually reduced during optimization.\n",
    "    \n",
    "    Returns:\n",
    "        [c, w, w]: Adversarial image tensor with successful misclassification or best attempt.\n",
    "    \"\"\"\n",
    "    x_hat = x\n",
    "    loss = loss_fn(model(x), y)\n",
    "    i = 1\n",
    "    h = max_h\n",
    "    while i < N and prediction(model, x_hat)[0] == y:\n",
    "        if i % (N // max_h) == 0:\n",
    "            if h > 2:\n",
    "                h -= 1\n",
    "        delta = l_inf_dist(h=h, epsilon=epsilon, w=w, c=c)\n",
    "        x_new = x_hat + delta\n",
    "        x_new = torch.clamp(x_new, 0, 1)\n",
    "        loss_new = loss_fn(model(x_new), y)\n",
    "        if loss_new > loss:\n",
    "            loss = loss_new\n",
    "            x_hat = x_new \n",
    "        i += 1\n",
    "    return x_hat\n",
    "```\n",
    "\n",
    "</details>"
   ]
  },
  {
   "cell_type": "markdown",
   "id": "f331d120-16d4-4d32-b793-94db85fa5030",
   "metadata": {},
   "source": [
    "A basic schedule could involve reducing h by one (from max_h) every N//h iterations until the value of 2 is reached. This reduces the size of the window over time, reducing the scale of the perturbations, simulating a sort of convergence onto an adversarial image."
   ]
  },
  {
   "cell_type": "code",
   "execution_count": 9,
   "id": "4af85271-4335-4282-b29b-eeb1e946681e",
   "metadata": {},
   "outputs": [],
   "source": [
    "def l_inf_square_attack(model, loss_fn, x, y, N, w=32, c=3, epsilon=8/255):\n",
    "    \"\"\"Generates adversarial examples by iteratively adding square patches to maximize classification loss\n",
    "    \n",
    "    Args:\n",
    "        model: Neural network model with forward() method.\n",
    "        loss_fn: Loss function for optimization.\n",
    "        x [c, w, w]: Input image tensor.\n",
    "        y (int): True class label.\n",
    "        N (int): Maximum number of optimization iterations.\n",
    "        w (int): Image width and height.\n",
    "        c (int): Number of color channels.\n",
    "        epsilon (float): Maximum perturbation magnitude per pixel.\n",
    "    \n",
    "    Returns:\n",
    "        [c, w, w]: Adversarial image tensor that misclassifies or maximizes loss within iteration limit.\n",
    "    \"\"\"\n",
    "\n",
    "    x_hat = x.clone()\n",
    "    max_loss = loss_fn(model(x), y)\n",
    "    i = 1\n",
    "    \n",
    "    while i < N and prediction(model, x_hat)[0] == y:\n",
    "        h = square_schedule(i, w)\n",
    "\n",
    "        # 1. call l_inf_dist to get next delta\n",
    "        delta = l_inf_dist(epsilon, h, w, c)\n",
    "        \n",
    "        # 2. add delta to x_hat to find x_new\n",
    "        x_new = x_hat + delta\n",
    "\n",
    "        # 3. clamp x_new between 0 and 1 and within the L-infinity budget\n",
    "        x_new = xlab.utils.clip(x_new, x, epsilon)\n",
    "\n",
    "        # 4. calculate loss\n",
    "        loss_new = loss_fn(model(x_new), y)\n",
    "\n",
    "        # 5. if new loss is greater than max_loss, keep the square on\n",
    "        # the image set max_loss to new value\n",
    "        if loss_new > max_loss:\n",
    "            max_loss = loss_new\n",
    "            x_hat = x_new \n",
    "        i += 1\n",
    "    \n",
    "    return x_hat\n",
    "\n",
    "        # delta = # 1. call l_inf_dist to get next delta\n",
    "        # x_new = # 2. add delta to x_hat to find x_new\n",
    "        \n",
    "        # # 3. clamp x_new between 0 and 1 and within the L-infinity budget\n",
    "        # # HINT: call xlab.utils.clip() calls the cliping function from\n",
    "        # # the FGSM section: https://xlabaisecurity.com/adversarial/adversarialimages/\n",
    "        # x_new = ### YOUR CODE HERE ###\n",
    "\n",
    "    # raise NotImplementedError(\"l_inf_square_attack hasn't been implemented.\")"
   ]
  },
  {
   "cell_type": "markdown",
   "id": "8ebdb326-e3c5-4367-affa-ef94d194c8fb",
   "metadata": {},
   "source": [
    "To test your attack, you can run the below cell. You should see that your image fools the classifer when it originally got the answer correct. Also, you should see that the max difference of any pixel value in the image is about 0.0314 which is roughly equal to our epsilon value $8/255$.\n",
    "\n",
    "If your output looks similar to ours below, you can be confident that your implementation is correct:\n",
    "\n",
    "```\n",
    "CLEAN IMAGE\n",
    "--------------------------------------------------------------------------------\n",
    "cat with probability 0.9201\n",
    "\n",
    "ADVERSARIAL IMAGE\n",
    "--------------------------------------------------------------------------------\n",
    "dog with probability 0.5006\n",
    "Max delta of any pixel value = 0.0314\n",
    "```"
   ]
  },
  {
   "cell_type": "code",
   "execution_count": 10,
   "id": "816b6275-76e2-4f12-a29a-c9ae9100f66c",
   "metadata": {},
   "outputs": [
    {
     "name": "stdout",
     "output_type": "stream",
     "text": [
      "CLEAN IMAGE\n",
      "--------------------------------------------------------------------------------\n",
      "cat with probability 0.9201\n",
      "\n",
      "ADVERSARIAL IMAGE\n",
      "--------------------------------------------------------------------------------\n",
      "dog with probability 0.5405\n",
      "Max delta of any pixel value = 0.0314\n",
      "\n",
      "show_image(x_adv)\n",
      "--------------------------------------------------------------------------------\n"
     ]
    },
    {
     "data": {
      "image/png": "[encoded data removed]",
      "text/plain": [
       "<Figure size 640x480 with 1 Axes>"
      ]
     },
     "metadata": {},
     "output_type": "display_data"
    }
   ],
   "source": [
    "img = xlab.utils.process_image('cat.jpg')\n",
    "label = prediction(model, img)[0]\n",
    "\n",
    "print(\"CLEAN IMAGE\\n\" + \"-\" * 80)\n",
    "pred = prediction(model, img)\n",
    "print(f\"{classes[pred[0]]} with probability {pred[1][0]:.4f}\")\n",
    "\n",
    "print(\"\\nADVERSARIAL IMAGE\\n\" + \"-\" * 80)\n",
    "loss_fn = torch.nn.CrossEntropyLoss()\n",
    "x_adv = l_inf_square_attack(model, loss_fn, img, label, 500)\n",
    "pred = prediction(model, x_adv)\n",
    "print(f\"{classes[pred[0]]} with probability {pred[1][0]:.4f}\")\n",
    "print(f\"Max delta of any pixel value = {torch.max(img- x_adv):.4f}\")\n",
    "\n",
    "print(\"\\nshow_image(x_adv)\\n\" + \"-\" * 80)\n",
    "show_image(x_adv)"
   ]
  },
  {
   "cell_type": "code",
   "execution_count": null,
   "id": "1832b942-ac8a-4b3d-b51d-d7c340549702",
   "metadata": {},
   "outputs": [],
   "source": []
  }
 ],
 "metadata": {
  "kernelspec": {
   "display_name": "Python 3 (ipykernel)",
   "language": "python",
   "name": "python3"
  },
  "language_info": {
   "codemirror_mode": {
    "name": "ipython",
    "version": 3
   },
   "file_extension": ".py",
   "mimetype": "text/x-python",
   "name": "python",
   "nbconvert_exporter": "python",
   "pygments_lexer": "ipython3",
   "version": "3.11.11"
  }
 },
 "nbformat": 4,
 "nbformat_minor": 5
}
