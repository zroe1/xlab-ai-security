{
 "cells": [
  {
   "cell_type": "code",
   "execution_count": 1,
   "id": "29538cf5-91d0-465b-b2b8-70dbfe1173fc",
   "metadata": {},
   "outputs": [],
   "source": [
    "import torch\n",
    "import xlab\n",
    "import matplotlib.pyplot as plt\n",
    "\n",
    "device = xlab.utils.get_best_device()"
   ]
  },
  {
   "cell_type": "markdown",
   "id": "b634d506-6471-4390-978c-53fa4b3963a7",
   "metadata": {},
   "source": [
    "## Loading the MNIST Dataset\n",
    "\n",
    "Before we begin the attack, let's take a look at our data and the surrogate models we will be using for this notebook. First, you can see that the `xlab-security` packages provides you with `xlab.utils.load_mnist_test_samples` which you can use to load members of the MNIST handwritten digit test set."
   ]
  },
  {
   "cell_type": "code",
   "execution_count": 2,
   "id": "4a81fe26-05c6-487a-9314-36263572d1fe",
   "metadata": {},
   "outputs": [
    {
     "name": "stdout",
     "output_type": "stream",
     "text": [
      "Images shape: torch.Size([100, 1, 28, 28])\n",
      "Labels shape: torch.Size([100])\n"
     ]
    }
   ],
   "source": [
    "mnist_images, mnist_labels = xlab.utils.load_mnist_test_samples(100)\n",
    "print(f\"Images shape: {mnist_images.shape}\")\n",
    "print(f\"Labels shape: {mnist_labels.shape}\")"
   ]
  },
  {
   "cell_type": "markdown",
   "id": "03f9b959-2cb3-4c62-b45c-cffa94191e07",
   "metadata": {},
   "source": [
    "We also provide you with `xlab.utils.show_grayscale_image` to plot MNIST images. You can change the `image_index` below to explore different images in the dataset."
   ]
  },
  {
   "cell_type": "code",
   "execution_count": 3,
   "id": "6bc8a799-3d2d-4784-912d-5b62f7129d8e",
   "metadata": {},
   "outputs": [
    {
     "data": {
      "image/png": "[encoded data removed]",
      "text/plain": [
       "<Figure size 300x300 with 1 Axes>"
      ]
     },
     "metadata": {},
     "output_type": "display_data"
    }
   ],
   "source": [
    "image_index = 0\n",
    "xlab.utils.show_grayscale_image(mnist_images[image_index], title=f\"label={mnist_labels[image_index]}\")"
   ]
  },
  {
   "cell_type": "markdown",
   "id": "6ce44c9c-64a5-4467-91a8-bfdfc69ccdfe",
   "metadata": {},
   "source": [
    "## Loading White-Box Models\n",
    "\n",
    "Next let's load the models that we will use to generate our transferable adversarial examples. We will be using a diverse set of models:\n",
    "\n",
    "1. **A Resnet model**, similar to the MiniWideResnet model you used in previous sections.\n",
    "   * Test set accuracy: 97.61%\n",
    "3. **A CNN model**, which is a simple model that has three convolutional layers and three dense layers.\n",
    "   * Test set accuracy: 96.74%\n",
    "5. **A MLP model** which contains three standard fully connected layers.\n",
    "   * Test set accuracy: 94.27%\n",
    "\n",
    "Code for how we trained each of these models can be found [here](https://github.com/zroe1/xlab-ai-security/tree/main/models/MNIST_ensemble). To load the models on your computer, you can run the cells below."
   ]
  },
  {
   "cell_type": "code",
   "execution_count": 4,
   "id": "8ee07b06-e795-433e-959a-95b3e913a403",
   "metadata": {},
   "outputs": [],
   "source": [
    "from huggingface_hub import hf_hub_download\n",
    "from xlab.models import ConvolutionalMNIST, ResNetMNIST, BasicBlockMNIST, FeedforwardMNIST\n",
    "\n",
    "model_path = hf_hub_download(\n",
    "    repo_id=\"uchicago-xlab-ai-security/mnist-ensemble\",\n",
    "    filename=\"mnist_wideresnet.pth\"\n",
    ")\n",
    "white_box1 = torch.load(model_path, map_location=device, weights_only=False)\n",
    "\n",
    "\n",
    "model_path = hf_hub_download(\n",
    "    repo_id=\"uchicago-xlab-ai-security/mnist-ensemble\",\n",
    "    filename=\"mnist_simple_cnn.pth\"\n",
    ")\n",
    "white_box2 = torch.load(model_path, map_location=device, weights_only=False)\n",
    "\n",
    "\n",
    "model_path = hf_hub_download(\n",
    "    repo_id=\"uchicago-xlab-ai-security/mnist-ensemble\",\n",
    "    filename=\"mnist_mlp.pth\"\n",
    ")\n",
    "white_box3 = torch.load(model_path, map_location=device, weights_only=False)\n"
   ]
  },
  {
   "cell_type": "markdown",
   "id": "1e1f7c1d-af78-46a1-944d-253ba8e1e4c7",
   "metadata": {},
   "source": [
    "## Loading Black-Box Models\n",
    "\n",
    "Now we can load our black box model which we will attempt to attack in this notebook. You will interact with this model through our python package and you wont be able to see anything about the model architecture. You will be able to only call `model.predict` to get model predictions for a set of images and `model.predict_proba` to get model probabilities for a set of images."
   ]
  },
  {
   "cell_type": "code",
   "execution_count": 5,
   "id": "2cd8d021-5440-452b-b54c-7d8d8b30f4e6",
   "metadata": {},
   "outputs": [
    {
     "name": "stdout",
     "output_type": "stream",
     "text": [
      "predictions=tensor([7, 2, 1, 0, 4, 1, 4, 9, 6, 9, 0, 2, 9, 0, 1, 5, 9, 7, 3, 4, 9, 6, 6, 5,\n",
      "        4, 0, 7, 4, 0, 1, 3, 1, 3, 0, 7, 2, 7, 1, 3, 1, 1, 7, 4, 2, 3, 5, 1, 2,\n",
      "        4, 4, 6, 3, 5, 5, 6, 0, 4, 1, 9, 5, 7, 8, 4, 3, 7, 4, 2, 4, 3, 0, 7, 0,\n",
      "        2, 7, 1, 7, 3, 2, 9, 7, 7, 6, 2, 7, 8, 4, 7, 3, 6, 1, 3, 6, 4, 3, 1, 4,\n",
      "        1, 7, 6, 9])\n",
      "probabilities.shape=torch.Size([100, 10])\n"
     ]
    }
   ],
   "source": [
    "import xlab\n",
    "from xlab.models import BlackBox\n",
    "\n",
    "# Load the black box model (downloads automatically)\n",
    "model = xlab.utils.load_black_box_model('mnist-black-box')\n",
    "\n",
    "# Make predictions (model details are hidden)\n",
    "predictions = model.predict(mnist_images)\n",
    "probabilities = model.predict_proba(mnist_images)\n",
    "\n",
    "print(f\"predictions={predictions}\")\n",
    "print(f\"probabilities.shape={probabilities.shape}\")"
   ]
  },
  {
   "cell_type": "markdown",
   "id": "bd3f91cd-cbe9-46a9-8bfe-770da6b79795",
   "metadata": {},
   "source": [
    "## Task #1: Ensemble Loss\n",
    "\n",
    "Given an array of $k$ alpha values and $k$ models you will give the weighted cross entropy loss by the following equation:\n",
    "\n",
    "$$\n",
    "\\mathrm{argmin}_\\delta \\  \\  D(\\delta) + \\sum_{i=1}^k \\alpha_i \\cdot \\ell_i(x + \\delta)\n",
    "$$"
   ]
  },
  {
   "cell_type": "code",
   "execution_count": 6,
   "id": "f1dd12db-3209-4aee-bd14-49a29e934584",
   "metadata": {},
   "outputs": [],
   "source": [
    "def ensemble_loss(alphas, models, img, target):\n",
    "    loss = torch.tensor(0.0).to(device)\n",
    "    loss_fn = torch.nn.CrossEntropyLoss()\n",
    "\n",
    "    for alpha, model in zip(alphas, models):\n",
    "        out = model(img)\n",
    "        model_loss = loss_fn(out, target)\n",
    "        loss += alpha * model_loss\n",
    "        # print(model_loss)\n",
    "\n",
    "    return loss"
   ]
  },
  {
   "cell_type": "code",
   "execution_count": 7,
   "id": "0976138a-d292-4f9b-9332-38d2112356c2",
   "metadata": {},
   "outputs": [],
   "source": [
    "img = mnist_images[0:1].to(device)\n",
    "alphas = [1/3, 1/3, 1/3]\n",
    "models = [white_box1, white_box2, white_box3]\n",
    "\n",
    "example_loss = ensemble_loss(alphas, models, img, torch.tensor([0]).to(device))"
   ]
  },
  {
   "cell_type": "markdown",
   "id": "cecc8fab-33cc-4b10-8332-8ed79436ed5f",
   "metadata": {},
   "source": [
    "## Task #2: Ensemble Attack\n",
    "\n",
    "Now you should be in a good position to complete the ensemble attack. This is exactly the same as PGD, but instead of using a typical loss like Cross Entropy, you will be using the ensemble loss you implemented in `Task #1`. Note that in the original paper, the authors implement something more similar to Carlini-Wagner with a hyperparameter $\\lambda$ which controls how much the distance metric is weighted in the final loss. For simplicity and compatibility with our tests you should use the update rule below:\n",
    "\n",
    "$$\n",
    "x'_i = x + \\mathrm{clip}_\\epsilon(\\alpha \\cdot \\mathrm{sign}(\\nabla \\mathrm{ensemble\\_loss}_{F,t}(x'_{i-1})))\n",
    "$$\n",
    "\n",
    "For the purpose of not making this too difficult, we have allowed a very high $\\epsilon$ value. While one may exect $\\epsilon=28/255$ to yeild some absurd results, in practice this is somewhat reasonable because of the high-contrast nature of the dataset. Also, because it is a gray-scale image, there are fewer pixel values to work with so the total distance of the purturbation (if you take the absolute value and sum) will be comparable to (probably less than) $\\epsilon=12/255$ for a color image.\n",
    "\n",
    "<b>Note:</b> You may use our solution to the clip function from the PGD notebook by calling `xlab.utils.clip`. You can also implement this functionality again within this notebook if you prefer."
   ]
  },
  {
   "cell_type": "code",
   "execution_count": 97,
   "id": "61ae2c59-eac0-4ab1-8078-03512f2c52a0",
   "metadata": {
    "scrolled": true
   },
   "outputs": [],
   "source": [
    "def ensemble_attack_PGD(alphas, models, img, target, epsilon=24/255, alpha=2/255, num_iters=50):\n",
    "    img_original = img.clone()\n",
    "    adv_img = xlab.utils.add_noise(img)\n",
    "\n",
    "    for _ in range(num_iters):\n",
    "        adv_img.requires_grad=True\n",
    "        loss = ensemble_loss(alphas, models, adv_img, target)\n",
    "        loss.backward()\n",
    "        # print(loss)\n",
    "\n",
    "        grad = adv_img.grad.data\n",
    "        adv_img.requires_grad_(False)\n",
    "        adv_img -= alpha * torch.sign(grad)\n",
    "        adv_img = xlab.utils.clip(adv_img, img_original, epsilon)\n",
    "\n",
    "    return adv_img\n",
    "\n",
    "img = mnist_images[2:3].to(device)\n",
    "adv_img = ensemble_attack_PGD(alphas, models, img, torch.tensor([2]).to(device))"
   ]
  },
  {
   "cell_type": "markdown",
   "id": "9d2464e7-5876-486a-b770-68c27c5ea41b",
   "metadata": {},
   "source": [
    "# Testing Your Attack\n",
    "\n",
    "Transfering targeted adversarial examples is difficult. To make things easier for you we have identified a list of 5 images which we were able to generate transferable adversarial images for quite easily. For testing, you can run the cell below which will run your attack on these 5 images with the target class 3 (none of the images in `breakable_imgs` has a clean label of 3)."
   ]
  },
  {
   "cell_type": "code",
   "execution_count": 104,
   "id": "fc6b7def-fc8e-467d-b719-cdb60ec503d6",
   "metadata": {},
   "outputs": [
    {
     "name": "stdout",
     "output_type": "stream",
     "text": [
      "Attack was successful! Predicted class = 3\n",
      "Attack was successful! Predicted class = 3\n",
      "Attack was successful! Predicted class = 3\n",
      "Attack was successful! Predicted class = 3\n",
      "Attack was successful! Predicted class = 3\n"
     ]
    }
   ],
   "source": [
    "breakable_idxs = [5, 11, 14, 15, 17]\n",
    "target_class = 3\n",
    "\n",
    "breakable_imgs = [mnist_images[i:i+1].to(device) for i in breakable_idxs]\n",
    "adv_imgs = []\n",
    "\n",
    "for img in breakable_imgs:\n",
    "    adv_img = ensemble_attack_PGD(alphas, models, img, torch.tensor([target_class]).to(device))\n",
    "    adv_imgs.append(adv_img)\n",
    "    \n",
    "    predictions = model.predict(adv_img)\n",
    "    if predictions.item() == target_class:\n",
    "        print(f\"Attack was successful! Predicted class = {target_class}\")\n",
    "    else:\n",
    "        print(f\"Attack was unsuccessful. Predicted class = {predictions.item()} and target class = {target_class}\")"
   ]
  },
  {
   "cell_type": "code",
   "execution_count": 59,
   "id": "27f15e03-33fb-4594-b878-b63ed5452a9c",
   "metadata": {
    "scrolled": true
   },
   "outputs": [
    {
     "name": "stdout",
     "output_type": "stream",
     "text": [
      "tensor(11.6108, device='mps:0', grad_fn=<AddBackward0>)\n",
      "tensor(11.3855, device='mps:0', grad_fn=<AddBackward0>)\n",
      "tensor(11.1575, device='mps:0', grad_fn=<AddBackward0>)\n",
      "tensor(10.9245, device='mps:0', grad_fn=<AddBackward0>)\n",
      "tensor(10.6733, device='mps:0', grad_fn=<AddBackward0>)\n",
      "tensor(10.4116, device='mps:0', grad_fn=<AddBackward0>)\n",
      "tensor(10.1584, device='mps:0', grad_fn=<AddBackward0>)\n",
      "tensor(9.9141, device='mps:0', grad_fn=<AddBackward0>)\n",
      "tensor(9.6829, device='mps:0', grad_fn=<AddBackward0>)\n",
      "tensor(9.4590, device='mps:0', grad_fn=<AddBackward0>)\n",
      "tensor(9.2406, device='mps:0', grad_fn=<AddBackward0>)\n",
      "tensor(9.0229, device='mps:0', grad_fn=<AddBackward0>)\n",
      "tensor(8.8105, device='mps:0', grad_fn=<AddBackward0>)\n",
      "tensor(8.5974, device='mps:0', grad_fn=<AddBackward0>)\n",
      "tensor(8.3771, device='mps:0', grad_fn=<AddBackward0>)\n",
      "tensor(8.1470, device='mps:0', grad_fn=<AddBackward0>)\n",
      "tensor(7.9093, device='mps:0', grad_fn=<AddBackward0>)\n",
      "tensor(7.6687, device='mps:0', grad_fn=<AddBackward0>)\n",
      "tensor(7.4192, device='mps:0', grad_fn=<AddBackward0>)\n",
      "tensor(7.1702, device='mps:0', grad_fn=<AddBackward0>)\n",
      "tensor(6.9312, device='mps:0', grad_fn=<AddBackward0>)\n",
      "tensor(6.6962, device='mps:0', grad_fn=<AddBackward0>)\n",
      "tensor(6.4663, device='mps:0', grad_fn=<AddBackward0>)\n",
      "tensor(6.2176, device='mps:0', grad_fn=<AddBackward0>)\n",
      "tensor(6.0000, device='mps:0', grad_fn=<AddBackward0>)\n",
      "tensor(5.9316, device='mps:0', grad_fn=<AddBackward0>)\n",
      "tensor(5.8813, device='mps:0', grad_fn=<AddBackward0>)\n",
      "tensor(5.8381, device='mps:0', grad_fn=<AddBackward0>)\n",
      "tensor(5.8006, device='mps:0', grad_fn=<AddBackward0>)\n",
      "tensor(5.7677, device='mps:0', grad_fn=<AddBackward0>)\n",
      "tensor(5.7366, device='mps:0', grad_fn=<AddBackward0>)\n",
      "tensor(5.7123, device='mps:0', grad_fn=<AddBackward0>)\n",
      "tensor(5.6880, device='mps:0', grad_fn=<AddBackward0>)\n",
      "tensor(5.6607, device='mps:0', grad_fn=<AddBackward0>)\n",
      "tensor(5.6370, device='mps:0', grad_fn=<AddBackward0>)\n",
      "tensor(5.6141, device='mps:0', grad_fn=<AddBackward0>)\n",
      "tensor(5.5889, device='mps:0', grad_fn=<AddBackward0>)\n",
      "tensor(5.5725, device='mps:0', grad_fn=<AddBackward0>)\n",
      "tensor(5.5549, device='mps:0', grad_fn=<AddBackward0>)\n",
      "tensor(5.5393, device='mps:0', grad_fn=<AddBackward0>)\n",
      "tensor(5.5236, device='mps:0', grad_fn=<AddBackward0>)\n",
      "tensor(5.5085, device='mps:0', grad_fn=<AddBackward0>)\n",
      "tensor(5.4957, device='mps:0', grad_fn=<AddBackward0>)\n",
      "tensor(5.4832, device='mps:0', grad_fn=<AddBackward0>)\n",
      "tensor(5.4716, device='mps:0', grad_fn=<AddBackward0>)\n",
      "tensor(5.4626, device='mps:0', grad_fn=<AddBackward0>)\n",
      "tensor(5.4546, device='mps:0', grad_fn=<AddBackward0>)\n",
      "tensor(5.4489, device='mps:0', grad_fn=<AddBackward0>)\n",
      "tensor(5.4425, device='mps:0', grad_fn=<AddBackward0>)\n",
      "tensor(5.4389, device='mps:0', grad_fn=<AddBackward0>)\n"
     ]
    },
    {
     "data": {
      "image/png": "[encoded data removed]",
      "text/plain": [
       "<Figure size 300x300 with 1 Axes>"
      ]
     },
     "metadata": {},
     "output_type": "display_data"
    },
    {
     "name": "stdout",
     "output_type": "stream",
     "text": [
      "tensor([7])\n"
     ]
    }
   ],
   "source": [
    "img = mnist_images[4:5].to(device)\n",
    "adv_img = ensemble_attack_PGD(alphas, models, img, torch.tensor([7]).to(device))\n",
    "xlab.utils.show_grayscale_image(adv_img[0])\n",
    "predictions = model.predict(adv_img)\n",
    "print(predictions)"
   ]
  },
  {
   "cell_type": "code",
   "execution_count": 62,
   "id": "3bdda4e5-18ef-4fb2-be56-611e7bfa720d",
   "metadata": {
    "scrolled": true
   },
   "outputs": [
    {
     "name": "stdout",
     "output_type": "stream",
     "text": [
      "tensor(4.9683, device='mps:0', grad_fn=<AddBackward0>)\n",
      "tensor(4.7652, device='mps:0', grad_fn=<AddBackward0>)\n",
      "tensor(4.5680, device='mps:0', grad_fn=<AddBackward0>)\n",
      "tensor(4.3710, device='mps:0', grad_fn=<AddBackward0>)\n",
      "tensor(4.1743, device='mps:0', grad_fn=<AddBackward0>)\n",
      "tensor(3.9789, device='mps:0', grad_fn=<AddBackward0>)\n",
      "tensor(3.7843, device='mps:0', grad_fn=<AddBackward0>)\n",
      "tensor(3.5837, device='mps:0', grad_fn=<AddBackward0>)\n",
      "tensor(3.3762, device='mps:0', grad_fn=<AddBackward0>)\n",
      "tensor(3.1641, device='mps:0', grad_fn=<AddBackward0>)\n",
      "tensor(2.9370, device='mps:0', grad_fn=<AddBackward0>)\n",
      "tensor(2.7084, device='mps:0', grad_fn=<AddBackward0>)\n",
      "tensor(2.4840, device='mps:0', grad_fn=<AddBackward0>)\n",
      "tensor(2.2638, device='mps:0', grad_fn=<AddBackward0>)\n",
      "tensor(2.0516, device='mps:0', grad_fn=<AddBackward0>)\n",
      "tensor(1.8514, device='mps:0', grad_fn=<AddBackward0>)\n",
      "tensor(1.6580, device='mps:0', grad_fn=<AddBackward0>)\n",
      "tensor(1.4737, device='mps:0', grad_fn=<AddBackward0>)\n",
      "tensor(1.2959, device='mps:0', grad_fn=<AddBackward0>)\n",
      "tensor(1.1285, device='mps:0', grad_fn=<AddBackward0>)\n",
      "tensor(0.9673, device='mps:0', grad_fn=<AddBackward0>)\n",
      "tensor(0.8236, device='mps:0', grad_fn=<AddBackward0>)\n",
      "tensor(0.6989, device='mps:0', grad_fn=<AddBackward0>)\n",
      "tensor(0.5891, device='mps:0', grad_fn=<AddBackward0>)\n",
      "tensor(0.5015, device='mps:0', grad_fn=<AddBackward0>)\n",
      "tensor(0.4715, device='mps:0', grad_fn=<AddBackward0>)\n",
      "tensor(0.4525, device='mps:0', grad_fn=<AddBackward0>)\n",
      "tensor(0.4421, device='mps:0', grad_fn=<AddBackward0>)\n",
      "tensor(0.4313, device='mps:0', grad_fn=<AddBackward0>)\n",
      "tensor(0.4235, device='mps:0', grad_fn=<AddBackward0>)\n",
      "tensor(0.4157, device='mps:0', grad_fn=<AddBackward0>)\n",
      "tensor(0.4106, device='mps:0', grad_fn=<AddBackward0>)\n",
      "tensor(0.4038, device='mps:0', grad_fn=<AddBackward0>)\n",
      "tensor(0.3999, device='mps:0', grad_fn=<AddBackward0>)\n",
      "tensor(0.3939, device='mps:0', grad_fn=<AddBackward0>)\n",
      "tensor(0.3892, device='mps:0', grad_fn=<AddBackward0>)\n",
      "tensor(0.3853, device='mps:0', grad_fn=<AddBackward0>)\n",
      "tensor(0.3817, device='mps:0', grad_fn=<AddBackward0>)\n",
      "tensor(0.3779, device='mps:0', grad_fn=<AddBackward0>)\n",
      "tensor(0.3750, device='mps:0', grad_fn=<AddBackward0>)\n",
      "tensor(0.3728, device='mps:0', grad_fn=<AddBackward0>)\n",
      "tensor(0.3700, device='mps:0', grad_fn=<AddBackward0>)\n",
      "tensor(0.3667, device='mps:0', grad_fn=<AddBackward0>)\n",
      "tensor(0.3644, device='mps:0', grad_fn=<AddBackward0>)\n",
      "tensor(0.3615, device='mps:0', grad_fn=<AddBackward0>)\n",
      "tensor(0.3587, device='mps:0', grad_fn=<AddBackward0>)\n",
      "tensor(0.3562, device='mps:0', grad_fn=<AddBackward0>)\n",
      "tensor(0.3555, device='mps:0', grad_fn=<AddBackward0>)\n",
      "tensor(0.3531, device='mps:0', grad_fn=<AddBackward0>)\n",
      "tensor(0.3522, device='mps:0', grad_fn=<AddBackward0>)\n"
     ]
    },
    {
     "data": {
      "image/png": "[encoded data removed]",
      "text/plain": [
       "<Figure size 300x300 with 1 Axes>"
      ]
     },
     "metadata": {},
     "output_type": "display_data"
    },
    {
     "name": "stdout",
     "output_type": "stream",
     "text": [
      "tensor([7])\n"
     ]
    }
   ],
   "source": [
    "img = mnist_images[9:10].to(device)\n",
    "adv_img = ensemble_attack_PGD(alphas, models, img, torch.tensor([7]).to(device))\n",
    "xlab.utils.show_grayscale_image(adv_img[0])\n",
    "predictions = model.predict(adv_img)\n",
    "print(predictions)"
   ]
  },
  {
   "cell_type": "code",
   "execution_count": null,
   "id": "637dd2f3-5da9-4240-b920-e01fa75857cc",
   "metadata": {},
   "outputs": [],
   "source": [
    "2, 5, 11, 14, 15, 17"
   ]
  },
  {
   "cell_type": "code",
   "execution_count": 68,
   "id": "87c629c4-373b-4a5e-a934-a3e80c8f286b",
   "metadata": {
    "scrolled": true
   },
   "outputs": [
    {
     "name": "stdout",
     "output_type": "stream",
     "text": [
      "tensor(9.8780, device='mps:0', grad_fn=<AddBackward0>)\n",
      "tensor(9.5847, device='mps:0', grad_fn=<AddBackward0>)\n",
      "tensor(9.2801, device='mps:0', grad_fn=<AddBackward0>)\n",
      "tensor(8.9656, device='mps:0', grad_fn=<AddBackward0>)\n",
      "tensor(8.6479, device='mps:0', grad_fn=<AddBackward0>)\n",
      "tensor(8.3244, device='mps:0', grad_fn=<AddBackward0>)\n",
      "tensor(8.0005, device='mps:0', grad_fn=<AddBackward0>)\n",
      "tensor(7.6665, device='mps:0', grad_fn=<AddBackward0>)\n",
      "tensor(7.3513, device='mps:0', grad_fn=<AddBackward0>)\n",
      "tensor(7.0251, device='mps:0', grad_fn=<AddBackward0>)\n",
      "tensor(6.6879, device='mps:0', grad_fn=<AddBackward0>)\n",
      "tensor(6.3562, device='mps:0', grad_fn=<AddBackward0>)\n",
      "tensor(6.0226, device='mps:0', grad_fn=<AddBackward0>)\n",
      "tensor(5.7019, device='mps:0', grad_fn=<AddBackward0>)\n",
      "tensor(5.4034, device='mps:0', grad_fn=<AddBackward0>)\n",
      "tensor(5.1171, device='mps:0', grad_fn=<AddBackward0>)\n",
      "tensor(4.8506, device='mps:0', grad_fn=<AddBackward0>)\n",
      "tensor(4.6086, device='mps:0', grad_fn=<AddBackward0>)\n",
      "tensor(4.3897, device='mps:0', grad_fn=<AddBackward0>)\n",
      "tensor(4.1826, device='mps:0', grad_fn=<AddBackward0>)\n",
      "tensor(3.9973, device='mps:0', grad_fn=<AddBackward0>)\n",
      "tensor(3.8234, device='mps:0', grad_fn=<AddBackward0>)\n",
      "tensor(3.6595, device='mps:0', grad_fn=<AddBackward0>)\n",
      "tensor(3.4959, device='mps:0', grad_fn=<AddBackward0>)\n",
      "tensor(3.3507, device='mps:0', grad_fn=<AddBackward0>)\n",
      "tensor(3.2939, device='mps:0', grad_fn=<AddBackward0>)\n",
      "tensor(3.2465, device='mps:0', grad_fn=<AddBackward0>)\n",
      "tensor(3.2038, device='mps:0', grad_fn=<AddBackward0>)\n",
      "tensor(3.1642, device='mps:0', grad_fn=<AddBackward0>)\n",
      "tensor(3.1329, device='mps:0', grad_fn=<AddBackward0>)\n",
      "tensor(3.1049, device='mps:0', grad_fn=<AddBackward0>)\n",
      "tensor(3.0823, device='mps:0', grad_fn=<AddBackward0>)\n",
      "tensor(3.0561, device='mps:0', grad_fn=<AddBackward0>)\n",
      "tensor(3.0349, device='mps:0', grad_fn=<AddBackward0>)\n",
      "tensor(3.0143, device='mps:0', grad_fn=<AddBackward0>)\n",
      "tensor(2.9947, device='mps:0', grad_fn=<AddBackward0>)\n",
      "tensor(2.9728, device='mps:0', grad_fn=<AddBackward0>)\n",
      "tensor(2.9618, device='mps:0', grad_fn=<AddBackward0>)\n",
      "tensor(2.9492, device='mps:0', grad_fn=<AddBackward0>)\n",
      "tensor(2.9351, device='mps:0', grad_fn=<AddBackward0>)\n",
      "tensor(2.9267, device='mps:0', grad_fn=<AddBackward0>)\n",
      "tensor(2.9163, device='mps:0', grad_fn=<AddBackward0>)\n",
      "tensor(2.9090, device='mps:0', grad_fn=<AddBackward0>)\n",
      "tensor(2.8997, device='mps:0', grad_fn=<AddBackward0>)\n",
      "tensor(2.8948, device='mps:0', grad_fn=<AddBackward0>)\n",
      "tensor(2.8866, device='mps:0', grad_fn=<AddBackward0>)\n",
      "tensor(2.8829, device='mps:0', grad_fn=<AddBackward0>)\n",
      "tensor(2.8809, device='mps:0', grad_fn=<AddBackward0>)\n",
      "tensor(2.8755, device='mps:0', grad_fn=<AddBackward0>)\n",
      "tensor(2.8712, device='mps:0', grad_fn=<AddBackward0>)\n"
     ]
    },
    {
     "data": {
      "image/png": "[encoded data removed]",
      "text/plain": [
       "<Figure size 300x300 with 1 Axes>"
      ]
     },
     "metadata": {},
     "output_type": "display_data"
    },
    {
     "name": "stdout",
     "output_type": "stream",
     "text": [
      "tensor([3])\n"
     ]
    }
   ],
   "source": [
    "img = mnist_images[14:15].to(device)\n",
    "adv_img = ensemble_attack_PGD(alphas, models, img, torch.tensor([3]).to(device))\n",
    "xlab.utils.show_grayscale_image(adv_img[0])\n",
    "predictions = model.predict(adv_img)\n",
    "print(predictions)"
   ]
  },
  {
   "cell_type": "code",
   "execution_count": 69,
   "id": "405a7e56-f5e1-4ff4-9155-318224d76edb",
   "metadata": {
    "scrolled": true
   },
   "outputs": [
    {
     "name": "stdout",
     "output_type": "stream",
     "text": [
      "tensor(4.6239, device='mps:0', grad_fn=<AddBackward0>)\n",
      "tensor(4.3933, device='mps:0', grad_fn=<AddBackward0>)\n",
      "tensor(4.1628, device='mps:0', grad_fn=<AddBackward0>)\n",
      "tensor(3.9350, device='mps:0', grad_fn=<AddBackward0>)\n",
      "tensor(3.7118, device='mps:0', grad_fn=<AddBackward0>)\n",
      "tensor(3.4877, device='mps:0', grad_fn=<AddBackward0>)\n",
      "tensor(3.2693, device='mps:0', grad_fn=<AddBackward0>)\n",
      "tensor(3.0456, device='mps:0', grad_fn=<AddBackward0>)\n",
      "tensor(2.8263, device='mps:0', grad_fn=<AddBackward0>)\n",
      "tensor(2.6114, device='mps:0', grad_fn=<AddBackward0>)\n",
      "tensor(2.3962, device='mps:0', grad_fn=<AddBackward0>)\n",
      "tensor(2.1939, device='mps:0', grad_fn=<AddBackward0>)\n",
      "tensor(2.0105, device='mps:0', grad_fn=<AddBackward0>)\n",
      "tensor(1.8426, device='mps:0', grad_fn=<AddBackward0>)\n",
      "tensor(1.6923, device='mps:0', grad_fn=<AddBackward0>)\n",
      "tensor(1.5575, device='mps:0', grad_fn=<AddBackward0>)\n",
      "tensor(1.4343, device='mps:0', grad_fn=<AddBackward0>)\n",
      "tensor(1.3176, device='mps:0', grad_fn=<AddBackward0>)\n",
      "tensor(1.2044, device='mps:0', grad_fn=<AddBackward0>)\n",
      "tensor(1.0971, device='mps:0', grad_fn=<AddBackward0>)\n",
      "tensor(0.9950, device='mps:0', grad_fn=<AddBackward0>)\n",
      "tensor(0.8997, device='mps:0', grad_fn=<AddBackward0>)\n",
      "tensor(0.8107, device='mps:0', grad_fn=<AddBackward0>)\n",
      "tensor(0.7218, device='mps:0', grad_fn=<AddBackward0>)\n",
      "tensor(0.6413, device='mps:0', grad_fn=<AddBackward0>)\n",
      "tensor(0.6161, device='mps:0', grad_fn=<AddBackward0>)\n",
      "tensor(0.5987, device='mps:0', grad_fn=<AddBackward0>)\n",
      "tensor(0.5839, device='mps:0', grad_fn=<AddBackward0>)\n",
      "tensor(0.5706, device='mps:0', grad_fn=<AddBackward0>)\n",
      "tensor(0.5597, device='mps:0', grad_fn=<AddBackward0>)\n",
      "tensor(0.5490, device='mps:0', grad_fn=<AddBackward0>)\n",
      "tensor(0.5393, device='mps:0', grad_fn=<AddBackward0>)\n",
      "tensor(0.5308, device='mps:0', grad_fn=<AddBackward0>)\n",
      "tensor(0.5231, device='mps:0', grad_fn=<AddBackward0>)\n",
      "tensor(0.5164, device='mps:0', grad_fn=<AddBackward0>)\n",
      "tensor(0.5096, device='mps:0', grad_fn=<AddBackward0>)\n",
      "tensor(0.5046, device='mps:0', grad_fn=<AddBackward0>)\n",
      "tensor(0.4996, device='mps:0', grad_fn=<AddBackward0>)\n",
      "tensor(0.4944, device='mps:0', grad_fn=<AddBackward0>)\n",
      "tensor(0.4906, device='mps:0', grad_fn=<AddBackward0>)\n",
      "tensor(0.4870, device='mps:0', grad_fn=<AddBackward0>)\n",
      "tensor(0.4835, device='mps:0', grad_fn=<AddBackward0>)\n",
      "tensor(0.4801, device='mps:0', grad_fn=<AddBackward0>)\n",
      "tensor(0.4777, device='mps:0', grad_fn=<AddBackward0>)\n",
      "tensor(0.4747, device='mps:0', grad_fn=<AddBackward0>)\n",
      "tensor(0.4722, device='mps:0', grad_fn=<AddBackward0>)\n",
      "tensor(0.4695, device='mps:0', grad_fn=<AddBackward0>)\n",
      "tensor(0.4675, device='mps:0', grad_fn=<AddBackward0>)\n",
      "tensor(0.4662, device='mps:0', grad_fn=<AddBackward0>)\n",
      "tensor(0.4640, device='mps:0', grad_fn=<AddBackward0>)\n"
     ]
    },
    {
     "data": {
      "image/png": "[encoded data removed]",
      "text/plain": [
       "<Figure size 300x300 with 1 Axes>"
      ]
     },
     "metadata": {},
     "output_type": "display_data"
    },
    {
     "name": "stdout",
     "output_type": "stream",
     "text": [
      "tensor([3])\n"
     ]
    }
   ],
   "source": [
    "img = mnist_images[15:16].to(device)\n",
    "adv_img = ensemble_attack_PGD(alphas, models, img, torch.tensor([3]).to(device))\n",
    "xlab.utils.show_grayscale_image(adv_img[0])\n",
    "predictions = model.predict(adv_img)\n",
    "print(predictions)"
   ]
  },
  {
   "cell_type": "code",
   "execution_count": 71,
   "id": "1b1529a5-c51b-495a-b3bc-b870fd512dd5",
   "metadata": {
    "scrolled": true
   },
   "outputs": [
    {
     "name": "stdout",
     "output_type": "stream",
     "text": [
      "tensor(7.6654, device='mps:0', grad_fn=<AddBackward0>)\n",
      "tensor(7.4482, device='mps:0', grad_fn=<AddBackward0>)\n",
      "tensor(7.2383, device='mps:0', grad_fn=<AddBackward0>)\n",
      "tensor(7.0113, device='mps:0', grad_fn=<AddBackward0>)\n",
      "tensor(6.7767, device='mps:0', grad_fn=<AddBackward0>)\n",
      "tensor(6.5431, device='mps:0', grad_fn=<AddBackward0>)\n",
      "tensor(6.3124, device='mps:0', grad_fn=<AddBackward0>)\n",
      "tensor(6.0720, device='mps:0', grad_fn=<AddBackward0>)\n",
      "tensor(5.8371, device='mps:0', grad_fn=<AddBackward0>)\n",
      "tensor(5.6051, device='mps:0', grad_fn=<AddBackward0>)\n",
      "tensor(5.3740, device='mps:0', grad_fn=<AddBackward0>)\n",
      "tensor(5.1466, device='mps:0', grad_fn=<AddBackward0>)\n",
      "tensor(4.9286, device='mps:0', grad_fn=<AddBackward0>)\n",
      "tensor(4.7261, device='mps:0', grad_fn=<AddBackward0>)\n",
      "tensor(4.5361, device='mps:0', grad_fn=<AddBackward0>)\n",
      "tensor(4.3542, device='mps:0', grad_fn=<AddBackward0>)\n",
      "tensor(4.1843, device='mps:0', grad_fn=<AddBackward0>)\n",
      "tensor(4.0280, device='mps:0', grad_fn=<AddBackward0>)\n",
      "tensor(3.8727, device='mps:0', grad_fn=<AddBackward0>)\n",
      "tensor(3.7267, device='mps:0', grad_fn=<AddBackward0>)\n",
      "tensor(3.5776, device='mps:0', grad_fn=<AddBackward0>)\n",
      "tensor(3.4289, device='mps:0', grad_fn=<AddBackward0>)\n",
      "tensor(3.2909, device='mps:0', grad_fn=<AddBackward0>)\n",
      "tensor(3.1614, device='mps:0', grad_fn=<AddBackward0>)\n",
      "tensor(3.0522, device='mps:0', grad_fn=<AddBackward0>)\n",
      "tensor(3.0029, device='mps:0', grad_fn=<AddBackward0>)\n",
      "tensor(2.9643, device='mps:0', grad_fn=<AddBackward0>)\n",
      "tensor(2.9321, device='mps:0', grad_fn=<AddBackward0>)\n",
      "tensor(2.9014, device='mps:0', grad_fn=<AddBackward0>)\n",
      "tensor(2.8736, device='mps:0', grad_fn=<AddBackward0>)\n",
      "tensor(2.8440, device='mps:0', grad_fn=<AddBackward0>)\n",
      "tensor(2.8209, device='mps:0', grad_fn=<AddBackward0>)\n",
      "tensor(2.7984, device='mps:0', grad_fn=<AddBackward0>)\n",
      "tensor(2.7799, device='mps:0', grad_fn=<AddBackward0>)\n",
      "tensor(2.7632, device='mps:0', grad_fn=<AddBackward0>)\n",
      "tensor(2.7458, device='mps:0', grad_fn=<AddBackward0>)\n",
      "tensor(2.7304, device='mps:0', grad_fn=<AddBackward0>)\n",
      "tensor(2.7153, device='mps:0', grad_fn=<AddBackward0>)\n",
      "tensor(2.7028, device='mps:0', grad_fn=<AddBackward0>)\n",
      "tensor(2.6907, device='mps:0', grad_fn=<AddBackward0>)\n",
      "tensor(2.6789, device='mps:0', grad_fn=<AddBackward0>)\n",
      "tensor(2.6682, device='mps:0', grad_fn=<AddBackward0>)\n",
      "tensor(2.6581, device='mps:0', grad_fn=<AddBackward0>)\n",
      "tensor(2.6506, device='mps:0', grad_fn=<AddBackward0>)\n",
      "tensor(2.6450, device='mps:0', grad_fn=<AddBackward0>)\n",
      "tensor(2.6391, device='mps:0', grad_fn=<AddBackward0>)\n",
      "tensor(2.6350, device='mps:0', grad_fn=<AddBackward0>)\n",
      "tensor(2.6311, device='mps:0', grad_fn=<AddBackward0>)\n",
      "tensor(2.6279, device='mps:0', grad_fn=<AddBackward0>)\n",
      "tensor(2.6239, device='mps:0', grad_fn=<AddBackward0>)\n"
     ]
    },
    {
     "data": {
      "image/png": "[encoded data removed]",
      "text/plain": [
       "<Figure size 300x300 with 1 Axes>"
      ]
     },
     "metadata": {},
     "output_type": "display_data"
    },
    {
     "name": "stdout",
     "output_type": "stream",
     "text": [
      "tensor([3])\n"
     ]
    }
   ],
   "source": [
    "img = mnist_images[17:18].to(device)\n",
    "adv_img = ensemble_attack_PGD(alphas, models, img, torch.tensor([3]).to(device))\n",
    "xlab.utils.show_grayscale_image(adv_img[0])\n",
    "predictions = model.predict(adv_img)\n",
    "print(predictions)"
   ]
  },
  {
   "cell_type": "code",
   "execution_count": 93,
   "id": "943de1d0-8ad5-4e61-82f0-3b2d93af9eed",
   "metadata": {
    "scrolled": true
   },
   "outputs": [
    {
     "data": {
      "image/png": "[encoded data removed]",
      "text/plain": [
       "<Figure size 300x300 with 1 Axes>"
      ]
     },
     "metadata": {},
     "output_type": "display_data"
    },
    {
     "name": "stdout",
     "output_type": "stream",
     "text": [
      "tensor([3])\n"
     ]
    }
   ],
   "source": [
    "img = mnist_images[2:3].to(device)\n",
    "adv_img = ensemble_attack_PGD(alphas, models, img, torch.tensor([3]).to(device))\n",
    "xlab.utils.show_grayscale_image(adv_img[0])\n",
    "predictions = model.predict(adv_img)\n",
    "print(predictions)"
   ]
  },
  {
   "cell_type": "code",
   "execution_count": 77,
   "id": "7f830f04-453d-4750-bc6d-892eb5f96c33",
   "metadata": {
    "scrolled": true
   },
   "outputs": [
    {
     "name": "stdout",
     "output_type": "stream",
     "text": [
      "tensor(12.1829, device='mps:0', grad_fn=<AddBackward0>)\n",
      "tensor(11.9441, device='mps:0', grad_fn=<AddBackward0>)\n",
      "tensor(11.6869, device='mps:0', grad_fn=<AddBackward0>)\n",
      "tensor(11.4161, device='mps:0', grad_fn=<AddBackward0>)\n",
      "tensor(11.1518, device='mps:0', grad_fn=<AddBackward0>)\n",
      "tensor(10.8843, device='mps:0', grad_fn=<AddBackward0>)\n",
      "tensor(10.6200, device='mps:0', grad_fn=<AddBackward0>)\n",
      "tensor(10.3656, device='mps:0', grad_fn=<AddBackward0>)\n",
      "tensor(10.1204, device='mps:0', grad_fn=<AddBackward0>)\n",
      "tensor(9.8922, device='mps:0', grad_fn=<AddBackward0>)\n",
      "tensor(9.6665, device='mps:0', grad_fn=<AddBackward0>)\n",
      "tensor(9.4485, device='mps:0', grad_fn=<AddBackward0>)\n",
      "tensor(9.2355, device='mps:0', grad_fn=<AddBackward0>)\n",
      "tensor(9.0294, device='mps:0', grad_fn=<AddBackward0>)\n",
      "tensor(8.8350, device='mps:0', grad_fn=<AddBackward0>)\n",
      "tensor(8.6515, device='mps:0', grad_fn=<AddBackward0>)\n",
      "tensor(8.4642, device='mps:0', grad_fn=<AddBackward0>)\n",
      "tensor(8.2767, device='mps:0', grad_fn=<AddBackward0>)\n",
      "tensor(8.0872, device='mps:0', grad_fn=<AddBackward0>)\n",
      "tensor(7.8923, device='mps:0', grad_fn=<AddBackward0>)\n",
      "tensor(7.6873, device='mps:0', grad_fn=<AddBackward0>)\n",
      "tensor(7.4712, device='mps:0', grad_fn=<AddBackward0>)\n",
      "tensor(7.2427, device='mps:0', grad_fn=<AddBackward0>)\n",
      "tensor(6.9980, device='mps:0', grad_fn=<AddBackward0>)\n",
      "tensor(6.7585, device='mps:0', grad_fn=<AddBackward0>)\n",
      "tensor(6.6352, device='mps:0', grad_fn=<AddBackward0>)\n",
      "tensor(6.5229, device='mps:0', grad_fn=<AddBackward0>)\n",
      "tensor(6.4297, device='mps:0', grad_fn=<AddBackward0>)\n",
      "tensor(6.3462, device='mps:0', grad_fn=<AddBackward0>)\n",
      "tensor(6.2697, device='mps:0', grad_fn=<AddBackward0>)\n",
      "tensor(6.1952, device='mps:0', grad_fn=<AddBackward0>)\n",
      "tensor(6.1362, device='mps:0', grad_fn=<AddBackward0>)\n",
      "tensor(6.0772, device='mps:0', grad_fn=<AddBackward0>)\n",
      "tensor(6.0234, device='mps:0', grad_fn=<AddBackward0>)\n",
      "tensor(5.9738, device='mps:0', grad_fn=<AddBackward0>)\n",
      "tensor(5.9308, device='mps:0', grad_fn=<AddBackward0>)\n",
      "tensor(5.8900, device='mps:0', grad_fn=<AddBackward0>)\n",
      "tensor(5.8516, device='mps:0', grad_fn=<AddBackward0>)\n",
      "tensor(5.8134, device='mps:0', grad_fn=<AddBackward0>)\n",
      "tensor(5.7773, device='mps:0', grad_fn=<AddBackward0>)\n",
      "tensor(5.7445, device='mps:0', grad_fn=<AddBackward0>)\n",
      "tensor(5.7062, device='mps:0', grad_fn=<AddBackward0>)\n",
      "tensor(5.6821, device='mps:0', grad_fn=<AddBackward0>)\n",
      "tensor(5.6508, device='mps:0', grad_fn=<AddBackward0>)\n",
      "tensor(5.6293, device='mps:0', grad_fn=<AddBackward0>)\n",
      "tensor(5.6102, device='mps:0', grad_fn=<AddBackward0>)\n",
      "tensor(5.5920, device='mps:0', grad_fn=<AddBackward0>)\n",
      "tensor(5.5829, device='mps:0', grad_fn=<AddBackward0>)\n",
      "tensor(5.5701, device='mps:0', grad_fn=<AddBackward0>)\n",
      "tensor(5.5598, device='mps:0', grad_fn=<AddBackward0>)\n"
     ]
    },
    {
     "data": {
      "image/png": "[encoded data removed]",
      "text/plain": [
       "<Figure size 300x300 with 1 Axes>"
      ]
     },
     "metadata": {},
     "output_type": "display_data"
    },
    {
     "name": "stdout",
     "output_type": "stream",
     "text": [
      "tensor([3])\n"
     ]
    }
   ],
   "source": [
    "img = mnist_images[5:6].to(device)\n",
    "adv_img = ensemble_attack_PGD(alphas, models, img, torch.tensor([3]).to(device))\n",
    "xlab.utils.show_grayscale_image(adv_img[0])\n",
    "predictions = model.predict(adv_img)\n",
    "print(predictions)"
   ]
  },
  {
   "cell_type": "code",
   "execution_count": 82,
   "id": "57bbc529-9ab0-4b42-af07-ced939d9f1e1",
   "metadata": {
    "scrolled": true
   },
   "outputs": [
    {
     "name": "stdout",
     "output_type": "stream",
     "text": [
      "tensor(16.3406, device='mps:0', grad_fn=<AddBackward0>)\n",
      "tensor(15.9837, device='mps:0', grad_fn=<AddBackward0>)\n",
      "tensor(15.6050, device='mps:0', grad_fn=<AddBackward0>)\n",
      "tensor(15.1979, device='mps:0', grad_fn=<AddBackward0>)\n",
      "tensor(14.7917, device='mps:0', grad_fn=<AddBackward0>)\n",
      "tensor(14.3816, device='mps:0', grad_fn=<AddBackward0>)\n",
      "tensor(13.9708, device='mps:0', grad_fn=<AddBackward0>)\n",
      "tensor(13.5552, device='mps:0', grad_fn=<AddBackward0>)\n",
      "tensor(13.1411, device='mps:0', grad_fn=<AddBackward0>)\n",
      "tensor(12.7335, device='mps:0', grad_fn=<AddBackward0>)\n",
      "tensor(12.3200, device='mps:0', grad_fn=<AddBackward0>)\n",
      "tensor(11.9204, device='mps:0', grad_fn=<AddBackward0>)\n",
      "tensor(11.5181, device='mps:0', grad_fn=<AddBackward0>)\n",
      "tensor(11.1180, device='mps:0', grad_fn=<AddBackward0>)\n",
      "tensor(10.7269, device='mps:0', grad_fn=<AddBackward0>)\n",
      "tensor(10.3361, device='mps:0', grad_fn=<AddBackward0>)\n",
      "tensor(9.9552, device='mps:0', grad_fn=<AddBackward0>)\n",
      "tensor(9.5840, device='mps:0', grad_fn=<AddBackward0>)\n",
      "tensor(9.2291, device='mps:0', grad_fn=<AddBackward0>)\n",
      "tensor(8.8787, device='mps:0', grad_fn=<AddBackward0>)\n",
      "tensor(8.5368, device='mps:0', grad_fn=<AddBackward0>)\n",
      "tensor(8.2431, device='mps:0', grad_fn=<AddBackward0>)\n",
      "tensor(7.9637, device='mps:0', grad_fn=<AddBackward0>)\n",
      "tensor(7.7154, device='mps:0', grad_fn=<AddBackward0>)\n",
      "tensor(7.5089, device='mps:0', grad_fn=<AddBackward0>)\n",
      "tensor(7.4516, device='mps:0', grad_fn=<AddBackward0>)\n",
      "tensor(7.4186, device='mps:0', grad_fn=<AddBackward0>)\n",
      "tensor(7.4013, device='mps:0', grad_fn=<AddBackward0>)\n",
      "tensor(7.3709, device='mps:0', grad_fn=<AddBackward0>)\n",
      "tensor(7.3495, device='mps:0', grad_fn=<AddBackward0>)\n",
      "tensor(7.3307, device='mps:0', grad_fn=<AddBackward0>)\n",
      "tensor(7.3110, device='mps:0', grad_fn=<AddBackward0>)\n",
      "tensor(7.2994, device='mps:0', grad_fn=<AddBackward0>)\n",
      "tensor(7.2847, device='mps:0', grad_fn=<AddBackward0>)\n",
      "tensor(7.2759, device='mps:0', grad_fn=<AddBackward0>)\n",
      "tensor(7.2612, device='mps:0', grad_fn=<AddBackward0>)\n",
      "tensor(7.2531, device='mps:0', grad_fn=<AddBackward0>)\n",
      "tensor(7.2449, device='mps:0', grad_fn=<AddBackward0>)\n",
      "tensor(7.2340, device='mps:0', grad_fn=<AddBackward0>)\n",
      "tensor(7.2330, device='mps:0', grad_fn=<AddBackward0>)\n",
      "tensor(7.2211, device='mps:0', grad_fn=<AddBackward0>)\n",
      "tensor(7.2184, device='mps:0', grad_fn=<AddBackward0>)\n",
      "tensor(7.2094, device='mps:0', grad_fn=<AddBackward0>)\n",
      "tensor(7.2073, device='mps:0', grad_fn=<AddBackward0>)\n",
      "tensor(7.2030, device='mps:0', grad_fn=<AddBackward0>)\n",
      "tensor(7.1965, device='mps:0', grad_fn=<AddBackward0>)\n",
      "tensor(7.1954, device='mps:0', grad_fn=<AddBackward0>)\n",
      "tensor(7.1872, device='mps:0', grad_fn=<AddBackward0>)\n",
      "tensor(7.1864, device='mps:0', grad_fn=<AddBackward0>)\n",
      "tensor(7.1803, device='mps:0', grad_fn=<AddBackward0>)\n"
     ]
    },
    {
     "data": {
      "image/png": "[encoded data removed]",
      "text/plain": [
       "<Figure size 300x300 with 1 Axes>"
      ]
     },
     "metadata": {},
     "output_type": "display_data"
    },
    {
     "name": "stdout",
     "output_type": "stream",
     "text": [
      "tensor([3])\n"
     ]
    }
   ],
   "source": [
    "img = mnist_images[11:12].to(device)\n",
    "adv_img = ensemble_attack_PGD(alphas, models, img, torch.tensor([3]).to(device))\n",
    "xlab.utils.show_grayscale_image(adv_img[0])\n",
    "predictions = model.predict(adv_img)\n",
    "print(predictions)"
   ]
  },
  {
   "cell_type": "code",
   "execution_count": 85,
   "id": "32895c58-967a-4624-a822-fb24b5a5dc41",
   "metadata": {},
   "outputs": [
    {
     "name": "stdout",
     "output_type": "stream",
     "text": [
      "tensor(9.8838, device='mps:0', grad_fn=<AddBackward0>)\n",
      "tensor(9.5978, device='mps:0', grad_fn=<AddBackward0>)\n",
      "tensor(9.2912, device='mps:0', grad_fn=<AddBackward0>)\n",
      "tensor(8.9776, device='mps:0', grad_fn=<AddBackward0>)\n",
      "tensor(8.6663, device='mps:0', grad_fn=<AddBackward0>)\n",
      "tensor(8.3495, device='mps:0', grad_fn=<AddBackward0>)\n",
      "tensor(8.0249, device='mps:0', grad_fn=<AddBackward0>)\n",
      "tensor(7.7034, device='mps:0', grad_fn=<AddBackward0>)\n",
      "tensor(7.3823, device='mps:0', grad_fn=<AddBackward0>)\n",
      "tensor(7.0622, device='mps:0', grad_fn=<AddBackward0>)\n",
      "tensor(6.7362, device='mps:0', grad_fn=<AddBackward0>)\n",
      "tensor(6.4126, device='mps:0', grad_fn=<AddBackward0>)\n",
      "tensor(6.0882, device='mps:0', grad_fn=<AddBackward0>)\n",
      "tensor(5.7758, device='mps:0', grad_fn=<AddBackward0>)\n",
      "tensor(5.4811, device='mps:0', grad_fn=<AddBackward0>)\n",
      "tensor(5.2018, device='mps:0', grad_fn=<AddBackward0>)\n",
      "tensor(4.9381, device='mps:0', grad_fn=<AddBackward0>)\n",
      "tensor(4.6971, device='mps:0', grad_fn=<AddBackward0>)\n",
      "tensor(4.4742, device='mps:0', grad_fn=<AddBackward0>)\n",
      "tensor(4.2779, device='mps:0', grad_fn=<AddBackward0>)\n",
      "tensor(4.0958, device='mps:0', grad_fn=<AddBackward0>)\n",
      "tensor(3.9230, device='mps:0', grad_fn=<AddBackward0>)\n",
      "tensor(3.7594, device='mps:0', grad_fn=<AddBackward0>)\n",
      "tensor(3.5958, device='mps:0', grad_fn=<AddBackward0>)\n",
      "tensor(3.4446, device='mps:0', grad_fn=<AddBackward0>)\n",
      "tensor(3.3765, device='mps:0', grad_fn=<AddBackward0>)\n",
      "tensor(3.3294, device='mps:0', grad_fn=<AddBackward0>)\n",
      "tensor(3.2849, device='mps:0', grad_fn=<AddBackward0>)\n",
      "tensor(3.2457, device='mps:0', grad_fn=<AddBackward0>)\n",
      "tensor(3.2086, device='mps:0', grad_fn=<AddBackward0>)\n",
      "tensor(3.1747, device='mps:0', grad_fn=<AddBackward0>)\n",
      "tensor(3.1455, device='mps:0', grad_fn=<AddBackward0>)\n",
      "tensor(3.1170, device='mps:0', grad_fn=<AddBackward0>)\n",
      "tensor(3.0936, device='mps:0', grad_fn=<AddBackward0>)\n",
      "tensor(3.0725, device='mps:0', grad_fn=<AddBackward0>)\n",
      "tensor(3.0475, device='mps:0', grad_fn=<AddBackward0>)\n",
      "tensor(3.0305, device='mps:0', grad_fn=<AddBackward0>)\n",
      "tensor(3.0149, device='mps:0', grad_fn=<AddBackward0>)\n",
      "tensor(2.9931, device='mps:0', grad_fn=<AddBackward0>)\n",
      "tensor(2.9798, device='mps:0', grad_fn=<AddBackward0>)\n",
      "tensor(2.9642, device='mps:0', grad_fn=<AddBackward0>)\n",
      "tensor(2.9515, device='mps:0', grad_fn=<AddBackward0>)\n",
      "tensor(2.9374, device='mps:0', grad_fn=<AddBackward0>)\n",
      "tensor(2.9295, device='mps:0', grad_fn=<AddBackward0>)\n",
      "tensor(2.9168, device='mps:0', grad_fn=<AddBackward0>)\n",
      "tensor(2.9067, device='mps:0', grad_fn=<AddBackward0>)\n",
      "tensor(2.8967, device='mps:0', grad_fn=<AddBackward0>)\n",
      "tensor(2.8871, device='mps:0', grad_fn=<AddBackward0>)\n",
      "tensor(2.8780, device='mps:0', grad_fn=<AddBackward0>)\n",
      "tensor(2.8731, device='mps:0', grad_fn=<AddBackward0>)\n"
     ]
    },
    {
     "data": {
      "image/png": "[encoded data removed]",
      "text/plain": [
       "<Figure size 300x300 with 1 Axes>"
      ]
     },
     "metadata": {},
     "output_type": "display_data"
    },
    {
     "name": "stdout",
     "output_type": "stream",
     "text": [
      "tensor([3])\n"
     ]
    }
   ],
   "source": [
    "img = mnist_images[14:15].to(device)\n",
    "adv_img = ensemble_attack_PGD(alphas, models, img, torch.tensor([3]).to(device))\n",
    "xlab.utils.show_grayscale_image(adv_img[0])\n",
    "predictions = model.predict(adv_img)\n",
    "print(predictions)"
   ]
  },
  {
   "cell_type": "code",
   "execution_count": 56,
   "id": "f2c2cb09-5fe5-4dcc-a3d1-970473aa2ea6",
   "metadata": {},
   "outputs": [
    {
     "name": "stdout",
     "output_type": "stream",
     "text": [
      "tensor(7.5094, device='mps:0', grad_fn=<AddBackward0>)\n",
      "tensor(7.0289, device='mps:0', grad_fn=<AddBackward0>)\n",
      "tensor(6.5386, device='mps:0', grad_fn=<AddBackward0>)\n",
      "tensor(6.0622, device='mps:0', grad_fn=<AddBackward0>)\n",
      "tensor(5.6141, device='mps:0', grad_fn=<AddBackward0>)\n",
      "tensor(5.2122, device='mps:0', grad_fn=<AddBackward0>)\n",
      "tensor(4.8628, device='mps:0', grad_fn=<AddBackward0>)\n",
      "tensor(4.6002, device='mps:0', grad_fn=<AddBackward0>)\n",
      "tensor(4.3809, device='mps:0', grad_fn=<AddBackward0>)\n",
      "tensor(4.1769, device='mps:0', grad_fn=<AddBackward0>)\n",
      "tensor(3.9632, device='mps:0', grad_fn=<AddBackward0>)\n",
      "tensor(3.7389, device='mps:0', grad_fn=<AddBackward0>)\n",
      "tensor(3.4933, device='mps:0', grad_fn=<AddBackward0>)\n",
      "tensor(3.4087, device='mps:0', grad_fn=<AddBackward0>)\n",
      "tensor(3.3381, device='mps:0', grad_fn=<AddBackward0>)\n",
      "tensor(3.2971, device='mps:0', grad_fn=<AddBackward0>)\n",
      "tensor(3.2505, device='mps:0', grad_fn=<AddBackward0>)\n",
      "tensor(3.2226, device='mps:0', grad_fn=<AddBackward0>)\n",
      "tensor(3.1942, device='mps:0', grad_fn=<AddBackward0>)\n",
      "tensor(3.1686, device='mps:0', grad_fn=<AddBackward0>)\n",
      "tensor(3.1531, device='mps:0', grad_fn=<AddBackward0>)\n",
      "tensor(3.1379, device='mps:0', grad_fn=<AddBackward0>)\n",
      "tensor(3.1280, device='mps:0', grad_fn=<AddBackward0>)\n",
      "tensor(3.1158, device='mps:0', grad_fn=<AddBackward0>)\n",
      "tensor(3.1126, device='mps:0', grad_fn=<AddBackward0>)\n",
      "tensor(3.0944, device='mps:0', grad_fn=<AddBackward0>)\n",
      "tensor(3.0903, device='mps:0', grad_fn=<AddBackward0>)\n",
      "tensor(3.0792, device='mps:0', grad_fn=<AddBackward0>)\n",
      "tensor(3.0775, device='mps:0', grad_fn=<AddBackward0>)\n",
      "tensor(3.0621, device='mps:0', grad_fn=<AddBackward0>)\n",
      "tensor(3.0642, device='mps:0', grad_fn=<AddBackward0>)\n",
      "tensor(3.0534, device='mps:0', grad_fn=<AddBackward0>)\n",
      "tensor(3.0527, device='mps:0', grad_fn=<AddBackward0>)\n",
      "tensor(3.0468, device='mps:0', grad_fn=<AddBackward0>)\n",
      "tensor(3.0462, device='mps:0', grad_fn=<AddBackward0>)\n",
      "tensor(3.0455, device='mps:0', grad_fn=<AddBackward0>)\n",
      "tensor(3.0390, device='mps:0', grad_fn=<AddBackward0>)\n",
      "tensor(3.0430, device='mps:0', grad_fn=<AddBackward0>)\n",
      "tensor(3.0405, device='mps:0', grad_fn=<AddBackward0>)\n",
      "tensor(3.0400, device='mps:0', grad_fn=<AddBackward0>)\n",
      "tensor(3.0293, device='mps:0', grad_fn=<AddBackward0>)\n",
      "tensor(3.0324, device='mps:0', grad_fn=<AddBackward0>)\n",
      "tensor(3.0332, device='mps:0', grad_fn=<AddBackward0>)\n",
      "tensor(3.0283, device='mps:0', grad_fn=<AddBackward0>)\n",
      "tensor(3.0316, device='mps:0', grad_fn=<AddBackward0>)\n",
      "tensor(3.0281, device='mps:0', grad_fn=<AddBackward0>)\n",
      "tensor(3.0240, device='mps:0', grad_fn=<AddBackward0>)\n",
      "tensor(3.0233, device='mps:0', grad_fn=<AddBackward0>)\n",
      "tensor(3.0229, device='mps:0', grad_fn=<AddBackward0>)\n",
      "tensor(3.0183, device='mps:0', grad_fn=<AddBackward0>)\n"
     ]
    },
    {
     "data": {
      "image/png": "[encoded data removed]",
      "text/plain": [
       "<Figure size 300x300 with 1 Axes>"
      ]
     },
     "metadata": {},
     "output_type": "display_data"
    },
    {
     "name": "stdout",
     "output_type": "stream",
     "text": [
      "tensor([1])\n"
     ]
    }
   ],
   "source": [
    "img = mnist_images[5:6].to(device)\n",
    "adv_img = ensemble_attack_PGD(alphas, models, img, torch.tensor([7]).to(device))\n",
    "xlab.utils.show_grayscale_image(adv_img[0])\n",
    "predictions = model.predict(adv_img)\n",
    "print(predictions)"
   ]
  },
  {
   "cell_type": "code",
   "execution_count": 62,
   "id": "9ef6091d-6679-409c-abd0-03dc7b825dc3",
   "metadata": {},
   "outputs": [],
   "source": [
    "predictions = model.predict(adv_img)"
   ]
  },
  {
   "cell_type": "code",
   "execution_count": 63,
   "id": "b3aaf86d-f404-4daf-8cad-8e4619b3513a",
   "metadata": {},
   "outputs": [
    {
     "data": {
      "text/plain": [
       "tensor([2])"
      ]
     },
     "execution_count": 63,
     "metadata": {},
     "output_type": "execute_result"
    }
   ],
   "source": [
    "predictions"
   ]
  },
  {
   "cell_type": "code",
   "execution_count": null,
   "id": "b0e898a4-749d-464c-b3ae-1a8e3297be51",
   "metadata": {},
   "outputs": [],
   "source": []
  },
  {
   "cell_type": "code",
   "execution_count": 12,
   "id": "63cd4464-83ac-4b32-8e5e-228349c2b930",
   "metadata": {},
   "outputs": [
    {
     "data": {
      "text/plain": [
       "torch.Size([1, 1, 28, 28])"
      ]
     },
     "execution_count": 12,
     "metadata": {},
     "output_type": "execute_result"
    }
   ],
   "source": [
    "img.shape"
   ]
  },
  {
   "cell_type": "code",
   "execution_count": 12,
   "id": "9e4175ad-6cfb-44db-beb7-5463a4c6b223",
   "metadata": {},
   "outputs": [
    {
     "data": {
      "text/plain": [
       "<matplotlib.image.AxesImage at 0x166ab5590>"
      ]
     },
     "execution_count": 12,
     "metadata": {},
     "output_type": "execute_result"
    },
    {
     "data": {
      "image/png": "[encoded data removed]",
      "text/plain": [
       "<Figure size 640x480 with 1 Axes>"
      ]
     },
     "metadata": {},
     "output_type": "display_data"
    }
   ],
   "source": [
    "plt.imshow(mnist_images[0][0])"
   ]
  },
  {
   "cell_type": "code",
   "execution_count": 3,
   "id": "24df4d28-6d04-44f7-a6cb-8a565c3f0aa5",
   "metadata": {},
   "outputs": [
    {
     "data": {
      "application/vnd.jupyter.widget-view+json": {
       "model_id": "4077bd7045d64ed1b9ef0e5bba41b73c",
       "version_major": 2,
       "version_minor": 0
      },
      "text/plain": [
       "mnist_simple_cnn.pth:   0%|          | 0.00/432k [00:00<?, ?B/s]"
      ]
     },
     "metadata": {},
     "output_type": "display_data"
    }
   ],
   "source": [
    "from huggingface_hub import hf_hub_download\n",
    "from xlab.models import ConvolutionalMNIST\n",
    "\n",
    "# https://huggingface.co/uchicago-xlab-ai-security/tiny-wideresnet-cifar10\n",
    "model_path = hf_hub_download(\n",
    "    repo_id=\"uchicago-xlab-ai-security/mnist-ensemble\",\n",
    "    filename=\"mnist_simple_cnn.pth\"\n",
    ")\n",
    "model = torch.load(model_path, map_location='cpu', weights_only=False)\n",
    "_ = model.eval()"
   ]
  },
  {
   "cell_type": "code",
   "execution_count": 3,
   "id": "90e0ccc2-ab6f-46dd-b1fe-47df1c6c0086",
   "metadata": {},
   "outputs": [
    {
     "ename": "NameError",
     "evalue": "name 'model' is not defined",
     "output_type": "error",
     "traceback": [
      "\u001b[31m---------------------------------------------------------------------------\u001b[39m",
      "\u001b[31mNameError\u001b[39m                                 Traceback (most recent call last)",
      "\u001b[36mCell\u001b[39m\u001b[36m \u001b[39m\u001b[32mIn[3]\u001b[39m\u001b[32m, line 1\u001b[39m\n\u001b[32m----> \u001b[39m\u001b[32m1\u001b[39m model(mnist_images[\u001b[32m0\u001b[39m:\u001b[32m1\u001b[39m])\n",
      "\u001b[31mNameError\u001b[39m: name 'model' is not defined"
     ]
    }
   ],
   "source": [
    "model(mnist_images[0:1])"
   ]
  },
  {
   "cell_type": "code",
   "execution_count": 4,
   "id": "c96ea32b-a13f-4164-9ab1-610ae2f3309c",
   "metadata": {},
   "outputs": [
    {
     "data": {
      "application/vnd.jupyter.widget-view+json": {
       "model_id": "ea358bf32ee64223b8728dad85031766",
       "version_major": 2,
       "version_minor": 0
      },
      "text/plain": [
       "mnist_wideresnet.pth:   0%|          | 0.00/693k [00:00<?, ?B/s]"
      ]
     },
     "metadata": {},
     "output_type": "display_data"
    }
   ],
   "source": [
    "from huggingface_hub import hf_hub_download\n",
    "from xlab.models import ResNetMNIST, BasicBlockMNIST\n",
    "\n",
    "# https://huggingface.co/uchicago-xlab-ai-security/tiny-wideresnet-cifar10\n",
    "model_path = hf_hub_download(\n",
    "    repo_id=\"uchicago-xlab-ai-security/mnist-ensemble\",\n",
    "    filename=\"mnist_wideresnet.pth\"\n",
    ")\n",
    "model = torch.load(model_path, map_location='cpu', weights_only=False)\n",
    "_ = model.eval()\n"
   ]
  },
  {
   "cell_type": "code",
   "execution_count": 5,
   "id": "0fac03f8-29d9-4790-ab52-6b4d2672fabe",
   "metadata": {},
   "outputs": [
    {
     "data": {
      "text/plain": [
       "tensor([[-8.7614, -0.1434, -2.2696, -2.6548, -0.9835, -6.6371, -9.8690,  6.9030,\n",
       "         -8.5592,  0.1233]], grad_fn=<AddmmBackward0>)"
      ]
     },
     "execution_count": 5,
     "metadata": {},
     "output_type": "execute_result"
    }
   ],
   "source": [
    "model(mnist_images[0:1])"
   ]
  },
  {
   "cell_type": "code",
   "execution_count": 3,
   "id": "68c2d190-d7e6-43e1-a8a5-0478bf746c19",
   "metadata": {},
   "outputs": [
    {
     "data": {
      "application/vnd.jupyter.widget-view+json": {
       "model_id": "8548fdb3f8134f3ab520de0492f2a735",
       "version_major": 2,
       "version_minor": 0
      },
      "text/plain": [
       "mnist_mlp.pth:   0%|          | 0.00/166k [00:00<?, ?B/s]"
      ]
     },
     "metadata": {},
     "output_type": "display_data"
    }
   ],
   "source": [
    "from huggingface_hub import hf_hub_download\n",
    "from xlab.models import FeedforwardMNIST\n",
    "\n",
    "# https://huggingface.co/uchicago-xlab-ai-security/tiny-wideresnet-cifar10\n",
    "model_path = hf_hub_download(\n",
    "    repo_id=\"uchicago-xlab-ai-security/mnist-ensemble\",\n",
    "    filename=\"mnist_mlp.pth\"\n",
    ")\n",
    "model = torch.load(model_path, map_location='cpu', weights_only=False)\n",
    "_ = model.eval()"
   ]
  },
  {
   "cell_type": "code",
   "execution_count": 4,
   "id": "c8964bb5-bde5-491f-b7ec-2629772cda7c",
   "metadata": {},
   "outputs": [
    {
     "data": {
      "text/plain": [
       "tensor([[ -0.2652, -10.5678,   0.7676,   4.0928, -10.3465,   0.0514, -15.9896,\n",
       "           9.2350,  -2.0897,   2.2656]], grad_fn=<AddmmBackward0>)"
      ]
     },
     "execution_count": 4,
     "metadata": {},
     "output_type": "execute_result"
    }
   ],
   "source": [
    "model(mnist_images[0:1])"
   ]
  },
  {
   "cell_type": "code",
   "execution_count": null,
   "id": "f7109710-ee39-4beb-b4d2-f91c9b1ce4bf",
   "metadata": {},
   "outputs": [],
   "source": []
  }
 ],
 "metadata": {
  "kernelspec": {
   "display_name": "Python 3 (ipykernel)",
   "language": "python",
   "name": "python3"
  },
  "language_info": {
   "codemirror_mode": {
    "name": "ipython",
    "version": 3
   },
   "file_extension": ".py",
   "mimetype": "text/x-python",
   "name": "python",
   "nbconvert_exporter": "python",
   "pygments_lexer": "ipython3",
   "version": "3.11.11"
  }
 },
 "nbformat": 4,
 "nbformat_minor": 5
}
