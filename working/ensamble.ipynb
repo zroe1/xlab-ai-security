{
 "cells": [
  {
   "cell_type": "code",
   "execution_count": 1,
   "id": "29538cf5-91d0-465b-b2b8-70dbfe1173fc",
   "metadata": {},
   "outputs": [],
   "source": [
    "import torch\n",
    "import xlab\n",
    "import matplotlib.pyplot as plt"
   ]
  },
  {
   "cell_type": "code",
   "execution_count": 2,
   "id": "4a81fe26-05c6-487a-9314-36263572d1fe",
   "metadata": {},
   "outputs": [
    {
     "name": "stdout",
     "output_type": "stream",
     "text": [
      "Images shape: torch.Size([100, 1, 28, 28])\n",
      "Labels shape: torch.Size([100])\n"
     ]
    }
   ],
   "source": [
    "mnist_images, mnist_labels = xlab.utils.load_mnist_test_samples(100)\n",
    "print(f\"Images shape: {mnist_images.shape}\")  # torch.Size([100, 1, 28, 28])\n",
    "print(f\"Labels shape: {mnist_labels.shape}\")  # torch.Size([100])"
   ]
  },
  {
   "cell_type": "code",
   "execution_count": 5,
   "id": "6bc8a799-3d2d-4784-912d-5b62f7129d8e",
   "metadata": {},
   "outputs": [
    {
     "data": {
      "image/png": "[encoded data removed]",
      "text/plain": [
       "<Figure size 300x300 with 1 Axes>"
      ]
     },
     "metadata": {},
     "output_type": "display_data"
    }
   ],
   "source": [
    "image_index = 0\n",
    "xlab.utils.show_grayscale_image(mnist_images[image_index], title=f\"label={mnist_labels[image_index]}\")"
   ]
  },
  {
   "cell_type": "code",
   "execution_count": 3,
   "id": "2cd8d021-5440-452b-b54c-7d8d8b30f4e6",
   "metadata": {},
   "outputs": [],
   "source": [
    "import xlab\n",
    "from xlab.models import BlackBox\n",
    "\n",
    "# Load the black box model (downloads automatically)\n",
    "model = xlab.utils.load_black_box_model('mnist-black-box')\n",
    "\n",
    "# Make predictions (model details are hidden)\n",
    "predictions = model.predict(mnist_images)\n",
    "probabilities = model.predict_proba(mnist_images)\n",
    "\n",
    "# Can also use it like a function\n",
    "predictions = model(mnist_images)"
   ]
  },
  {
   "cell_type": "code",
   "execution_count": 4,
   "id": "63cd4464-83ac-4b32-8e5e-228349c2b930",
   "metadata": {},
   "outputs": [
    {
     "data": {
      "text/plain": [
       "tensor([7, 2, 1, 0, 4, 1, 4, 9, 5, 9, 0, 6, 9, 0, 1, 5, 9, 7, 3, 4, 9, 6, 6, 5,\n",
       "        4, 0, 7, 4, 0, 1, 3, 1, 3, 0, 7, 2, 7, 1, 2, 1, 1, 7, 4, 2, 3, 5, 1, 2,\n",
       "        4, 4, 6, 3, 5, 5, 6, 0, 4, 1, 9, 5, 7, 8, 9, 3, 7, 4, 6, 4, 3, 0, 7, 0,\n",
       "        2, 9, 1, 7, 3, 2, 9, 7, 7, 6, 2, 7, 8, 4, 7, 3, 6, 1, 3, 6, 9, 3, 1, 4,\n",
       "        1, 7, 6, 9])"
      ]
     },
     "execution_count": 4,
     "metadata": {},
     "output_type": "execute_result"
    }
   ],
   "source": [
    "predictions"
   ]
  },
  {
   "cell_type": "code",
   "execution_count": 12,
   "id": "9e4175ad-6cfb-44db-beb7-5463a4c6b223",
   "metadata": {},
   "outputs": [
    {
     "data": {
      "text/plain": [
       "<matplotlib.image.AxesImage at 0x166ab5590>"
      ]
     },
     "execution_count": 12,
     "metadata": {},
     "output_type": "execute_result"
    },
    {
     "data": {
      "image/png": "[encoded data removed]",
      "text/plain": [
       "<Figure size 640x480 with 1 Axes>"
      ]
     },
     "metadata": {},
     "output_type": "display_data"
    }
   ],
   "source": [
    "plt.imshow(mnist_images[0][0])"
   ]
  },
  {
   "cell_type": "code",
   "execution_count": 3,
   "id": "24df4d28-6d04-44f7-a6cb-8a565c3f0aa5",
   "metadata": {},
   "outputs": [
    {
     "data": {
      "application/vnd.jupyter.widget-view+json": {
       "model_id": "4077bd7045d64ed1b9ef0e5bba41b73c",
       "version_major": 2,
       "version_minor": 0
      },
      "text/plain": [
       "mnist_simple_cnn.pth:   0%|          | 0.00/432k [00:00<?, ?B/s]"
      ]
     },
     "metadata": {},
     "output_type": "display_data"
    }
   ],
   "source": [
    "from huggingface_hub import hf_hub_download\n",
    "from xlab.models import ConvolutionalMNIST\n",
    "\n",
    "# https://huggingface.co/uchicago-xlab-ai-security/tiny-wideresnet-cifar10\n",
    "model_path = hf_hub_download(\n",
    "    repo_id=\"uchicago-xlab-ai-security/mnist-ensemble\",\n",
    "    filename=\"mnist_simple_cnn.pth\"\n",
    ")\n",
    "model = torch.load(model_path, map_location='cpu', weights_only=False)\n",
    "_ = model.eval()"
   ]
  },
  {
   "cell_type": "code",
   "execution_count": 3,
   "id": "90e0ccc2-ab6f-46dd-b1fe-47df1c6c0086",
   "metadata": {},
   "outputs": [
    {
     "ename": "NameError",
     "evalue": "name 'model' is not defined",
     "output_type": "error",
     "traceback": [
      "\u001b[31m---------------------------------------------------------------------------\u001b[39m",
      "\u001b[31mNameError\u001b[39m                                 Traceback (most recent call last)",
      "\u001b[36mCell\u001b[39m\u001b[36m \u001b[39m\u001b[32mIn[3]\u001b[39m\u001b[32m, line 1\u001b[39m\n\u001b[32m----> \u001b[39m\u001b[32m1\u001b[39m model(mnist_images[\u001b[32m0\u001b[39m:\u001b[32m1\u001b[39m])\n",
      "\u001b[31mNameError\u001b[39m: name 'model' is not defined"
     ]
    }
   ],
   "source": [
    "model(mnist_images[0:1])"
   ]
  },
  {
   "cell_type": "code",
   "execution_count": 4,
   "id": "c96ea32b-a13f-4164-9ab1-610ae2f3309c",
   "metadata": {},
   "outputs": [
    {
     "data": {
      "application/vnd.jupyter.widget-view+json": {
       "model_id": "ea358bf32ee64223b8728dad85031766",
       "version_major": 2,
       "version_minor": 0
      },
      "text/plain": [
       "mnist_wideresnet.pth:   0%|          | 0.00/693k [00:00<?, ?B/s]"
      ]
     },
     "metadata": {},
     "output_type": "display_data"
    }
   ],
   "source": [
    "from huggingface_hub import hf_hub_download\n",
    "from xlab.models import ResNetMNIST, BasicBlockMNIST\n",
    "\n",
    "# https://huggingface.co/uchicago-xlab-ai-security/tiny-wideresnet-cifar10\n",
    "model_path = hf_hub_download(\n",
    "    repo_id=\"uchicago-xlab-ai-security/mnist-ensemble\",\n",
    "    filename=\"mnist_wideresnet.pth\"\n",
    ")\n",
    "model = torch.load(model_path, map_location='cpu', weights_only=False)\n",
    "_ = model.eval()\n"
   ]
  },
  {
   "cell_type": "code",
   "execution_count": 5,
   "id": "0fac03f8-29d9-4790-ab52-6b4d2672fabe",
   "metadata": {},
   "outputs": [
    {
     "data": {
      "text/plain": [
       "tensor([[-8.7614, -0.1434, -2.2696, -2.6548, -0.9835, -6.6371, -9.8690,  6.9030,\n",
       "         -8.5592,  0.1233]], grad_fn=<AddmmBackward0>)"
      ]
     },
     "execution_count": 5,
     "metadata": {},
     "output_type": "execute_result"
    }
   ],
   "source": [
    "model(mnist_images[0:1])"
   ]
  },
  {
   "cell_type": "code",
   "execution_count": 3,
   "id": "68c2d190-d7e6-43e1-a8a5-0478bf746c19",
   "metadata": {},
   "outputs": [
    {
     "data": {
      "application/vnd.jupyter.widget-view+json": {
       "model_id": "8548fdb3f8134f3ab520de0492f2a735",
       "version_major": 2,
       "version_minor": 0
      },
      "text/plain": [
       "mnist_mlp.pth:   0%|          | 0.00/166k [00:00<?, ?B/s]"
      ]
     },
     "metadata": {},
     "output_type": "display_data"
    }
   ],
   "source": [
    "from huggingface_hub import hf_hub_download\n",
    "from xlab.models import FeedforwardMNIST\n",
    "\n",
    "# https://huggingface.co/uchicago-xlab-ai-security/tiny-wideresnet-cifar10\n",
    "model_path = hf_hub_download(\n",
    "    repo_id=\"uchicago-xlab-ai-security/mnist-ensemble\",\n",
    "    filename=\"mnist_mlp.pth\"\n",
    ")\n",
    "model = torch.load(model_path, map_location='cpu', weights_only=False)\n",
    "_ = model.eval()"
   ]
  },
  {
   "cell_type": "code",
   "execution_count": 4,
   "id": "c8964bb5-bde5-491f-b7ec-2629772cda7c",
   "metadata": {},
   "outputs": [
    {
     "data": {
      "text/plain": [
       "tensor([[ -0.2652, -10.5678,   0.7676,   4.0928, -10.3465,   0.0514, -15.9896,\n",
       "           9.2350,  -2.0897,   2.2656]], grad_fn=<AddmmBackward0>)"
      ]
     },
     "execution_count": 4,
     "metadata": {},
     "output_type": "execute_result"
    }
   ],
   "source": [
    "model(mnist_images[0:1])"
   ]
  },
  {
   "cell_type": "code",
   "execution_count": null,
   "id": "f7109710-ee39-4beb-b4d2-f91c9b1ce4bf",
   "metadata": {},
   "outputs": [],
   "source": []
  }
 ],
 "metadata": {
  "kernelspec": {
   "display_name": "Python 3 (ipykernel)",
   "language": "python",
   "name": "python3"
  },
  "language_info": {
   "codemirror_mode": {
    "name": "ipython",
    "version": 3
   },
   "file_extension": ".py",
   "mimetype": "text/x-python",
   "name": "python",
   "nbconvert_exporter": "python",
   "pygments_lexer": "ipython3",
   "version": "3.11.11"
  }
 },
 "nbformat": 4,
 "nbformat_minor": 5
}
