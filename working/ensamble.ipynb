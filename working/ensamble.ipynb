{
 "cells": [
  {
   "cell_type": "code",
   "execution_count": 1,
   "id": "29538cf5-91d0-465b-b2b8-70dbfe1173fc",
   "metadata": {},
   "outputs": [],
   "source": [
    "import torch\n",
    "import xlab\n",
    "import matplotlib.pyplot as plt\n",
    "\n",
    "device = xlab.utils.get_best_device()"
   ]
  },
  {
   "cell_type": "markdown",
   "id": "b634d506-6471-4390-978c-53fa4b3963a7",
   "metadata": {},
   "source": [
    "## Loading the MNIST Dataset\n",
    "\n",
    "Before we begin the attack, let's take a look at our data and the surrogate models we will be using for this notebook. First, you can see that the `xlab-security` packages provides you with `xlab.utils.load_mnist_test_samples` which you can use to load members of the MNIST handwritten digit test set."
   ]
  },
  {
   "cell_type": "code",
   "execution_count": 2,
   "id": "4a81fe26-05c6-487a-9314-36263572d1fe",
   "metadata": {},
   "outputs": [
    {
     "name": "stdout",
     "output_type": "stream",
     "text": [
      "Images shape: torch.Size([100, 1, 28, 28])\n",
      "Labels shape: torch.Size([100])\n"
     ]
    }
   ],
   "source": [
    "mnist_images, mnist_labels = xlab.utils.load_mnist_test_samples(100)\n",
    "print(f\"Images shape: {mnist_images.shape}\")\n",
    "print(f\"Labels shape: {mnist_labels.shape}\")"
   ]
  },
  {
   "cell_type": "markdown",
   "id": "03f9b959-2cb3-4c62-b45c-cffa94191e07",
   "metadata": {},
   "source": [
    "We also provide you with `xlab.utils.show_grayscale_image` to plot MNIST images. You can change the `image_index` below to explore different images in the dataset."
   ]
  },
  {
   "cell_type": "code",
   "execution_count": 3,
   "id": "6bc8a799-3d2d-4784-912d-5b62f7129d8e",
   "metadata": {},
   "outputs": [
    {
     "data": {
      "image/png": "[encoded data removed]",
      "text/plain": [
       "<Figure size 300x300 with 1 Axes>"
      ]
     },
     "metadata": {},
     "output_type": "display_data"
    }
   ],
   "source": [
    "image_index = 0\n",
    "xlab.utils.show_grayscale_image(mnist_images[image_index], title=f\"label={mnist_labels[image_index]}\")"
   ]
  },
  {
   "cell_type": "markdown",
   "id": "6ce44c9c-64a5-4467-91a8-bfdfc69ccdfe",
   "metadata": {},
   "source": [
    "## Loading White-Box Models\n",
    "\n",
    "Next let's load the models that we will use to generate our transferable adversarial examples. We will be using a diverse set of models:\n",
    "\n",
    "1. **A Resnet model**, similar to the MiniWideResnet model you used in previous sections.\n",
    "   * Test set accuracy: 97.61%\n",
    "3. **A CNN model**, which is a simple model that has three convolutional layers and three dense layers.\n",
    "   * Test set accuracy: 96.74%\n",
    "5. **A MLP model** which contains three standard fully connected layers.\n",
    "   * Test set accuracy: 94.27%\n",
    "\n",
    "Code for how we trained each of these models can be found [here](https://github.com/zroe1/xlab-ai-security/tree/main/models/MNIST_ensemble). To load the models on your computer, you can run the cells below."
   ]
  },
  {
   "cell_type": "code",
   "execution_count": 4,
   "id": "8ee07b06-e795-433e-959a-95b3e913a403",
   "metadata": {},
   "outputs": [],
   "source": [
    "from huggingface_hub import hf_hub_download\n",
    "from xlab.models import ConvolutionalMNIST, ResNetMNIST, BasicBlockMNIST, FeedforwardMNIST\n",
    "\n",
    "model_path = hf_hub_download(\n",
    "    repo_id=\"uchicago-xlab-ai-security/mnist-ensemble\",\n",
    "    filename=\"mnist_wideresnet.pth\"\n",
    ")\n",
    "white_box1 = torch.load(model_path, map_location=device, weights_only=False)\n",
    "\n",
    "\n",
    "model_path = hf_hub_download(\n",
    "    repo_id=\"uchicago-xlab-ai-security/mnist-ensemble\",\n",
    "    filename=\"mnist_simple_cnn.pth\"\n",
    ")\n",
    "white_box2 = torch.load(model_path, map_location=device, weights_only=False)\n",
    "\n",
    "\n",
    "model_path = hf_hub_download(\n",
    "    repo_id=\"uchicago-xlab-ai-security/mnist-ensemble\",\n",
    "    filename=\"mnist_mlp.pth\"\n",
    ")\n",
    "white_box3 = torch.load(model_path, map_location=device, weights_only=False)\n"
   ]
  },
  {
   "cell_type": "markdown",
   "id": "1e1f7c1d-af78-46a1-944d-253ba8e1e4c7",
   "metadata": {},
   "source": [
    "## Loading Black-Box Models\n",
    "\n",
    "Now we can load our black box model which we will attempt to attack in this notebook. You will interact with this model through our python package and you wont be able to see anything about the model architecture. You will be able to only call `model.predict` to get model predictions for a set of images and `model.predict_proba` to get model probabilities for a set of images."
   ]
  },
  {
   "cell_type": "code",
   "execution_count": 5,
   "id": "2cd8d021-5440-452b-b54c-7d8d8b30f4e6",
   "metadata": {},
   "outputs": [
    {
     "name": "stdout",
     "output_type": "stream",
     "text": [
      "predictions=tensor([7, 2, 1, 0, 4, 1, 4, 9, 6, 9, 0, 2, 9, 0, 1, 5, 9, 7, 3, 4, 9, 6, 6, 5,\n",
      "        4, 0, 7, 4, 0, 1, 3, 1, 3, 0, 7, 2, 7, 1, 3, 1, 1, 7, 4, 2, 3, 5, 1, 2,\n",
      "        4, 4, 6, 3, 5, 5, 6, 0, 4, 1, 9, 5, 7, 8, 4, 3, 7, 4, 2, 4, 3, 0, 7, 0,\n",
      "        2, 7, 1, 7, 3, 2, 9, 7, 7, 6, 2, 7, 8, 4, 7, 3, 6, 1, 3, 6, 4, 3, 1, 4,\n",
      "        1, 7, 6, 9])\n",
      "probabilities.shape=torch.Size([100, 10])\n"
     ]
    }
   ],
   "source": [
    "import xlab\n",
    "from xlab.models import BlackBox\n",
    "\n",
    "# Load the black box model (downloads automatically)\n",
    "model = xlab.utils.load_black_box_model('mnist-black-box')\n",
    "\n",
    "# Make predictions (model details are hidden)\n",
    "predictions = model.predict(mnist_images)\n",
    "probabilities = model.predict_proba(mnist_images)\n",
    "\n",
    "print(f\"predictions={predictions}\")\n",
    "print(f\"probabilities.shape={probabilities.shape}\")"
   ]
  },
  {
   "cell_type": "markdown",
   "id": "bd3f91cd-cbe9-46a9-8bfe-770da6b79795",
   "metadata": {},
   "source": [
    "## Task #1: Ensemble Loss\n",
    "\n",
    "Given an array of $k$ alpha values and $k$ models you will give the weighted cross entropy loss by the following equation:\n",
    "\n",
    "$$\n",
    "\\mathrm{argmin}_\\delta \\  \\  D(\\delta) + \\sum_{i=1}^k \\alpha_i \\cdot \\ell_i(x + \\delta)\n",
    "$$"
   ]
  },
  {
   "cell_type": "code",
   "execution_count": 6,
   "id": "f1dd12db-3209-4aee-bd14-49a29e934584",
   "metadata": {},
   "outputs": [],
   "source": [
    "def ensemble_loss(alphas, models, img, target):\n",
    "    loss = torch.tensor(0.0).to(device)\n",
    "    loss_fn = torch.nn.CrossEntropyLoss()\n",
    "\n",
    "    for alpha, model in zip(alphas, models):\n",
    "        out = model(img)\n",
    "        model_loss = loss_fn(out, target)\n",
    "        loss += alpha * model_loss\n",
    "        # print(model_loss)\n",
    "\n",
    "    return loss"
   ]
  },
  {
   "cell_type": "code",
   "execution_count": 7,
   "id": "0976138a-d292-4f9b-9332-38d2112356c2",
   "metadata": {},
   "outputs": [],
   "source": [
    "img = mnist_images[0:1].to(device)\n",
    "alphas = [1/3, 1/3, 1/3]\n",
    "models = [white_box1, white_box2, white_box3]\n",
    "\n",
    "example_loss = ensemble_loss(alphas, models, img, torch.tensor([0]).to(device))"
   ]
  },
  {
   "cell_type": "markdown",
   "id": "cecc8fab-33cc-4b10-8332-8ed79436ed5f",
   "metadata": {},
   "source": [
    "## Task #2: Ensemble Attack\n",
    "\n",
    "Now you should be in a good position to complete the ensemble attack. This is exactly the same as PGD, but instead of using a typical loss like Cross Entropy, you will be using the ensemble loss you implemented in `Task #1`. Note that in the original paper, the authors implement something more similar to Carlini-Wagner with a hyperparameter $\\lambda$ which controls how much the distance metric is weighted in the final loss. For simplicity and compatibility with our tests you should use the update rule below:\n",
    "\n",
    "$$\n",
    "x'_i = x + \\mathrm{clip}_\\epsilon(\\alpha \\cdot \\mathrm{sign}(\\nabla \\mathrm{ensemble\\_loss}_{F,t}(x'_{i-1})))\n",
    "$$\n",
    "\n",
    "For the purpose of not making this too difficult, we have allowed a very high $\\epsilon$ value. While one may exect $\\epsilon=28/255$ to yeild some absurd results, in practice this is somewhat reasonable because of the high-contrast nature of the dataset. Also, because it is a gray-scale image, there are fewer pixel values to work with so the total distance of the purturbation (if you take the absolute value and sum) will be comparable to (probably less than) $\\epsilon=12/255$ for a color image.\n",
    "\n",
    "<b>Note:</b> You may use our solution to the clip function from the PGD notebook by calling `xlab.utils.clip`. You can also implement this functionality again within this notebook if you prefer."
   ]
  },
  {
   "cell_type": "code",
   "execution_count": 97,
   "id": "61ae2c59-eac0-4ab1-8078-03512f2c52a0",
   "metadata": {
    "scrolled": true
   },
   "outputs": [],
   "source": [
    "def ensemble_attack_PGD(alphas, models, img, target, epsilon=24/255, alpha=2/255, num_iters=50):\n",
    "    img_original = img.clone()\n",
    "    adv_img = xlab.utils.add_noise(img)\n",
    "\n",
    "    for _ in range(num_iters):\n",
    "        adv_img.requires_grad=True\n",
    "        loss = ensemble_loss(alphas, models, adv_img, target)\n",
    "        loss.backward()\n",
    "        # print(loss)\n",
    "\n",
    "        grad = adv_img.grad.data\n",
    "        adv_img.requires_grad_(False)\n",
    "        adv_img -= alpha * torch.sign(grad)\n",
    "        adv_img = xlab.utils.clip(adv_img, img_original, epsilon)\n",
    "\n",
    "    return adv_img"
   ]
  },
  {
   "cell_type": "markdown",
   "id": "1acedae6-67f0-4221-b3c2-02255d4a9995",
   "metadata": {},
   "source": [
    "As a first check, you should see that the targeted attack on the image below should succeed when the target class is 2. If this does not work, we reccomend going back and double checking your code before running the test in the next section of the notebook."
   ]
  },
  {
   "cell_type": "code",
   "execution_count": 107,
   "id": "120f89df-29ee-4368-982a-ef07c68d0fdd",
   "metadata": {},
   "outputs": [
    {
     "data": {
      "image/png": "[encoded data removed]",
      "text/plain": [
       "<Figure size 300x300 with 1 Axes>"
      ]
     },
     "metadata": {},
     "output_type": "display_data"
    },
    {
     "name": "stdout",
     "output_type": "stream",
     "text": [
      "Black box predicts 2\n"
     ]
    }
   ],
   "source": [
    "img = mnist_images[2:3].to(device)\n",
    "adv_img = ensemble_attack_PGD(alphas, models, img, torch.tensor([2]).to(device))\n",
    "xlab.utils.show_grayscale_image(adv_img[0], \"Targeted attack on image of 1\")\n",
    "predictions = model.predict(adv_img)\n",
    "print(f\"Black box predicts {predictions.item()}\")"
   ]
  },
  {
   "cell_type": "markdown",
   "id": "9d2464e7-5876-486a-b770-68c27c5ea41b",
   "metadata": {},
   "source": [
    "# Testing Your Attack\n",
    "\n",
    "Transfering targeted adversarial examples is difficult. To make things easier for you we have identified a list of 5 images which we were able to generate transferable adversarial images for quite easily. For testing, you can run the cell below which will run your attack on these 5 images with the target class 3 (none of the images in `breakable_imgs` has a clean label of 3)."
   ]
  },
  {
   "cell_type": "code",
   "execution_count": 104,
   "id": "fc6b7def-fc8e-467d-b719-cdb60ec503d6",
   "metadata": {},
   "outputs": [
    {
     "name": "stdout",
     "output_type": "stream",
     "text": [
      "Attack was successful! Predicted class = 3\n",
      "Attack was successful! Predicted class = 3\n",
      "Attack was successful! Predicted class = 3\n",
      "Attack was successful! Predicted class = 3\n",
      "Attack was successful! Predicted class = 3\n"
     ]
    }
   ],
   "source": [
    "breakable_idxs = [5, 11, 14, 15, 17]\n",
    "target_class = 3\n",
    "\n",
    "breakable_imgs = [mnist_images[i:i+1].to(device) for i in breakable_idxs]\n",
    "adv_imgs = []\n",
    "\n",
    "for img in breakable_imgs:\n",
    "    adv_img = ensemble_attack_PGD(alphas, models, img, torch.tensor([target_class]).to(device))\n",
    "    adv_imgs.append(adv_img)\n",
    "    \n",
    "    predictions = model.predict(adv_img)\n",
    "    if predictions.item() == target_class:\n",
    "        print(f\"Attack was successful! Predicted class = {target_class}\")\n",
    "    else:\n",
    "        print(f\"Attack was unsuccessful. Predicted class = {predictions.item()} and target class = {target_class}\")"
   ]
  },
  {
   "cell_type": "markdown",
   "id": "9c409ce0-fa67-4457-bf10-abd26616c104",
   "metadata": {},
   "source": [
    "## Further Exploration\n",
    "\n",
    "If you are interested, we encourage you to play around with the attack above to see if you can successfully transfer targeted attacks to other classes or to other images in the testing set. Although you should be able to do better than our solution (ours is the bare minimum) you should not expect to be able to complete this attack for every image for every class. In general, these kinds of targeted attacks are difficult to pull off and often require a more involved solution.\n",
    "\n",
    "Ideas for how to improve the attack:\n",
    "\n",
    "1. Tune the alpha values and see how different weights influence your chance of success (you should find this to be the case)\n",
    "2. Try a more sophisticated optimization approach. Instead of using `alpha` to update the image, try using a PyTorch optimizer.\n",
    "3. Go back to the [original paper](https://arxiv.org/pdf/1611.02770) and try to implement something closer to their \"Optimization based approach\""
   ]
  },
  {
   "cell_type": "code",
   "execution_count": null,
   "id": "f7109710-ee39-4beb-b4d2-f91c9b1ce4bf",
   "metadata": {},
   "outputs": [],
   "source": []
  }
 ],
 "metadata": {
  "kernelspec": {
   "display_name": "Python 3 (ipykernel)",
   "language": "python",
   "name": "python3"
  },
  "language_info": {
   "codemirror_mode": {
    "name": "ipython",
    "version": 3
   },
   "file_extension": ".py",
   "mimetype": "text/x-python",
   "name": "python",
   "nbconvert_exporter": "python",
   "pygments_lexer": "ipython3",
   "version": "3.11.11"
  }
 },
 "nbformat": 4,
 "nbformat_minor": 5
}
