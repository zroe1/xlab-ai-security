{
 "cells": [
  {
   "cell_type": "code",
   "execution_count": 1,
   "id": "29538cf5-91d0-465b-b2b8-70dbfe1173fc",
   "metadata": {},
   "outputs": [],
   "source": [
    "import torch\n",
    "import xlab\n",
    "import matplotlib.pyplot as plt\n",
    "\n",
    "device = xlab.utils.get_best_device()"
   ]
  },
  {
   "cell_type": "markdown",
   "id": "b634d506-6471-4390-978c-53fa4b3963a7",
   "metadata": {},
   "source": [
    "## Loading the MNIST Dataset\n",
    "\n",
    "Before we begin the attack, let's take a look at our data and the surrogate models we will be using for this notebook. First, you can see that the `xlab-security` packages provides you with `xlab.utils.load_mnist_test_samples` which you can use to load members of the MNIST handwritten digit test set."
   ]
  },
  {
   "cell_type": "code",
   "execution_count": 2,
   "id": "4a81fe26-05c6-487a-9314-36263572d1fe",
   "metadata": {},
   "outputs": [
    {
     "name": "stdout",
     "output_type": "stream",
     "text": [
      "Images shape: torch.Size([100, 1, 28, 28])\n",
      "Labels shape: torch.Size([100])\n"
     ]
    }
   ],
   "source": [
    "mnist_images, mnist_labels = xlab.utils.load_mnist_test_samples(100)\n",
    "print(f\"Images shape: {mnist_images.shape}\")\n",
    "print(f\"Labels shape: {mnist_labels.shape}\")"
   ]
  },
  {
   "cell_type": "markdown",
   "id": "03f9b959-2cb3-4c62-b45c-cffa94191e07",
   "metadata": {},
   "source": [
    "We also provide you with `xlab.utils.show_grayscale_image` to plot MNIST images. You can change the `image_index` below to explore different images in the dataset."
   ]
  },
  {
   "cell_type": "code",
   "execution_count": 3,
   "id": "6bc8a799-3d2d-4784-912d-5b62f7129d8e",
   "metadata": {},
   "outputs": [
    {
     "data": {
      "image/png": "[encoded data removed]",
      "text/plain": [
       "<Figure size 300x300 with 1 Axes>"
      ]
     },
     "metadata": {},
     "output_type": "display_data"
    }
   ],
   "source": [
    "image_index = 0\n",
    "xlab.utils.show_grayscale_image(mnist_images[image_index], title=f\"label={mnist_labels[image_index]}\")"
   ]
  },
  {
   "cell_type": "markdown",
   "id": "6ce44c9c-64a5-4467-91a8-bfdfc69ccdfe",
   "metadata": {},
   "source": [
    "## Loading White-Box Models\n",
    "\n",
    "Next let's load the models that we will use to generate our transferable adversarial examples. We will be using a diverse set of models:\n",
    "\n",
    "1. **A Resnet model**, similar to the MiniWideResnet model you used in previous sections.\n",
    "   * Test set accuracy: 97.61%\n",
    "3. **A CNN model**, which is a simple model that has three convolutional layers and three dense layers.\n",
    "   * Test set accuracy: 96.74%\n",
    "5. **A MLP model** which contains three standard fully connected layers.\n",
    "   * Test set accuracy: 94.27%\n",
    "\n",
    "Code for how we trained each of these models can be found [here](https://github.com/zroe1/xlab-ai-security/tree/main/models/MNIST_ensemble). To load the models on your computer, you can run the cells below."
   ]
  },
  {
   "cell_type": "code",
   "execution_count": 4,
   "id": "8ee07b06-e795-433e-959a-95b3e913a403",
   "metadata": {},
   "outputs": [],
   "source": [
    "from huggingface_hub import hf_hub_download\n",
    "from xlab.models import ConvolutionalMNIST, ResNetMNIST, BasicBlockMNIST, FeedforwardMNIST\n",
    "\n",
    "model_path = hf_hub_download(\n",
    "    repo_id=\"uchicago-xlab-ai-security/mnist-ensemble\",\n",
    "    filename=\"mnist_wideresnet.pth\"\n",
    ")\n",
    "white_box1 = torch.load(model_path, map_location=device, weights_only=False)\n",
    "\n",
    "\n",
    "model_path = hf_hub_download(\n",
    "    repo_id=\"uchicago-xlab-ai-security/mnist-ensemble\",\n",
    "    filename=\"mnist_simple_cnn.pth\"\n",
    ")\n",
    "white_box2 = torch.load(model_path, map_location=device, weights_only=False)\n",
    "\n",
    "\n",
    "model_path = hf_hub_download(\n",
    "    repo_id=\"uchicago-xlab-ai-security/mnist-ensemble\",\n",
    "    filename=\"mnist_mlp.pth\"\n",
    ")\n",
    "white_box3 = torch.load(model_path, map_location=device, weights_only=False)\n"
   ]
  },
  {
   "cell_type": "markdown",
   "id": "1e1f7c1d-af78-46a1-944d-253ba8e1e4c7",
   "metadata": {},
   "source": [
    "## Loading Black-Box Models\n",
    "\n",
    "Now we can load our black box model which we will attempt to attack in this notebook. You will interact with this model through our python package and you wont be able to see anything about the model architecture. You will be able to only call `model.predict` to get model predictions for a set of images and `model.predict_proba` to get model probabilities for a set of images."
   ]
  },
  {
   "cell_type": "code",
   "execution_count": 5,
   "id": "2cd8d021-5440-452b-b54c-7d8d8b30f4e6",
   "metadata": {},
   "outputs": [
    {
     "name": "stdout",
     "output_type": "stream",
     "text": [
      "predictions=tensor([7, 2, 1, 0, 4, 1, 4, 9, 5, 9, 0, 6, 9, 0, 1, 5, 9, 7, 3, 4, 9, 6, 6, 5,\n",
      "        4, 0, 7, 4, 0, 1, 3, 1, 3, 0, 7, 2, 7, 1, 2, 1, 1, 7, 4, 2, 3, 5, 1, 2,\n",
      "        4, 4, 6, 3, 5, 5, 6, 0, 4, 1, 9, 5, 7, 8, 9, 3, 7, 4, 6, 4, 3, 0, 7, 0,\n",
      "        2, 9, 1, 7, 3, 2, 9, 7, 7, 6, 2, 7, 8, 4, 7, 3, 6, 1, 3, 6, 9, 3, 1, 4,\n",
      "        1, 7, 6, 9])\n",
      "probabilities.shape=torch.Size([100, 10])\n"
     ]
    }
   ],
   "source": [
    "import xlab\n",
    "from xlab.models import BlackBox\n",
    "\n",
    "# Load the black box model (downloads automatically)\n",
    "model = xlab.utils.load_black_box_model('mnist-black-box')\n",
    "\n",
    "# Make predictions (model details are hidden)\n",
    "predictions = model.predict(mnist_images)\n",
    "probabilities = model.predict_proba(mnist_images)\n",
    "\n",
    "print(f\"predictions={predictions}\")\n",
    "print(f\"probabilities.shape={probabilities.shape}\")"
   ]
  },
  {
   "cell_type": "markdown",
   "id": "bd3f91cd-cbe9-46a9-8bfe-770da6b79795",
   "metadata": {},
   "source": [
    "## Task #1: Ensemble Loss\n",
    "\n",
    "Given an array of $k$ alpha values and $k$ models you will give the weighted cross entropy loss by the following equation:\n",
    "\n",
    "$$\n",
    "\\mathrm{argmin}_\\delta \\  \\  D(\\delta) + \\sum_{i=1}^k \\alpha_i \\cdot \\ell_i(x + \\delta)\n",
    "$$"
   ]
  },
  {
   "cell_type": "code",
   "execution_count": 37,
   "id": "f1dd12db-3209-4aee-bd14-49a29e934584",
   "metadata": {},
   "outputs": [],
   "source": [
    "def ensemble_loss(alphas, models, img, target):\n",
    "    loss = torch.tensor(0.0).to(device)\n",
    "    loss_fn = torch.nn.CrossEntropyLoss()\n",
    "\n",
    "    for alpha, model in zip(alphas, models):\n",
    "        out = model(img)\n",
    "        model_loss = loss_fn(out, target)\n",
    "        loss += alpha * model_loss\n",
    "        # print(model_loss)\n",
    "\n",
    "    return loss"
   ]
  },
  {
   "cell_type": "code",
   "execution_count": 38,
   "id": "0976138a-d292-4f9b-9332-38d2112356c2",
   "metadata": {},
   "outputs": [],
   "source": [
    "img = mnist_images[0:1].to(device)\n",
    "alphas = [1/3, 1/3, 1/3]\n",
    "models = [white_box1, white_box2, white_box3]\n",
    "\n",
    "example_loss = ensemble_loss(alphas, models, img, torch.tensor([0]).to(device))"
   ]
  },
  {
   "cell_type": "markdown",
   "id": "cecc8fab-33cc-4b10-8332-8ed79436ed5f",
   "metadata": {},
   "source": [
    "## Task #2: Ensemble Attack\n",
    "\n",
    "Now you should be in a good position to complete the ensemble attack. This is exactly the same as PGD, but instead of using a typical loss like Cross Entropy, you will be using the ensemble loss you implemented in `Task #1`. Note that in the original paper, the authors implement something more similar to Carlini-Wagner with a hyperparameter $\\lambda$ which controls how much the distance metric is weighted in the final loss. For simplicity and compatibility with our tests you should use the update rule below:\n",
    "\n",
    "$$\n",
    "x'_i = x + \\mathrm{clip}_\\epsilon(\\alpha \\cdot \\mathrm{sign}(\\nabla \\mathrm{ensemble\\_loss}_{F,t}(x'_{i-1})))\n",
    "$$\n",
    "\n",
    "<b>Note:</b> You may use our solution to the clip function from the PGD notebook by calling `xlab.utils.clip`. You can also implement this functionality again within this notebook if you prefer."
   ]
  },
  {
   "cell_type": "code",
   "execution_count": 60,
   "id": "61ae2c59-eac0-4ab1-8078-03512f2c52a0",
   "metadata": {
    "scrolled": true
   },
   "outputs": [
    {
     "name": "stdout",
     "output_type": "stream",
     "text": [
      "tensor(8.3986, device='mps:0', grad_fn=<AddBackward0>)\n",
      "tensor(7.8807, device='mps:0', grad_fn=<AddBackward0>)\n",
      "tensor(7.2954, device='mps:0', grad_fn=<AddBackward0>)\n",
      "tensor(6.6910, device='mps:0', grad_fn=<AddBackward0>)\n",
      "tensor(6.1181, device='mps:0', grad_fn=<AddBackward0>)\n",
      "tensor(5.5903, device='mps:0', grad_fn=<AddBackward0>)\n",
      "tensor(5.1305, device='mps:0', grad_fn=<AddBackward0>)\n",
      "tensor(5.0240, device='mps:0', grad_fn=<AddBackward0>)\n",
      "tensor(4.9716, device='mps:0', grad_fn=<AddBackward0>)\n",
      "tensor(4.9292, device='mps:0', grad_fn=<AddBackward0>)\n",
      "tensor(4.8908, device='mps:0', grad_fn=<AddBackward0>)\n",
      "tensor(4.8694, device='mps:0', grad_fn=<AddBackward0>)\n",
      "tensor(4.8517, device='mps:0', grad_fn=<AddBackward0>)\n",
      "tensor(4.8400, device='mps:0', grad_fn=<AddBackward0>)\n",
      "tensor(4.8335, device='mps:0', grad_fn=<AddBackward0>)\n",
      "tensor(4.8243, device='mps:0', grad_fn=<AddBackward0>)\n",
      "tensor(4.8293, device='mps:0', grad_fn=<AddBackward0>)\n",
      "tensor(4.8226, device='mps:0', grad_fn=<AddBackward0>)\n",
      "tensor(4.8287, device='mps:0', grad_fn=<AddBackward0>)\n",
      "tensor(4.8265, device='mps:0', grad_fn=<AddBackward0>)\n",
      "tensor(4.8191, device='mps:0', grad_fn=<AddBackward0>)\n",
      "tensor(4.8175, device='mps:0', grad_fn=<AddBackward0>)\n",
      "tensor(4.8177, device='mps:0', grad_fn=<AddBackward0>)\n",
      "tensor(4.8149, device='mps:0', grad_fn=<AddBackward0>)\n",
      "tensor(4.8216, device='mps:0', grad_fn=<AddBackward0>)\n",
      "tensor(4.8116, device='mps:0', grad_fn=<AddBackward0>)\n",
      "tensor(4.8173, device='mps:0', grad_fn=<AddBackward0>)\n",
      "tensor(4.8154, device='mps:0', grad_fn=<AddBackward0>)\n",
      "tensor(4.8153, device='mps:0', grad_fn=<AddBackward0>)\n",
      "tensor(4.8138, device='mps:0', grad_fn=<AddBackward0>)\n",
      "tensor(4.8194, device='mps:0', grad_fn=<AddBackward0>)\n",
      "tensor(4.8160, device='mps:0', grad_fn=<AddBackward0>)\n",
      "tensor(4.8158, device='mps:0', grad_fn=<AddBackward0>)\n",
      "tensor(4.8119, device='mps:0', grad_fn=<AddBackward0>)\n",
      "tensor(4.8169, device='mps:0', grad_fn=<AddBackward0>)\n",
      "tensor(4.8110, device='mps:0', grad_fn=<AddBackward0>)\n",
      "tensor(4.8163, device='mps:0', grad_fn=<AddBackward0>)\n",
      "tensor(4.8129, device='mps:0', grad_fn=<AddBackward0>)\n",
      "tensor(4.8118, device='mps:0', grad_fn=<AddBackward0>)\n",
      "tensor(4.8105, device='mps:0', grad_fn=<AddBackward0>)\n",
      "tensor(4.8117, device='mps:0', grad_fn=<AddBackward0>)\n",
      "tensor(4.8105, device='mps:0', grad_fn=<AddBackward0>)\n",
      "tensor(4.8140, device='mps:0', grad_fn=<AddBackward0>)\n",
      "tensor(4.8098, device='mps:0', grad_fn=<AddBackward0>)\n",
      "tensor(4.8098, device='mps:0', grad_fn=<AddBackward0>)\n",
      "tensor(4.8104, device='mps:0', grad_fn=<AddBackward0>)\n",
      "tensor(4.8117, device='mps:0', grad_fn=<AddBackward0>)\n",
      "tensor(4.8183, device='mps:0', grad_fn=<AddBackward0>)\n",
      "tensor(4.8093, device='mps:0', grad_fn=<AddBackward0>)\n",
      "tensor(4.8179, device='mps:0', grad_fn=<AddBackward0>)\n"
     ]
    }
   ],
   "source": [
    "def ensemble_attack_PGD(alphas, models, img, target, epsilon=12/255, alpha=2/255, num_iters=50):\n",
    "    img_original = img.clone()\n",
    "    adv_img = xlab.utils.add_noise(img)\n",
    "\n",
    "    for _ in range(num_iters):\n",
    "        adv_img.requires_grad=True\n",
    "        loss = ensemble_loss(alphas, models, adv_img, target)\n",
    "        loss.backward()\n",
    "        print(loss)\n",
    "\n",
    "        grad = adv_img.grad.data\n",
    "        # print(grad)\n",
    "        adv_img.requires_grad_(False)\n",
    "        adv_img -= alpha * torch.sign(grad)\n",
    "        adv_img = xlab.utils.clip(adv_img, img_original, epsilon)\n",
    "\n",
    "    return adv_img\n",
    "\n",
    "img = mnist_images[2:3].to(device)\n",
    "adv_img = ensemble_attack_PGD(alphas, models, img, torch.tensor([2]).to(device))"
   ]
  },
  {
   "cell_type": "code",
   "execution_count": 64,
   "id": "27f15e03-33fb-4594-b878-b63ed5452a9c",
   "metadata": {},
   "outputs": [
    {
     "name": "stdout",
     "output_type": "stream",
     "text": [
      "tensor(8.4023, device='mps:0', grad_fn=<AddBackward0>)\n",
      "tensor(7.8953, device='mps:0', grad_fn=<AddBackward0>)\n",
      "tensor(7.3039, device='mps:0', grad_fn=<AddBackward0>)\n",
      "tensor(6.7131, device='mps:0', grad_fn=<AddBackward0>)\n",
      "tensor(6.1407, device='mps:0', grad_fn=<AddBackward0>)\n",
      "tensor(5.6079, device='mps:0', grad_fn=<AddBackward0>)\n",
      "tensor(5.1211, device='mps:0', grad_fn=<AddBackward0>)\n",
      "tensor(5.0219, device='mps:0', grad_fn=<AddBackward0>)\n",
      "tensor(4.9559, device='mps:0', grad_fn=<AddBackward0>)\n",
      "tensor(4.9039, device='mps:0', grad_fn=<AddBackward0>)\n",
      "tensor(4.8749, device='mps:0', grad_fn=<AddBackward0>)\n",
      "tensor(4.8613, device='mps:0', grad_fn=<AddBackward0>)\n",
      "tensor(4.8472, device='mps:0', grad_fn=<AddBackward0>)\n",
      "tensor(4.8408, device='mps:0', grad_fn=<AddBackward0>)\n",
      "tensor(4.8384, device='mps:0', grad_fn=<AddBackward0>)\n",
      "tensor(4.8339, device='mps:0', grad_fn=<AddBackward0>)\n",
      "tensor(4.8344, device='mps:0', grad_fn=<AddBackward0>)\n",
      "tensor(4.8323, device='mps:0', grad_fn=<AddBackward0>)\n",
      "tensor(4.8246, device='mps:0', grad_fn=<AddBackward0>)\n",
      "tensor(4.8212, device='mps:0', grad_fn=<AddBackward0>)\n",
      "tensor(4.8252, device='mps:0', grad_fn=<AddBackward0>)\n",
      "tensor(4.8241, device='mps:0', grad_fn=<AddBackward0>)\n",
      "tensor(4.8209, device='mps:0', grad_fn=<AddBackward0>)\n",
      "tensor(4.8161, device='mps:0', grad_fn=<AddBackward0>)\n",
      "tensor(4.8174, device='mps:0', grad_fn=<AddBackward0>)\n",
      "tensor(4.8101, device='mps:0', grad_fn=<AddBackward0>)\n",
      "tensor(4.8120, device='mps:0', grad_fn=<AddBackward0>)\n",
      "tensor(4.8031, device='mps:0', grad_fn=<AddBackward0>)\n",
      "tensor(4.8103, device='mps:0', grad_fn=<AddBackward0>)\n",
      "tensor(4.8102, device='mps:0', grad_fn=<AddBackward0>)\n",
      "tensor(4.8120, device='mps:0', grad_fn=<AddBackward0>)\n",
      "tensor(4.8116, device='mps:0', grad_fn=<AddBackward0>)\n",
      "tensor(4.8107, device='mps:0', grad_fn=<AddBackward0>)\n",
      "tensor(4.8103, device='mps:0', grad_fn=<AddBackward0>)\n",
      "tensor(4.8117, device='mps:0', grad_fn=<AddBackward0>)\n",
      "tensor(4.8069, device='mps:0', grad_fn=<AddBackward0>)\n",
      "tensor(4.8100, device='mps:0', grad_fn=<AddBackward0>)\n",
      "tensor(4.8013, device='mps:0', grad_fn=<AddBackward0>)\n",
      "tensor(4.8121, device='mps:0', grad_fn=<AddBackward0>)\n",
      "tensor(4.8033, device='mps:0', grad_fn=<AddBackward0>)\n",
      "tensor(4.8092, device='mps:0', grad_fn=<AddBackward0>)\n",
      "tensor(4.8035, device='mps:0', grad_fn=<AddBackward0>)\n",
      "tensor(4.8131, device='mps:0', grad_fn=<AddBackward0>)\n",
      "tensor(4.8074, device='mps:0', grad_fn=<AddBackward0>)\n",
      "tensor(4.8069, device='mps:0', grad_fn=<AddBackward0>)\n",
      "tensor(4.8057, device='mps:0', grad_fn=<AddBackward0>)\n",
      "tensor(4.8065, device='mps:0', grad_fn=<AddBackward0>)\n",
      "tensor(4.8041, device='mps:0', grad_fn=<AddBackward0>)\n",
      "tensor(4.8094, device='mps:0', grad_fn=<AddBackward0>)\n",
      "tensor(4.8048, device='mps:0', grad_fn=<AddBackward0>)\n"
     ]
    },
    {
     "data": {
      "image/png": "[encoded data removed]",
      "text/plain": [
       "<Figure size 300x300 with 1 Axes>"
      ]
     },
     "metadata": {},
     "output_type": "display_data"
    }
   ],
   "source": [
    "img = mnist_images[2:3].to(device)\n",
    "adv_img = ensemble_attack_PGD(alphas, models, img, torch.tensor([2]).to(device))\n",
    "xlab.utils.show_grayscale_image(adv_img[0])\n",
    "predictions = model.predict(adv_img)"
   ]
  },
  {
   "cell_type": "code",
   "execution_count": 62,
   "id": "9ef6091d-6679-409c-abd0-03dc7b825dc3",
   "metadata": {},
   "outputs": [],
   "source": [
    "predictions = model.predict(adv_img)"
   ]
  },
  {
   "cell_type": "code",
   "execution_count": 63,
   "id": "b3aaf86d-f404-4daf-8cad-8e4619b3513a",
   "metadata": {},
   "outputs": [
    {
     "data": {
      "text/plain": [
       "tensor([2])"
      ]
     },
     "execution_count": 63,
     "metadata": {},
     "output_type": "execute_result"
    }
   ],
   "source": [
    "predictions"
   ]
  },
  {
   "cell_type": "code",
   "execution_count": null,
   "id": "b0e898a4-749d-464c-b3ae-1a8e3297be51",
   "metadata": {},
   "outputs": [],
   "source": []
  },
  {
   "cell_type": "code",
   "execution_count": 12,
   "id": "63cd4464-83ac-4b32-8e5e-228349c2b930",
   "metadata": {},
   "outputs": [
    {
     "data": {
      "text/plain": [
       "torch.Size([1, 1, 28, 28])"
      ]
     },
     "execution_count": 12,
     "metadata": {},
     "output_type": "execute_result"
    }
   ],
   "source": [
    "img.shape"
   ]
  },
  {
   "cell_type": "code",
   "execution_count": 12,
   "id": "9e4175ad-6cfb-44db-beb7-5463a4c6b223",
   "metadata": {},
   "outputs": [
    {
     "data": {
      "text/plain": [
       "<matplotlib.image.AxesImage at 0x166ab5590>"
      ]
     },
     "execution_count": 12,
     "metadata": {},
     "output_type": "execute_result"
    },
    {
     "data": {
      "image/png": "[encoded data removed]",
      "text/plain": [
       "<Figure size 640x480 with 1 Axes>"
      ]
     },
     "metadata": {},
     "output_type": "display_data"
    }
   ],
   "source": [
    "plt.imshow(mnist_images[0][0])"
   ]
  },
  {
   "cell_type": "code",
   "execution_count": 3,
   "id": "24df4d28-6d04-44f7-a6cb-8a565c3f0aa5",
   "metadata": {},
   "outputs": [
    {
     "data": {
      "application/vnd.jupyter.widget-view+json": {
       "model_id": "4077bd7045d64ed1b9ef0e5bba41b73c",
       "version_major": 2,
       "version_minor": 0
      },
      "text/plain": [
       "mnist_simple_cnn.pth:   0%|          | 0.00/432k [00:00<?, ?B/s]"
      ]
     },
     "metadata": {},
     "output_type": "display_data"
    }
   ],
   "source": [
    "from huggingface_hub import hf_hub_download\n",
    "from xlab.models import ConvolutionalMNIST\n",
    "\n",
    "# https://huggingface.co/uchicago-xlab-ai-security/tiny-wideresnet-cifar10\n",
    "model_path = hf_hub_download(\n",
    "    repo_id=\"uchicago-xlab-ai-security/mnist-ensemble\",\n",
    "    filename=\"mnist_simple_cnn.pth\"\n",
    ")\n",
    "model = torch.load(model_path, map_location='cpu', weights_only=False)\n",
    "_ = model.eval()"
   ]
  },
  {
   "cell_type": "code",
   "execution_count": 3,
   "id": "90e0ccc2-ab6f-46dd-b1fe-47df1c6c0086",
   "metadata": {},
   "outputs": [
    {
     "ename": "NameError",
     "evalue": "name 'model' is not defined",
     "output_type": "error",
     "traceback": [
      "\u001b[31m---------------------------------------------------------------------------\u001b[39m",
      "\u001b[31mNameError\u001b[39m                                 Traceback (most recent call last)",
      "\u001b[36mCell\u001b[39m\u001b[36m \u001b[39m\u001b[32mIn[3]\u001b[39m\u001b[32m, line 1\u001b[39m\n\u001b[32m----> \u001b[39m\u001b[32m1\u001b[39m model(mnist_images[\u001b[32m0\u001b[39m:\u001b[32m1\u001b[39m])\n",
      "\u001b[31mNameError\u001b[39m: name 'model' is not defined"
     ]
    }
   ],
   "source": [
    "model(mnist_images[0:1])"
   ]
  },
  {
   "cell_type": "code",
   "execution_count": 4,
   "id": "c96ea32b-a13f-4164-9ab1-610ae2f3309c",
   "metadata": {},
   "outputs": [
    {
     "data": {
      "application/vnd.jupyter.widget-view+json": {
       "model_id": "ea358bf32ee64223b8728dad85031766",
       "version_major": 2,
       "version_minor": 0
      },
      "text/plain": [
       "mnist_wideresnet.pth:   0%|          | 0.00/693k [00:00<?, ?B/s]"
      ]
     },
     "metadata": {},
     "output_type": "display_data"
    }
   ],
   "source": [
    "from huggingface_hub import hf_hub_download\n",
    "from xlab.models import ResNetMNIST, BasicBlockMNIST\n",
    "\n",
    "# https://huggingface.co/uchicago-xlab-ai-security/tiny-wideresnet-cifar10\n",
    "model_path = hf_hub_download(\n",
    "    repo_id=\"uchicago-xlab-ai-security/mnist-ensemble\",\n",
    "    filename=\"mnist_wideresnet.pth\"\n",
    ")\n",
    "model = torch.load(model_path, map_location='cpu', weights_only=False)\n",
    "_ = model.eval()\n"
   ]
  },
  {
   "cell_type": "code",
   "execution_count": 5,
   "id": "0fac03f8-29d9-4790-ab52-6b4d2672fabe",
   "metadata": {},
   "outputs": [
    {
     "data": {
      "text/plain": [
       "tensor([[-8.7614, -0.1434, -2.2696, -2.6548, -0.9835, -6.6371, -9.8690,  6.9030,\n",
       "         -8.5592,  0.1233]], grad_fn=<AddmmBackward0>)"
      ]
     },
     "execution_count": 5,
     "metadata": {},
     "output_type": "execute_result"
    }
   ],
   "source": [
    "model(mnist_images[0:1])"
   ]
  },
  {
   "cell_type": "code",
   "execution_count": 3,
   "id": "68c2d190-d7e6-43e1-a8a5-0478bf746c19",
   "metadata": {},
   "outputs": [
    {
     "data": {
      "application/vnd.jupyter.widget-view+json": {
       "model_id": "8548fdb3f8134f3ab520de0492f2a735",
       "version_major": 2,
       "version_minor": 0
      },
      "text/plain": [
       "mnist_mlp.pth:   0%|          | 0.00/166k [00:00<?, ?B/s]"
      ]
     },
     "metadata": {},
     "output_type": "display_data"
    }
   ],
   "source": [
    "from huggingface_hub import hf_hub_download\n",
    "from xlab.models import FeedforwardMNIST\n",
    "\n",
    "# https://huggingface.co/uchicago-xlab-ai-security/tiny-wideresnet-cifar10\n",
    "model_path = hf_hub_download(\n",
    "    repo_id=\"uchicago-xlab-ai-security/mnist-ensemble\",\n",
    "    filename=\"mnist_mlp.pth\"\n",
    ")\n",
    "model = torch.load(model_path, map_location='cpu', weights_only=False)\n",
    "_ = model.eval()"
   ]
  },
  {
   "cell_type": "code",
   "execution_count": 4,
   "id": "c8964bb5-bde5-491f-b7ec-2629772cda7c",
   "metadata": {},
   "outputs": [
    {
     "data": {
      "text/plain": [
       "tensor([[ -0.2652, -10.5678,   0.7676,   4.0928, -10.3465,   0.0514, -15.9896,\n",
       "           9.2350,  -2.0897,   2.2656]], grad_fn=<AddmmBackward0>)"
      ]
     },
     "execution_count": 4,
     "metadata": {},
     "output_type": "execute_result"
    }
   ],
   "source": [
    "model(mnist_images[0:1])"
   ]
  },
  {
   "cell_type": "code",
   "execution_count": null,
   "id": "f7109710-ee39-4beb-b4d2-f91c9b1ce4bf",
   "metadata": {},
   "outputs": [],
   "source": []
  }
 ],
 "metadata": {
  "kernelspec": {
   "display_name": "Python 3 (ipykernel)",
   "language": "python",
   "name": "python3"
  },
  "language_info": {
   "codemirror_mode": {
    "name": "ipython",
    "version": 3
   },
   "file_extension": ".py",
   "mimetype": "text/x-python",
   "name": "python",
   "nbconvert_exporter": "python",
   "pygments_lexer": "ipython3",
   "version": "3.11.11"
  }
 },
 "nbformat": 4,
 "nbformat_minor": 5
}
