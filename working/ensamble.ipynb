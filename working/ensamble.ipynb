{
 "cells": [
  {
   "cell_type": "code",
   "execution_count": 1,
   "id": "29538cf5-91d0-465b-b2b8-70dbfe1173fc",
   "metadata": {},
   "outputs": [],
   "source": [
    "import torch\n",
    "import xlab\n",
    "import matplotlib.pyplot as plt\n",
    "\n",
    "device = xlab.utils.get_best_device()"
   ]
  },
  {
   "cell_type": "markdown",
   "id": "b634d506-6471-4390-978c-53fa4b3963a7",
   "metadata": {},
   "source": [
    "## Loading the MNIST Dataset\n",
    "\n",
    "Before we begin the attack, let's take a look at our data and the surrogate models we will be using for this notebook. First, you can see that the `xlab-security` packages provides you with `xlab.utils.load_mnist_test_samples` which you can use to load members of the MNIST handwritten digit test set."
   ]
  },
  {
   "cell_type": "code",
   "execution_count": 2,
   "id": "4a81fe26-05c6-487a-9314-36263572d1fe",
   "metadata": {},
   "outputs": [
    {
     "name": "stdout",
     "output_type": "stream",
     "text": [
      "Images shape: torch.Size([100, 1, 28, 28])\n",
      "Labels shape: torch.Size([100])\n"
     ]
    }
   ],
   "source": [
    "mnist_images, mnist_labels = xlab.utils.load_mnist_test_samples(100)\n",
    "print(f\"Images shape: {mnist_images.shape}\")\n",
    "print(f\"Labels shape: {mnist_labels.shape}\")"
   ]
  },
  {
   "cell_type": "markdown",
   "id": "03f9b959-2cb3-4c62-b45c-cffa94191e07",
   "metadata": {},
   "source": [
    "We also provide you with `xlab.utils.show_grayscale_image` to plot MNIST images. You can change the `image_index` below to explore different images in the dataset."
   ]
  },
  {
   "cell_type": "code",
   "execution_count": 3,
   "id": "6bc8a799-3d2d-4784-912d-5b62f7129d8e",
   "metadata": {},
   "outputs": [
    {
     "data": {
      "image/png": "[encoded data removed]",
      "text/plain": [
       "<Figure size 300x300 with 1 Axes>"
      ]
     },
     "metadata": {},
     "output_type": "display_data"
    }
   ],
   "source": [
    "image_index = 0\n",
    "xlab.utils.show_grayscale_image(mnist_images[image_index], title=f\"label={mnist_labels[image_index]}\")"
   ]
  },
  {
   "cell_type": "markdown",
   "id": "6ce44c9c-64a5-4467-91a8-bfdfc69ccdfe",
   "metadata": {},
   "source": [
    "## Loading White-Box Models\n",
    "\n",
    "Next let's load the models that we will use to generate our transferable adversarial examples. We will be using a diverse set of models:\n",
    "\n",
    "1. **A Resnet model**, similar to the MiniWideResnet model you used in previous sections.\n",
    "   * Test set accuracy: 97.61%\n",
    "3. **A CNN model**, which is a simple model that has three convolutional layers and three dense layers.\n",
    "   * Test set accuracy: 96.74%\n",
    "5. **A MLP model** which contains three standard fully connected layers.\n",
    "   * Test set accuracy: 94.27%\n",
    "\n",
    "Code for how we trained each of these models can be found [here](https://github.com/zroe1/xlab-ai-security/tree/main/models/MNIST_ensemble). To load the models on your computer, you can run the cells below."
   ]
  },
  {
   "cell_type": "code",
   "execution_count": 4,
   "id": "8ee07b06-e795-433e-959a-95b3e913a403",
   "metadata": {},
   "outputs": [],
   "source": [
    "from huggingface_hub import hf_hub_download\n",
    "from xlab.models import ConvolutionalMNIST, ResNetMNIST, BasicBlockMNIST, FeedforwardMNIST\n",
    "\n",
    "model_path = hf_hub_download(\n",
    "    repo_id=\"uchicago-xlab-ai-security/mnist-ensemble\",\n",
    "    filename=\"mnist_wideresnet.pth\"\n",
    ")\n",
    "white_box1 = torch.load(model_path, map_location=device, weights_only=False)\n",
    "\n",
    "\n",
    "model_path = hf_hub_download(\n",
    "    repo_id=\"uchicago-xlab-ai-security/mnist-ensemble\",\n",
    "    filename=\"mnist_simple_cnn.pth\"\n",
    ")\n",
    "white_box2 = torch.load(model_path, map_location=device, weights_only=False)\n",
    "\n",
    "\n",
    "model_path = hf_hub_download(\n",
    "    repo_id=\"uchicago-xlab-ai-security/mnist-ensemble\",\n",
    "    filename=\"mnist_mlp.pth\"\n",
    ")\n",
    "white_box3 = torch.load(model_path, map_location=device, weights_only=False)\n"
   ]
  },
  {
   "cell_type": "markdown",
   "id": "1e1f7c1d-af78-46a1-944d-253ba8e1e4c7",
   "metadata": {},
   "source": [
    "## Loading Black-Box Models\n",
    "\n",
    "Now we can load our black box model which we will attempt to attack in this notebook. You will interact with this model through our python package and you wont be able to see anything about the model architecture. You will be able to only call `model.predict` to get model predictions for a set of images and `model.predict_proba` to get model probabilities for a set of images."
   ]
  },
  {
   "cell_type": "code",
   "execution_count": 5,
   "id": "2cd8d021-5440-452b-b54c-7d8d8b30f4e6",
   "metadata": {},
   "outputs": [
    {
     "name": "stdout",
     "output_type": "stream",
     "text": [
      "predictions=tensor([7, 2, 1, 0, 4, 1, 4, 9, 6, 9, 0, 2, 9, 0, 1, 5, 9, 7, 3, 4, 9, 6, 6, 5,\n",
      "        4, 0, 7, 4, 0, 1, 3, 1, 3, 0, 7, 2, 7, 1, 3, 1, 1, 7, 4, 2, 3, 5, 1, 2,\n",
      "        4, 4, 6, 3, 5, 5, 6, 0, 4, 1, 9, 5, 7, 8, 4, 3, 7, 4, 2, 4, 3, 0, 7, 0,\n",
      "        2, 7, 1, 7, 3, 2, 9, 7, 7, 6, 2, 7, 8, 4, 7, 3, 6, 1, 3, 6, 4, 3, 1, 4,\n",
      "        1, 7, 6, 9])\n",
      "probabilities.shape=torch.Size([100, 10])\n"
     ]
    }
   ],
   "source": [
    "import xlab\n",
    "from xlab.models import BlackBox\n",
    "\n",
    "# Load the black box model (downloads automatically)\n",
    "model = xlab.utils.load_black_box_model('mnist-black-box')\n",
    "\n",
    "# Make predictions (model details are hidden)\n",
    "predictions = model.predict(mnist_images)\n",
    "probabilities = model.predict_proba(mnist_images)\n",
    "\n",
    "print(f\"predictions={predictions}\")\n",
    "print(f\"probabilities.shape={probabilities.shape}\")"
   ]
  },
  {
   "cell_type": "markdown",
   "id": "bd3f91cd-cbe9-46a9-8bfe-770da6b79795",
   "metadata": {},
   "source": [
    "## Task #1: Ensemble Loss\n",
    "\n",
    "Given an array of $k$ alpha values and $k$ models you will give the weighted cross entropy loss by the following equation:\n",
    "\n",
    "$$\n",
    "\\mathrm{argmin}_\\delta \\  \\  D(\\delta) + \\sum_{i=1}^k \\alpha_i \\cdot \\ell_i(x + \\delta)\n",
    "$$"
   ]
  },
  {
   "cell_type": "code",
   "execution_count": 6,
   "id": "f1dd12db-3209-4aee-bd14-49a29e934584",
   "metadata": {},
   "outputs": [],
   "source": [
    "def ensemble_loss(alphas, models, img, target):\n",
    "    loss = torch.tensor(0.0).to(device)\n",
    "    loss_fn = torch.nn.CrossEntropyLoss()\n",
    "\n",
    "    for alpha, model in zip(alphas, models):\n",
    "        out = model(img)\n",
    "        model_loss = loss_fn(out, target)\n",
    "        loss += alpha * model_loss\n",
    "        # print(model_loss)\n",
    "\n",
    "    return loss"
   ]
  },
  {
   "cell_type": "code",
   "execution_count": 7,
   "id": "0976138a-d292-4f9b-9332-38d2112356c2",
   "metadata": {},
   "outputs": [],
   "source": [
    "img = mnist_images[0:1].to(device)\n",
    "alphas = [1/3, 1/3, 1/3]\n",
    "models = [white_box1, white_box2, white_box3]\n",
    "\n",
    "example_loss = ensemble_loss(alphas, models, img, torch.tensor([0]).to(device))"
   ]
  },
  {
   "cell_type": "markdown",
   "id": "cecc8fab-33cc-4b10-8332-8ed79436ed5f",
   "metadata": {},
   "source": [
    "## Task #2: Ensemble Attack\n",
    "\n",
    "Now you should be in a good position to complete the ensemble attack. This is exactly the same as PGD, but instead of using a typical loss like Cross Entropy, you will be using the ensemble loss you implemented in `Task #1`. Note that in the original paper, the authors implement something more similar to Carlini-Wagner with a hyperparameter $\\lambda$ which controls how much the distance metric is weighted in the final loss. For simplicity and compatibility with our tests you should use the update rule below:\n",
    "\n",
    "$$\n",
    "x'_i = x + \\mathrm{clip}_\\epsilon(\\alpha \\cdot \\mathrm{sign}(\\nabla \\mathrm{ensemble\\_loss}_{F,t}(x'_{i-1})))\n",
    "$$\n",
    "\n",
    "For the purpose of not making this too difficult, we have allowed a very high $\\epsilon$ value. While one may exect $\\epsilon=28/255$ to yeild some absurd results, in practice this is somewhat reasonable because of the high-contrast nature of the dataset. Also, because it is a gray-scale image, there are fewer pixel values to work with so the total distance of the purturbation (if you take the absolute value and sum) will be comparable to (probably less than) $\\epsilon=12/255$ for a color image.\n",
    "\n",
    "<b>Note:</b> You may use our solution to the clip function from the PGD notebook by calling `xlab.utils.clip`. You can also implement this functionality again within this notebook if you prefer."
   ]
  },
  {
   "cell_type": "code",
   "execution_count": 35,
   "id": "61ae2c59-eac0-4ab1-8078-03512f2c52a0",
   "metadata": {
    "scrolled": true
   },
   "outputs": [
    {
     "name": "stdout",
     "output_type": "stream",
     "text": [
      "tensor(8.4048, device='mps:0', grad_fn=<AddBackward0>)\n",
      "tensor(7.6266, device='mps:0', grad_fn=<AddBackward0>)\n",
      "tensor(6.7506, device='mps:0', grad_fn=<AddBackward0>)\n",
      "tensor(5.8986, device='mps:0', grad_fn=<AddBackward0>)\n",
      "tensor(5.1280, device='mps:0', grad_fn=<AddBackward0>)\n",
      "tensor(4.4790, device='mps:0', grad_fn=<AddBackward0>)\n",
      "tensor(3.9689, device='mps:0', grad_fn=<AddBackward0>)\n",
      "tensor(3.5822, device='mps:0', grad_fn=<AddBackward0>)\n",
      "tensor(3.2758, device='mps:0', grad_fn=<AddBackward0>)\n",
      "tensor(2.9847, device='mps:0', grad_fn=<AddBackward0>)\n",
      "tensor(2.8864, device='mps:0', grad_fn=<AddBackward0>)\n",
      "tensor(2.8170, device='mps:0', grad_fn=<AddBackward0>)\n",
      "tensor(2.6653, device='mps:0', grad_fn=<AddBackward0>)\n",
      "tensor(2.4787, device='mps:0', grad_fn=<AddBackward0>)\n",
      "tensor(2.3550, device='mps:0', grad_fn=<AddBackward0>)\n",
      "tensor(2.2017, device='mps:0', grad_fn=<AddBackward0>)\n",
      "tensor(2.0672, device='mps:0', grad_fn=<AddBackward0>)\n",
      "tensor(1.9841, device='mps:0', grad_fn=<AddBackward0>)\n",
      "tensor(1.9137, device='mps:0', grad_fn=<AddBackward0>)\n",
      "tensor(1.8554, device='mps:0', grad_fn=<AddBackward0>)\n",
      "tensor(1.8125, device='mps:0', grad_fn=<AddBackward0>)\n",
      "tensor(1.7761, device='mps:0', grad_fn=<AddBackward0>)\n",
      "tensor(1.7539, device='mps:0', grad_fn=<AddBackward0>)\n",
      "tensor(1.7222, device='mps:0', grad_fn=<AddBackward0>)\n",
      "tensor(1.7112, device='mps:0', grad_fn=<AddBackward0>)\n",
      "tensor(1.6901, device='mps:0', grad_fn=<AddBackward0>)\n",
      "tensor(1.6750, device='mps:0', grad_fn=<AddBackward0>)\n",
      "tensor(1.6648, device='mps:0', grad_fn=<AddBackward0>)\n",
      "tensor(1.6583, device='mps:0', grad_fn=<AddBackward0>)\n",
      "tensor(1.6498, device='mps:0', grad_fn=<AddBackward0>)\n",
      "tensor(1.6424, device='mps:0', grad_fn=<AddBackward0>)\n",
      "tensor(1.6390, device='mps:0', grad_fn=<AddBackward0>)\n",
      "tensor(1.6355, device='mps:0', grad_fn=<AddBackward0>)\n",
      "tensor(1.6218, device='mps:0', grad_fn=<AddBackward0>)\n",
      "tensor(1.6209, device='mps:0', grad_fn=<AddBackward0>)\n",
      "tensor(1.6158, device='mps:0', grad_fn=<AddBackward0>)\n",
      "tensor(1.6162, device='mps:0', grad_fn=<AddBackward0>)\n",
      "tensor(1.6032, device='mps:0', grad_fn=<AddBackward0>)\n",
      "tensor(1.6020, device='mps:0', grad_fn=<AddBackward0>)\n",
      "tensor(1.5884, device='mps:0', grad_fn=<AddBackward0>)\n",
      "tensor(1.5859, device='mps:0', grad_fn=<AddBackward0>)\n",
      "tensor(1.5772, device='mps:0', grad_fn=<AddBackward0>)\n",
      "tensor(1.5782, device='mps:0', grad_fn=<AddBackward0>)\n",
      "tensor(1.5719, device='mps:0', grad_fn=<AddBackward0>)\n",
      "tensor(1.5715, device='mps:0', grad_fn=<AddBackward0>)\n",
      "tensor(1.5684, device='mps:0', grad_fn=<AddBackward0>)\n",
      "tensor(1.5651, device='mps:0', grad_fn=<AddBackward0>)\n",
      "tensor(1.5669, device='mps:0', grad_fn=<AddBackward0>)\n",
      "tensor(1.5607, device='mps:0', grad_fn=<AddBackward0>)\n",
      "tensor(1.5642, device='mps:0', grad_fn=<AddBackward0>)\n"
     ]
    }
   ],
   "source": [
    "def ensemble_attack_PGD(alphas, models, img, target, epsilon=28/255, alpha=3/255, num_iters=50):\n",
    "    img_original = img.clone()\n",
    "    # adv_img = img.clone()\n",
    "    adv_img = xlab.utils.add_noise(img)\n",
    "\n",
    "    for _ in range(num_iters):\n",
    "        adv_img.requires_grad=True\n",
    "        loss = ensemble_loss(alphas, models, adv_img, target)\n",
    "        loss.backward()\n",
    "        print(loss)\n",
    "\n",
    "        grad = adv_img.grad.data\n",
    "        # print(grad)\n",
    "        adv_img.requires_grad_(False)\n",
    "        adv_img -= alpha * torch.sign(grad)\n",
    "        adv_img = xlab.utils.clip(adv_img, img_original, epsilon)\n",
    "\n",
    "    return adv_img\n",
    "\n",
    "img = mnist_images[2:3].to(device)\n",
    "adv_img = ensemble_attack_PGD(alphas, models, img, torch.tensor([2]).to(device))"
   ]
  },
  {
   "cell_type": "code",
   "execution_count": 36,
   "id": "2923dba4-1f07-4829-9c52-bd80eeb846db",
   "metadata": {
    "scrolled": true
   },
   "outputs": [
    {
     "name": "stdout",
     "output_type": "stream",
     "text": [
      "tensor(12.9572, device='mps:0', grad_fn=<AddBackward0>)\n",
      "tensor(11.9901, device='mps:0', grad_fn=<AddBackward0>)\n",
      "tensor(10.9585, device='mps:0', grad_fn=<AddBackward0>)\n",
      "tensor(9.8587, device='mps:0', grad_fn=<AddBackward0>)\n",
      "tensor(8.6614, device='mps:0', grad_fn=<AddBackward0>)\n",
      "tensor(7.4661, device='mps:0', grad_fn=<AddBackward0>)\n",
      "tensor(6.2270, device='mps:0', grad_fn=<AddBackward0>)\n",
      "tensor(5.3904, device='mps:0', grad_fn=<AddBackward0>)\n",
      "tensor(4.8147, device='mps:0', grad_fn=<AddBackward0>)\n",
      "tensor(4.2426, device='mps:0', grad_fn=<AddBackward0>)\n",
      "tensor(3.8916, device='mps:0', grad_fn=<AddBackward0>)\n",
      "tensor(3.6686, device='mps:0', grad_fn=<AddBackward0>)\n",
      "tensor(3.4590, device='mps:0', grad_fn=<AddBackward0>)\n",
      "tensor(3.2634, device='mps:0', grad_fn=<AddBackward0>)\n",
      "tensor(3.1137, device='mps:0', grad_fn=<AddBackward0>)\n",
      "tensor(3.0113, device='mps:0', grad_fn=<AddBackward0>)\n",
      "tensor(2.9380, device='mps:0', grad_fn=<AddBackward0>)\n",
      "tensor(2.8884, device='mps:0', grad_fn=<AddBackward0>)\n",
      "tensor(2.8569, device='mps:0', grad_fn=<AddBackward0>)\n",
      "tensor(2.8278, device='mps:0', grad_fn=<AddBackward0>)\n",
      "tensor(2.8039, device='mps:0', grad_fn=<AddBackward0>)\n",
      "tensor(2.7804, device='mps:0', grad_fn=<AddBackward0>)\n",
      "tensor(2.7577, device='mps:0', grad_fn=<AddBackward0>)\n",
      "tensor(2.7366, device='mps:0', grad_fn=<AddBackward0>)\n",
      "tensor(2.7266, device='mps:0', grad_fn=<AddBackward0>)\n",
      "tensor(2.7192, device='mps:0', grad_fn=<AddBackward0>)\n",
      "tensor(2.7147, device='mps:0', grad_fn=<AddBackward0>)\n",
      "tensor(2.7100, device='mps:0', grad_fn=<AddBackward0>)\n",
      "tensor(2.7056, device='mps:0', grad_fn=<AddBackward0>)\n",
      "tensor(2.7030, device='mps:0', grad_fn=<AddBackward0>)\n",
      "tensor(2.7023, device='mps:0', grad_fn=<AddBackward0>)\n",
      "tensor(2.7008, device='mps:0', grad_fn=<AddBackward0>)\n",
      "tensor(2.6990, device='mps:0', grad_fn=<AddBackward0>)\n",
      "tensor(2.6968, device='mps:0', grad_fn=<AddBackward0>)\n",
      "tensor(2.6962, device='mps:0', grad_fn=<AddBackward0>)\n",
      "tensor(2.6964, device='mps:0', grad_fn=<AddBackward0>)\n",
      "tensor(2.6953, device='mps:0', grad_fn=<AddBackward0>)\n",
      "tensor(2.6952, device='mps:0', grad_fn=<AddBackward0>)\n",
      "tensor(2.6948, device='mps:0', grad_fn=<AddBackward0>)\n",
      "tensor(2.6952, device='mps:0', grad_fn=<AddBackward0>)\n",
      "tensor(2.6943, device='mps:0', grad_fn=<AddBackward0>)\n",
      "tensor(2.6945, device='mps:0', grad_fn=<AddBackward0>)\n",
      "tensor(2.6933, device='mps:0', grad_fn=<AddBackward0>)\n",
      "tensor(2.6945, device='mps:0', grad_fn=<AddBackward0>)\n",
      "tensor(2.6929, device='mps:0', grad_fn=<AddBackward0>)\n",
      "tensor(2.6936, device='mps:0', grad_fn=<AddBackward0>)\n",
      "tensor(2.6924, device='mps:0', grad_fn=<AddBackward0>)\n",
      "tensor(2.6930, device='mps:0', grad_fn=<AddBackward0>)\n",
      "tensor(2.6919, device='mps:0', grad_fn=<AddBackward0>)\n",
      "tensor(2.6925, device='mps:0', grad_fn=<AddBackward0>)\n"
     ]
    },
    {
     "data": {
      "image/png": "[encoded data removed]",
      "text/plain": [
       "<Figure size 300x300 with 1 Axes>"
      ]
     },
     "metadata": {},
     "output_type": "display_data"
    },
    {
     "name": "stdout",
     "output_type": "stream",
     "text": [
      "tensor([3])\n"
     ]
    }
   ],
   "source": [
    "img = mnist_images[0:1].to(device)\n",
    "adv_img = ensemble_attack_PGD(alphas, models, img, torch.tensor([8]).to(device))\n",
    "xlab.utils.show_grayscale_image(adv_img[0])\n",
    "predictions = model.predict(adv_img)\n",
    "print(predictions)"
   ]
  },
  {
   "cell_type": "code",
   "execution_count": 37,
   "id": "27f15e03-33fb-4594-b878-b63ed5452a9c",
   "metadata": {
    "scrolled": true
   },
   "outputs": [
    {
     "name": "stdout",
     "output_type": "stream",
     "text": [
      "tensor(11.6191, device='mps:0', grad_fn=<AddBackward0>)\n",
      "tensor(10.9355, device='mps:0', grad_fn=<AddBackward0>)\n",
      "tensor(10.1944, device='mps:0', grad_fn=<AddBackward0>)\n",
      "tensor(9.5048, device='mps:0', grad_fn=<AddBackward0>)\n",
      "tensor(8.8643, device='mps:0', grad_fn=<AddBackward0>)\n",
      "tensor(8.1980, device='mps:0', grad_fn=<AddBackward0>)\n",
      "tensor(7.4779, device='mps:0', grad_fn=<AddBackward0>)\n",
      "tensor(6.7716, device='mps:0', grad_fn=<AddBackward0>)\n",
      "tensor(6.0894, device='mps:0', grad_fn=<AddBackward0>)\n",
      "tensor(5.5029, device='mps:0', grad_fn=<AddBackward0>)\n",
      "tensor(5.2242, device='mps:0', grad_fn=<AddBackward0>)\n",
      "tensor(5.1060, device='mps:0', grad_fn=<AddBackward0>)\n",
      "tensor(5.0075, device='mps:0', grad_fn=<AddBackward0>)\n",
      "tensor(4.9228, device='mps:0', grad_fn=<AddBackward0>)\n",
      "tensor(4.8338, device='mps:0', grad_fn=<AddBackward0>)\n",
      "tensor(4.7522, device='mps:0', grad_fn=<AddBackward0>)\n",
      "tensor(4.6991, device='mps:0', grad_fn=<AddBackward0>)\n",
      "tensor(4.6452, device='mps:0', grad_fn=<AddBackward0>)\n",
      "tensor(4.6070, device='mps:0', grad_fn=<AddBackward0>)\n",
      "tensor(4.5747, device='mps:0', grad_fn=<AddBackward0>)\n",
      "tensor(4.5461, device='mps:0', grad_fn=<AddBackward0>)\n",
      "tensor(4.5277, device='mps:0', grad_fn=<AddBackward0>)\n",
      "tensor(4.5045, device='mps:0', grad_fn=<AddBackward0>)\n",
      "tensor(4.4791, device='mps:0', grad_fn=<AddBackward0>)\n",
      "tensor(4.4698, device='mps:0', grad_fn=<AddBackward0>)\n",
      "tensor(4.4524, device='mps:0', grad_fn=<AddBackward0>)\n",
      "tensor(4.4447, device='mps:0', grad_fn=<AddBackward0>)\n",
      "tensor(4.4260, device='mps:0', grad_fn=<AddBackward0>)\n",
      "tensor(4.4296, device='mps:0', grad_fn=<AddBackward0>)\n",
      "tensor(4.4221, device='mps:0', grad_fn=<AddBackward0>)\n",
      "tensor(4.4135, device='mps:0', grad_fn=<AddBackward0>)\n",
      "tensor(4.4090, device='mps:0', grad_fn=<AddBackward0>)\n",
      "tensor(4.3998, device='mps:0', grad_fn=<AddBackward0>)\n",
      "tensor(4.3982, device='mps:0', grad_fn=<AddBackward0>)\n",
      "tensor(4.3981, device='mps:0', grad_fn=<AddBackward0>)\n",
      "tensor(4.3851, device='mps:0', grad_fn=<AddBackward0>)\n",
      "tensor(4.3903, device='mps:0', grad_fn=<AddBackward0>)\n",
      "tensor(4.3815, device='mps:0', grad_fn=<AddBackward0>)\n",
      "tensor(4.3830, device='mps:0', grad_fn=<AddBackward0>)\n",
      "tensor(4.3817, device='mps:0', grad_fn=<AddBackward0>)\n",
      "tensor(4.3742, device='mps:0', grad_fn=<AddBackward0>)\n",
      "tensor(4.3782, device='mps:0', grad_fn=<AddBackward0>)\n",
      "tensor(4.3694, device='mps:0', grad_fn=<AddBackward0>)\n",
      "tensor(4.3688, device='mps:0', grad_fn=<AddBackward0>)\n",
      "tensor(4.3695, device='mps:0', grad_fn=<AddBackward0>)\n",
      "tensor(4.3674, device='mps:0', grad_fn=<AddBackward0>)\n",
      "tensor(4.3650, device='mps:0', grad_fn=<AddBackward0>)\n",
      "tensor(4.3527, device='mps:0', grad_fn=<AddBackward0>)\n",
      "tensor(4.3555, device='mps:0', grad_fn=<AddBackward0>)\n",
      "tensor(4.3529, device='mps:0', grad_fn=<AddBackward0>)\n"
     ]
    },
    {
     "data": {
      "image/png": "[encoded data removed]",
      "text/plain": [
       "<Figure size 300x300 with 1 Axes>"
      ]
     },
     "metadata": {},
     "output_type": "display_data"
    },
    {
     "name": "stdout",
     "output_type": "stream",
     "text": [
      "tensor([7])\n"
     ]
    }
   ],
   "source": [
    "img = mnist_images[4:5].to(device)\n",
    "adv_img = ensemble_attack_PGD(alphas, models, img, torch.tensor([7]).to(device))\n",
    "xlab.utils.show_grayscale_image(adv_img[0])\n",
    "predictions = model.predict(adv_img)\n",
    "print(predictions)"
   ]
  },
  {
   "cell_type": "code",
   "execution_count": 38,
   "id": "f2c2cb09-5fe5-4dcc-a3d1-970473aa2ea6",
   "metadata": {},
   "outputs": [
    {
     "name": "stdout",
     "output_type": "stream",
     "text": [
      "tensor(12.1788, device='mps:0', grad_fn=<AddBackward0>)\n",
      "tensor(11.4449, device='mps:0', grad_fn=<AddBackward0>)\n",
      "tensor(10.6826, device='mps:0', grad_fn=<AddBackward0>)\n",
      "tensor(9.9585, device='mps:0', grad_fn=<AddBackward0>)\n",
      "tensor(9.3166, device='mps:0', grad_fn=<AddBackward0>)\n",
      "tensor(8.7775, device='mps:0', grad_fn=<AddBackward0>)\n",
      "tensor(8.2304, device='mps:0', grad_fn=<AddBackward0>)\n",
      "tensor(7.6381, device='mps:0', grad_fn=<AddBackward0>)\n",
      "tensor(6.9833, device='mps:0', grad_fn=<AddBackward0>)\n",
      "tensor(6.1947, device='mps:0', grad_fn=<AddBackward0>)\n",
      "tensor(5.7359, device='mps:0', grad_fn=<AddBackward0>)\n",
      "tensor(5.5034, device='mps:0', grad_fn=<AddBackward0>)\n",
      "tensor(5.3254, device='mps:0', grad_fn=<AddBackward0>)\n",
      "tensor(5.1426, device='mps:0', grad_fn=<AddBackward0>)\n",
      "tensor(5.0393, device='mps:0', grad_fn=<AddBackward0>)\n",
      "tensor(4.9233, device='mps:0', grad_fn=<AddBackward0>)\n",
      "tensor(4.8605, device='mps:0', grad_fn=<AddBackward0>)\n",
      "tensor(4.7669, device='mps:0', grad_fn=<AddBackward0>)\n",
      "tensor(4.7365, device='mps:0', grad_fn=<AddBackward0>)\n",
      "tensor(4.6549, device='mps:0', grad_fn=<AddBackward0>)\n",
      "tensor(4.6305, device='mps:0', grad_fn=<AddBackward0>)\n",
      "tensor(4.5565, device='mps:0', grad_fn=<AddBackward0>)\n",
      "tensor(4.5592, device='mps:0', grad_fn=<AddBackward0>)\n",
      "tensor(4.5195, device='mps:0', grad_fn=<AddBackward0>)\n",
      "tensor(4.5164, device='mps:0', grad_fn=<AddBackward0>)\n",
      "tensor(4.4621, device='mps:0', grad_fn=<AddBackward0>)\n",
      "tensor(4.4461, device='mps:0', grad_fn=<AddBackward0>)\n",
      "tensor(4.4051, device='mps:0', grad_fn=<AddBackward0>)\n",
      "tensor(4.4020, device='mps:0', grad_fn=<AddBackward0>)\n",
      "tensor(4.3632, device='mps:0', grad_fn=<AddBackward0>)\n",
      "tensor(4.3661, device='mps:0', grad_fn=<AddBackward0>)\n",
      "tensor(4.3216, device='mps:0', grad_fn=<AddBackward0>)\n",
      "tensor(4.3261, device='mps:0', grad_fn=<AddBackward0>)\n",
      "tensor(4.3207, device='mps:0', grad_fn=<AddBackward0>)\n",
      "tensor(4.3201, device='mps:0', grad_fn=<AddBackward0>)\n",
      "tensor(4.3160, device='mps:0', grad_fn=<AddBackward0>)\n",
      "tensor(4.3329, device='mps:0', grad_fn=<AddBackward0>)\n",
      "tensor(4.2940, device='mps:0', grad_fn=<AddBackward0>)\n",
      "tensor(4.3118, device='mps:0', grad_fn=<AddBackward0>)\n",
      "tensor(4.2721, device='mps:0', grad_fn=<AddBackward0>)\n",
      "tensor(4.3035, device='mps:0', grad_fn=<AddBackward0>)\n",
      "tensor(4.2627, device='mps:0', grad_fn=<AddBackward0>)\n",
      "tensor(4.2881, device='mps:0', grad_fn=<AddBackward0>)\n",
      "tensor(4.2679, device='mps:0', grad_fn=<AddBackward0>)\n",
      "tensor(4.2962, device='mps:0', grad_fn=<AddBackward0>)\n",
      "tensor(4.2716, device='mps:0', grad_fn=<AddBackward0>)\n",
      "tensor(4.3145, device='mps:0', grad_fn=<AddBackward0>)\n",
      "tensor(4.2672, device='mps:0', grad_fn=<AddBackward0>)\n",
      "tensor(4.3098, device='mps:0', grad_fn=<AddBackward0>)\n",
      "tensor(4.2662, device='mps:0', grad_fn=<AddBackward0>)\n"
     ]
    },
    {
     "data": {
      "image/png": "[encoded data removed]",
      "text/plain": [
       "<Figure size 300x300 with 1 Axes>"
      ]
     },
     "metadata": {},
     "output_type": "display_data"
    },
    {
     "name": "stdout",
     "output_type": "stream",
     "text": [
      "tensor([3])\n"
     ]
    }
   ],
   "source": [
    "img = mnist_images[5:6].to(device)\n",
    "adv_img = ensemble_attack_PGD(alphas, models, img, torch.tensor([3]).to(device))\n",
    "xlab.utils.show_grayscale_image(adv_img[0])\n",
    "predictions = model.predict(adv_img)\n",
    "print(predictions)"
   ]
  },
  {
   "cell_type": "code",
   "execution_count": 62,
   "id": "9ef6091d-6679-409c-abd0-03dc7b825dc3",
   "metadata": {},
   "outputs": [],
   "source": [
    "predictions = model.predict(adv_img)"
   ]
  },
  {
   "cell_type": "code",
   "execution_count": 63,
   "id": "b3aaf86d-f404-4daf-8cad-8e4619b3513a",
   "metadata": {},
   "outputs": [
    {
     "data": {
      "text/plain": [
       "tensor([2])"
      ]
     },
     "execution_count": 63,
     "metadata": {},
     "output_type": "execute_result"
    }
   ],
   "source": [
    "predictions"
   ]
  },
  {
   "cell_type": "code",
   "execution_count": null,
   "id": "b0e898a4-749d-464c-b3ae-1a8e3297be51",
   "metadata": {},
   "outputs": [],
   "source": []
  },
  {
   "cell_type": "code",
   "execution_count": 12,
   "id": "63cd4464-83ac-4b32-8e5e-228349c2b930",
   "metadata": {},
   "outputs": [
    {
     "data": {
      "text/plain": [
       "torch.Size([1, 1, 28, 28])"
      ]
     },
     "execution_count": 12,
     "metadata": {},
     "output_type": "execute_result"
    }
   ],
   "source": [
    "img.shape"
   ]
  },
  {
   "cell_type": "code",
   "execution_count": 12,
   "id": "9e4175ad-6cfb-44db-beb7-5463a4c6b223",
   "metadata": {},
   "outputs": [
    {
     "data": {
      "text/plain": [
       "<matplotlib.image.AxesImage at 0x166ab5590>"
      ]
     },
     "execution_count": 12,
     "metadata": {},
     "output_type": "execute_result"
    },
    {
     "data": {
      "image/png": "[encoded data removed]",
      "text/plain": [
       "<Figure size 640x480 with 1 Axes>"
      ]
     },
     "metadata": {},
     "output_type": "display_data"
    }
   ],
   "source": [
    "plt.imshow(mnist_images[0][0])"
   ]
  },
  {
   "cell_type": "code",
   "execution_count": 3,
   "id": "24df4d28-6d04-44f7-a6cb-8a565c3f0aa5",
   "metadata": {},
   "outputs": [
    {
     "data": {
      "application/vnd.jupyter.widget-view+json": {
       "model_id": "4077bd7045d64ed1b9ef0e5bba41b73c",
       "version_major": 2,
       "version_minor": 0
      },
      "text/plain": [
       "mnist_simple_cnn.pth:   0%|          | 0.00/432k [00:00<?, ?B/s]"
      ]
     },
     "metadata": {},
     "output_type": "display_data"
    }
   ],
   "source": [
    "from huggingface_hub import hf_hub_download\n",
    "from xlab.models import ConvolutionalMNIST\n",
    "\n",
    "# https://huggingface.co/uchicago-xlab-ai-security/tiny-wideresnet-cifar10\n",
    "model_path = hf_hub_download(\n",
    "    repo_id=\"uchicago-xlab-ai-security/mnist-ensemble\",\n",
    "    filename=\"mnist_simple_cnn.pth\"\n",
    ")\n",
    "model = torch.load(model_path, map_location='cpu', weights_only=False)\n",
    "_ = model.eval()"
   ]
  },
  {
   "cell_type": "code",
   "execution_count": 3,
   "id": "90e0ccc2-ab6f-46dd-b1fe-47df1c6c0086",
   "metadata": {},
   "outputs": [
    {
     "ename": "NameError",
     "evalue": "name 'model' is not defined",
     "output_type": "error",
     "traceback": [
      "\u001b[31m---------------------------------------------------------------------------\u001b[39m",
      "\u001b[31mNameError\u001b[39m                                 Traceback (most recent call last)",
      "\u001b[36mCell\u001b[39m\u001b[36m \u001b[39m\u001b[32mIn[3]\u001b[39m\u001b[32m, line 1\u001b[39m\n\u001b[32m----> \u001b[39m\u001b[32m1\u001b[39m model(mnist_images[\u001b[32m0\u001b[39m:\u001b[32m1\u001b[39m])\n",
      "\u001b[31mNameError\u001b[39m: name 'model' is not defined"
     ]
    }
   ],
   "source": [
    "model(mnist_images[0:1])"
   ]
  },
  {
   "cell_type": "code",
   "execution_count": 4,
   "id": "c96ea32b-a13f-4164-9ab1-610ae2f3309c",
   "metadata": {},
   "outputs": [
    {
     "data": {
      "application/vnd.jupyter.widget-view+json": {
       "model_id": "ea358bf32ee64223b8728dad85031766",
       "version_major": 2,
       "version_minor": 0
      },
      "text/plain": [
       "mnist_wideresnet.pth:   0%|          | 0.00/693k [00:00<?, ?B/s]"
      ]
     },
     "metadata": {},
     "output_type": "display_data"
    }
   ],
   "source": [
    "from huggingface_hub import hf_hub_download\n",
    "from xlab.models import ResNetMNIST, BasicBlockMNIST\n",
    "\n",
    "# https://huggingface.co/uchicago-xlab-ai-security/tiny-wideresnet-cifar10\n",
    "model_path = hf_hub_download(\n",
    "    repo_id=\"uchicago-xlab-ai-security/mnist-ensemble\",\n",
    "    filename=\"mnist_wideresnet.pth\"\n",
    ")\n",
    "model = torch.load(model_path, map_location='cpu', weights_only=False)\n",
    "_ = model.eval()\n"
   ]
  },
  {
   "cell_type": "code",
   "execution_count": 5,
   "id": "0fac03f8-29d9-4790-ab52-6b4d2672fabe",
   "metadata": {},
   "outputs": [
    {
     "data": {
      "text/plain": [
       "tensor([[-8.7614, -0.1434, -2.2696, -2.6548, -0.9835, -6.6371, -9.8690,  6.9030,\n",
       "         -8.5592,  0.1233]], grad_fn=<AddmmBackward0>)"
      ]
     },
     "execution_count": 5,
     "metadata": {},
     "output_type": "execute_result"
    }
   ],
   "source": [
    "model(mnist_images[0:1])"
   ]
  },
  {
   "cell_type": "code",
   "execution_count": 3,
   "id": "68c2d190-d7e6-43e1-a8a5-0478bf746c19",
   "metadata": {},
   "outputs": [
    {
     "data": {
      "application/vnd.jupyter.widget-view+json": {
       "model_id": "8548fdb3f8134f3ab520de0492f2a735",
       "version_major": 2,
       "version_minor": 0
      },
      "text/plain": [
       "mnist_mlp.pth:   0%|          | 0.00/166k [00:00<?, ?B/s]"
      ]
     },
     "metadata": {},
     "output_type": "display_data"
    }
   ],
   "source": [
    "from huggingface_hub import hf_hub_download\n",
    "from xlab.models import FeedforwardMNIST\n",
    "\n",
    "# https://huggingface.co/uchicago-xlab-ai-security/tiny-wideresnet-cifar10\n",
    "model_path = hf_hub_download(\n",
    "    repo_id=\"uchicago-xlab-ai-security/mnist-ensemble\",\n",
    "    filename=\"mnist_mlp.pth\"\n",
    ")\n",
    "model = torch.load(model_path, map_location='cpu', weights_only=False)\n",
    "_ = model.eval()"
   ]
  },
  {
   "cell_type": "code",
   "execution_count": 4,
   "id": "c8964bb5-bde5-491f-b7ec-2629772cda7c",
   "metadata": {},
   "outputs": [
    {
     "data": {
      "text/plain": [
       "tensor([[ -0.2652, -10.5678,   0.7676,   4.0928, -10.3465,   0.0514, -15.9896,\n",
       "           9.2350,  -2.0897,   2.2656]], grad_fn=<AddmmBackward0>)"
      ]
     },
     "execution_count": 4,
     "metadata": {},
     "output_type": "execute_result"
    }
   ],
   "source": [
    "model(mnist_images[0:1])"
   ]
  },
  {
   "cell_type": "code",
   "execution_count": null,
   "id": "f7109710-ee39-4beb-b4d2-f91c9b1ce4bf",
   "metadata": {},
   "outputs": [],
   "source": []
  }
 ],
 "metadata": {
  "kernelspec": {
   "display_name": "Python 3 (ipykernel)",
   "language": "python",
   "name": "python3"
  },
  "language_info": {
   "codemirror_mode": {
    "name": "ipython",
    "version": 3
   },
   "file_extension": ".py",
   "mimetype": "text/x-python",
   "name": "python",
   "nbconvert_exporter": "python",
   "pygments_lexer": "ipython3",
   "version": "3.11.11"
  }
 },
 "nbformat": 4,
 "nbformat_minor": 5
}
