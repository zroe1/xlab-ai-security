{
 "cells": [
  {
   "cell_type": "code",
   "execution_count": 1,
   "id": "29538cf5-91d0-465b-b2b8-70dbfe1173fc",
   "metadata": {},
   "outputs": [],
   "source": [
    "import torch\n",
    "import xlab\n",
    "import matplotlib.pyplot as plt\n",
    "\n",
    "device = xlab.utils.get_best_device()"
   ]
  },
  {
   "cell_type": "markdown",
   "id": "b634d506-6471-4390-978c-53fa4b3963a7",
   "metadata": {},
   "source": [
    "## Loading the MNIST Dataset\n",
    "\n",
    "Before we begin the attack, let's take a look at our data and the surrogate models we will be using for this notebook. First, you can see that the `xlab-security` packages provides you with `xlab.utils.load_mnist_test_samples` which you can use to load members of the MNIST handwritten digit test set."
   ]
  },
  {
   "cell_type": "code",
   "execution_count": 2,
   "id": "4a81fe26-05c6-487a-9314-36263572d1fe",
   "metadata": {},
   "outputs": [
    {
     "name": "stdout",
     "output_type": "stream",
     "text": [
      "Images shape: torch.Size([100, 1, 28, 28])\n",
      "Labels shape: torch.Size([100])\n"
     ]
    }
   ],
   "source": [
    "mnist_images, mnist_labels = xlab.utils.load_mnist_test_samples(100)\n",
    "print(f\"Images shape: {mnist_images.shape}\")\n",
    "print(f\"Labels shape: {mnist_labels.shape}\")"
   ]
  },
  {
   "cell_type": "markdown",
   "id": "03f9b959-2cb3-4c62-b45c-cffa94191e07",
   "metadata": {},
   "source": [
    "We also provide you with `xlab.utils.show_grayscale_image` to plot MNIST images. You can change the `image_index` below to explore different images in the dataset."
   ]
  },
  {
   "cell_type": "code",
   "execution_count": 3,
   "id": "6bc8a799-3d2d-4784-912d-5b62f7129d8e",
   "metadata": {},
   "outputs": [
    {
     "data": {
      "image/png": "[encoded data removed]",
      "text/plain": [
       "<Figure size 300x300 with 1 Axes>"
      ]
     },
     "metadata": {},
     "output_type": "display_data"
    }
   ],
   "source": [
    "image_index = 0\n",
    "xlab.utils.show_grayscale_image(mnist_images[image_index], title=f\"label={mnist_labels[image_index]}\")"
   ]
  },
  {
   "cell_type": "markdown",
   "id": "6ce44c9c-64a5-4467-91a8-bfdfc69ccdfe",
   "metadata": {},
   "source": [
    "## Loading White-Box Models\n",
    "\n",
    "Next let's load the models that we will use to generate our transferable adversarial examples. We will be using a diverse set of models:\n",
    "\n",
    "1. **A Resnet model**, similar to the MiniWideResnet model you used in previous sections.\n",
    "   * Test set accuracy: 97.61%\n",
    "3. **A CNN model**, which is a simple model that has three convolutional layers and three dense layers.\n",
    "   * Test set accuracy: 96.74%\n",
    "5. **A MLP model** which contains three standard fully connected layers.\n",
    "   * Test set accuracy: 94.27%\n",
    "\n",
    "Code for how we trained each of these models can be found [here](https://github.com/zroe1/xlab-ai-security/tree/main/models/MNIST_ensemble). To load the models on your computer, you can run the cells below."
   ]
  },
  {
   "cell_type": "code",
   "execution_count": 4,
   "id": "8ee07b06-e795-433e-959a-95b3e913a403",
   "metadata": {},
   "outputs": [],
   "source": [
    "from huggingface_hub import hf_hub_download\n",
    "from xlab.models import ConvolutionalMNIST, ResNetMNIST, BasicBlockMNIST, FeedforwardMNIST\n",
    "\n",
    "hf_path = \"uchicago-xlab-ai-security/mnist-ensemble\"\n",
    "\n",
    "# resnet model\n",
    "model_path = hf_hub_download(repo_id=hf_path, filename=\"mnist_wideresnet.pth\")\n",
    "white_box1 = torch.load(model_path, map_location=device, weights_only=False)\n",
    "\n",
    "# cnn model\n",
    "model_path = hf_hub_download(repo_id=hf_path, filename=\"mnist_simple_cnn.pth\")\n",
    "white_box2 = torch.load(model_path, map_location=device, weights_only=False)\n",
    "\n",
    "# mlp model\n",
    "model_path = hf_hub_download(repo_id=hf_path, filename=\"mnist_mlp.pth\")\n",
    "white_box3 = torch.load(model_path, map_location=device, weights_only=False)"
   ]
  },
  {
   "cell_type": "markdown",
   "id": "1e1f7c1d-af78-46a1-944d-253ba8e1e4c7",
   "metadata": {},
   "source": [
    "## Loading Black-Box Models\n",
    "\n",
    "Now we can load our black box model which we will attempt to attack in this notebook. You will interact with this model through our python package and you wont be able to see anything about the model architecture. You will be able to only call `model.predict` to get model predictions for a set of images and `model.predict_proba` to get model probabilities for a set of images."
   ]
  },
  {
   "cell_type": "code",
   "execution_count": 5,
   "id": "2cd8d021-5440-452b-b54c-7d8d8b30f4e6",
   "metadata": {},
   "outputs": [
    {
     "name": "stdout",
     "output_type": "stream",
     "text": [
      "predictions=tensor([7, 2, 1, 0, 4, 1, 4, 9, 6, 9, 0, 2, 9, 0, 1, 5, 9, 7, 3, 4, 9, 6, 6, 5,\n",
      "        4, 0, 7, 4, 0, 1, 3, 1, 3, 0, 7, 2, 7, 1, 3, 1, 1, 7, 4, 2, 3, 5, 1, 2,\n",
      "        4, 4, 6, 3, 5, 5, 6, 0, 4, 1, 9, 5, 7, 8, 4, 3, 7, 4, 2, 4, 3, 0, 7, 0,\n",
      "        2, 7, 1, 7, 3, 2, 9, 7, 7, 6, 2, 7, 8, 4, 7, 3, 6, 1, 3, 6, 4, 3, 1, 4,\n",
      "        1, 7, 6, 9])\n",
      "probabilities.shape=torch.Size([100, 10])\n"
     ]
    }
   ],
   "source": [
    "from xlab.models import BlackBox\n",
    "\n",
    "# Load the black box model (downloads automatically)\n",
    "black_box = xlab.utils.load_black_box_model('mnist-black-box')\n",
    "\n",
    "# Make predictions (model details are hidden)\n",
    "predictions = black_box.predict(mnist_images)\n",
    "probabilities = black_box.predict_proba(mnist_images)\n",
    "\n",
    "print(f\"predictions={predictions}\")\n",
    "print(f\"probabilities.shape={probabilities.shape}\")"
   ]
  },
  {
   "cell_type": "markdown",
   "id": "bd3f91cd-cbe9-46a9-8bfe-770da6b79795",
   "metadata": {},
   "source": [
    "## Task #1: Ensemble Loss\n",
    "\n",
    "Given an array of $k$ alpha values and $k$ models you will give the weighted cross entropy loss by the following equation:\n",
    "\n",
    "$$\n",
    "\\mathrm{argmin}_\\delta \\  \\  D(\\delta) + \\sum_{i=1}^k \\alpha_i \\cdot \\ell_i(x + \\delta)\n",
    "$$\n",
    "\n",
    "\n",
    "<details>\n",
    "<summary>🔐 <b>Solution for Task #1</b></summary>\n",
    "\n",
    "```python\n",
    "def ensemble_loss(alphas, models, img, target):\n",
    "    \"\"\"\n",
    "    Computes weighted ensemble loss across multiple models.\n",
    "\n",
    "    Args:\n",
    "        alphas (list): weight coefficients for each model in the ensemble\n",
    "        models (list): PyTorch models to compute ensemble loss over\n",
    "        img [1, 1, 28, 28]: input MNIST image tensor with batch dimension\n",
    "        target [1]: class label tensor containing single target class\n",
    "\n",
    "    Returns (Tensor): weighted sum of CrossEntropyLoss across all models\n",
    "    \"\"\"\n",
    "    \n",
    "    loss = torch.tensor(0.0).to(device)\n",
    "    loss_fn = torch.nn.CrossEntropyLoss()\n",
    "\n",
    "    # 1. iterate over alphas and models\n",
    "    for alpha, model in zip(alphas, models):\n",
    "\n",
    "        # 2. calculated weighted loss for each model\n",
    "        out = model(img)\n",
    "        model_loss = loss_fn(out, target)\n",
    "        loss += alpha * model_loss\n",
    "\n",
    "    return loss\n",
    "  \n",
    "```\n",
    "\n",
    "</details>\n"
   ]
  },
  {
   "cell_type": "code",
   "execution_count": 6,
   "id": "f1dd12db-3209-4aee-bd14-49a29e934584",
   "metadata": {},
   "outputs": [],
   "source": [
    "def ensemble_loss(alphas, models, img, target):\n",
    "    \"\"\"\n",
    "    Computes weighted ensemble loss across multiple models.\n",
    "\n",
    "    Args:\n",
    "        alphas (list): weight coefficients for each model in the ensemble\n",
    "        models (list): PyTorch models to compute ensemble loss over\n",
    "        img [1, 1, 28, 28]: input MNIST image tensor with batch dimension\n",
    "        target [1]: class label tensor containing single target class\n",
    "\n",
    "    Returns (Tensor): weighted sum of CrossEntropyLoss across all models\n",
    "    \"\"\"\n",
    "    \n",
    "    loss = torch.tensor(0.0).to(device)\n",
    "    loss_fn = torch.nn.CrossEntropyLoss()\n",
    "\n",
    "    ######### YOUR CODE STARTS HERE ######### \n",
    "    # 1. iterate over alphas and models\n",
    "    # 2. calculated weighted loss for each model\n",
    "    ########## YOUR CODE ENDS HERE ########## \n",
    "\n",
    "    return loss"
   ]
  },
  {
   "cell_type": "code",
   "execution_count": 7,
   "id": "0976138a-d292-4f9b-9332-38d2112356c2",
   "metadata": {},
   "outputs": [
    {
     "name": "stdout",
     "output_type": "stream",
     "text": [
      "[13.77052116394043, 15.317304611206055, 8.956832885742188, 7.667974948883057, 18.443864822387695, 14.074539184570312, 27.119890213012695, 0.0033627948723733425, 12.95663833618164, 8.222661018371582]\n",
      "\u001b[1m============================= test session starts ==============================\u001b[0m\n",
      "collected 15 items / 4 deselected / 11 selected\n",
      "\n",
      "\u001b[32mPASSED\u001b[0m\u001b[32m [  9%]\u001b[0mts/ensemble.py::test_mnist_class_0_loss \n",
      "\u001b[32mPASSED\u001b[0m\u001b[32m [ 18%]\u001b[0mts/ensemble.py::test_mnist_class_1_loss \n",
      "\u001b[32mPASSED\u001b[0m\u001b[32m [ 27%]\u001b[0mts/ensemble.py::test_mnist_class_2_loss \n",
      "\u001b[32mPASSED\u001b[0m\u001b[32m [ 36%]\u001b[0mts/ensemble.py::test_mnist_class_3_loss \n",
      "\u001b[32mPASSED\u001b[0m\u001b[32m [ 45%]\u001b[0mts/ensemble.py::test_mnist_class_4_loss \n",
      "\u001b[32mPASSED\u001b[0m\u001b[32m [ 54%]\u001b[0mts/ensemble.py::test_mnist_class_5_loss \n",
      "\u001b[32mPASSED\u001b[0m\u001b[32m [ 63%]\u001b[0mts/ensemble.py::test_mnist_class_6_loss \n",
      "\u001b[32mPASSED\u001b[0m\u001b[32m [ 72%]\u001b[0mts/ensemble.py::test_mnist_class_7_loss \n",
      "\u001b[32mPASSED\u001b[0m\u001b[32m [ 81%]\u001b[0mts/ensemble.py::test_mnist_class_8_loss \n",
      "\u001b[32mPASSED\u001b[0m\u001b[32m [ 90%]\u001b[0mts/ensemble.py::test_mnist_class_9_loss \n",
      "\u001b[32mPASSED\u001b[0m\u001b[32m [100%]\u001b[0mts/ensemble.py::test_mnist_losses_count \n",
      "\n",
      "\u001b[32m======================= \u001b[32m\u001b[1m11 passed\u001b[0m, \u001b[33m4 deselected\u001b[0m\u001b[32m in 0.02s\u001b[0m\u001b[32m =======================\u001b[0m\n",
      "✅ All checks passed!\n"
     ]
    }
   ],
   "source": [
    "img = mnist_images[0:1].to(device)\n",
    "alphas = [1/3, 1/3, 1/3]\n",
    "models = [white_box1, white_box2, white_box3]\n",
    "\n",
    "example_losses = []\n",
    "with torch.no_grad():\n",
    "    for i in range(10):\n",
    "        example_loss = ensemble_loss(alphas, models, img, torch.tensor([i]).to(device))\n",
    "        example_losses.append(example_loss.item())\n",
    "print(example_losses)\n",
    "\n",
    "xlab.tests.ensemble.task1(example_losses)"
   ]
  },
  {
   "cell_type": "markdown",
   "id": "cecc8fab-33cc-4b10-8332-8ed79436ed5f",
   "metadata": {},
   "source": [
    "## Task #2: Ensemble Attack\n",
    "\n",
    "Now you should be in a good position to complete the ensemble attack. This is exactly the same as PGD, but instead of using a typical loss like Cross Entropy, you will be using the ensemble loss you implemented in `Task #1`. Note that in the original paper, the authors implement something more similar to Carlini-Wagner with a hyperparameter $\\lambda$ which controls how much the distance metric is weighted in the final loss. For simplicity and compatibility with our tests you should use the update rule below:\n",
    "\n",
    "$$\n",
    "x'_i = x + \\mathrm{clip}_\\epsilon(\\alpha \\cdot \\mathrm{sign}(\\nabla \\mathrm{ensemble\\_loss}_{F,t}(x'_{i-1})))\n",
    "$$\n",
    "\n",
    "For the purpose of not making this too difficult, we have allowed a very high $\\epsilon$ value. While one may exect $\\epsilon=28/255$ to yeild some absurd results, in practice this is somewhat reasonable because of the high-contrast nature of the dataset. Also, because it is a gray-scale image, there are fewer pixel values to work with so the total distance of the purturbation (if you take the absolute value and sum) will be comparable to (probably less than) $\\epsilon=12/255$ for a color image.\n",
    "\n",
    "<b>Note:</b> You may use our solution to the clip function from the PGD notebook by calling `xlab.utils.clip`. You can also implement this functionality again within this notebook if you prefer.\n",
    "\n",
    "\n",
    "<details>\n",
    "<summary>🔐 <b>Solution for Task #1</b></summary>\n",
    "\n",
    "```python\n",
    "def ensemble_attack_PGD(alphas, models, img, target, epsilon=24/255, alpha=2/255, num_iters=50):\n",
    "    \"\"\"\n",
    "    Generates adversarial examples using Projected Gradient Descent (PGD)\n",
    "    with ensemble loss.\n",
    "\n",
    "    Args:\n",
    "        alphas (list): weight coefficients for each model in the ensemble\n",
    "        models (list): PyTorch models to compute ensemble loss over\n",
    "        img [1, 1, 28, 28]: input MNIST image tensor with batch dimension\n",
    "        target [1]: class label tensor containing target class for attack\n",
    "        epsilon (float): maximum allowed perturbation magnitude, defaults to 24/255\n",
    "        alpha (float): step size for each iteration, defaults to 2/255\n",
    "        num_iters (int): number of iterative steps to perform, defaults to 50\n",
    "\n",
    "    Returns [1, 1, 28, 28]: adversarially perturbed image tensor with\n",
    "        perturbations bounded by epsilon and pixel values clamped to [0, 1]\n",
    "    \"\"\"\n",
    "    \n",
    "    img_original = img.clone()\n",
    "    adv_img = xlab.utils.add_noise(img)\n",
    "\n",
    "    # 1. loop over num_iters \n",
    "    for _ in range(num_iters):\n",
    "        adv_img.requires_grad=True\n",
    "        \n",
    "         # 2. calculate grad of ensemble loss w.r.t. image\n",
    "        loss = ensemble_loss(alphas, models, adv_img, target)\n",
    "        loss.backward()\n",
    "        grad = adv_img.grad.data\n",
    "\n",
    "        # 3. perturb the image using the signs of the gradient\n",
    "        adv_img.requires_grad_(False)\n",
    "        adv_img -= alpha * torch.sign(grad)\n",
    "\n",
    "        # 4. clamp the image within epsilon distance and between 0 and 1\n",
    "        adv_img = xlab.utils.clip(adv_img, img_original, epsilon)\n",
    "\n",
    "    return adv_img\n",
    "```\n",
    "\n",
    "</details>\n"
   ]
  },
  {
   "cell_type": "code",
   "execution_count": 8,
   "id": "61ae2c59-eac0-4ab1-8078-03512f2c52a0",
   "metadata": {
    "scrolled": true
   },
   "outputs": [],
   "source": [
    "def ensemble_attack_PGD(alphas, models, img, target, epsilon=24/255, alpha=2/255, num_iters=50):\n",
    "    \"\"\"\n",
    "    Generates adversarial examples using Projected Gradient Descent (PGD)\n",
    "    with ensemble loss.\n",
    "\n",
    "    Args:\n",
    "        alphas (list): weight coefficients for each model in the ensemble\n",
    "        models (list): PyTorch models to compute ensemble loss over\n",
    "        img [1, 1, 28, 28]: input MNIST image tensor with batch dimension\n",
    "        target [1]: class label tensor containing target class for attack\n",
    "        epsilon (float): maximum allowed perturbation magnitude, defaults to 24/255\n",
    "        alpha (float): step size for each iteration, defaults to 2/255\n",
    "        num_iters (int): number of iterative steps to perform, defaults to 50\n",
    "\n",
    "    Returns [1, 1, 28, 28]: adversarially perturbed image tensor with\n",
    "        perturbations bounded by epsilon and pixel values clamped to [0, 1]\n",
    "    \"\"\"\n",
    "    \n",
    "    img_original = img.clone()\n",
    "    adv_img = xlab.utils.add_noise(img)\n",
    "\n",
    "\n",
    "    ######### YOUR CODE STARTS HERE ######### \n",
    "    # 1. loop over num_iters \n",
    "    # 2. calculate grad of ensemble loss w.r.t. image\n",
    "    # 3. perturb the image using the signs of the gradient\n",
    "    # 4. clamp the image within epsilon distance and between 0 and 1\n",
    "    ########## YOUR CODE ENDS HERE ########## \n",
    "\n",
    "    return adv_img"
   ]
  },
  {
   "cell_type": "markdown",
   "id": "1acedae6-67f0-4221-b3c2-02255d4a9995",
   "metadata": {},
   "source": [
    "As a first check, you should see that the targeted attack on the image below should succeed when the target class is 2. If this does not work, we reccomend going back and double checking your code before running the test in the next section of the notebook."
   ]
  },
  {
   "cell_type": "code",
   "execution_count": 9,
   "id": "120f89df-29ee-4368-982a-ef07c68d0fdd",
   "metadata": {},
   "outputs": [
    {
     "data": {
      "image/png": "[encoded data removed]",
      "text/plain": [
       "<Figure size 300x300 with 1 Axes>"
      ]
     },
     "metadata": {},
     "output_type": "display_data"
    },
    {
     "name": "stdout",
     "output_type": "stream",
     "text": [
      "Black box predicts 2\n"
     ]
    }
   ],
   "source": [
    "img = mnist_images[2:3].to(device)\n",
    "adv_img = ensemble_attack_PGD(alphas, models, img, torch.tensor([2]).to(device))\n",
    "xlab.utils.show_grayscale_image(adv_img[0], \"Targeted attack on image of 1\")\n",
    "predictions = black_box.predict(adv_img)\n",
    "print(f\"Black box predicts {predictions.item()}\")"
   ]
  },
  {
   "cell_type": "markdown",
   "id": "9d2464e7-5876-486a-b770-68c27c5ea41b",
   "metadata": {},
   "source": [
    "# Testing Your Attack\n",
    "\n",
    "Transfering targeted adversarial examples is difficult. To make things easier for you we have identified a list of 5 images which we were able to generate transferable adversarial images for quite easily. For testing, you can run the cell below which will run your attack on these 5 images with the target class 3 (none of the images in `breakable_imgs` has a clean label of 3). To pass the test below you have to make 4/5 of the attacks be successful. "
   ]
  },
  {
   "cell_type": "code",
   "execution_count": 10,
   "id": "fc6b7def-fc8e-467d-b719-cdb60ec503d6",
   "metadata": {},
   "outputs": [
    {
     "name": "stdout",
     "output_type": "stream",
     "text": [
      "Attack was successful! Predicted class = 3\n",
      "Attack was successful! Predicted class = 3\n",
      "Attack was successful! Predicted class = 3\n",
      "Attack was successful! Predicted class = 3\n",
      "Attack was successful! Predicted class = 3\n"
     ]
    }
   ],
   "source": [
    "breakable_idxs = [5, 11, 14, 15, 17]\n",
    "target_class = 3\n",
    "\n",
    "breakable_imgs = [mnist_images[i:i+1].to(device) for i in breakable_idxs]\n",
    "adv_imgs = []\n",
    "\n",
    "for img in breakable_imgs:\n",
    "    adv_img = ensemble_attack_PGD(alphas, models, img, torch.tensor([target_class]).to(device))\n",
    "    adv_imgs.append(adv_img)\n",
    "    \n",
    "    predictions = black_box.predict(adv_img)\n",
    "    if predictions.item() == target_class:\n",
    "        print(f\"Attack was successful! Predicted class = {target_class}\")\n",
    "    else:\n",
    "        print(f\"Attack was unsuccessful. Predicted class = {predictions.item()} and target class = {target_class}\")"
   ]
  },
  {
   "cell_type": "code",
   "execution_count": 12,
   "id": "8078024f-5cea-4897-9062-bb58172f03c0",
   "metadata": {},
   "outputs": [
    {
     "name": "stdout",
     "output_type": "stream",
     "text": [
      "\u001b[1m============================= test session starts ==============================\u001b[0m\n",
      "collected 15 items / 11 deselected / 4 selected\n",
      "\n",
      "\u001b[32mPASSED\u001b[0m\u001b[32m [ 25%]\u001b[0mts/ensemble.py::test_mnist_images_count \n",
      "\u001b[32mPASSED\u001b[0m\u001b[32m [ 50%]\u001b[0mts/ensemble.py::test_mnist_images_shape \n",
      "\u001b[32mPASSED\u001b[0m\u001b[32m [ 75%]\u001b[0mts/ensemble.py::test_model_provided \n",
      "\u001b[32mPASSED\u001b[0m\u001b[32m [100%]\u001b[0mts/ensemble.py::test_mnist_classification_to_3 \n",
      "\n",
      "\u001b[32m======================= \u001b[32m\u001b[1m4 passed\u001b[0m, \u001b[33m11 deselected\u001b[0m\u001b[32m in 0.02s\u001b[0m\u001b[32m =======================\u001b[0m\n",
      "✅ All checks passed!\n"
     ]
    }
   ],
   "source": [
    "xlab.tests.ensemble.task2(adv_imgs, black_box)"
   ]
  },
  {
   "cell_type": "markdown",
   "id": "9c409ce0-fa67-4457-bf10-abd26616c104",
   "metadata": {},
   "source": [
    "## Further Exploration\n",
    "\n",
    "If you are interested, we encourage you to play around with the attack above to see if you can successfully transfer targeted attacks to other classes or to other images in the testing set. Although you should be able to do better than our solution (ours is the bare minimum) you should not expect to be able to complete this attack for every image for every class. In general, these kinds of targeted attacks are difficult to pull off and often require a more involved solution.\n",
    "\n",
    "Ideas for how to improve the attack:\n",
    "\n",
    "1. Tune the alpha values and see how different weights influence your chance of success (you should find this to be the case)\n",
    "2. Try a more sophisticated optimization approach. Instead of using `alpha` to update the image, try using a PyTorch optimizer.\n",
    "3. Go back to the [original paper](https://arxiv.org/pdf/1611.02770) and try to implement something closer to their \"Optimization based approach\""
   ]
  }
 ],
 "metadata": {
  "kernelspec": {
   "display_name": "Python 3 (ipykernel)",
   "language": "python",
   "name": "python3"
  },
  "language_info": {
   "codemirror_mode": {
    "name": "ipython",
    "version": 3
   },
   "file_extension": ".py",
   "mimetype": "text/x-python",
   "name": "python",
   "nbconvert_exporter": "python",
   "pygments_lexer": "ipython3",
   "version": "3.11.11"
  }
 },
 "nbformat": 4,
 "nbformat_minor": 5
}
