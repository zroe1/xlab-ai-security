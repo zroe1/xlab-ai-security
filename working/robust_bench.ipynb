{
 "cells": [
  {
   "cell_type": "markdown",
   "id": "70c8fb2a-94cb-4f6c-aaf3-54491e0b8a35",
   "metadata": {},
   "source": [
    "# Robust Bench and Auto Attack"
   ]
  },
  {
   "cell_type": "code",
   "execution_count": 1,
   "id": "f8b0c868-8d95-44ec-a64e-412ae0e34531",
   "metadata": {},
   "outputs": [],
   "source": [
    "import xlab # for testing your code\n",
    "\n",
    "from robustbench.utils import load_model\n",
    "from robustbench.data import load_cifar10\n",
    "import torch\n",
    "from torch import nn\n",
    "import matplotlib.pyplot as plt\n",
    "from autoattack import AutoAttack\n",
    "import torchattacks\n",
    "import pickle\n",
    "\n",
    "device = torch.device('cuda' if torch.cuda.is_available() else 'mps' if torch.backends.mps.is_available() else 'cpu')"
   ]
  },
  {
   "cell_type": "markdown",
   "id": "289a5e30-d713-4a5a-935c-828d4bcce5ab",
   "metadata": {},
   "source": [
    "We will begin by loading a pretrained model for classification on CIFAR using robustbench."
   ]
  },
  {
   "cell_type": "code",
   "execution_count": 2,
   "id": "c8ec0aaa-8167-47b9-aede-389174f95506",
   "metadata": {},
   "outputs": [],
   "source": [
    "model = load_model(model_name='Standard', threat_model='Linf')\n",
    "model = model.to('mps')\n",
    "_ = model.eval()"
   ]
  },
  {
   "cell_type": "markdown",
   "id": "053dcaa4-00f8-4c9e-a785-a9d533d35396",
   "metadata": {},
   "source": [
    "First let's take a look at what we have. We can see that there is about 36.5 million trainable pameters in the model. This is actually quite large! For reference, we will be looking at the smallest version of GPT-2 later in the course. That has 128 million parameters, meaning our classifer is only a third of the size of the smallest transformer-based language models."
   ]
  },
  {
   "cell_type": "code",
   "execution_count": 3,
   "id": "76b97d33-40e7-4015-9e05-4c631769e668",
   "metadata": {},
   "outputs": [
    {
     "name": "stdout",
     "output_type": "stream",
     "text": [
      "Trainable parameters: 36,479,194\n"
     ]
    }
   ],
   "source": [
    "trainable_params = sum(p.numel() for p in model.parameters() if p.requires_grad)\n",
    "print(f\"Trainable parameters: {trainable_params:,}\")"
   ]
  },
  {
   "cell_type": "markdown",
   "id": "d2b19f29-740f-45f4-9e6d-4922bfc75fc9",
   "metadata": {},
   "source": [
    "Next let's look at the architecture. We can see that this is the Wide ResNet we discussed earlier in this course. We encourage you to take a look that the model strucutre to see if you can infer what is going on."
   ]
  },
  {
   "cell_type": "markdown",
   "id": "5669cc8f-c302-4a7c-99a9-5d888b966a86",
   "metadata": {},
   "source": [
    "## Task 1: Benchmark WideResNet on Clean Images"
   ]
  },
  {
   "cell_type": "markdown",
   "id": "bf7f77af-ecf6-4d6a-b182-5f5081b4d726",
   "metadata": {},
   "source": [
    "Now let's see how robust this base model is. First we will want to benchmark the accuracy of clean images. For compuational efficency, we will only load 100 images from [CIFAR10](https://www.cs.toronto.edu/~kriz/cifar.html). If you would like to load more, and you computer can handle it, we encourage you to do so!"
   ]
  },
  {
   "cell_type": "code",
   "execution_count": 4,
   "id": "6a00ee8d-7876-4971-935a-a90d6698a436",
   "metadata": {},
   "outputs": [
    {
     "name": "stdout",
     "output_type": "stream",
     "text": [
      "x_test.shape=torch.Size([100, 3, 32, 32]), y_test.shape=torch.Size([100])\n"
     ]
    }
   ],
   "source": [
    "NUM_EXAMPLES = 100\n",
    "x_test, y_test = load_cifar10(n_examples=NUM_EXAMPLES)\n",
    "x_test, y_test = x_test.to(device), y_test.to(device)\n",
    "print(f\"{x_test.shape=}, {y_test.shape=}\")"
   ]
  },
  {
   "cell_type": "code",
   "execution_count": 5,
   "id": "1231f3b4-286a-499b-93b8-035109109be7",
   "metadata": {},
   "outputs": [
    {
     "name": "stdout",
     "output_type": "stream",
     "text": [
      "Model accuracy is 94.00% for clean images\n"
     ]
    }
   ],
   "source": [
    "def benchmark_wideresnet(model, imgs, labels):\n",
    "    '''return the accuracy of the model as a floating point number between 0.0 and 1.0'''\n",
    "    acc = 0\n",
    "\n",
    "    logits = model(imgs)\n",
    "    pred_labels = torch.argmax(logits, dim=1)\n",
    "    num_correct = torch.sum(pred_labels == labels)\n",
    "    total_imgs = len(labels)\n",
    "    acc = num_correct/total_imgs\n",
    "    \n",
    "    return acc.item()\n",
    "\n",
    "acc = benchmark_wideresnet(model, x_test, y_test)\n",
    "print(f\"Model accuracy is {acc*100:.2f}% for clean images\")"
   ]
  },
  {
   "cell_type": "code",
   "execution_count": 6,
   "id": "935b6721-9cad-4c5f-a5c7-cd2d4e9bd3da",
   "metadata": {},
   "outputs": [
    {
     "name": "stdout",
     "output_type": "stream",
     "text": [
      "Running tests for Section 2.4.2, Task 1...\n",
      "\n",
      "Using device: mps:0 for testing...\n",
      "✓ 1. Test case model accuracy > 90%                            \u001b[92mPASSED\u001b[0m\n",
      "     Accuracy: 0.9400\n",
      "✓ 2. Test case student function returns correct accuracy       \u001b[92mPASSED\u001b[0m\n",
      "     Expected: 0.9400 (±0.01)\n",
      "     Got:      0.9400\n",
      "     Difference: 0.0000\n",
      "\n",
      "======================================================================\n",
      "🎉 All tests passed! (2/2)\n",
      "======================================================================\n"
     ]
    }
   ],
   "source": [
    "# This test will make sure you have reasonable accuracy for the first 100 testing images.\n",
    "# Do NOT change the function below: you do not need to pass in any images or labels.\n",
    "_ = xlab.tests.section2_4_2.task1(benchmark_wideresnet, model)"
   ]
  },
  {
   "cell_type": "markdown",
   "id": "83238ca0-0035-4c49-80e3-70ed502f9c10",
   "metadata": {},
   "source": [
    "## Targeted Attack on Model"
   ]
  },
  {
   "cell_type": "markdown",
   "id": "76c855ff-8fab-426e-99fe-f1ab907cfcf2",
   "metadata": {},
   "source": [
    "To show how vunerable this pretrained model is to adversarial attacks, we will benchmark it on a PGD attack with only 20 total steps."
   ]
  },
  {
   "cell_type": "code",
   "execution_count": 7,
   "id": "a33ec0c8-4965-4989-a23c-5f3b7f0f8908",
   "metadata": {},
   "outputs": [],
   "source": [
    "classes = ['airplane','automobile','bird','cat','deer','dog','frog','horse','ship','truck']\n",
    "itos = {i: s for i, s in enumerate(classes)}\n",
    "stoi = {s: i for i, s in itos.items()}"
   ]
  },
  {
   "cell_type": "code",
   "execution_count": 8,
   "id": "008e8b50-fb9e-4f6b-88ef-abef4764e64f",
   "metadata": {},
   "outputs": [],
   "source": [
    "# we are loading a targeted attack with only 20 total steps\n",
    "pgd = torchattacks.PGD(model, eps=8/255, alpha=2/255, steps=20)\n",
    "pgd.set_mode_targeted_by_label(quiet=True)"
   ]
  },
  {
   "cell_type": "markdown",
   "id": "e950cd2b-82d3-4ded-a560-0c59ffee4fbd",
   "metadata": {},
   "source": [
    "As a refresher, the code below will run a targeted attack against the model. In the one example below, we take an image of a horse and run PGD to generate an example that fools the model into thinking it is a frog."
   ]
  },
  {
   "cell_type": "code",
   "execution_count": 9,
   "id": "f7983751-cef7-4544-a53a-2aab700fb21a",
   "metadata": {},
   "outputs": [
    {
     "name": "stdout",
     "output_type": "stream",
     "text": [
      "Running PGD to misclasify horse as frog...\n",
      "Clean Predicted Label = 'horse', Adversarial Predicted Label = 'frog'\n"
     ]
    }
   ],
   "source": [
    "img_idx = 13 # this is an image of a horse\n",
    "true_class_idx = y_test[img_idx].item()\n",
    "target_class = 'frog'\n",
    "\n",
    "print(f'Running PGD to misclasify {itos[true_class_idx]} as {target_class}...')\n",
    "\n",
    "adv_images = pgd(x_test[img_idx:img_idx+1], torch.tensor([stoi[target_class]]))\n",
    "\n",
    "model_adv_pred = torch.argmax(model(adv_images)).item()\n",
    "model_clean_pred = torch.argmax(model(x_test[img_idx:img_idx+1].to('mps'))).item()\n",
    "\n",
    "print(f\"Clean Predicted Label = '{itos[model_clean_pred]}', Adversarial Predicted Label = '{itos[model_adv_pred]}'\")"
   ]
  },
  {
   "cell_type": "markdown",
   "id": "528d52a7-71a4-4ccb-981a-237a71da93b1",
   "metadata": {},
   "source": [
    "## Task 2: Benchmark on Targeted PGD Attacks"
   ]
  },
  {
   "cell_type": "code",
   "execution_count": 10,
   "id": "fba1f580-2d1d-46be-8a25-4b661ea1745c",
   "metadata": {},
   "outputs": [],
   "source": [
    "def get_targeted_pgd_imgs(model, img, targets, steps, epsilon):\n",
    "    '''\n",
    "    model: WideResNet\n",
    "    img: torch.tensor of size torch.Size([batch, 3, 32, 32])\n",
    "    targets: torch.tensor of size torch.Size([batch])\n",
    "    steps: int\n",
    "    epsilson: float\n",
    "    '''\n",
    "    pgd = torchattacks.PGD(model, eps=epsilon, alpha=2/255, steps=steps)\n",
    "    pgd.set_mode_targeted_by_label(quiet=True)\n",
    "    \n",
    "    adv_img = pgd(img, targets)\n",
    "\n",
    "    return adv_img "
   ]
  },
  {
   "cell_type": "code",
   "execution_count": 12,
   "id": "754752be-7267-4504-93af-8bb213b41fc2",
   "metadata": {},
   "outputs": [
    {
     "name": "stdout",
     "output_type": "stream",
     "text": [
      "Running tests for Section 2.4.2, Task 2...\n",
      "\n",
      "Using device: mps:0 for testing...\n",
      "✓ 1. Test case model accuracy > 90%                            \u001b[92mPASSED\u001b[0m\n",
      "     Accuracy: 0.9400\n",
      "✓ 2. Test case adversarial attack succeeds                     \u001b[92mPASSED\u001b[0m\n",
      "     Target class: 9\n",
      "     Predicted class: 9\n",
      "     Adversarial attack successfully fooled the model\n",
      "\n",
      "======================================================================\n",
      "🎉 All tests passed! (2/2)\n",
      "======================================================================\n"
     ]
    }
   ],
   "source": [
    "_ = xlab.tests.section2_4_2.task2(get_targeted_pgd_imgs, model)"
   ]
  },
  {
   "cell_type": "code",
   "execution_count": 35,
   "id": "e2ae5b42-e1d9-4823-988c-21c61c2d4f1e",
   "metadata": {},
   "outputs": [
    {
     "data": {
      "text/plain": [
       "torch.Size([3, 32, 32])"
      ]
     },
     "execution_count": 35,
     "metadata": {},
     "output_type": "execute_result"
    }
   ],
   "source": [
    "x_test[1].shape"
   ]
  },
  {
   "cell_type": "code",
   "execution_count": 36,
   "id": "87e55f56-8b0d-457c-b805-ca540a5b791e",
   "metadata": {},
   "outputs": [
    {
     "data": {
      "text/plain": [
       "torch.Size([100])"
      ]
     },
     "execution_count": 36,
     "metadata": {},
     "output_type": "execute_result"
    }
   ],
   "source": [
    "y_test.shape"
   ]
  },
  {
   "cell_type": "code",
   "execution_count": 42,
   "id": "c0b21afe-2c5d-4747-b0b9-428fac1a999f",
   "metadata": {},
   "outputs": [],
   "source": [
    "a = get_targeted_pgd_imgs(model, x_test[1:2], torch.tensor([9]), 20, 8/255)"
   ]
  },
  {
   "cell_type": "code",
   "execution_count": 43,
   "id": "2d563c83-854a-4984-b874-9e1135eb3f91",
   "metadata": {},
   "outputs": [
    {
     "data": {
      "text/plain": [
       "tensor(9, device='mps:0')"
      ]
     },
     "execution_count": 43,
     "metadata": {},
     "output_type": "execute_result"
    }
   ],
   "source": [
    "torch.argmax(model(a))"
   ]
  },
  {
   "cell_type": "code",
   "execution_count": 44,
   "id": "b355f8e0-4d24-48aa-b5e5-65c3da2dbeda",
   "metadata": {},
   "outputs": [
    {
     "data": {
      "text/plain": [
       "tensor(8, device='mps:0')"
      ]
     },
     "execution_count": 44,
     "metadata": {},
     "output_type": "execute_result"
    }
   ],
   "source": [
    "y_test[1]"
   ]
  },
  {
   "cell_type": "code",
   "execution_count": null,
   "id": "eb7251c0-5e07-4d4a-85b4-e9e5ba66bb79",
   "metadata": {},
   "outputs": [],
   "source": []
  },
  {
   "cell_type": "code",
   "execution_count": null,
   "id": "aa62804d-4f23-4ff2-a10a-9a836069bd0a",
   "metadata": {},
   "outputs": [],
   "source": []
  },
  {
   "cell_type": "markdown",
   "id": "95ab25dd-b949-4a49-b72e-80f6c4164190",
   "metadata": {},
   "source": [
    "## Demonstrating the Failures of Benchmarks"
   ]
  },
  {
   "cell_type": "code",
   "execution_count": null,
   "id": "8396d3df-980f-499e-9bdb-93998d758839",
   "metadata": {},
   "outputs": [],
   "source": []
  },
  {
   "cell_type": "code",
   "execution_count": null,
   "id": "7d7f8142-8b91-4d64-bb0b-cb3d94a8eb18",
   "metadata": {},
   "outputs": [],
   "source": []
  },
  {
   "cell_type": "code",
   "execution_count": null,
   "id": "588520db-f9e6-412f-b33f-cc1cd25b1a89",
   "metadata": {},
   "outputs": [],
   "source": []
  },
  {
   "cell_type": "code",
   "execution_count": null,
   "id": "69d29eb6-74f5-4799-bb8a-e3ea382c7c4a",
   "metadata": {},
   "outputs": [],
   "source": []
  },
  {
   "cell_type": "markdown",
   "id": "bb6da782-acb0-48e8-b384-fd71a1de76e3",
   "metadata": {},
   "source": [
    "\n",
    "\n",
    "<blockquote>\n",
    "    <i>Another cause of poor evaluations is the lack of diversity among the attacks used, as most papers rely solely\n",
    "    on the results given by PGD or weaker versions of it like\n",
    "    FGSM.\n",
    "    </i>\n",
    "</blockquote>\n",
    "\n",
    "To be very clear: <b>We do not present the below defense because it is good.</b> We present it because it will <i>appear</i> good\n",
    "under a poorly designed evaluation."
   ]
  },
  {
   "cell_type": "code",
   "execution_count": null,
   "id": "2d2b0d38-4e78-4f50-aefb-efb83f96a5a3",
   "metadata": {},
   "outputs": [],
   "source": []
  },
  {
   "cell_type": "code",
   "execution_count": 72,
   "id": "42f1fc58-d33e-4500-a1a7-ef5865c94f1f",
   "metadata": {},
   "outputs": [
    {
     "data": {
      "text/plain": [
       "WideResNet(\n",
       "  (conv1): Conv2d(3, 16, kernel_size=(3, 3), stride=(1, 1), padding=(1, 1), bias=False)\n",
       "  (block1): NetworkBlock(\n",
       "    (layer): Sequential(\n",
       "      (0): BasicBlock(\n",
       "        (bn1): BatchNorm2d(16, eps=1e-05, momentum=0.1, affine=True, track_running_stats=True)\n",
       "        (relu1): WiggleReLU()\n",
       "        (conv1): Conv2d(16, 160, kernel_size=(3, 3), stride=(1, 1), padding=(1, 1), bias=False)\n",
       "        (bn2): BatchNorm2d(160, eps=1e-05, momentum=0.1, affine=True, track_running_stats=True)\n",
       "        (relu2): WiggleReLU()\n",
       "        (conv2): Conv2d(160, 160, kernel_size=(3, 3), stride=(1, 1), padding=(1, 1), bias=False)\n",
       "        (convShortcut): Conv2d(16, 160, kernel_size=(1, 1), stride=(1, 1), bias=False)\n",
       "      )\n",
       "      (1): BasicBlock(\n",
       "        (bn1): BatchNorm2d(160, eps=1e-05, momentum=0.1, affine=True, track_running_stats=True)\n",
       "        (relu1): WiggleReLU()\n",
       "        (conv1): Conv2d(160, 160, kernel_size=(3, 3), stride=(1, 1), padding=(1, 1), bias=False)\n",
       "        (bn2): BatchNorm2d(160, eps=1e-05, momentum=0.1, affine=True, track_running_stats=True)\n",
       "        (relu2): WiggleReLU()\n",
       "        (conv2): Conv2d(160, 160, kernel_size=(3, 3), stride=(1, 1), padding=(1, 1), bias=False)\n",
       "      )\n",
       "      (2): BasicBlock(\n",
       "        (bn1): BatchNorm2d(160, eps=1e-05, momentum=0.1, affine=True, track_running_stats=True)\n",
       "        (relu1): WiggleReLU()\n",
       "        (conv1): Conv2d(160, 160, kernel_size=(3, 3), stride=(1, 1), padding=(1, 1), bias=False)\n",
       "        (bn2): BatchNorm2d(160, eps=1e-05, momentum=0.1, affine=True, track_running_stats=True)\n",
       "        (relu2): WiggleReLU()\n",
       "        (conv2): Conv2d(160, 160, kernel_size=(3, 3), stride=(1, 1), padding=(1, 1), bias=False)\n",
       "      )\n",
       "      (3): BasicBlock(\n",
       "        (bn1): BatchNorm2d(160, eps=1e-05, momentum=0.1, affine=True, track_running_stats=True)\n",
       "        (relu1): WiggleReLU()\n",
       "        (conv1): Conv2d(160, 160, kernel_size=(3, 3), stride=(1, 1), padding=(1, 1), bias=False)\n",
       "        (bn2): BatchNorm2d(160, eps=1e-05, momentum=0.1, affine=True, track_running_stats=True)\n",
       "        (relu2): WiggleReLU()\n",
       "        (conv2): Conv2d(160, 160, kernel_size=(3, 3), stride=(1, 1), padding=(1, 1), bias=False)\n",
       "      )\n",
       "    )\n",
       "  )\n",
       "  (block2): NetworkBlock(\n",
       "    (layer): Sequential(\n",
       "      (0): BasicBlock(\n",
       "        (bn1): BatchNorm2d(160, eps=1e-05, momentum=0.1, affine=True, track_running_stats=True)\n",
       "        (relu1): WiggleReLU()\n",
       "        (conv1): Conv2d(160, 320, kernel_size=(3, 3), stride=(2, 2), padding=(1, 1), bias=False)\n",
       "        (bn2): BatchNorm2d(320, eps=1e-05, momentum=0.1, affine=True, track_running_stats=True)\n",
       "        (relu2): WiggleReLU()\n",
       "        (conv2): Conv2d(320, 320, kernel_size=(3, 3), stride=(1, 1), padding=(1, 1), bias=False)\n",
       "        (convShortcut): Conv2d(160, 320, kernel_size=(1, 1), stride=(2, 2), bias=False)\n",
       "      )\n",
       "      (1): BasicBlock(\n",
       "        (bn1): BatchNorm2d(320, eps=1e-05, momentum=0.1, affine=True, track_running_stats=True)\n",
       "        (relu1): WiggleReLU()\n",
       "        (conv1): Conv2d(320, 320, kernel_size=(3, 3), stride=(1, 1), padding=(1, 1), bias=False)\n",
       "        (bn2): BatchNorm2d(320, eps=1e-05, momentum=0.1, affine=True, track_running_stats=True)\n",
       "        (relu2): WiggleReLU()\n",
       "        (conv2): Conv2d(320, 320, kernel_size=(3, 3), stride=(1, 1), padding=(1, 1), bias=False)\n",
       "      )\n",
       "      (2): BasicBlock(\n",
       "        (bn1): BatchNorm2d(320, eps=1e-05, momentum=0.1, affine=True, track_running_stats=True)\n",
       "        (relu1): WiggleReLU()\n",
       "        (conv1): Conv2d(320, 320, kernel_size=(3, 3), stride=(1, 1), padding=(1, 1), bias=False)\n",
       "        (bn2): BatchNorm2d(320, eps=1e-05, momentum=0.1, affine=True, track_running_stats=True)\n",
       "        (relu2): WiggleReLU()\n",
       "        (conv2): Conv2d(320, 320, kernel_size=(3, 3), stride=(1, 1), padding=(1, 1), bias=False)\n",
       "      )\n",
       "      (3): BasicBlock(\n",
       "        (bn1): BatchNorm2d(320, eps=1e-05, momentum=0.1, affine=True, track_running_stats=True)\n",
       "        (relu1): WiggleReLU()\n",
       "        (conv1): Conv2d(320, 320, kernel_size=(3, 3), stride=(1, 1), padding=(1, 1), bias=False)\n",
       "        (bn2): BatchNorm2d(320, eps=1e-05, momentum=0.1, affine=True, track_running_stats=True)\n",
       "        (relu2): WiggleReLU()\n",
       "        (conv2): Conv2d(320, 320, kernel_size=(3, 3), stride=(1, 1), padding=(1, 1), bias=False)\n",
       "      )\n",
       "    )\n",
       "  )\n",
       "  (block3): NetworkBlock(\n",
       "    (layer): Sequential(\n",
       "      (0): BasicBlock(\n",
       "        (bn1): BatchNorm2d(320, eps=1e-05, momentum=0.1, affine=True, track_running_stats=True)\n",
       "        (relu1): WiggleReLU()\n",
       "        (conv1): Conv2d(320, 640, kernel_size=(3, 3), stride=(2, 2), padding=(1, 1), bias=False)\n",
       "        (bn2): BatchNorm2d(640, eps=1e-05, momentum=0.1, affine=True, track_running_stats=True)\n",
       "        (relu2): WiggleReLU()\n",
       "        (conv2): Conv2d(640, 640, kernel_size=(3, 3), stride=(1, 1), padding=(1, 1), bias=False)\n",
       "        (convShortcut): Conv2d(320, 640, kernel_size=(1, 1), stride=(2, 2), bias=False)\n",
       "      )\n",
       "      (1): BasicBlock(\n",
       "        (bn1): BatchNorm2d(640, eps=1e-05, momentum=0.1, affine=True, track_running_stats=True)\n",
       "        (relu1): WiggleReLU()\n",
       "        (conv1): Conv2d(640, 640, kernel_size=(3, 3), stride=(1, 1), padding=(1, 1), bias=False)\n",
       "        (bn2): BatchNorm2d(640, eps=1e-05, momentum=0.1, affine=True, track_running_stats=True)\n",
       "        (relu2): WiggleReLU()\n",
       "        (conv2): Conv2d(640, 640, kernel_size=(3, 3), stride=(1, 1), padding=(1, 1), bias=False)\n",
       "      )\n",
       "      (2): BasicBlock(\n",
       "        (bn1): BatchNorm2d(640, eps=1e-05, momentum=0.1, affine=True, track_running_stats=True)\n",
       "        (relu1): WiggleReLU()\n",
       "        (conv1): Conv2d(640, 640, kernel_size=(3, 3), stride=(1, 1), padding=(1, 1), bias=False)\n",
       "        (bn2): BatchNorm2d(640, eps=1e-05, momentum=0.1, affine=True, track_running_stats=True)\n",
       "        (relu2): WiggleReLU()\n",
       "        (conv2): Conv2d(640, 640, kernel_size=(3, 3), stride=(1, 1), padding=(1, 1), bias=False)\n",
       "      )\n",
       "      (3): BasicBlock(\n",
       "        (bn1): BatchNorm2d(640, eps=1e-05, momentum=0.1, affine=True, track_running_stats=True)\n",
       "        (relu1): WiggleReLU()\n",
       "        (conv1): Conv2d(640, 640, kernel_size=(3, 3), stride=(1, 1), padding=(1, 1), bias=False)\n",
       "        (bn2): BatchNorm2d(640, eps=1e-05, momentum=0.1, affine=True, track_running_stats=True)\n",
       "        (relu2): WiggleReLU()\n",
       "        (conv2): Conv2d(640, 640, kernel_size=(3, 3), stride=(1, 1), padding=(1, 1), bias=False)\n",
       "      )\n",
       "    )\n",
       "  )\n",
       "  (bn1): BatchNorm2d(640, eps=1e-05, momentum=0.1, affine=True, track_running_stats=True)\n",
       "  (relu): ReLU(inplace=True)\n",
       "  (fc): Linear(in_features=640, out_features=10, bias=True)\n",
       ")"
      ]
     },
     "execution_count": 72,
     "metadata": {},
     "output_type": "execute_result"
    }
   ],
   "source": [
    "model"
   ]
  },
  {
   "cell_type": "code",
   "execution_count": 8,
   "id": "1681b515-0b0c-4b49-84ad-7f3c317ab175",
   "metadata": {},
   "outputs": [],
   "source": [
    "model = model.to('mps')"
   ]
  },
  {
   "cell_type": "code",
   "execution_count": 10,
   "id": "45a4dcd4-6ee0-4113-a8e5-be768dafbfe7",
   "metadata": {},
   "outputs": [
    {
     "name": "stdout",
     "output_type": "stream",
     "text": [
      "using custom version including apgd-ce, apgd-dlr.\n",
      "initial accuracy: 100.00%\n",
      "apgd-ce - 1/1 - 5 out of 5 successfully perturbed\n",
      "robust accuracy after APGD-CE: 0.00% (total time 9.5 s)\n",
      "max Linf perturbation: 0.03137, nan in tensor: 0, max: 1.00000, min: 0.00000\n",
      "robust accuracy: 0.00%\n"
     ]
    }
   ],
   "source": [
    "from autoattack import AutoAttack\n",
    "\n",
    "adversary = AutoAttack(model, norm='Linf', eps=8/255, version='custom', attacks_to_run=['apgd-ce', 'apgd-dlr'], device ='mps')\n",
    "adversary.apgd.n_restarts = 1\n",
    "x_adv = adversary.run_standard_evaluation(x_test[:5], y_test[:5])"
   ]
  },
  {
   "cell_type": "code",
   "execution_count": 54,
   "id": "cf5317f1-6560-4437-bd35-aa53b3931489",
   "metadata": {
    "scrolled": true
   },
   "outputs": [
    {
     "data": {
      "image/png": "[encoded data removed]",
      "text/plain": [
       "<Figure size 1800x1200 with 1 Axes>"
      ]
     },
     "metadata": {},
     "output_type": "display_data"
    }
   ],
   "source": [
    "import torch\n",
    "from torch import nn\n",
    "import matplotlib.pyplot as plt\n",
    "\n",
    "def wiggle_relu(x):\n",
    "    return nn.functional.relu(x) + 0.1*torch.sin(150 * x)\n",
    "\n",
    "x = torch.arange(-5, 5.001, 0.001)\n",
    "y = wiggle_relu(x)\n",
    "\n",
    "plt.figure(figsize=(12, 8), dpi=150)  # High resolution with larger size\n",
    "plt.plot(x.numpy(), y.numpy())\n",
    "plt.show()"
   ]
  },
  {
   "cell_type": "code",
   "execution_count": 64,
   "id": "edc3f6ea-1393-4c0b-bea1-26af55526f74",
   "metadata": {},
   "outputs": [
    {
     "data": {
      "text/plain": [
       "WideResNet(\n",
       "  (conv1): Conv2d(3, 16, kernel_size=(3, 3), stride=(1, 1), padding=(1, 1), bias=False)\n",
       "  (block1): NetworkBlock(\n",
       "    (layer): Sequential(\n",
       "      (0): BasicBlock(\n",
       "        (bn1): BatchNorm2d(16, eps=1e-05, momentum=0.1, affine=True, track_running_stats=True)\n",
       "        (relu1): ReLU(inplace=True)\n",
       "        (conv1): Conv2d(16, 160, kernel_size=(3, 3), stride=(1, 1), padding=(1, 1), bias=False)\n",
       "        (bn2): BatchNorm2d(160, eps=1e-05, momentum=0.1, affine=True, track_running_stats=True)\n",
       "        (relu2): ReLU(inplace=True)\n",
       "        (conv2): Conv2d(160, 160, kernel_size=(3, 3), stride=(1, 1), padding=(1, 1), bias=False)\n",
       "        (convShortcut): Conv2d(16, 160, kernel_size=(1, 1), stride=(1, 1), bias=False)\n",
       "      )\n",
       "      (1): BasicBlock(\n",
       "        (bn1): BatchNorm2d(160, eps=1e-05, momentum=0.1, affine=True, track_running_stats=True)\n",
       "        (relu1): ReLU(inplace=True)\n",
       "        (conv1): Conv2d(160, 160, kernel_size=(3, 3), stride=(1, 1), padding=(1, 1), bias=False)\n",
       "        (bn2): BatchNorm2d(160, eps=1e-05, momentum=0.1, affine=True, track_running_stats=True)\n",
       "        (relu2): ReLU(inplace=True)\n",
       "        (conv2): Conv2d(160, 160, kernel_size=(3, 3), stride=(1, 1), padding=(1, 1), bias=False)\n",
       "      )\n",
       "      (2): BasicBlock(\n",
       "        (bn1): BatchNorm2d(160, eps=1e-05, momentum=0.1, affine=True, track_running_stats=True)\n",
       "        (relu1): ReLU(inplace=True)\n",
       "        (conv1): Conv2d(160, 160, kernel_size=(3, 3), stride=(1, 1), padding=(1, 1), bias=False)\n",
       "        (bn2): BatchNorm2d(160, eps=1e-05, momentum=0.1, affine=True, track_running_stats=True)\n",
       "        (relu2): ReLU(inplace=True)\n",
       "        (conv2): Conv2d(160, 160, kernel_size=(3, 3), stride=(1, 1), padding=(1, 1), bias=False)\n",
       "      )\n",
       "      (3): BasicBlock(\n",
       "        (bn1): BatchNorm2d(160, eps=1e-05, momentum=0.1, affine=True, track_running_stats=True)\n",
       "        (relu1): ReLU(inplace=True)\n",
       "        (conv1): Conv2d(160, 160, kernel_size=(3, 3), stride=(1, 1), padding=(1, 1), bias=False)\n",
       "        (bn2): BatchNorm2d(160, eps=1e-05, momentum=0.1, affine=True, track_running_stats=True)\n",
       "        (relu2): ReLU(inplace=True)\n",
       "        (conv2): Conv2d(160, 160, kernel_size=(3, 3), stride=(1, 1), padding=(1, 1), bias=False)\n",
       "      )\n",
       "    )\n",
       "  )\n",
       "  (block2): NetworkBlock(\n",
       "    (layer): Sequential(\n",
       "      (0): BasicBlock(\n",
       "        (bn1): BatchNorm2d(160, eps=1e-05, momentum=0.1, affine=True, track_running_stats=True)\n",
       "        (relu1): ReLU(inplace=True)\n",
       "        (conv1): Conv2d(160, 320, kernel_size=(3, 3), stride=(2, 2), padding=(1, 1), bias=False)\n",
       "        (bn2): BatchNorm2d(320, eps=1e-05, momentum=0.1, affine=True, track_running_stats=True)\n",
       "        (relu2): ReLU(inplace=True)\n",
       "        (conv2): Conv2d(320, 320, kernel_size=(3, 3), stride=(1, 1), padding=(1, 1), bias=False)\n",
       "        (convShortcut): Conv2d(160, 320, kernel_size=(1, 1), stride=(2, 2), bias=False)\n",
       "      )\n",
       "      (1): BasicBlock(\n",
       "        (bn1): BatchNorm2d(320, eps=1e-05, momentum=0.1, affine=True, track_running_stats=True)\n",
       "        (relu1): ReLU(inplace=True)\n",
       "        (conv1): Conv2d(320, 320, kernel_size=(3, 3), stride=(1, 1), padding=(1, 1), bias=False)\n",
       "        (bn2): BatchNorm2d(320, eps=1e-05, momentum=0.1, affine=True, track_running_stats=True)\n",
       "        (relu2): ReLU(inplace=True)\n",
       "        (conv2): Conv2d(320, 320, kernel_size=(3, 3), stride=(1, 1), padding=(1, 1), bias=False)\n",
       "      )\n",
       "      (2): BasicBlock(\n",
       "        (bn1): BatchNorm2d(320, eps=1e-05, momentum=0.1, affine=True, track_running_stats=True)\n",
       "        (relu1): ReLU(inplace=True)\n",
       "        (conv1): Conv2d(320, 320, kernel_size=(3, 3), stride=(1, 1), padding=(1, 1), bias=False)\n",
       "        (bn2): BatchNorm2d(320, eps=1e-05, momentum=0.1, affine=True, track_running_stats=True)\n",
       "        (relu2): ReLU(inplace=True)\n",
       "        (conv2): Conv2d(320, 320, kernel_size=(3, 3), stride=(1, 1), padding=(1, 1), bias=False)\n",
       "      )\n",
       "      (3): BasicBlock(\n",
       "        (bn1): BatchNorm2d(320, eps=1e-05, momentum=0.1, affine=True, track_running_stats=True)\n",
       "        (relu1): ReLU(inplace=True)\n",
       "        (conv1): Conv2d(320, 320, kernel_size=(3, 3), stride=(1, 1), padding=(1, 1), bias=False)\n",
       "        (bn2): BatchNorm2d(320, eps=1e-05, momentum=0.1, affine=True, track_running_stats=True)\n",
       "        (relu2): ReLU(inplace=True)\n",
       "        (conv2): Conv2d(320, 320, kernel_size=(3, 3), stride=(1, 1), padding=(1, 1), bias=False)\n",
       "      )\n",
       "    )\n",
       "  )\n",
       "  (block3): NetworkBlock(\n",
       "    (layer): Sequential(\n",
       "      (0): BasicBlock(\n",
       "        (bn1): BatchNorm2d(320, eps=1e-05, momentum=0.1, affine=True, track_running_stats=True)\n",
       "        (relu1): WiggleReLU()\n",
       "        (conv1): Conv2d(320, 640, kernel_size=(3, 3), stride=(2, 2), padding=(1, 1), bias=False)\n",
       "        (bn2): BatchNorm2d(640, eps=1e-05, momentum=0.1, affine=True, track_running_stats=True)\n",
       "        (relu2): WiggleReLU()\n",
       "        (conv2): Conv2d(640, 640, kernel_size=(3, 3), stride=(1, 1), padding=(1, 1), bias=False)\n",
       "        (convShortcut): Conv2d(320, 640, kernel_size=(1, 1), stride=(2, 2), bias=False)\n",
       "      )\n",
       "      (1): BasicBlock(\n",
       "        (bn1): BatchNorm2d(640, eps=1e-05, momentum=0.1, affine=True, track_running_stats=True)\n",
       "        (relu1): WiggleReLU()\n",
       "        (conv1): Conv2d(640, 640, kernel_size=(3, 3), stride=(1, 1), padding=(1, 1), bias=False)\n",
       "        (bn2): BatchNorm2d(640, eps=1e-05, momentum=0.1, affine=True, track_running_stats=True)\n",
       "        (relu2): WiggleReLU()\n",
       "        (conv2): Conv2d(640, 640, kernel_size=(3, 3), stride=(1, 1), padding=(1, 1), bias=False)\n",
       "      )\n",
       "      (2): BasicBlock(\n",
       "        (bn1): BatchNorm2d(640, eps=1e-05, momentum=0.1, affine=True, track_running_stats=True)\n",
       "        (relu1): WiggleReLU()\n",
       "        (conv1): Conv2d(640, 640, kernel_size=(3, 3), stride=(1, 1), padding=(1, 1), bias=False)\n",
       "        (bn2): BatchNorm2d(640, eps=1e-05, momentum=0.1, affine=True, track_running_stats=True)\n",
       "        (relu2): WiggleReLU()\n",
       "        (conv2): Conv2d(640, 640, kernel_size=(3, 3), stride=(1, 1), padding=(1, 1), bias=False)\n",
       "      )\n",
       "      (3): BasicBlock(\n",
       "        (bn1): BatchNorm2d(640, eps=1e-05, momentum=0.1, affine=True, track_running_stats=True)\n",
       "        (relu1): WiggleReLU()\n",
       "        (conv1): Conv2d(640, 640, kernel_size=(3, 3), stride=(1, 1), padding=(1, 1), bias=False)\n",
       "        (bn2): BatchNorm2d(640, eps=1e-05, momentum=0.1, affine=True, track_running_stats=True)\n",
       "        (relu2): WiggleReLU()\n",
       "        (conv2): Conv2d(640, 640, kernel_size=(3, 3), stride=(1, 1), padding=(1, 1), bias=False)\n",
       "      )\n",
       "    )\n",
       "  )\n",
       "  (bn1): BatchNorm2d(640, eps=1e-05, momentum=0.1, affine=True, track_running_stats=True)\n",
       "  (relu): ReLU(inplace=True)\n",
       "  (fc): Linear(in_features=640, out_features=10, bias=True)\n",
       ")"
      ]
     },
     "execution_count": 64,
     "metadata": {},
     "output_type": "execute_result"
    }
   ],
   "source": [
    "model"
   ]
  },
  {
   "cell_type": "code",
   "execution_count": 67,
   "id": "967b951a-5ed0-4871-a55c-16d22e20bcbb",
   "metadata": {},
   "outputs": [],
   "source": [
    "class WiggleReLU(nn.Module):\n",
    "    def __init__(self):\n",
    "        super(WiggleReLU, self).__init__()\n",
    "    \n",
    "    def forward(self, x):\n",
    "        return nn.functional.relu(x) + 0.1*torch.sin(100000 * x)\n",
    "\n",
    "model.block1.layer[0].relu2 = WiggleReLU()\n",
    "model.block1.layer[0].relu1 = WiggleReLU()\n",
    "model.block1.layer[1].relu2 = WiggleReLU()\n",
    "model.block1.layer[1].relu1 = WiggleReLU()\n",
    "model.block1.layer[2].relu2 = WiggleReLU()\n",
    "model.block1.layer[2].relu1 = WiggleReLU()\n",
    "model.block1.layer[3].relu2 = WiggleReLU()\n",
    "model.block1.layer[3].relu1 = WiggleReLU()\n",
    "\n",
    "model.block2.layer[0].relu2 = WiggleReLU()\n",
    "model.block2.layer[0].relu1 = WiggleReLU()\n",
    "model.block2.layer[1].relu2 = WiggleReLU()\n",
    "model.block2.layer[1].relu1 = WiggleReLU()\n",
    "model.block2.layer[2].relu2 = WiggleReLU()\n",
    "model.block2.layer[2].relu1 = WiggleReLU()\n",
    "model.block2.layer[3].relu2 = WiggleReLU()\n",
    "model.block2.layer[3].relu1 = WiggleReLU()\n",
    "\n",
    "model.block3.layer[0].relu2 = WiggleReLU()\n",
    "model.block3.layer[0].relu1 = WiggleReLU()\n",
    "model.block3.layer[1].relu2 = WiggleReLU()\n",
    "model.block3.layer[1].relu1 = WiggleReLU()\n",
    "model.block3.layer[2].relu2 = WiggleReLU()\n",
    "model.block3.layer[2].relu1 = WiggleReLU()\n",
    "model.block3.layer[3].relu2 = WiggleReLU()\n",
    "model.block3.layer[3].relu1 = WiggleReLU()"
   ]
  },
  {
   "cell_type": "code",
   "execution_count": 70,
   "id": "be835d96-605f-40d9-adc4-43a879e65552",
   "metadata": {},
   "outputs": [
    {
     "name": "stdout",
     "output_type": "stream",
     "text": [
      "using custom version including apgd-ce, apgd-dlr.\n",
      "initial accuracy: 96.00%\n",
      "apgd-ce - 1/1 - 5 out of 48 successfully perturbed\n",
      "robust accuracy after APGD-CE: 86.00% (total time 79.4 s)\n",
      "apgd-dlr - 1/1 - 1 out of 43 successfully perturbed\n",
      "robust accuracy after APGD-DLR: 84.00% (total time 153.0 s)\n",
      "max Linf perturbation: 0.03137, nan in tensor: 0, max: 1.00000, min: 0.00000\n",
      "robust accuracy: 84.00%\n"
     ]
    }
   ],
   "source": [
    "from autoattack import AutoAttack\n",
    "\n",
    "adversary = AutoAttack(model, norm='Linf', eps=8/255, version='custom', attacks_to_run=['apgd-ce', 'apgd-dlr'], device ='mps')\n",
    "adversary.apgd.n_restarts = 1\n",
    "x_adv = adversary.run_standard_evaluation(x_test[:100], y_test[:100])"
   ]
  },
  {
   "cell_type": "code",
   "execution_count": 71,
   "id": "e08bb105-e19a-437d-b3f6-89444397f204",
   "metadata": {},
   "outputs": [
    {
     "name": "stdout",
     "output_type": "stream",
     "text": [
      "using custom version including apgd-ce, apgd-dlr, square.\n",
      "initial accuracy: 96.00%\n",
      "apgd-ce - 1/1 - 3 out of 48 successfully perturbed\n",
      "robust accuracy after APGD-CE: 90.00% (total time 77.5 s)\n",
      "Warning: there are 2 points with zero gradient! This might lead to unreliable evaluation with gradient-based attacks. See flags_doc.md for details.\n",
      "apgd-dlr - 1/1 - 3 out of 45 successfully perturbed\n",
      "robust accuracy after APGD-DLR: 84.00% (total time 152.0 s)\n",
      "square - 1/1 - 32 out of 42 successfully perturbed\n",
      "robust accuracy after SQUARE: 20.00% (total time 713.9 s)\n",
      "Warning: Square Attack has decreased the robust accuracy of 64.00%. This might indicate that the robustness evaluation using AutoAttack is unreliable. Consider running Square Attack with more iterations and restarts or an adaptive attack. See flags_doc.md for details.\n",
      "max Linf perturbation: 0.03137, nan in tensor: 0, max: 1.00000, min: 0.00000\n",
      "robust accuracy: 20.00%\n"
     ]
    }
   ],
   "source": [
    "from autoattack import AutoAttack\n",
    "\n",
    "adversary = AutoAttack(model, norm='Linf', eps=8/255, version='custom', attacks_to_run=['apgd-ce', 'apgd-dlr', 'square'], device ='mps')\n",
    "adversary.apgd.n_restarts = 1\n",
    "x_adv = adversary.run_standard_evaluation(x_test[:100], y_test[:100])"
   ]
  },
  {
   "cell_type": "code",
   "execution_count": null,
   "id": "2832d0ba-b04c-4a2a-8301-f2041d54fa58",
   "metadata": {},
   "outputs": [],
   "source": []
  },
  {
   "cell_type": "code",
   "execution_count": null,
   "id": "503fe59a-dca5-4e07-9d3c-65d8fa0ac138",
   "metadata": {},
   "outputs": [],
   "source": []
  },
  {
   "cell_type": "code",
   "execution_count": null,
   "id": "8f32ed1b-a186-4639-b49a-e5bd16272c7b",
   "metadata": {},
   "outputs": [],
   "source": []
  },
  {
   "cell_type": "code",
   "execution_count": null,
   "id": "a4a3a2cb-aee3-43a8-9b5d-ae8d8a9e4350",
   "metadata": {},
   "outputs": [],
   "source": []
  },
  {
   "cell_type": "code",
   "execution_count": null,
   "id": "160861f4-e31d-4f16-8884-3d9a84a2cc57",
   "metadata": {},
   "outputs": [],
   "source": []
  },
  {
   "cell_type": "code",
   "execution_count": null,
   "id": "2d963793-75df-416a-b0a1-698e7c090625",
   "metadata": {},
   "outputs": [],
   "source": []
  },
  {
   "cell_type": "code",
   "execution_count": 5,
   "id": "c2f4ef78-2c1a-44a1-b1ec-163670de6e2c",
   "metadata": {},
   "outputs": [
    {
     "name": "stderr",
     "output_type": "stream",
     "text": [
      "100%|████████████████████████████████████████████████████████████████████████████████████████████████| 170M/170M [00:07<00:00, 22.3MB/s]\n"
     ]
    }
   ],
   "source": [
    "from robustbench.data import load_cifar10\n",
    "x_test, y_test = load_cifar10(n_examples=50) # load CIFAR 10"
   ]
  },
  {
   "cell_type": "code",
   "execution_count": null,
   "id": "fe1fc939-1bec-455f-9535-1fd683c623db",
   "metadata": {},
   "outputs": [],
   "source": []
  }
 ],
 "metadata": {
  "kernelspec": {
   "display_name": "Python 3 (ipykernel)",
   "language": "python",
   "name": "python3"
  },
  "language_info": {
   "codemirror_mode": {
    "name": "ipython",
    "version": 3
   },
   "file_extension": ".py",
   "mimetype": "text/x-python",
   "name": "python",
   "nbconvert_exporter": "python",
   "pygments_lexer": "ipython3",
   "version": "3.11.11"
  }
 },
 "nbformat": 4,
 "nbformat_minor": 5
}
