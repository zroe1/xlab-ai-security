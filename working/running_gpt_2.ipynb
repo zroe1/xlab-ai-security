{
 "cells": [
  {
   "cell_type": "markdown",
   "id": "be5fd4be",
   "metadata": {},
   "source": [
    "# Running GPT-2 Locally"
   ]
  },
  {
   "cell_type": "code",
   "execution_count": 1,
   "id": "7181e19c",
   "metadata": {},
   "outputs": [],
   "source": [
    "import torch\n",
    "import xlab\n",
    "\n",
    "VOCAB_SIZE = 50257"
   ]
  },
  {
   "cell_type": "markdown",
   "id": "f8deb96b-172e-46cb-a723-62654fa4aadd",
   "metadata": {},
   "source": [
    "When loading pretrained models in the course, we will be using the [transformers](https://huggingface.co/docs/transformers/en/index) library developed by Hugging Face. This library abstracts away the complexity of running pretrained language models into a single API. In the cell below, you will be loading the [smallest version of GPT-2](https://huggingface.co/openai-community/gpt2) with 124 million parameters. If you are interested, you can also try out [GPT-2 Medium](https://huggingface.co/openai-community/gpt2-medium) (335 million parameters), [GPT-2 Large](https://huggingface.co/openai-community/gpt2-large) (774 million parameters), and [GPT-2 XL](https://huggingface.co/openai-community/gpt2-xl) (1.5 billion parameters)."
   ]
  },
  {
   "cell_type": "code",
   "execution_count": 2,
   "id": "99ed73f7",
   "metadata": {},
   "outputs": [],
   "source": [
    "from transformers import AutoTokenizer, AutoModelForCausalLM\n",
    "tokenizer = AutoTokenizer.from_pretrained(\"openai-community/gpt2\")\n",
    "model = AutoModelForCausalLM.from_pretrained(\"openai-community/gpt2\")"
   ]
  },
  {
   "cell_type": "markdown",
   "id": "5a049617",
   "metadata": {},
   "source": [
    "## Tokenize Text"
   ]
  },
  {
   "cell_type": "markdown",
   "id": "afec08f7",
   "metadata": {},
   "source": [
    "To input a sequence of text to GPT-2, we first have to decide how we would like to convert the text to numbers so we can feed it to the model. Typically, how this is done is we convert a string of text to a string of tokens, each of which will be assigned a number which can be embedded into a vector. To do this, we have a few options:\n",
    "\n",
    "1. We can assign each character it's own number\n",
    "2. We can assign each word or special character it's own number\n",
    "3. We can assign common sequences of characters their own number\n",
    "\n",
    "Typically option #3 is most popular and the high-level approach taken in the GPT-2 paper. This approach has the advantage of having a smaller total number of tokens while still capturing some of the underlying structure of natural language. Specifically, the author's use a modified version of BPE (byte pair encoding) proposed [here](https://arxiv.org/pdf/1508.07909). If you are interested, more implementation details of the tokenizer can be found in the [GPT-2 paper](https://cdn.openai.com/better-language-models/language_models_are_unsupervised_multitask_learners.pdf). \n",
    "\n",
    "Time to try out the GPT-2 tokenizer! Run the cell below see the tokenizer assign the string into a sequence of numbers:"
   ]
  },
  {
   "cell_type": "code",
   "execution_count": 3,
   "id": "df31e501",
   "metadata": {},
   "outputs": [
    {
     "name": "stdout",
     "output_type": "stream",
     "text": [
      "tensor([[10374,   441,  2486,  7817,  9758,  1099,   379,   262,  2059,   286]])\n"
     ]
    }
   ],
   "source": [
    "text = \"Barack Obama taught constitutional law at the University of\"\n",
    "encoded_input = tokenizer(text, return_tensors='pt')\n",
    "print(encoded_input['input_ids'])"
   ]
  },
  {
   "cell_type": "markdown",
   "id": "c20c9ea0",
   "metadata": {},
   "source": [
    "Let's take a look at what each of these numbers represent:"
   ]
  },
  {
   "cell_type": "code",
   "execution_count": 4,
   "id": "4d8722f6",
   "metadata": {},
   "outputs": [
    {
     "name": "stdout",
     "output_type": "stream",
     "text": [
      "10374\t --> \t\"Bar\"\n",
      "441\t --> \t\"ack\"\n",
      "2486\t --> \t\" Obama\"\n",
      "7817\t --> \t\" taught\"\n",
      "9758\t --> \t\" constitutional\"\n",
      "1099\t --> \t\" law\"\n",
      "379\t --> \t\" at\"\n",
      "262\t --> \t\" the\"\n",
      "2059\t --> \t\" University\"\n",
      "286\t --> \t\" of\"\n"
     ]
    }
   ],
   "source": [
    "for token_id in encoded_input['input_ids'][0]:\n",
    "    print(f'{token_id.item()}\\t --> \\t\"{tokenizer.decode(token_id)}\"')"
   ]
  },
  {
   "cell_type": "markdown",
   "id": "87999fe0-982e-4986-85d9-febacf19c317",
   "metadata": {},
   "source": [
    "We can also decode the entire sequence at once. This will be helpful to remember for later!"
   ]
  },
  {
   "cell_type": "code",
   "execution_count": 5,
   "id": "1cf30775-76e9-4703-b14b-7662375bb3f8",
   "metadata": {},
   "outputs": [
    {
     "data": {
      "text/plain": [
       "'Barack Obama taught constitutional law at the University of'"
      ]
     },
     "execution_count": 5,
     "metadata": {},
     "output_type": "execute_result"
    }
   ],
   "source": [
    "tokenizer.decode(encoded_input['input_ids'][0])"
   ]
  },
  {
   "cell_type": "markdown",
   "id": "a15e5390",
   "metadata": {},
   "source": [
    "### Task #1\n",
    "\n",
    "For a given input of text, return a list of tokens in plain text. For example for the input \"Hello there gpt-2!\", the function should return ['Hello', ' there', ' g', 'pt', '-', '2', '!']. Note that this is very different than just splitting up the text into random chunks or where there are spaces! Tokenizers are designed to create groupings of characters that are often found together or that are significant in the structure of language. You are encouraged to play around with different examples and observe how smart the tokenizer can be!"
   ]
  },
  {
   "cell_type": "code",
   "execution_count": 6,
   "id": "32a39181",
   "metadata": {},
   "outputs": [
    {
     "name": "stdout",
     "output_type": "stream",
     "text": [
      "['Hello', ' there', ' g', 'pt', '-', '2', '!']\n",
      "['https', '://', 'x', 'risk', '.', 'uch', 'icago', '.', 'edu', '/', 'fell', 'owship', '/']\n"
     ]
    }
   ],
   "source": [
    "# estimated time to complete: ~3 minutes\n",
    "def plain_text_tokens(prefix):\n",
    "    \"\"\"Tokenizes a text prefix into individual token strings.\n",
    "    \n",
    "    Args:\n",
    "        prefix (str): The input text string to be tokenized.\n",
    "        \n",
    "    Returns:\n",
    "        list[str]: A list of individual tokens as strings. Each token represents\n",
    "            how the tokenizer splits the input text.\n",
    "            \n",
    "    Example:\n",
    "        >>> plain_text_tokens(\"Hello there gpt-2!\")\n",
    "        ['Hello', ' there', ' g', 'pt', '-', '2', '!']\n",
    "    \"\"\"\n",
    "    rv = []\n",
    "    ######## YOUR CODE HERE ########\n",
    "    encoded_input = tokenizer(prefix, return_tensors='pt')\n",
    "    for i in encoded_input['input_ids'][0]:\n",
    "        rv.append(tokenizer.decode(i))\n",
    "    return rv\n",
    "\n",
    "# test out your implementation on different inputs to get a sense of how the tokenizer works!\n",
    "print(plain_text_tokens(\"Hello there gpt-2!\"))\n",
    "print(plain_text_tokens(\"https://xrisk.uchicago.edu/fellowship/\"))"
   ]
  },
  {
   "cell_type": "code",
   "execution_count": 7,
   "id": "65aa46d5-d0ab-4c46-8baf-8d6970b3ff1d",
   "metadata": {},
   "outputs": [
    {
     "name": "stdout",
     "output_type": "stream",
     "text": [
      "\u001b[1m============================= test session starts ==============================\u001b[0m\n",
      "collected 19 items / 13 deselected / 6 selected\n",
      "\n",
      "\u001b[32mPASSED\u001b[0m\u001b[32m [ 16%]\u001b[0mts/gpt2.py::test_function_runs_without_crashing \n",
      "\u001b[32mPASSED\u001b[0m\u001b[32m [ 33%]\u001b[0mts/gpt2.py::test_tokenization_cases[Hello there gpt-2-expected_output0-basic text with hyphen] \n",
      "\u001b[32mPASSED\u001b[0m\u001b[32m [ 50%]\u001b[0mts/gpt2.py::test_tokenization_cases[??!hello--*- world#$-expected_output1-special characters and symbols] \n",
      "\u001b[32mPASSED\u001b[0m\u001b[32m [ 66%]\u001b[0mts/gpt2.py::test_tokenization_cases[https://xrisk.uchicago.edu/fellowship/-expected_output2-URL with dots and slashes] \n",
      "\u001b[32mPASSED\u001b[0m\u001b[32m [ 83%]\u001b[0mts/gpt2.py::test_tokenization_cases[-expected_output3-empty string] \n",
      "\u001b[32mPASSED\u001b[0m\u001b[32m [100%]\u001b[0mts/gpt2.py::test_tokenization_cases[.,.,.,.,.,.,.,-expected_output4-repeated punctuation] \n",
      "\n",
      "\u001b[32m======================= \u001b[32m\u001b[1m6 passed\u001b[0m, \u001b[33m13 deselected\u001b[0m\u001b[32m in 0.02s\u001b[0m\u001b[32m =======================\u001b[0m\n",
      "✅ All checks passed!\n"
     ]
    }
   ],
   "source": [
    "xlab.tests.gpt2.task1(plain_text_tokens)"
   ]
  },
  {
   "cell_type": "markdown",
   "id": "32d653de",
   "metadata": {},
   "source": [
    "Back to our model. We will tokenize our text into numbers to feed into the model. When the model is done predicting text, we can untokenize the results to see if what the model is saying makes sense.\n",
    "\n",
    "Below is some code for the one full pass through the model with the prefix \"The great scientist Albert Einstein\"\n",
    "\n",
    "Take a look at the shape of the output."
   ]
  },
  {
   "cell_type": "code",
   "execution_count": 8,
   "id": "63b9c3ad",
   "metadata": {},
   "outputs": [
    {
     "data": {
      "text/plain": [
       "torch.Size([1, 10, 50257])"
      ]
     },
     "execution_count": 8,
     "metadata": {},
     "output_type": "execute_result"
    }
   ],
   "source": [
    "prefix = \"Barack Obama taught constitutional law at the University of\"\n",
    "encoded_input = tokenizer(prefix, return_tensors='pt')\n",
    "output = model(**encoded_input)\n",
    "logits = output.logits\n",
    "logits.shape"
   ]
  },
  {
   "cell_type": "markdown",
   "id": "b45aa34f",
   "metadata": {},
   "source": [
    "Let's take another look at the logit values. Note that the values span a huge positive and negative range. Normally, both in training and in inference, we apply a \"softmax\" function to the data to bring all values between 0 and 1. We interpret these values as the probability that the model assigns each token to be next in a sequence of text. For now however, we ignore this detail."
   ]
  },
  {
   "cell_type": "code",
   "execution_count": 9,
   "id": "7a4134f0",
   "metadata": {},
   "outputs": [
    {
     "data": {
      "text/plain": [
       "(tensor(-26.1977, grad_fn=<UnbindBackward0>),\n",
       " tensor(-285.3222, grad_fn=<UnbindBackward0>))"
      ]
     },
     "execution_count": 9,
     "metadata": {},
     "output_type": "execute_result"
    }
   ],
   "source": [
    "max(logits.view(-1)), min(logits.view(-1))"
   ]
  },
  {
   "cell_type": "code",
   "execution_count": 10,
   "id": "a7677a38",
   "metadata": {},
   "outputs": [
    {
     "data": {
      "text/plain": [
       "tensor([[10374,   441,  2486,  7817,  9758,  1099,   379,   262,  2059,   286]])"
      ]
     },
     "execution_count": 10,
     "metadata": {},
     "output_type": "execute_result"
    }
   ],
   "source": [
    "encoded_input['input_ids']"
   ]
  },
  {
   "cell_type": "markdown",
   "id": "a9797f05",
   "metadata": {},
   "source": [
    "What is going on here?\n",
    "\n",
    "`torch.Size([1, 10, 50257])` tells us that logits is a 3 dimensional array (i.e., it is `1*4*50257`). The first dimension represents the batch size and because there is only one batch, we can ignore it for now. The next dimension is the sequence length. Note that:\n",
    "\n",
    "```python\n",
    ">>> encoded_input['input_ids']\n",
    "tensor([[10374,   441,  2486,  7817,  9758,  1099,   379,   262,  2059,   286]])\n",
    "```\n",
    "\n",
    "There are 10 tokens when we tokenize \"Barack Obama taught constitutional law at the University of\" meaning the sequence length is 10. For the final dimension, we have 50257 which represents the model's vocabulary size. Why do we have so much data? Don't we only want the next predicted piece of text?\n",
    "\n",
    "To understand why this is necessary, you will need to understand what information is included in this tensor. In total, we have 10 vectors of length 50257. Each vector represents a probability distribution for each token in the vocabulary. For example, if the value at 42 is higher, that means that the model is assigning a higher probability to the token at position 42 to be the next in the sequence of text.\n",
    "\n",
    "This makes sense for our purposes: if we have a probability distribution for the next token in the text, we can sample from it to predict the next token! But why do we have 10 probability distributions in the output. In other words why do we need a probability distribution for each token in the input?\n",
    "\n",
    "The answer to this question is oddly, that this make it easier to train our model! If we have a piece of text that we are training on from the internet, we can train multiple examples in paralell. For example, if we have the text \"Barack Obama taught constitutional law at the University of\" here are a several different examples we could choose to train on. \n",
    "\n",
    "\n",
    "1. Prefix=\"Bar\" and label=\"ack\"\n",
    "2. Prefix=\"Barack\" and label=\" Obama\"\n",
    "3. Prefix=\"Barack Obama\" and label=\" taught\"\n",
    "4. And so on...\n",
    "\n",
    "\n",
    "The first three vectors in the logits in the code above correspond to the model's predictions for the first three prefixes above. While running inference, we only care about the model's label for the input \"Barack Obama taught constitutional law at the University of\" so therefore, we only need to extract the final vector from the probability distribution. This makes sense because for our purposes, we aren't interested in efficiently training the model. We are only interested in seeing what the model predicts for the next token.\n",
    "\n",
    "We can extract this last vector by taking `logits[0][-1]`. Lets see what the model predicts!"
   ]
  },
  {
   "cell_type": "code",
   "execution_count": 11,
   "id": "f744c0cc",
   "metadata": {},
   "outputs": [
    {
     "name": "stdout",
     "output_type": "stream",
     "text": [
      " Chicago\n"
     ]
    }
   ],
   "source": [
    "text = \"Barack Obama taught constitutional law at the University of\"\n",
    "\n",
    "encoded_input = tokenizer(text, return_tensors='pt')\n",
    "output = model(**encoded_input)\n",
    "logits = output.logits  # Shape: (batch_size, sequence_length, vocab_size)\n",
    "token_id = torch.argmax(logits[0][-1])\n",
    "\n",
    "generated_text = tokenizer.decode([token_id.item()]) \n",
    "print(generated_text)"
   ]
  },
  {
   "cell_type": "markdown",
   "id": "e0eafea5-7d9e-4159-af5e-daa91f6ef9e6",
   "metadata": {},
   "source": [
    "Indeed, Barack Obama taught constitutional law at the University of Chicago ([source](https://www.obamalibrary.gov/obamas/president-barack-obama))! Despite being an early model with limited capabilities, GPT-2 124M knows quite a bit about the world."
   ]
  },
  {
   "cell_type": "code",
   "execution_count": 12,
   "id": "5d24634d",
   "metadata": {},
   "outputs": [],
   "source": [
    "def generate_n_tokens(model, tokenizer, n, prompt):\n",
    "    for i in range(n):\n",
    "\n",
    "        \n",
    "        encoded_input = tokenizer(prompt, return_tensors='pt')\n",
    "        output = model(**encoded_input)\n",
    "        logits = output.logits\n",
    "        token_id = torch.argmax(logits[0][-1])\n",
    "    \n",
    "        generated_text = tokenizer.decode([token_id.item()])  \n",
    "        prompt+=generated_text\n",
    "    return prompt"
   ]
  },
  {
   "cell_type": "code",
   "execution_count": 13,
   "id": "fe611198",
   "metadata": {},
   "outputs": [
    {
     "name": "stdout",
     "output_type": "stream",
     "text": [
      "Barack Obama taught constitutional law at the University of Chicago. He was a founding member of the American Bar Association, and he was a founding member of the American Bar Association's Board of Trustees. He was a founding member of the American Bar Association's Board of Trustees. He was a founding\n"
     ]
    }
   ],
   "source": [
    "generated_text = generate_n_tokens(model, tokenizer, 50, text)\n",
    "print(generated_text)"
   ]
  },
  {
   "cell_type": "markdown",
   "id": "2491db57-d738-4c37-b6c7-60f8451bcc74",
   "metadata": {},
   "source": [
    "As you will explore below, running an LLM in practice typically involves sampling tokens by interpreting the model output as a probability distribution. This means that running an LLM should be non-deterministic (i.e., running the same prompt mutiple times should produce different outputs). The function you wrote above however, should not include any sampling, so it should produce the exact same output every time you run it. To test you implementation you can compare your output to the expected output when you run the solution."
   ]
  },
  {
   "cell_type": "code",
   "execution_count": 14,
   "id": "db1432b7-1a85-4e6f-ab66-88cef97706a6",
   "metadata": {},
   "outputs": [],
   "source": [
    "expected_output = \"Barack Obama taught constitutional law at the University of Chicago. He was a founding member of the American Bar Association, and he was a founding member of the American Bar Association's Board of Trustees. He was a founding member of the American Bar Association's Board of Trustees. He was a founding\"\n",
    "assert generated_text == expected_output"
   ]
  },
  {
   "cell_type": "markdown",
   "id": "cd9efd42",
   "metadata": {},
   "source": [
    "### Why is the model repeating itself?\n",
    "\n",
    "In the previous cell, we generated text by always choosing the most likely next token (using `torch.argmax`). This deterministic approach has a major drawback: once the model enters a pattern that has high probability, it can get stuck in a loop.\n",
    "\n",
    "Above you should have observed that \"He was a founding member of the American Bar Association's Board of Trustees.\" repeats continuously before we cut it off.\n",
    "\n",
    "### Introducing Softmax and Temperature\n",
    "\n",
    "We have explored the softmax a bit in the defensive [distillation section](https://xlabaisecurity.com/adversarial/defensive-distillation/).\n",
    "\n",
    "As a review, a traditional softmax is calculated via the following equation. When there are $K$ classes, and $z$ is the pre-softmax output, the equation below gives the probability for class $i$:\n",
    "\n",
    "$$\n",
    "q_i = \\frac{e^{z_i}}{\\sum_{j=0}^{K-1}e^{z_j}}\n",
    "$$\n",
    "\n",
    "For our transformer output, we would take the softmax over each channel dimension. That means that for each input token, we would take a softmax for the corresponding output token independently. For inference, we would be sampling from the softmax probabilities for the final output token.\n",
    "\n",
    "If we want the output of the softmax to be smoother, we can add a constant $T$ which forces the distibution to be more uniform. The value for $T$ is called temperature where a higher $T$ corresponds to more random or surprising outputs. Note that are traditional softmax is the equivalent to the equation below when $T = 1$.\n",
    "\n",
    "$$\n",
    "q_i = \\frac{e^{z_i / T}}{\\sum_{j=0}^{K-1}e^{z_j / T }}\n",
    "$$"
   ]
  },
  {
   "cell_type": "markdown",
   "id": "45341914-113b-4d45-8179-059d5b3e72d7",
   "metadata": {},
   "source": [
    "### Task #2: Softmax GPT-2 Outputs"
   ]
  },
  {
   "cell_type": "code",
   "execution_count": 15,
   "id": "d7d21f3d-9ea2-4d12-8579-4b3430030e10",
   "metadata": {},
   "outputs": [],
   "source": [
    "def get_gpt2_probs(logits, temp):\n",
    "    assert len(logits.shape) == 3\n",
    "    assert logits.shape[-1] == VOCAB_SIZE\n",
    "\n",
    "    logits_with_temp = logits / temp\n",
    "    probs = torch.nn.functional.softmax(logits_with_temp, dim=2)\n",
    "    return probs"
   ]
  },
  {
   "cell_type": "code",
   "execution_count": 16,
   "id": "e4a6d930-3011-4abe-a9d6-7103703dabde",
   "metadata": {},
   "outputs": [
    {
     "name": "stdout",
     "output_type": "stream",
     "text": [
      "\u001b[1m============================= test session starts ==============================\u001b[0m\n",
      "collected 19 items / 6 deselected / 13 selected\n",
      "\n",
      "\u001b[32mPASSED\u001b[0m\u001b[32m [  7%]\u001b[0mts/gpt2.py::test_get_gpt2_probs_basic_functionality[1-10-50257-1.0-single batch, standard GPT-2 vocab, temp=1.0] \n",
      "\u001b[32mPASSED\u001b[0m\u001b[32m [ 15%]\u001b[0mts/gpt2.py::test_get_gpt2_probs_basic_functionality[4-5-50257-1.0-multi-batch, short sequence, temp=1.0] \n",
      "\u001b[32mPASSED\u001b[0m\u001b[32m [ 23%]\u001b[0mts/gpt2.py::test_get_gpt2_probs_basic_functionality[2-20-50257-0.8-multi-batch, longer sequence, temp=0.8] \n",
      "\u001b[32mPASSED\u001b[0m\u001b[32m [ 30%]\u001b[0mts/gpt2.py::test_get_gpt2_probs_basic_functionality[1-1-50257-1.5-single token, temp=1.5] \n",
      "\u001b[32mPASSED\u001b[0m\u001b[32m [ 38%]\u001b[0mts/gpt2.py::test_get_gpt2_probs_softmax_properties \n",
      "\u001b[32mPASSED\u001b[0m\u001b[32m [ 46%]\u001b[0mts/gpt2.py::test_get_gpt2_probs_wrong_dimensions \n",
      "\u001b[32mPASSED\u001b[0m\u001b[32m [ 53%]\u001b[0mts/gpt2.py::test_get_gpt2_probs_wrong_vocab_size \n",
      "\u001b[32mPASSED\u001b[0m\u001b[32m [ 61%]\u001b[0mts/gpt2.py::test_get_gpt2_probs_extreme_values \n",
      "\u001b[32mPASSED\u001b[0m\u001b[32m [ 69%]\u001b[0mts/gpt2.py::test_get_gpt2_probs_temperature_effects[1.0-standard temperature] \n",
      "\u001b[32mPASSED\u001b[0m\u001b[32m [ 76%]\u001b[0mts/gpt2.py::test_get_gpt2_probs_temperature_effects[0.5-low temperature (more confident)] \n",
      "\u001b[32mPASSED\u001b[0m\u001b[32m [ 84%]\u001b[0mts/gpt2.py::test_get_gpt2_probs_temperature_effects[2.0-high temperature (less confident)] \n",
      "\u001b[32mPASSED\u001b[0m\u001b[32m [ 92%]\u001b[0mts/gpt2.py::test_get_gpt2_probs_temperature_effects[0.1-very low temperature] \n",
      "\u001b[32mPASSED\u001b[0m\u001b[32m [100%]\u001b[0mts/gpt2.py::test_get_gpt2_probs_temperature_edge_cases \n",
      "\n",
      "\u001b[32m======================= \u001b[32m\u001b[1m13 passed\u001b[0m, \u001b[33m6 deselected\u001b[0m\u001b[32m in 0.17s\u001b[0m\u001b[32m =======================\u001b[0m\n",
      "✅ All checks passed!\n"
     ]
    }
   ],
   "source": [
    "xlab.tests.gpt2.task2(get_gpt2_probs)"
   ]
  },
  {
   "cell_type": "markdown",
   "id": "ae4bbc45-1dca-415c-8af8-47d3d638ab7b",
   "metadata": {},
   "source": [
    "### Effects of different temperature values:\n",
    "\n",
    "- **T = 0** (or very close to 0): Completely deterministic, always pick highest probability token (like we did before)\n",
    "- **T = 1.0**: Standard softmax, use the exact probabilities from the model\n",
    "- **T > 1.0**: More uniform distribution, increasing randomness and diversity\n",
    "- **T < 1.0**: More peaked distribution, reducing randomness but still allowing some\n",
    "\n",
    "Lower temperatures produce more focused, coherent text but risk repetition. Higher temperatures produce more diverse, creative text but risk incoherence.\n",
    "\n",
    "In the next cell, we'll implement temperature sampling to fix our repetition problem!"
   ]
  },
  {
   "cell_type": "code",
   "execution_count": 22,
   "id": "9b4c76a4",
   "metadata": {},
   "outputs": [],
   "source": [
    "def generate_with_temperature(model, tokenizer, prompt, max_length=100, temperature=0.7):\n",
    "    # Start with the provided prompt\n",
    "    generated_text = prompt\n",
    "    \n",
    "  \n",
    "    for i in range(max_length):\n",
    "        encoded_input = tokenizer(prompt, return_tensors='pt')\n",
    "        output = model(**encoded_input)\n",
    "        probs = get_gpt2_probs(output.logits, temperature)\n",
    "\n",
    "        next_token_id = torch.multinomial(probs[0][-1], num_samples=1).item()\n",
    "    \n",
    "        generated_text = tokenizer.decode([next_token_id])  \n",
    "        prompt+=generated_text\n",
    "    \n",
    "    return prompt"
   ]
  },
  {
   "cell_type": "code",
   "execution_count": 27,
   "id": "4572f486",
   "metadata": {},
   "outputs": [
    {
     "name": "stdout",
     "output_type": "stream",
     "text": [
      "Temperature = 0.3:\n",
      "--------------------------------------------------\n",
      "Barack Obama taught constitutional law at the University of California, Berkeley. He was a founding member of the National Association of Criminal Defense Lawyers, and he was a founding member of the American Civil Liberties Union. He was the first black president of the United\n",
      "\n",
      "Temperature = 0.7:\n",
      "--------------------------------------------------\n",
      "Barack Obama taught constitutional law at the University of Illinois at Urbana-Champaign. His father, a senior legal adviser who had been pastor at the church, was the first president to work with the school on matters of constitutional and civil rights\n",
      "\n",
      "Temperature = 1.2:\n",
      "--------------------------------------------------\n",
      "Barack Obama taught constitutional law at the University of Georgia, University of Maryland and Dartmouth College to constitutional domestic whores feeding social mud. Roughly spill, kamewrakes nipple swears one party friends took centuries to reproduce, belongs within neighbour range\n"
     ]
    }
   ],
   "source": [
    "# Low temperature (more deterministic but not completely)\n",
    "prompt = \"Barack Obama taught constitutional law at the University of\"\n",
    "low_temp_text = generate_with_temperature(\n",
    "    model, tokenizer, prompt, max_length=40, temperature=0.3\n",
    ")\n",
    "print(\"Temperature = 0.3:\")\n",
    "print(\"-\"*50)\n",
    "print(low_temp_text + \"\\n\")\n",
    "\n",
    "\n",
    "# Medium temperature (balanced)\n",
    "medium_temp_text = generate_with_temperature(\n",
    "    model, tokenizer, prompt, max_length=40, temperature=0.7\n",
    ")\n",
    "print(\"Temperature = 0.7:\")\n",
    "print(\"-\"*50)\n",
    "print(medium_temp_text + \"\\n\")\n",
    "\n",
    "\n",
    "# High temperature (more random)\n",
    "high_temp_text = generate_with_temperature(\n",
    "    model, tokenizer, prompt, max_length=40, temperature=1.2\n",
    ")\n",
    "print(\"Temperature = 1.2:\")\n",
    "print(\"-\"*50)\n",
    "print(high_temp_text)"
   ]
  },
  {
   "cell_type": "code",
   "execution_count": null,
   "id": "70e8d462",
   "metadata": {},
   "outputs": [],
   "source": []
  }
 ],
 "metadata": {
  "kernelspec": {
   "display_name": "Python 3 (ipykernel)",
   "language": "python",
   "name": "python3"
  },
  "language_info": {
   "codemirror_mode": {
    "name": "ipython",
    "version": 3
   },
   "file_extension": ".py",
   "mimetype": "text/x-python",
   "name": "python",
   "nbconvert_exporter": "python",
   "pygments_lexer": "ipython3",
   "version": "3.11.11"
  }
 },
 "nbformat": 4,
 "nbformat_minor": 5
}
